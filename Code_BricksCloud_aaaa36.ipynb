{
 "cells": [
  {
   "cell_type": "markdown",
   "metadata": {},
   "source": [
    "<h1 style='text-align:center'>Robi Datathon 2.0: Pre-assessment.<h1>\n"
   ]
  },
  {
   "cell_type": "markdown",
   "metadata": {},
   "source": [
    "![alt text](img.png \"Title\")"
   ]
  },
  {
   "cell_type": "markdown",
   "metadata": {},
   "source": [
    "## Table of Contents\n",
    "* [Introduction](#chapter1)\n",
    "* [Import Libraries & Data Collection](#chapter2)\n",
    "* [Split Dataset](#chapter4)    \n",
    "* [Data Exploration](#chapter5)    \n",
    "    * [Missing Data](#section_5_1)\n",
    "    * [Numerical Column Analysis](#section_5_3)\n",
    "    * [Categorical Column Analysis](#section_5_4)\n",
    "* [Data Preparation](#chapter6)    \n",
    "    * [Remove Outliers](#section_6_1)\n",
    "    * [Transform Numerical Data](#section_6_2)\n",
    "    * [Transform Categorical Data](#section_6_3)\n",
    "* [Model Train & Select](#chapter7)                      \n",
    "    * [Tune Hyperparameters for Model](#section_8_2)\n",
    "    * [Cross-Validation on Selected model](#section_8_2)\n",
    "* [Final Model Build](#chapter10)                   \n",
    "* [Submission](#chapter9)                "
   ]
  },
  {
   "cell_type": "markdown",
   "metadata": {},
   "source": [
    "<a class=\"anchor\" id=\"chapter1\"></a> <h2 style='text-align: center'>Introduction</h2>"
   ]
  },
  {
   "cell_type": "markdown",
   "metadata": {},
   "source": [
    "#### About the dataset\n",
    "In this pre-assessment round, the task is to predict the label column based on the given features. The dataset contains both categorical and continuous values. Here, the column id is the unique identifier and the rest columns are the features.\n",
    "\n",
    "#### File description:\n",
    "**train.csv :** contains the training features along with the id and label column </br>\n",
    "**test.csv :** this is the testing dataset. You will be predicting the label column for this dataset. You will need the idand your predicted label (0 or 1) column for the submission.</br>\n",
    "**sample_submission.csv :** a sample submission format, containing 100 rows.\n",
    "Please note that you have to prepare a file like this for all of the id's in the test dataset.\n",
    "\n"
   ]
  },
  {
   "cell_type": "markdown",
   "metadata": {},
   "source": [
    "<a class=\"anchor\" id=\"chapter2\"></a> <h2 style='text-align: center'>Import Libraries & Data Collection</h2>"
   ]
  },
  {
   "cell_type": "code",
   "execution_count": 1,
   "metadata": {},
   "outputs": [
    {
     "name": "stdout",
     "output_type": "stream",
     "text": [
      "Requirement already satisfied: missingno in c:\\users\\america badhsha\\anaconda3\\lib\\site-packages (0.5.1)\n",
      "Requirement already satisfied: matplotlib in c:\\users\\america badhsha\\anaconda3\\lib\\site-packages (from missingno) (3.5.1)\n",
      "Requirement already satisfied: numpy in c:\\users\\america badhsha\\anaconda3\\lib\\site-packages (from missingno) (1.21.5)\n",
      "Requirement already satisfied: seaborn in c:\\users\\america badhsha\\anaconda3\\lib\\site-packages (from missingno) (0.11.2)\n",
      "Requirement already satisfied: scipy in c:\\users\\america badhsha\\anaconda3\\lib\\site-packages (from missingno) (1.7.3)\n",
      "Requirement already satisfied: fonttools>=4.22.0 in c:\\users\\america badhsha\\anaconda3\\lib\\site-packages (from matplotlib->missingno) (4.25.0)\n",
      "Requirement already satisfied: kiwisolver>=1.0.1 in c:\\users\\america badhsha\\anaconda3\\lib\\site-packages (from matplotlib->missingno) (1.3.2)\n",
      "Requirement already satisfied: packaging>=20.0 in c:\\users\\america badhsha\\anaconda3\\lib\\site-packages (from matplotlib->missingno) (21.3)\n",
      "Requirement already satisfied: python-dateutil>=2.7 in c:\\users\\america badhsha\\anaconda3\\lib\\site-packages (from matplotlib->missingno) (2.8.2)\n",
      "Requirement already satisfied: pyparsing>=2.2.1 in c:\\users\\america badhsha\\anaconda3\\lib\\site-packages (from matplotlib->missingno) (3.0.4)\n",
      "Requirement already satisfied: cycler>=0.10 in c:\\users\\america badhsha\\anaconda3\\lib\\site-packages (from matplotlib->missingno) (0.11.0)\n",
      "Requirement already satisfied: pillow>=6.2.0 in c:\\users\\america badhsha\\anaconda3\\lib\\site-packages (from matplotlib->missingno) (9.0.1)\n",
      "Requirement already satisfied: six>=1.5 in c:\\users\\america badhsha\\anaconda3\\lib\\site-packages (from python-dateutil>=2.7->matplotlib->missingno) (1.16.0)\n",
      "Requirement already satisfied: pandas>=0.23 in c:\\users\\america badhsha\\anaconda3\\lib\\site-packages (from seaborn->missingno) (1.4.2)\n",
      "Requirement already satisfied: pytz>=2020.1 in c:\\users\\america badhsha\\anaconda3\\lib\\site-packages (from pandas>=0.23->seaborn->missingno) (2021.3)\n",
      "Requirement already satisfied: xgboost in c:\\users\\america badhsha\\anaconda3\\lib\\site-packages (1.6.1)\n",
      "Requirement already satisfied: scipy in c:\\users\\america badhsha\\anaconda3\\lib\\site-packages (from xgboost) (1.7.3)\n",
      "Requirement already satisfied: numpy in c:\\users\\america badhsha\\anaconda3\\lib\\site-packages (from xgboost) (1.21.5)\n"
     ]
    }
   ],
   "source": [
    "!pip install missingno\n",
    "!pip install xgboost"
   ]
  },
  {
   "cell_type": "code",
   "execution_count": 2,
   "metadata": {
    "_cell_guid": "b1076dfc-b9ad-4769-8c92-a6c4dae69d19",
    "_uuid": "8f2839f25d086af736a60e9eeb907d3b93b6e0e5",
    "execution": {
     "iopub.execute_input": "2022-06-10T09:22:29.811163Z",
     "iopub.status.busy": "2022-06-10T09:22:29.810744Z",
     "iopub.status.idle": "2022-06-10T09:22:31.029905Z",
     "shell.execute_reply": "2022-06-10T09:22:31.029111Z",
     "shell.execute_reply.started": "2022-06-10T09:22:29.811061Z"
    }
   },
   "outputs": [],
   "source": [
    "%matplotlib inline\n",
    "import numpy as np # linear algebra\n",
    "import pandas as pd # data processing\n",
    "import matplotlib.pyplot as plt\n",
    "import seaborn as sns\n",
    "import missingno as msno # Missing visualization \n",
    "from sklearn.model_selection import train_test_split, GridSearchCV, cross_val_score, cross_validate, RepeatedStratifiedKFold\n",
    "from sklearn.preprocessing import LabelEncoder, StandardScaler, KBinsDiscretizer, MinMaxScaler\n",
    "from sklearn.pipeline import Pipeline\n",
    "from sklearn.metrics import accuracy_score\n",
    "from sklearn.ensemble import GradientBoostingClassifier, RandomForestClassifier\n",
    "from sklearn.tree import DecisionTreeClassifier \n",
    "from sklearn.linear_model import LogisticRegression\n",
    "from sklearn.pipeline import Pipeline\n",
    "from sklearn.neural_network import MLPClassifier\n",
    "from sklearn.neighbors import KNeighborsClassifier\n",
    "import xgboost as xgb\n",
    "from sklearn.feature_selection import SelectKBest, chi2, mutual_info_classif\n",
    "from sklearn.kernel_ridge import KernelRidge\n",
    "\n",
    "pd.set_option('display.max_columns', None)\n",
    "\n",
    "# For example, running this (by clicking run or pressing Shift+Enter) will list all files under the input directory\n",
    "import os\n",
    "for dirname, _, filenames in os.walk('/kaggle/input'):\n",
    "    for filename in filenames:\n",
    "        print(os.path.join(dirname, filename))"
   ]
  },
  {
   "cell_type": "markdown",
   "metadata": {},
   "source": [
    "This code use for kaggle notebook"
   ]
  },
  {
   "cell_type": "code",
   "execution_count": 3,
   "metadata": {
    "execution": {
     "iopub.execute_input": "2022-06-10T09:37:09.605184Z",
     "iopub.status.busy": "2022-06-10T09:37:09.604819Z",
     "iopub.status.idle": "2022-06-10T09:37:10.038961Z",
     "shell.execute_reply": "2022-06-10T09:37:10.036833Z",
     "shell.execute_reply.started": "2022-06-10T09:37:09.605149Z"
    }
   },
   "outputs": [],
   "source": [
    "# train = pd.read_csv('/kaggle/input/robi-datathon-2-pre-assessment/train.csv')\n",
    "# test = pd.read_csv('/kaggle/input/robi-datathon-2-pre-assessment/test.csv')\n",
    "# sample_submission = pd.read_csv('/kaggle/input/robi-datathon-2-pre-assessment/sample_submission.csv')"
   ]
  },
  {
   "cell_type": "markdown",
   "metadata": {},
   "source": [
    "And This code use Jupyter notebook"
   ]
  },
  {
   "cell_type": "code",
   "execution_count": 4,
   "metadata": {},
   "outputs": [],
   "source": [
    "train = pd.read_csv('robi_train.csv')\n",
    "test = pd.read_csv('robi_test.csv')\n",
    "sample_submission = pd.read_csv('sample_submission.csv')"
   ]
  },
  {
   "cell_type": "code",
   "execution_count": 5,
   "metadata": {
    "execution": {
     "iopub.execute_input": "2022-06-10T05:37:07.516456Z",
     "iopub.status.busy": "2022-06-10T05:37:07.516094Z",
     "iopub.status.idle": "2022-06-10T05:37:07.547517Z",
     "shell.execute_reply": "2022-06-10T05:37:07.546652Z",
     "shell.execute_reply.started": "2022-06-10T05:37:07.516426Z"
    }
   },
   "outputs": [
    {
     "data": {
      "text/html": [
       "<div>\n",
       "<style scoped>\n",
       "    .dataframe tbody tr th:only-of-type {\n",
       "        vertical-align: middle;\n",
       "    }\n",
       "\n",
       "    .dataframe tbody tr th {\n",
       "        vertical-align: top;\n",
       "    }\n",
       "\n",
       "    .dataframe thead th {\n",
       "        text-align: right;\n",
       "    }\n",
       "</style>\n",
       "<table border=\"1\" class=\"dataframe\">\n",
       "  <thead>\n",
       "    <tr style=\"text-align: right;\">\n",
       "      <th></th>\n",
       "      <th>id</th>\n",
       "      <th>gender</th>\n",
       "      <th>s11</th>\n",
       "      <th>s12</th>\n",
       "      <th>s13</th>\n",
       "      <th>s16</th>\n",
       "      <th>s17</th>\n",
       "      <th>s18</th>\n",
       "      <th>s48</th>\n",
       "      <th>s52</th>\n",
       "      <th>s53</th>\n",
       "      <th>s54</th>\n",
       "      <th>s55</th>\n",
       "      <th>s56</th>\n",
       "      <th>s57</th>\n",
       "      <th>s58</th>\n",
       "      <th>s59</th>\n",
       "      <th>s69</th>\n",
       "      <th>s70</th>\n",
       "      <th>s71</th>\n",
       "      <th>n1</th>\n",
       "      <th>n2</th>\n",
       "      <th>n3</th>\n",
       "      <th>n4</th>\n",
       "      <th>n5</th>\n",
       "      <th>n6</th>\n",
       "      <th>n7</th>\n",
       "      <th>n8</th>\n",
       "      <th>n9</th>\n",
       "      <th>n10</th>\n",
       "      <th>n11</th>\n",
       "      <th>n12</th>\n",
       "      <th>n13</th>\n",
       "      <th>n14</th>\n",
       "      <th>n15</th>\n",
       "      <th>label</th>\n",
       "    </tr>\n",
       "  </thead>\n",
       "  <tbody>\n",
       "    <tr>\n",
       "      <th>0</th>\n",
       "      <td>b'gAAAAABinOicS09vrmgh0_JyEHihI13ptO0rCyHP7l76...</td>\n",
       "      <td>M</td>\n",
       "      <td>Y</td>\n",
       "      <td>N</td>\n",
       "      <td>1</td>\n",
       "      <td>D</td>\n",
       "      <td>D</td>\n",
       "      <td>B</td>\n",
       "      <td>0</td>\n",
       "      <td>1</td>\n",
       "      <td></td>\n",
       "      <td>NaN</td>\n",
       "      <td>kK</td>\n",
       "      <td>NaN</td>\n",
       "      <td>NaN</td>\n",
       "      <td>B</td>\n",
       "      <td>NaN</td>\n",
       "      <td>x</td>\n",
       "      <td>op: D</td>\n",
       "      <td>b</td>\n",
       "      <td>16.144666</td>\n",
       "      <td>1.989441</td>\n",
       "      <td>2</td>\n",
       "      <td>2.318385</td>\n",
       "      <td>-32.839277</td>\n",
       "      <td>0.017176</td>\n",
       "      <td>-9.126056</td>\n",
       "      <td>1.732291</td>\n",
       "      <td>3.698504</td>\n",
       "      <td>4.804517</td>\n",
       "      <td>1.544484</td>\n",
       "      <td>0</td>\n",
       "      <td>0</td>\n",
       "      <td>0.631220</td>\n",
       "      <td>5</td>\n",
       "      <td>0</td>\n",
       "    </tr>\n",
       "    <tr>\n",
       "      <th>1</th>\n",
       "      <td>b'gAAAAABinOiWGC1WhR6WYP0DA5ssGv9rIekrWUwCdJ8F...</td>\n",
       "      <td>M</td>\n",
       "      <td>Y</td>\n",
       "      <td>Y</td>\n",
       "      <td>1</td>\n",
       "      <td>D</td>\n",
       "      <td>D</td>\n",
       "      <td>B</td>\n",
       "      <td>1</td>\n",
       "      <td>1</td>\n",
       "      <td></td>\n",
       "      <td>NaN</td>\n",
       "      <td>NaN</td>\n",
       "      <td>NaN</td>\n",
       "      <td>NaN</td>\n",
       "      <td>B</td>\n",
       "      <td>NaN</td>\n",
       "      <td>x</td>\n",
       "      <td>op: D</td>\n",
       "      <td>b</td>\n",
       "      <td>7.144558</td>\n",
       "      <td>0.844866</td>\n",
       "      <td>3</td>\n",
       "      <td>6.197768</td>\n",
       "      <td>-32.576597</td>\n",
       "      <td>0.013857</td>\n",
       "      <td>-9.098287</td>\n",
       "      <td>1.505885</td>\n",
       "      <td>6.791357</td>\n",
       "      <td>6.110416</td>\n",
       "      <td>1.712354</td>\n",
       "      <td>0</td>\n",
       "      <td>0</td>\n",
       "      <td>0.392746</td>\n",
       "      <td>3</td>\n",
       "      <td>1</td>\n",
       "    </tr>\n",
       "    <tr>\n",
       "      <th>2</th>\n",
       "      <td>b'gAAAAABinOibTcOBFIVeA4nVF3FuFz_QX3ZlPPFc21gS...</td>\n",
       "      <td>M</td>\n",
       "      <td>Y</td>\n",
       "      <td>Y</td>\n",
       "      <td>1</td>\n",
       "      <td>D</td>\n",
       "      <td>D</td>\n",
       "      <td>B</td>\n",
       "      <td>0</td>\n",
       "      <td>1</td>\n",
       "      <td></td>\n",
       "      <td>NaN</td>\n",
       "      <td>NaN</td>\n",
       "      <td>NaN</td>\n",
       "      <td>NaN</td>\n",
       "      <td>B</td>\n",
       "      <td>NaN</td>\n",
       "      <td>x</td>\n",
       "      <td>op: D</td>\n",
       "      <td>b</td>\n",
       "      <td>6.923236</td>\n",
       "      <td>1.042018</td>\n",
       "      <td>6</td>\n",
       "      <td>7.824401</td>\n",
       "      <td>-32.510544</td>\n",
       "      <td>0.013943</td>\n",
       "      <td>-9.234894</td>\n",
       "      <td>1.503828</td>\n",
       "      <td>4.109685</td>\n",
       "      <td>3.953226</td>\n",
       "      <td>1.804260</td>\n",
       "      <td>0</td>\n",
       "      <td>0</td>\n",
       "      <td>0.222537</td>\n",
       "      <td>2</td>\n",
       "      <td>0</td>\n",
       "    </tr>\n",
       "    <tr>\n",
       "      <th>3</th>\n",
       "      <td>b'gAAAAABinOig-g3-Q1ggjlMhfUSdn21Aj5yVVeVvXbis...</td>\n",
       "      <td>F</td>\n",
       "      <td>Y</td>\n",
       "      <td>Y</td>\n",
       "      <td>1</td>\n",
       "      <td>D</td>\n",
       "      <td>D</td>\n",
       "      <td>B</td>\n",
       "      <td>0</td>\n",
       "      <td>1</td>\n",
       "      <td></td>\n",
       "      <td>NaN</td>\n",
       "      <td>NaN</td>\n",
       "      <td>NaN</td>\n",
       "      <td>NaN</td>\n",
       "      <td>B</td>\n",
       "      <td>NaN</td>\n",
       "      <td>x</td>\n",
       "      <td>op: D</td>\n",
       "      <td>b</td>\n",
       "      <td>5.749840</td>\n",
       "      <td>0.781439</td>\n",
       "      <td>2</td>\n",
       "      <td>8.256767</td>\n",
       "      <td>-32.398679</td>\n",
       "      <td>0.010387</td>\n",
       "      <td>-9.378025</td>\n",
       "      <td>1.485863</td>\n",
       "      <td>7.265876</td>\n",
       "      <td>4.559419</td>\n",
       "      <td>1.537645</td>\n",
       "      <td>0</td>\n",
       "      <td>0</td>\n",
       "      <td>0.154409</td>\n",
       "      <td>4</td>\n",
       "      <td>0</td>\n",
       "    </tr>\n",
       "    <tr>\n",
       "      <th>4</th>\n",
       "      <td>b'gAAAAABinOiXdoaNUzihOSbyY1tjWtd5EgMaXkkvH6SV...</td>\n",
       "      <td>M</td>\n",
       "      <td>N</td>\n",
       "      <td>Y</td>\n",
       "      <td>1</td>\n",
       "      <td>B</td>\n",
       "      <td>D</td>\n",
       "      <td>D</td>\n",
       "      <td>1</td>\n",
       "      <td>l</td>\n",
       "      <td></td>\n",
       "      <td>NaN</td>\n",
       "      <td>NaN</td>\n",
       "      <td>NaN</td>\n",
       "      <td>NaN</td>\n",
       "      <td>B</td>\n",
       "      <td>NaN</td>\n",
       "      <td>~1</td>\n",
       "      <td>op: D</td>\n",
       "      <td>d</td>\n",
       "      <td>14.771959</td>\n",
       "      <td>1.248188</td>\n",
       "      <td>3</td>\n",
       "      <td>2.300011</td>\n",
       "      <td>-32.396746</td>\n",
       "      <td>0.016289</td>\n",
       "      <td>-9.261962</td>\n",
       "      <td>1.619210</td>\n",
       "      <td>3.737647</td>\n",
       "      <td>4.052003</td>\n",
       "      <td>1.637831</td>\n",
       "      <td>0</td>\n",
       "      <td>1</td>\n",
       "      <td>0.737560</td>\n",
       "      <td>1</td>\n",
       "      <td>0</td>\n",
       "    </tr>\n",
       "  </tbody>\n",
       "</table>\n",
       "</div>"
      ],
      "text/plain": [
       "                                                  id gender s11 s12  s13 s16  \\\n",
       "0  b'gAAAAABinOicS09vrmgh0_JyEHihI13ptO0rCyHP7l76...      M   Y   N    1   D   \n",
       "1  b'gAAAAABinOiWGC1WhR6WYP0DA5ssGv9rIekrWUwCdJ8F...      M   Y   Y    1   D   \n",
       "2  b'gAAAAABinOibTcOBFIVeA4nVF3FuFz_QX3ZlPPFc21gS...      M   Y   Y    1   D   \n",
       "3  b'gAAAAABinOig-g3-Q1ggjlMhfUSdn21Aj5yVVeVvXbis...      F   Y   Y    1   D   \n",
       "4  b'gAAAAABinOiXdoaNUzihOSbyY1tjWtd5EgMaXkkvH6SV...      M   N   Y    1   B   \n",
       "\n",
       "  s17 s18  s48 s52 s53  s54  s55  s56  s57 s58  s59 s69    s70 s71         n1  \\\n",
       "0   D   B    0   1      NaN   kK  NaN  NaN   B  NaN   x  op: D   b  16.144666   \n",
       "1   D   B    1   1      NaN  NaN  NaN  NaN   B  NaN   x  op: D   b   7.144558   \n",
       "2   D   B    0   1      NaN  NaN  NaN  NaN   B  NaN   x  op: D   b   6.923236   \n",
       "3   D   B    0   1      NaN  NaN  NaN  NaN   B  NaN   x  op: D   b   5.749840   \n",
       "4   D   D    1   l      NaN  NaN  NaN  NaN   B  NaN  ~1  op: D   d  14.771959   \n",
       "\n",
       "         n2  n3        n4         n5        n6        n7        n8        n9  \\\n",
       "0  1.989441   2  2.318385 -32.839277  0.017176 -9.126056  1.732291  3.698504   \n",
       "1  0.844866   3  6.197768 -32.576597  0.013857 -9.098287  1.505885  6.791357   \n",
       "2  1.042018   6  7.824401 -32.510544  0.013943 -9.234894  1.503828  4.109685   \n",
       "3  0.781439   2  8.256767 -32.398679  0.010387 -9.378025  1.485863  7.265876   \n",
       "4  1.248188   3  2.300011 -32.396746  0.016289 -9.261962  1.619210  3.737647   \n",
       "\n",
       "        n10       n11  n12  n13       n14  n15  label  \n",
       "0  4.804517  1.544484    0    0  0.631220    5      0  \n",
       "1  6.110416  1.712354    0    0  0.392746    3      1  \n",
       "2  3.953226  1.804260    0    0  0.222537    2      0  \n",
       "3  4.559419  1.537645    0    0  0.154409    4      0  \n",
       "4  4.052003  1.637831    0    1  0.737560    1      0  "
      ]
     },
     "execution_count": 5,
     "metadata": {},
     "output_type": "execute_result"
    }
   ],
   "source": [
    "# Print First Five Row \n",
    "train.head()"
   ]
  },
  {
   "cell_type": "code",
   "execution_count": 6,
   "metadata": {
    "execution": {
     "iopub.execute_input": "2022-06-10T05:37:11.91691Z",
     "iopub.status.busy": "2022-06-10T05:37:11.91636Z",
     "iopub.status.idle": "2022-06-10T05:37:11.921877Z",
     "shell.execute_reply": "2022-06-10T05:37:11.921062Z",
     "shell.execute_reply.started": "2022-06-10T05:37:11.916875Z"
    }
   },
   "outputs": [
    {
     "name": "stdout",
     "output_type": "stream",
     "text": [
      "This dataset have 36 columns\n",
      "and 28322 rows\n"
     ]
    }
   ],
   "source": [
    "print(f'This dataset have {train.shape[1]} columns\\nand {train.shape[0]} rows')"
   ]
  },
  {
   "cell_type": "code",
   "execution_count": 7,
   "metadata": {
    "execution": {
     "iopub.execute_input": "2022-06-10T04:43:31.996127Z",
     "iopub.status.busy": "2022-06-10T04:43:31.995772Z",
     "iopub.status.idle": "2022-06-10T04:43:32.051575Z",
     "shell.execute_reply": "2022-06-10T04:43:32.050646Z",
     "shell.execute_reply.started": "2022-06-10T04:43:31.996095Z"
    },
    "jupyter": {
     "outputs_hidden": true
    },
    "scrolled": true
   },
   "outputs": [
    {
     "name": "stdout",
     "output_type": "stream",
     "text": [
      "<class 'pandas.core.frame.DataFrame'>\n",
      "RangeIndex: 28322 entries, 0 to 28321\n",
      "Data columns (total 36 columns):\n",
      " #   Column  Non-Null Count  Dtype  \n",
      "---  ------  --------------  -----  \n",
      " 0   id      28322 non-null  object \n",
      " 1   gender  28322 non-null  object \n",
      " 2   s11     28322 non-null  object \n",
      " 3   s12     28322 non-null  object \n",
      " 4   s13     28322 non-null  int64  \n",
      " 5   s16     28322 non-null  object \n",
      " 6   s17     28322 non-null  object \n",
      " 7   s18     28322 non-null  object \n",
      " 8   s48     28322 non-null  int64  \n",
      " 9   s52     28322 non-null  object \n",
      " 10  s53     28322 non-null  object \n",
      " 11  s54     2628 non-null   object \n",
      " 12  s55     3206 non-null   object \n",
      " 13  s56     0 non-null      float64\n",
      " 14  s57     0 non-null      float64\n",
      " 15  s58     28322 non-null  object \n",
      " 16  s59     0 non-null      float64\n",
      " 17  s69     28322 non-null  object \n",
      " 18  s70     28322 non-null  object \n",
      " 19  s71     28322 non-null  object \n",
      " 20  n1      28322 non-null  float64\n",
      " 21  n2      28322 non-null  float64\n",
      " 22  n3      28322 non-null  int64  \n",
      " 23  n4      28322 non-null  float64\n",
      " 24  n5      28322 non-null  float64\n",
      " 25  n6      28322 non-null  float64\n",
      " 26  n7      28322 non-null  float64\n",
      " 27  n8      28322 non-null  float64\n",
      " 28  n9      28322 non-null  float64\n",
      " 29  n10     28322 non-null  float64\n",
      " 30  n11     28322 non-null  float64\n",
      " 31  n12     28322 non-null  int64  \n",
      " 32  n13     28322 non-null  int64  \n",
      " 33  n14     28322 non-null  float64\n",
      " 34  n15     28322 non-null  int64  \n",
      " 35  label   28322 non-null  int64  \n",
      "dtypes: float64(14), int64(7), object(15)\n",
      "memory usage: 7.8+ MB\n"
     ]
    }
   ],
   "source": [
    "train.info()"
   ]
  },
  {
   "cell_type": "markdown",
   "metadata": {},
   "source": [
    "<a class=\"anchor\" id=\"chapter4\"></a> <h2 style='text-align: center'>Split Data</h2>"
   ]
  },
  {
   "cell_type": "markdown",
   "metadata": {},
   "source": [
    "#### Let's dataset split train and validation set."
   ]
  },
  {
   "cell_type": "code",
   "execution_count": 8,
   "metadata": {
    "execution": {
     "iopub.execute_input": "2022-06-10T09:22:42.606904Z",
     "iopub.status.busy": "2022-06-10T09:22:42.60614Z",
     "iopub.status.idle": "2022-06-10T09:22:42.653946Z",
     "shell.execute_reply": "2022-06-10T09:22:42.652944Z",
     "shell.execute_reply.started": "2022-06-10T09:22:42.606832Z"
    }
   },
   "outputs": [
    {
     "name": "stdout",
     "output_type": "stream",
     "text": [
      "\n",
      "Before split: (28322, 36)\n",
      "\n",
      "\n",
      "Now, let's split the train set into train and validation.\n",
      "\n",
      "After split train X: (22657, 35)\n",
      "\n",
      "After split train y: (22657,)\n",
      "\n",
      "After split validation X: (5665, 35)\n",
      "\n",
      "After split validation y: (5665,)\n"
     ]
    }
   ],
   "source": [
    "X, y = train.loc[:, train.columns != 'label'], train['label']\n",
    "\n",
    "print(f\"\\nBefore split: {train.shape}\")\n",
    "\n",
    "print(\"\\n\\nNow, let's split the train set into train and validation.\")\n",
    "X_train, X_val, y_train, y_val = train_test_split(X, y, test_size = 0.2)\n",
    "print(f\"\\nAfter split train X: {X_train.shape}\")\n",
    "print(f\"\\nAfter split train y: {y_train.shape}\")\n",
    "\n",
    "print(f\"\\nAfter split validation X: {X_val.shape}\")\n",
    "print(f\"\\nAfter split validation y: {y_val.shape}\")"
   ]
  },
  {
   "cell_type": "markdown",
   "metadata": {},
   "source": [
    "##### Just print five random sample on train set"
   ]
  },
  {
   "cell_type": "code",
   "execution_count": 9,
   "metadata": {
    "execution": {
     "iopub.execute_input": "2022-06-10T00:58:09.144915Z",
     "iopub.status.busy": "2022-06-10T00:58:09.144322Z",
     "iopub.status.idle": "2022-06-10T00:58:09.17561Z",
     "shell.execute_reply": "2022-06-10T00:58:09.174038Z",
     "shell.execute_reply.started": "2022-06-10T00:58:09.144881Z"
    },
    "jupyter": {
     "outputs_hidden": true
    }
   },
   "outputs": [
    {
     "data": {
      "text/html": [
       "<div>\n",
       "<style scoped>\n",
       "    .dataframe tbody tr th:only-of-type {\n",
       "        vertical-align: middle;\n",
       "    }\n",
       "\n",
       "    .dataframe tbody tr th {\n",
       "        vertical-align: top;\n",
       "    }\n",
       "\n",
       "    .dataframe thead th {\n",
       "        text-align: right;\n",
       "    }\n",
       "</style>\n",
       "<table border=\"1\" class=\"dataframe\">\n",
       "  <thead>\n",
       "    <tr style=\"text-align: right;\">\n",
       "      <th></th>\n",
       "      <th>id</th>\n",
       "      <th>gender</th>\n",
       "      <th>s11</th>\n",
       "      <th>s12</th>\n",
       "      <th>s13</th>\n",
       "      <th>s16</th>\n",
       "      <th>s17</th>\n",
       "      <th>s18</th>\n",
       "      <th>s48</th>\n",
       "      <th>s52</th>\n",
       "      <th>s53</th>\n",
       "      <th>s54</th>\n",
       "      <th>s55</th>\n",
       "      <th>s56</th>\n",
       "      <th>s57</th>\n",
       "      <th>s58</th>\n",
       "      <th>s59</th>\n",
       "      <th>s69</th>\n",
       "      <th>s70</th>\n",
       "      <th>s71</th>\n",
       "      <th>n1</th>\n",
       "      <th>n2</th>\n",
       "      <th>n3</th>\n",
       "      <th>n4</th>\n",
       "      <th>n5</th>\n",
       "      <th>n6</th>\n",
       "      <th>n7</th>\n",
       "      <th>n8</th>\n",
       "      <th>n9</th>\n",
       "      <th>n10</th>\n",
       "      <th>n11</th>\n",
       "      <th>n12</th>\n",
       "      <th>n13</th>\n",
       "      <th>n14</th>\n",
       "      <th>n15</th>\n",
       "    </tr>\n",
       "  </thead>\n",
       "  <tbody>\n",
       "    <tr>\n",
       "      <th>1899</th>\n",
       "      <td>b'gAAAAABinOiW9rWh8XPYNzX6oBY47JXfZcdUQX3oTXvt...</td>\n",
       "      <td>M</td>\n",
       "      <td>Y</td>\n",
       "      <td>Y</td>\n",
       "      <td>1</td>\n",
       "      <td>C</td>\n",
       "      <td>D</td>\n",
       "      <td>B</td>\n",
       "      <td>1</td>\n",
       "      <td>1</td>\n",
       "      <td></td>\n",
       "      <td>NaN</td>\n",
       "      <td>NaN</td>\n",
       "      <td>NaN</td>\n",
       "      <td>NaN</td>\n",
       "      <td>B</td>\n",
       "      <td>NaN</td>\n",
       "      <td>C`</td>\n",
       "      <td>op: D</td>\n",
       "      <td>b</td>\n",
       "      <td>6.833544</td>\n",
       "      <td>1.088180</td>\n",
       "      <td>3</td>\n",
       "      <td>5.85324</td>\n",
       "      <td>-33.009206</td>\n",
       "      <td>0.015386</td>\n",
       "      <td>-9.276107</td>\n",
       "      <td>1.487647</td>\n",
       "      <td>2.832026</td>\n",
       "      <td>4.643572</td>\n",
       "      <td>1.672609</td>\n",
       "      <td>0</td>\n",
       "      <td>0</td>\n",
       "      <td>0.859717</td>\n",
       "      <td>0</td>\n",
       "    </tr>\n",
       "    <tr>\n",
       "      <th>5112</th>\n",
       "      <td>b'gAAAAABinOid60fc7a9iuwQ6ghMatL2TBX15uAJYQn8S...</td>\n",
       "      <td>M</td>\n",
       "      <td>Y</td>\n",
       "      <td>Y</td>\n",
       "      <td>1</td>\n",
       "      <td>D</td>\n",
       "      <td>D</td>\n",
       "      <td>D</td>\n",
       "      <td>0</td>\n",
       "      <td>1</td>\n",
       "      <td></td>\n",
       "      <td>NaN</td>\n",
       "      <td>NaN</td>\n",
       "      <td>NaN</td>\n",
       "      <td>NaN</td>\n",
       "      <td>B</td>\n",
       "      <td>NaN</td>\n",
       "      <td>x</td>\n",
       "      <td>op: D</td>\n",
       "      <td>d</td>\n",
       "      <td>6.143052</td>\n",
       "      <td>0.930615</td>\n",
       "      <td>6</td>\n",
       "      <td>7.04217</td>\n",
       "      <td>-32.391758</td>\n",
       "      <td>0.017917</td>\n",
       "      <td>-9.208624</td>\n",
       "      <td>1.501396</td>\n",
       "      <td>3.620009</td>\n",
       "      <td>3.971828</td>\n",
       "      <td>1.588699</td>\n",
       "      <td>0</td>\n",
       "      <td>0</td>\n",
       "      <td>0.130626</td>\n",
       "      <td>2</td>\n",
       "    </tr>\n",
       "    <tr>\n",
       "      <th>23280</th>\n",
       "      <td>b'gAAAAABinOibPHRol09xbM9z5QTaSXaSAajsHNDeWdPH...</td>\n",
       "      <td>M</td>\n",
       "      <td>Y</td>\n",
       "      <td>Y</td>\n",
       "      <td>1</td>\n",
       "      <td>D</td>\n",
       "      <td>D</td>\n",
       "      <td>B</td>\n",
       "      <td>1</td>\n",
       "      <td>1</td>\n",
       "      <td></td>\n",
       "      <td>NaN</td>\n",
       "      <td>NaN</td>\n",
       "      <td>NaN</td>\n",
       "      <td>NaN</td>\n",
       "      <td>A</td>\n",
       "      <td>NaN</td>\n",
       "      <td>x</td>\n",
       "      <td>op: D</td>\n",
       "      <td>b</td>\n",
       "      <td>17.240092</td>\n",
       "      <td>2.393501</td>\n",
       "      <td>8</td>\n",
       "      <td>7.36143</td>\n",
       "      <td>-32.334221</td>\n",
       "      <td>0.018957</td>\n",
       "      <td>-8.718871</td>\n",
       "      <td>1.761795</td>\n",
       "      <td>10.912851</td>\n",
       "      <td>10.565458</td>\n",
       "      <td>1.763063</td>\n",
       "      <td>0</td>\n",
       "      <td>0</td>\n",
       "      <td>0.060179</td>\n",
       "      <td>1</td>\n",
       "    </tr>\n",
       "    <tr>\n",
       "      <th>18104</th>\n",
       "      <td>b'gAAAAABinOiY6YhGdVbANhq2kJxwChRRmJL0OjfPNv0t...</td>\n",
       "      <td>M</td>\n",
       "      <td>N</td>\n",
       "      <td>Y</td>\n",
       "      <td>1</td>\n",
       "      <td>B</td>\n",
       "      <td>B</td>\n",
       "      <td>C</td>\n",
       "      <td>1</td>\n",
       "      <td>l</td>\n",
       "      <td></td>\n",
       "      <td>NaN</td>\n",
       "      <td>NaN</td>\n",
       "      <td>NaN</td>\n",
       "      <td>NaN</td>\n",
       "      <td>B</td>\n",
       "      <td>NaN</td>\n",
       "      <td>~1</td>\n",
       "      <td>op: B</td>\n",
       "      <td>c</td>\n",
       "      <td>10.159124</td>\n",
       "      <td>1.440763</td>\n",
       "      <td>1</td>\n",
       "      <td>2.50947</td>\n",
       "      <td>-32.347501</td>\n",
       "      <td>0.029419</td>\n",
       "      <td>-9.245781</td>\n",
       "      <td>1.614905</td>\n",
       "      <td>4.740829</td>\n",
       "      <td>2.964254</td>\n",
       "      <td>1.520028</td>\n",
       "      <td>0</td>\n",
       "      <td>0</td>\n",
       "      <td>0.139758</td>\n",
       "      <td>6</td>\n",
       "    </tr>\n",
       "    <tr>\n",
       "      <th>16042</th>\n",
       "      <td>b'gAAAAABinOieYvevJDWiQo-aT96ZsD5nnvhbYECjyRnR...</td>\n",
       "      <td>M</td>\n",
       "      <td>Y</td>\n",
       "      <td>Y</td>\n",
       "      <td>1</td>\n",
       "      <td>D</td>\n",
       "      <td>D</td>\n",
       "      <td>B</td>\n",
       "      <td>0</td>\n",
       "      <td>1</td>\n",
       "      <td></td>\n",
       "      <td>NaN</td>\n",
       "      <td>NaN</td>\n",
       "      <td>NaN</td>\n",
       "      <td>NaN</td>\n",
       "      <td>B</td>\n",
       "      <td>NaN</td>\n",
       "      <td>x</td>\n",
       "      <td>op: D</td>\n",
       "      <td>b</td>\n",
       "      <td>4.806987</td>\n",
       "      <td>2.069883</td>\n",
       "      <td>3</td>\n",
       "      <td>5.91191</td>\n",
       "      <td>-32.311357</td>\n",
       "      <td>0.022354</td>\n",
       "      <td>-9.242315</td>\n",
       "      <td>1.454289</td>\n",
       "      <td>3.677210</td>\n",
       "      <td>4.532849</td>\n",
       "      <td>1.720758</td>\n",
       "      <td>0</td>\n",
       "      <td>0</td>\n",
       "      <td>0.664278</td>\n",
       "      <td>4</td>\n",
       "    </tr>\n",
       "  </tbody>\n",
       "</table>\n",
       "</div>"
      ],
      "text/plain": [
       "                                                      id gender s11 s12  s13  \\\n",
       "1899   b'gAAAAABinOiW9rWh8XPYNzX6oBY47JXfZcdUQX3oTXvt...      M   Y   Y    1   \n",
       "5112   b'gAAAAABinOid60fc7a9iuwQ6ghMatL2TBX15uAJYQn8S...      M   Y   Y    1   \n",
       "23280  b'gAAAAABinOibPHRol09xbM9z5QTaSXaSAajsHNDeWdPH...      M   Y   Y    1   \n",
       "18104  b'gAAAAABinOiY6YhGdVbANhq2kJxwChRRmJL0OjfPNv0t...      M   N   Y    1   \n",
       "16042  b'gAAAAABinOieYvevJDWiQo-aT96ZsD5nnvhbYECjyRnR...      M   Y   Y    1   \n",
       "\n",
       "      s16 s17 s18  s48 s52 s53  s54  s55  s56  s57 s58  s59 s69    s70 s71  \\\n",
       "1899    C   D   B    1   1      NaN  NaN  NaN  NaN   B  NaN  C`  op: D   b   \n",
       "5112    D   D   D    0   1      NaN  NaN  NaN  NaN   B  NaN   x  op: D   d   \n",
       "23280   D   D   B    1   1      NaN  NaN  NaN  NaN   A  NaN   x  op: D   b   \n",
       "18104   B   B   C    1   l      NaN  NaN  NaN  NaN   B  NaN  ~1  op: B   c   \n",
       "16042   D   D   B    0   1      NaN  NaN  NaN  NaN   B  NaN   x  op: D   b   \n",
       "\n",
       "              n1        n2  n3       n4         n5        n6        n7  \\\n",
       "1899    6.833544  1.088180   3  5.85324 -33.009206  0.015386 -9.276107   \n",
       "5112    6.143052  0.930615   6  7.04217 -32.391758  0.017917 -9.208624   \n",
       "23280  17.240092  2.393501   8  7.36143 -32.334221  0.018957 -8.718871   \n",
       "18104  10.159124  1.440763   1  2.50947 -32.347501  0.029419 -9.245781   \n",
       "16042   4.806987  2.069883   3  5.91191 -32.311357  0.022354 -9.242315   \n",
       "\n",
       "             n8         n9        n10       n11  n12  n13       n14  n15  \n",
       "1899   1.487647   2.832026   4.643572  1.672609    0    0  0.859717    0  \n",
       "5112   1.501396   3.620009   3.971828  1.588699    0    0  0.130626    2  \n",
       "23280  1.761795  10.912851  10.565458  1.763063    0    0  0.060179    1  \n",
       "18104  1.614905   4.740829   2.964254  1.520028    0    0  0.139758    6  \n",
       "16042  1.454289   3.677210   4.532849  1.720758    0    0  0.664278    4  "
      ]
     },
     "execution_count": 9,
     "metadata": {},
     "output_type": "execute_result"
    }
   ],
   "source": [
    "X_train.sample(5)"
   ]
  },
  {
   "cell_type": "code",
   "execution_count": 10,
   "metadata": {
    "execution": {
     "iopub.execute_input": "2022-06-10T00:58:10.618121Z",
     "iopub.status.busy": "2022-06-10T00:58:10.617789Z",
     "iopub.status.idle": "2022-06-10T00:58:10.624814Z",
     "shell.execute_reply": "2022-06-10T00:58:10.623997Z",
     "shell.execute_reply.started": "2022-06-10T00:58:10.618093Z"
    }
   },
   "outputs": [
    {
     "data": {
      "text/plain": [
       "27637    0\n",
       "14791    0\n",
       "24939    0\n",
       "2721     1\n",
       "5020     0\n",
       "Name: label, dtype: int64"
      ]
     },
     "execution_count": 10,
     "metadata": {},
     "output_type": "execute_result"
    }
   ],
   "source": [
    "y_train.sample(5)"
   ]
  },
  {
   "cell_type": "markdown",
   "metadata": {},
   "source": [
    "<a class=\"anchor\" id=\"chapter5\"></a>  <h2 style='text-align: center'>Data Exploration</h2> "
   ]
  },
  {
   "cell_type": "markdown",
   "metadata": {},
   "source": [
    "**We'll be only exploring our new split train data set. The validation set and test set would not be explored Because it's our future data. So, We don't know about future data..**"
   ]
  },
  {
   "cell_type": "markdown",
   "metadata": {},
   "source": [
    "### Missing Data <a class=\"anchor\" id=\"section_5_1\"></a>"
   ]
  },
  {
   "cell_type": "code",
   "execution_count": 11,
   "metadata": {
    "execution": {
     "iopub.execute_input": "2022-06-10T00:58:35.33245Z",
     "iopub.status.busy": "2022-06-10T00:58:35.332081Z",
     "iopub.status.idle": "2022-06-10T00:58:35.372169Z",
     "shell.execute_reply": "2022-06-10T00:58:35.371207Z",
     "shell.execute_reply.started": "2022-06-10T00:58:35.332419Z"
    }
   },
   "outputs": [
    {
     "name": "stdout",
     "output_type": "stream",
     "text": [
      "The number of data that are missing from the X_train: 108628\n"
     ]
    }
   ],
   "source": [
    "print('The number of data that are missing from the X_train:', X_train.isnull().sum().sum())"
   ]
  },
  {
   "cell_type": "code",
   "execution_count": 12,
   "metadata": {
    "execution": {
     "iopub.execute_input": "2022-06-10T00:29:22.928928Z",
     "iopub.status.busy": "2022-06-10T00:29:22.928392Z",
     "iopub.status.idle": "2022-06-10T00:29:22.943076Z",
     "shell.execute_reply": "2022-06-10T00:29:22.942093Z",
     "shell.execute_reply.started": "2022-06-10T00:29:22.928885Z"
    },
    "jupyter": {
     "source_hidden": true
    }
   },
   "outputs": [],
   "source": [
    "def missing_values_table(df):\n",
    "    mis_val = df.isnull().sum()\n",
    "    mis_val_percent = 100 * df.isnull().sum() / len(df)\n",
    "    mis_val_table = pd.concat([mis_val, mis_val_percent], axis=1)\n",
    "    mis_val_table_ren_columns = mis_val_table.rename(\n",
    "    columns = {0 : 'Missing Values', 1 : '% of Total Values'})\n",
    "    mis_val_table_ren_columns = mis_val_table_ren_columns[\n",
    "        mis_val_table_ren_columns.iloc[:,1] != 0].sort_values(\n",
    "    '% of Total Values', ascending=False).round(1)\n",
    "    print (\"Your selected dataframe has \" + str(df.shape[1]) + \" columns.\\n\"      \n",
    "        \"There are \" + str(mis_val_table_ren_columns.shape[0]) +\n",
    "            \" columns that have missing values.\")\n",
    "    return mis_val_table_ren_columns"
   ]
  },
  {
   "cell_type": "code",
   "execution_count": 13,
   "metadata": {
    "execution": {
     "iopub.execute_input": "2022-06-10T00:29:24.014271Z",
     "iopub.status.busy": "2022-06-10T00:29:24.013456Z",
     "iopub.status.idle": "2022-06-10T00:29:24.080071Z",
     "shell.execute_reply": "2022-06-10T00:29:24.079201Z",
     "shell.execute_reply.started": "2022-06-10T00:29:24.014233Z"
    }
   },
   "outputs": [
    {
     "name": "stdout",
     "output_type": "stream",
     "text": [
      "Your selected dataframe has 35 columns.\n",
      "There are 5 columns that have missing values.\n"
     ]
    },
    {
     "data": {
      "text/html": [
       "<div>\n",
       "<style scoped>\n",
       "    .dataframe tbody tr th:only-of-type {\n",
       "        vertical-align: middle;\n",
       "    }\n",
       "\n",
       "    .dataframe tbody tr th {\n",
       "        vertical-align: top;\n",
       "    }\n",
       "\n",
       "    .dataframe thead th {\n",
       "        text-align: right;\n",
       "    }\n",
       "</style>\n",
       "<table border=\"1\" class=\"dataframe\">\n",
       "  <thead>\n",
       "    <tr style=\"text-align: right;\">\n",
       "      <th></th>\n",
       "      <th>Missing Values</th>\n",
       "      <th>% of Total Values</th>\n",
       "    </tr>\n",
       "  </thead>\n",
       "  <tbody>\n",
       "    <tr>\n",
       "      <th>s56</th>\n",
       "      <td>22657</td>\n",
       "      <td>100.0</td>\n",
       "    </tr>\n",
       "    <tr>\n",
       "      <th>s57</th>\n",
       "      <td>22657</td>\n",
       "      <td>100.0</td>\n",
       "    </tr>\n",
       "    <tr>\n",
       "      <th>s59</th>\n",
       "      <td>22657</td>\n",
       "      <td>100.0</td>\n",
       "    </tr>\n",
       "    <tr>\n",
       "      <th>s54</th>\n",
       "      <td>20580</td>\n",
       "      <td>90.8</td>\n",
       "    </tr>\n",
       "    <tr>\n",
       "      <th>s55</th>\n",
       "      <td>20077</td>\n",
       "      <td>88.6</td>\n",
       "    </tr>\n",
       "  </tbody>\n",
       "</table>\n",
       "</div>"
      ],
      "text/plain": [
       "     Missing Values  % of Total Values\n",
       "s56           22657              100.0\n",
       "s57           22657              100.0\n",
       "s59           22657              100.0\n",
       "s54           20580               90.8\n",
       "s55           20077               88.6"
      ]
     },
     "execution_count": 13,
     "metadata": {},
     "output_type": "execute_result"
    }
   ],
   "source": [
    "missing_values_table(X_train)"
   ]
  },
  {
   "cell_type": "code",
   "execution_count": 14,
   "metadata": {
    "execution": {
     "iopub.execute_input": "2022-06-10T00:46:24.078549Z",
     "iopub.status.busy": "2022-06-10T00:46:24.07808Z",
     "iopub.status.idle": "2022-06-10T00:46:25.11222Z",
     "shell.execute_reply": "2022-06-10T00:46:25.111364Z",
     "shell.execute_reply.started": "2022-06-10T00:46:24.078517Z"
    },
    "jupyter": {
     "outputs_hidden": true
    }
   },
   "outputs": [
    {
     "data": {
      "image/png": "[encoded data removed]",
      "text/plain": [
       "<Figure size 1800x720 with 2 Axes>"
      ]
     },
     "metadata": {
      "needs_background": "light"
     },
     "output_type": "display_data"
    }
   ],
   "source": [
    "msno.matrix(X_train)\n",
    "plt.show()"
   ]
  },
  {
   "cell_type": "markdown",
   "metadata": {},
   "source": [
    "1. There are 108619 missing data exist in X_train.\n",
    "2. s56, s57, s59 are totally null.\n",
    "3. Columns s54 and s45 are 90 percent and 88 percent null."
   ]
  },
  {
   "cell_type": "markdown",
   "metadata": {},
   "source": [
    "### Numerical Column Analysis.  <a class=\"anchor\" id=\"section_5_3\"></a>"
   ]
  },
  {
   "cell_type": "markdown",
   "metadata": {},
   "source": [
    "Make without null columns Data Frame."
   ]
  },
  {
   "cell_type": "code",
   "execution_count": 15,
   "metadata": {
    "execution": {
     "iopub.execute_input": "2022-06-10T01:11:18.263977Z",
     "iopub.status.busy": "2022-06-10T01:11:18.263401Z",
     "iopub.status.idle": "2022-06-10T01:11:18.313574Z",
     "shell.execute_reply": "2022-06-10T01:11:18.312341Z",
     "shell.execute_reply.started": "2022-06-10T01:11:18.263935Z"
    }
   },
   "outputs": [],
   "source": [
    "without_null = X_train[X_train.columns[~X_train.isnull().any()]]"
   ]
  },
  {
   "cell_type": "markdown",
   "metadata": {},
   "source": [
    "Distribution of X_train data"
   ]
  },
  {
   "cell_type": "code",
   "execution_count": 16,
   "metadata": {
    "execution": {
     "iopub.execute_input": "2022-06-10T01:11:23.698264Z",
     "iopub.status.busy": "2022-06-10T01:11:23.697923Z",
     "iopub.status.idle": "2022-06-10T01:11:23.767093Z",
     "shell.execute_reply": "2022-06-10T01:11:23.766264Z",
     "shell.execute_reply.started": "2022-06-10T01:11:23.698236Z"
    },
    "jupyter": {
     "outputs_hidden": true
    }
   },
   "outputs": [
    {
     "data": {
      "text/html": [
       "<style type=\"text/css\">\n",
       "#T_2a98d_row0_col0, #T_2a98d_row1_col0, #T_2a98d_row2_col0, #T_2a98d_row3_col0, #T_2a98d_row4_col0, #T_2a98d_row5_col0, #T_2a98d_row6_col0, #T_2a98d_row7_col0, #T_2a98d_row8_col0, #T_2a98d_row9_col0, #T_2a98d_row10_col0, #T_2a98d_row11_col0, #T_2a98d_row12_col0, #T_2a98d_row13_col0, #T_2a98d_row14_col0, #T_2a98d_row15_col0, #T_2a98d_row16_col0 {\n",
       "  background-color: #800026;\n",
       "  color: #f1f1f1;\n",
       "}\n",
       "#T_2a98d_row0_col1, #T_2a98d_row0_col2, #T_2a98d_row0_col3, #T_2a98d_row0_col4, #T_2a98d_row0_col5, #T_2a98d_row0_col6, #T_2a98d_row0_col7, #T_2a98d_row1_col1, #T_2a98d_row1_col2, #T_2a98d_row1_col3, #T_2a98d_row1_col4, #T_2a98d_row1_col5, #T_2a98d_row1_col6, #T_2a98d_row1_col7, #T_2a98d_row2_col1, #T_2a98d_row2_col2, #T_2a98d_row2_col3, #T_2a98d_row2_col4, #T_2a98d_row2_col5, #T_2a98d_row2_col6, #T_2a98d_row2_col7, #T_2a98d_row3_col1, #T_2a98d_row3_col2, #T_2a98d_row3_col3, #T_2a98d_row3_col4, #T_2a98d_row3_col5, #T_2a98d_row3_col6, #T_2a98d_row3_col7, #T_2a98d_row4_col1, #T_2a98d_row4_col2, #T_2a98d_row4_col3, #T_2a98d_row4_col4, #T_2a98d_row4_col5, #T_2a98d_row4_col6, #T_2a98d_row4_col7, #T_2a98d_row5_col1, #T_2a98d_row5_col2, #T_2a98d_row5_col3, #T_2a98d_row5_col4, #T_2a98d_row5_col5, #T_2a98d_row5_col6, #T_2a98d_row5_col7, #T_2a98d_row6_col1, #T_2a98d_row6_col2, #T_2a98d_row6_col3, #T_2a98d_row6_col4, #T_2a98d_row6_col5, #T_2a98d_row6_col6, #T_2a98d_row6_col7, #T_2a98d_row7_col1, #T_2a98d_row7_col2, #T_2a98d_row7_col3, #T_2a98d_row7_col4, #T_2a98d_row7_col5, #T_2a98d_row7_col6, #T_2a98d_row7_col7, #T_2a98d_row8_col1, #T_2a98d_row8_col2, #T_2a98d_row8_col3, #T_2a98d_row8_col4, #T_2a98d_row8_col5, #T_2a98d_row8_col6, #T_2a98d_row8_col7, #T_2a98d_row9_col1, #T_2a98d_row9_col2, #T_2a98d_row9_col3, #T_2a98d_row9_col4, #T_2a98d_row9_col5, #T_2a98d_row9_col6, #T_2a98d_row9_col7, #T_2a98d_row10_col1, #T_2a98d_row10_col2, #T_2a98d_row10_col3, #T_2a98d_row10_col4, #T_2a98d_row10_col5, #T_2a98d_row10_col6, #T_2a98d_row10_col7, #T_2a98d_row11_col1, #T_2a98d_row11_col2, #T_2a98d_row11_col3, #T_2a98d_row11_col4, #T_2a98d_row11_col5, #T_2a98d_row11_col6, #T_2a98d_row11_col7, #T_2a98d_row12_col1, #T_2a98d_row12_col2, #T_2a98d_row12_col3, #T_2a98d_row12_col4, #T_2a98d_row12_col5, #T_2a98d_row12_col6, #T_2a98d_row12_col7, #T_2a98d_row13_col1, #T_2a98d_row13_col2, #T_2a98d_row13_col3, #T_2a98d_row13_col4, #T_2a98d_row13_col5, #T_2a98d_row13_col6, #T_2a98d_row13_col7, #T_2a98d_row14_col1, #T_2a98d_row14_col2, #T_2a98d_row14_col3, #T_2a98d_row14_col4, #T_2a98d_row14_col5, #T_2a98d_row14_col6, #T_2a98d_row14_col7, #T_2a98d_row15_col1, #T_2a98d_row15_col2, #T_2a98d_row15_col3, #T_2a98d_row15_col4, #T_2a98d_row15_col5, #T_2a98d_row15_col6, #T_2a98d_row15_col7, #T_2a98d_row16_col1, #T_2a98d_row16_col2, #T_2a98d_row16_col3, #T_2a98d_row16_col4, #T_2a98d_row16_col5, #T_2a98d_row16_col6, #T_2a98d_row16_col7 {\n",
       "  background-color: #ffffcc;\n",
       "  color: #000000;\n",
       "}\n",
       "</style>\n",
       "<table id=\"T_2a98d\">\n",
       "  <thead>\n",
       "    <tr>\n",
       "      <th class=\"blank level0\" >&nbsp;</th>\n",
       "      <th id=\"T_2a98d_level0_col0\" class=\"col_heading level0 col0\" >count</th>\n",
       "      <th id=\"T_2a98d_level0_col1\" class=\"col_heading level0 col1\" >mean</th>\n",
       "      <th id=\"T_2a98d_level0_col2\" class=\"col_heading level0 col2\" >std</th>\n",
       "      <th id=\"T_2a98d_level0_col3\" class=\"col_heading level0 col3\" >min</th>\n",
       "      <th id=\"T_2a98d_level0_col4\" class=\"col_heading level0 col4\" >25%</th>\n",
       "      <th id=\"T_2a98d_level0_col5\" class=\"col_heading level0 col5\" >50%</th>\n",
       "      <th id=\"T_2a98d_level0_col6\" class=\"col_heading level0 col6\" >75%</th>\n",
       "      <th id=\"T_2a98d_level0_col7\" class=\"col_heading level0 col7\" >max</th>\n",
       "    </tr>\n",
       "  </thead>\n",
       "  <tbody>\n",
       "    <tr>\n",
       "      <th id=\"T_2a98d_level0_row0\" class=\"row_heading level0 row0\" >s13</th>\n",
       "      <td id=\"T_2a98d_row0_col0\" class=\"data row0 col0\" >22657.000000</td>\n",
       "      <td id=\"T_2a98d_row0_col1\" class=\"data row0 col1\" >0.982963</td>\n",
       "      <td id=\"T_2a98d_row0_col2\" class=\"data row0 col2\" >0.129411</td>\n",
       "      <td id=\"T_2a98d_row0_col3\" class=\"data row0 col3\" >0.000000</td>\n",
       "      <td id=\"T_2a98d_row0_col4\" class=\"data row0 col4\" >1.000000</td>\n",
       "      <td id=\"T_2a98d_row0_col5\" class=\"data row0 col5\" >1.000000</td>\n",
       "      <td id=\"T_2a98d_row0_col6\" class=\"data row0 col6\" >1.000000</td>\n",
       "      <td id=\"T_2a98d_row0_col7\" class=\"data row0 col7\" >1.000000</td>\n",
       "    </tr>\n",
       "    <tr>\n",
       "      <th id=\"T_2a98d_level0_row1\" class=\"row_heading level0 row1\" >s48</th>\n",
       "      <td id=\"T_2a98d_row1_col0\" class=\"data row1 col0\" >22657.000000</td>\n",
       "      <td id=\"T_2a98d_row1_col1\" class=\"data row1 col1\" >0.434612</td>\n",
       "      <td id=\"T_2a98d_row1_col2\" class=\"data row1 col2\" >0.495717</td>\n",
       "      <td id=\"T_2a98d_row1_col3\" class=\"data row1 col3\" >0.000000</td>\n",
       "      <td id=\"T_2a98d_row1_col4\" class=\"data row1 col4\" >0.000000</td>\n",
       "      <td id=\"T_2a98d_row1_col5\" class=\"data row1 col5\" >0.000000</td>\n",
       "      <td id=\"T_2a98d_row1_col6\" class=\"data row1 col6\" >1.000000</td>\n",
       "      <td id=\"T_2a98d_row1_col7\" class=\"data row1 col7\" >1.000000</td>\n",
       "    </tr>\n",
       "    <tr>\n",
       "      <th id=\"T_2a98d_level0_row2\" class=\"row_heading level0 row2\" >n1</th>\n",
       "      <td id=\"T_2a98d_row2_col0\" class=\"data row2 col0\" >22657.000000</td>\n",
       "      <td id=\"T_2a98d_row2_col1\" class=\"data row2 col1\" >10.204424</td>\n",
       "      <td id=\"T_2a98d_row2_col2\" class=\"data row2 col2\" >4.418281</td>\n",
       "      <td id=\"T_2a98d_row2_col3\" class=\"data row2 col3\" >2.207756</td>\n",
       "      <td id=\"T_2a98d_row2_col4\" class=\"data row2 col4\" >6.590339</td>\n",
       "      <td id=\"T_2a98d_row2_col5\" class=\"data row2 col5\" >9.515144</td>\n",
       "      <td id=\"T_2a98d_row2_col6\" class=\"data row2 col6\" >14.450108</td>\n",
       "      <td id=\"T_2a98d_row2_col7\" class=\"data row2 col7\" >20.882733</td>\n",
       "    </tr>\n",
       "    <tr>\n",
       "      <th id=\"T_2a98d_level0_row3\" class=\"row_heading level0 row3\" >n2</th>\n",
       "      <td id=\"T_2a98d_row3_col0\" class=\"data row3 col0\" >22657.000000</td>\n",
       "      <td id=\"T_2a98d_row3_col1\" class=\"data row3 col1\" >1.599901</td>\n",
       "      <td id=\"T_2a98d_row3_col2\" class=\"data row3 col2\" >0.665612</td>\n",
       "      <td id=\"T_2a98d_row3_col3\" class=\"data row3 col3\" >0.311727</td>\n",
       "      <td id=\"T_2a98d_row3_col4\" class=\"data row3 col4\" >1.012483</td>\n",
       "      <td id=\"T_2a98d_row3_col5\" class=\"data row3 col5\" >1.462928</td>\n",
       "      <td id=\"T_2a98d_row3_col6\" class=\"data row3 col6\" >2.195420</td>\n",
       "      <td id=\"T_2a98d_row3_col7\" class=\"data row3 col7\" >3.137331</td>\n",
       "    </tr>\n",
       "    <tr>\n",
       "      <th id=\"T_2a98d_level0_row4\" class=\"row_heading level0 row4\" >n3</th>\n",
       "      <td id=\"T_2a98d_row4_col0\" class=\"data row4 col0\" >22657.000000</td>\n",
       "      <td id=\"T_2a98d_row4_col1\" class=\"data row4 col1\" >4.820938</td>\n",
       "      <td id=\"T_2a98d_row4_col2\" class=\"data row4 col2\" >2.201399</td>\n",
       "      <td id=\"T_2a98d_row4_col3\" class=\"data row4 col3\" >0.000000</td>\n",
       "      <td id=\"T_2a98d_row4_col4\" class=\"data row4 col4\" >3.000000</td>\n",
       "      <td id=\"T_2a98d_row4_col5\" class=\"data row4 col5\" >5.000000</td>\n",
       "      <td id=\"T_2a98d_row4_col6\" class=\"data row4 col6\" >7.000000</td>\n",
       "      <td id=\"T_2a98d_row4_col7\" class=\"data row4 col7\" >9.000000</td>\n",
       "    </tr>\n",
       "    <tr>\n",
       "      <th id=\"T_2a98d_level0_row5\" class=\"row_heading level0 row5\" >n4</th>\n",
       "      <td id=\"T_2a98d_row5_col0\" class=\"data row5 col0\" >22657.000000</td>\n",
       "      <td id=\"T_2a98d_row5_col1\" class=\"data row5 col1\" >5.081905</td>\n",
       "      <td id=\"T_2a98d_row5_col2\" class=\"data row5 col2\" >2.273332</td>\n",
       "      <td id=\"T_2a98d_row5_col3\" class=\"data row5 col3\" >1.785047</td>\n",
       "      <td id=\"T_2a98d_row5_col4\" class=\"data row5 col4\" >2.838433</td>\n",
       "      <td id=\"T_2a98d_row5_col5\" class=\"data row5 col5\" >4.838389</td>\n",
       "      <td id=\"T_2a98d_row5_col6\" class=\"data row5 col6\" >7.296514</td>\n",
       "      <td id=\"T_2a98d_row5_col7\" class=\"data row5 col7\" >8.594620</td>\n",
       "    </tr>\n",
       "    <tr>\n",
       "      <th id=\"T_2a98d_level0_row6\" class=\"row_heading level0 row6\" >n5</th>\n",
       "      <td id=\"T_2a98d_row6_col0\" class=\"data row6 col0\" >22657.000000</td>\n",
       "      <td id=\"T_2a98d_row6_col1\" class=\"data row6 col1\" >-32.641312</td>\n",
       "      <td id=\"T_2a98d_row6_col2\" class=\"data row6 col2\" >0.241024</td>\n",
       "      <td id=\"T_2a98d_row6_col3\" class=\"data row6 col3\" >-33.167589</td>\n",
       "      <td id=\"T_2a98d_row6_col4\" class=\"data row6 col4\" >-32.862105</td>\n",
       "      <td id=\"T_2a98d_row6_col5\" class=\"data row6 col5\" >-32.577055</td>\n",
       "      <td id=\"T_2a98d_row6_col6\" class=\"data row6 col6\" >-32.396760</td>\n",
       "      <td id=\"T_2a98d_row6_col7\" class=\"data row6 col7\" >-32.289180</td>\n",
       "    </tr>\n",
       "    <tr>\n",
       "      <th id=\"T_2a98d_level0_row7\" class=\"row_heading level0 row7\" >n6</th>\n",
       "      <td id=\"T_2a98d_row7_col0\" class=\"data row7 col0\" >22657.000000</td>\n",
       "      <td id=\"T_2a98d_row7_col1\" class=\"data row7 col1\" >0.014993</td>\n",
       "      <td id=\"T_2a98d_row7_col2\" class=\"data row7 col2\" >0.006530</td>\n",
       "      <td id=\"T_2a98d_row7_col3\" class=\"data row7 col3\" >0.000584</td>\n",
       "      <td id=\"T_2a98d_row7_col4\" class=\"data row7 col4\" >0.009213</td>\n",
       "      <td id=\"T_2a98d_row7_col5\" class=\"data row7 col5\" >0.016031</td>\n",
       "      <td id=\"T_2a98d_row7_col6\" class=\"data row7 col6\" >0.018730</td>\n",
       "      <td id=\"T_2a98d_row7_col7\" class=\"data row7 col7\" >0.029981</td>\n",
       "    </tr>\n",
       "    <tr>\n",
       "      <th id=\"T_2a98d_level0_row8\" class=\"row_heading level0 row8\" >n7</th>\n",
       "      <td id=\"T_2a98d_row8_col0\" class=\"data row8 col0\" >22657.000000</td>\n",
       "      <td id=\"T_2a98d_row8_col1\" class=\"data row8 col1\" >-9.106890</td>\n",
       "      <td id=\"T_2a98d_row8_col2\" class=\"data row8 col2\" >0.205471</td>\n",
       "      <td id=\"T_2a98d_row8_col3\" class=\"data row8 col3\" >-9.517986</td>\n",
       "      <td id=\"T_2a98d_row8_col4\" class=\"data row8 col4\" >-9.258648</td>\n",
       "      <td id=\"T_2a98d_row8_col5\" class=\"data row8 col5\" >-9.173449</td>\n",
       "      <td id=\"T_2a98d_row8_col6\" class=\"data row8 col6\" >-8.962537</td>\n",
       "      <td id=\"T_2a98d_row8_col7\" class=\"data row8 col7\" >-8.586583</td>\n",
       "    </tr>\n",
       "    <tr>\n",
       "      <th id=\"T_2a98d_level0_row9\" class=\"row_heading level0 row9\" >n8</th>\n",
       "      <td id=\"T_2a98d_row9_col0\" class=\"data row9 col0\" >22657.000000</td>\n",
       "      <td id=\"T_2a98d_row9_col1\" class=\"data row9 col1\" >1.612256</td>\n",
       "      <td id=\"T_2a98d_row9_col2\" class=\"data row9 col2\" >0.173136</td>\n",
       "      <td id=\"T_2a98d_row9_col3\" class=\"data row9 col3\" >1.178469</td>\n",
       "      <td id=\"T_2a98d_row9_col4\" class=\"data row9 col4\" >1.490164</td>\n",
       "      <td id=\"T_2a98d_row9_col5\" class=\"data row9 col5\" >1.537806</td>\n",
       "      <td id=\"T_2a98d_row9_col6\" class=\"data row9 col6\" >1.730390</td>\n",
       "      <td id=\"T_2a98d_row9_col7\" class=\"data row9 col7\" >2.173307</td>\n",
       "    </tr>\n",
       "    <tr>\n",
       "      <th id=\"T_2a98d_level0_row10\" class=\"row_heading level0 row10\" >n9</th>\n",
       "      <td id=\"T_2a98d_row10_col0\" class=\"data row10 col0\" >22657.000000</td>\n",
       "      <td id=\"T_2a98d_row10_col1\" class=\"data row10 col1\" >5.245843</td>\n",
       "      <td id=\"T_2a98d_row10_col2\" class=\"data row10 col2\" >2.188600</td>\n",
       "      <td id=\"T_2a98d_row10_col3\" class=\"data row10 col3\" >2.508858</td>\n",
       "      <td id=\"T_2a98d_row10_col4\" class=\"data row10 col4\" >3.465754</td>\n",
       "      <td id=\"T_2a98d_row10_col5\" class=\"data row10 col5\" >4.483362</td>\n",
       "      <td id=\"T_2a98d_row10_col6\" class=\"data row10 col6\" >6.540653</td>\n",
       "      <td id=\"T_2a98d_row10_col7\" class=\"data row10 col7\" >11.214870</td>\n",
       "    </tr>\n",
       "    <tr>\n",
       "      <th id=\"T_2a98d_level0_row11\" class=\"row_heading level0 row11\" >n10</th>\n",
       "      <td id=\"T_2a98d_row11_col0\" class=\"data row11 col0\" >22657.000000</td>\n",
       "      <td id=\"T_2a98d_row11_col1\" class=\"data row11 col1\" >6.127281</td>\n",
       "      <td id=\"T_2a98d_row11_col2\" class=\"data row11 col2\" >2.483091</td>\n",
       "      <td id=\"T_2a98d_row11_col3\" class=\"data row11 col3\" >1.173465</td>\n",
       "      <td id=\"T_2a98d_row11_col4\" class=\"data row11 col4\" >4.419189</td>\n",
       "      <td id=\"T_2a98d_row11_col5\" class=\"data row11 col5\" >5.326724</td>\n",
       "      <td id=\"T_2a98d_row11_col6\" class=\"data row11 col6\" >7.039812</td>\n",
       "      <td id=\"T_2a98d_row11_col7\" class=\"data row11 col7\" >12.029135</td>\n",
       "    </tr>\n",
       "    <tr>\n",
       "      <th id=\"T_2a98d_level0_row12\" class=\"row_heading level0 row12\" >n11</th>\n",
       "      <td id=\"T_2a98d_row12_col0\" class=\"data row12 col0\" >22657.000000</td>\n",
       "      <td id=\"T_2a98d_row12_col1\" class=\"data row12 col1\" >1.699610</td>\n",
       "      <td id=\"T_2a98d_row12_col2\" class=\"data row12 col2\" >0.115261</td>\n",
       "      <td id=\"T_2a98d_row12_col3\" class=\"data row12 col3\" >1.500006</td>\n",
       "      <td id=\"T_2a98d_row12_col4\" class=\"data row12 col4\" >1.599931</td>\n",
       "      <td id=\"T_2a98d_row12_col5\" class=\"data row12 col5\" >1.698987</td>\n",
       "      <td id=\"T_2a98d_row12_col6\" class=\"data row12 col6\" >1.799046</td>\n",
       "      <td id=\"T_2a98d_row12_col7\" class=\"data row12 col7\" >1.899995</td>\n",
       "    </tr>\n",
       "    <tr>\n",
       "      <th id=\"T_2a98d_level0_row13\" class=\"row_heading level0 row13\" >n12</th>\n",
       "      <td id=\"T_2a98d_row13_col0\" class=\"data row13 col0\" >22657.000000</td>\n",
       "      <td id=\"T_2a98d_row13_col1\" class=\"data row13 col1\" >0.009842</td>\n",
       "      <td id=\"T_2a98d_row13_col2\" class=\"data row13 col2\" >0.098722</td>\n",
       "      <td id=\"T_2a98d_row13_col3\" class=\"data row13 col3\" >0.000000</td>\n",
       "      <td id=\"T_2a98d_row13_col4\" class=\"data row13 col4\" >0.000000</td>\n",
       "      <td id=\"T_2a98d_row13_col5\" class=\"data row13 col5\" >0.000000</td>\n",
       "      <td id=\"T_2a98d_row13_col6\" class=\"data row13 col6\" >0.000000</td>\n",
       "      <td id=\"T_2a98d_row13_col7\" class=\"data row13 col7\" >1.000000</td>\n",
       "    </tr>\n",
       "    <tr>\n",
       "      <th id=\"T_2a98d_level0_row14\" class=\"row_heading level0 row14\" >n13</th>\n",
       "      <td id=\"T_2a98d_row14_col0\" class=\"data row14 col0\" >22657.000000</td>\n",
       "      <td id=\"T_2a98d_row14_col1\" class=\"data row14 col1\" >0.088935</td>\n",
       "      <td id=\"T_2a98d_row14_col2\" class=\"data row14 col2\" >0.284656</td>\n",
       "      <td id=\"T_2a98d_row14_col3\" class=\"data row14 col3\" >0.000000</td>\n",
       "      <td id=\"T_2a98d_row14_col4\" class=\"data row14 col4\" >0.000000</td>\n",
       "      <td id=\"T_2a98d_row14_col5\" class=\"data row14 col5\" >0.000000</td>\n",
       "      <td id=\"T_2a98d_row14_col6\" class=\"data row14 col6\" >0.000000</td>\n",
       "      <td id=\"T_2a98d_row14_col7\" class=\"data row14 col7\" >1.000000</td>\n",
       "    </tr>\n",
       "    <tr>\n",
       "      <th id=\"T_2a98d_level0_row15\" class=\"row_heading level0 row15\" >n14</th>\n",
       "      <td id=\"T_2a98d_row15_col0\" class=\"data row15 col0\" >22657.000000</td>\n",
       "      <td id=\"T_2a98d_row15_col1\" class=\"data row15 col1\" >0.498726</td>\n",
       "      <td id=\"T_2a98d_row15_col2\" class=\"data row15 col2\" >0.288950</td>\n",
       "      <td id=\"T_2a98d_row15_col3\" class=\"data row15 col3\" >0.000101</td>\n",
       "      <td id=\"T_2a98d_row15_col4\" class=\"data row15 col4\" >0.249509</td>\n",
       "      <td id=\"T_2a98d_row15_col5\" class=\"data row15 col5\" >0.496984</td>\n",
       "      <td id=\"T_2a98d_row15_col6\" class=\"data row15 col6\" >0.750351</td>\n",
       "      <td id=\"T_2a98d_row15_col7\" class=\"data row15 col7\" >0.999960</td>\n",
       "    </tr>\n",
       "    <tr>\n",
       "      <th id=\"T_2a98d_level0_row16\" class=\"row_heading level0 row16\" >n15</th>\n",
       "      <td id=\"T_2a98d_row16_col0\" class=\"data row16 col0\" >22657.000000</td>\n",
       "      <td id=\"T_2a98d_row16_col1\" class=\"data row16 col1\" >3.010460</td>\n",
       "      <td id=\"T_2a98d_row16_col2\" class=\"data row16 col2\" >2.013204</td>\n",
       "      <td id=\"T_2a98d_row16_col3\" class=\"data row16 col3\" >0.000000</td>\n",
       "      <td id=\"T_2a98d_row16_col4\" class=\"data row16 col4\" >1.000000</td>\n",
       "      <td id=\"T_2a98d_row16_col5\" class=\"data row16 col5\" >3.000000</td>\n",
       "      <td id=\"T_2a98d_row16_col6\" class=\"data row16 col6\" >5.000000</td>\n",
       "      <td id=\"T_2a98d_row16_col7\" class=\"data row16 col7\" >6.000000</td>\n",
       "    </tr>\n",
       "  </tbody>\n",
       "</table>\n"
      ],
      "text/plain": [
       "<pandas.io.formats.style.Styler at 0x1fdf4f31e50>"
      ]
     },
     "execution_count": 16,
     "metadata": {},
     "output_type": "execute_result"
    }
   ],
   "source": [
    "without_null.describe().T.style.background_gradient(cmap='YlOrRd', axis=None)"
   ]
  },
  {
   "cell_type": "code",
   "execution_count": 17,
   "metadata": {
    "execution": {
     "iopub.execute_input": "2022-06-10T02:57:13.890199Z",
     "iopub.status.busy": "2022-06-10T02:57:13.889761Z",
     "iopub.status.idle": "2022-06-10T02:57:20.160001Z",
     "shell.execute_reply": "2022-06-10T02:57:20.159143Z",
     "shell.execute_reply.started": "2022-06-10T02:57:13.89016Z"
    },
    "jupyter": {
     "outputs_hidden": true
    }
   },
   "outputs": [
    {
     "data": {
      "image/png": "[encoded data removed]",
      "text/plain": [
       "<Figure size 864x1008 with 20 Axes>"
      ]
     },
     "metadata": {
      "needs_background": "light"
     },
     "output_type": "display_data"
    }
   ],
   "source": [
    "names = list(without_null.select_dtypes(exclude=['object']).nunique().keys())\n",
    "\n",
    "fig, axes = plt.subplots(5, 4, figsize=(12, 14))\n",
    "\n",
    "for i,t in zip(names, axes.flatten()):\n",
    "    sns.histplot(x=i, data=X_train, ax=t, multiple=\"stack\", hue=y_train)    \n",
    "\n",
    "fig.tight_layout()\n",
    "plt.show()"
   ]
  },
  {
   "cell_type": "markdown",
   "metadata": {},
   "source": [
    "### Categorical Column Analysis.  <a class=\"anchor\" id=\"section_5_4\"></a>\n"
   ]
  },
  {
   "cell_type": "markdown",
   "metadata": {},
   "source": [
    "Print number of uniqe values in categorical columns"
   ]
  },
  {
   "cell_type": "code",
   "execution_count": 18,
   "metadata": {
    "execution": {
     "iopub.execute_input": "2022-06-10T03:02:53.254382Z",
     "iopub.status.busy": "2022-06-10T03:02:53.254017Z",
     "iopub.status.idle": "2022-06-10T03:02:53.298514Z",
     "shell.execute_reply": "2022-06-10T03:02:53.297619Z",
     "shell.execute_reply.started": "2022-06-10T03:02:53.254351Z"
    }
   },
   "outputs": [
    {
     "data": {
      "text/plain": [
       "id        22657\n",
       "gender        2\n",
       "s11           2\n",
       "s12           2\n",
       "s16           4\n",
       "s17           4\n",
       "s18           4\n",
       "s52           4\n",
       "s53           2\n",
       "s58           2\n",
       "s69           4\n",
       "s70           4\n",
       "s71           4\n",
       "dtype: int64"
      ]
     },
     "execution_count": 18,
     "metadata": {},
     "output_type": "execute_result"
    }
   ],
   "source": [
    "without_null.select_dtypes(include=['object']).nunique()"
   ]
  },
  {
   "cell_type": "code",
   "execution_count": 19,
   "metadata": {
    "execution": {
     "iopub.execute_input": "2022-06-10T03:02:54.120085Z",
     "iopub.status.busy": "2022-06-10T03:02:54.119755Z",
     "iopub.status.idle": "2022-06-10T03:02:57.452605Z",
     "shell.execute_reply": "2022-06-10T03:02:57.451844Z",
     "shell.execute_reply.started": "2022-06-10T03:02:54.120056Z"
    },
    "jupyter": {
     "outputs_hidden": true
    }
   },
   "outputs": [
    {
     "data": {
      "image/png": "[encoded data removed]",
      "text/plain": [
       "<Figure size 864x720 with 12 Axes>"
      ]
     },
     "metadata": {
      "needs_background": "light"
     },
     "output_type": "display_data"
    }
   ],
   "source": [
    "names = list(without_null.select_dtypes(include=['object']).nunique().keys())[1:]\n",
    "\n",
    "fig, axes = plt.subplots(6, 2, figsize=(12, 10))\n",
    "\n",
    "for i,t in zip(names, axes.flatten()):\n",
    "    sns.histplot(y=i, data=X_train, ax=t, multiple=\"stack\", hue=y_train)    \n",
    "\n",
    "fig.tight_layout()\n",
    "plt.show()"
   ]
  },
  {
   "cell_type": "markdown",
   "metadata": {},
   "source": [
    "<a class=\"anchor\" id=\"chapter6\"></a>  <h2 style='text-align: center'>Data Preparation</h2> "
   ]
  },
  {
   "cell_type": "markdown",
   "metadata": {},
   "source": [
    "#### Transform Numerical Data <a class=\"anchor\" id=\"section_6_2\"></a>"
   ]
  },
  {
   "cell_type": "code",
   "execution_count": 20,
   "metadata": {
    "execution": {
     "iopub.execute_input": "2022-06-10T09:22:50.31324Z",
     "iopub.status.busy": "2022-06-10T09:22:50.312873Z",
     "iopub.status.idle": "2022-06-10T09:22:50.318718Z",
     "shell.execute_reply": "2022-06-10T09:22:50.317963Z",
     "shell.execute_reply.started": "2022-06-10T09:22:50.313209Z"
    }
   },
   "outputs": [],
   "source": [
    "def trainform_numerical_data(data):\n",
    "    df = data.copy()\n",
    "    est = KBinsDiscretizer(n_bins=2, encode='ordinal', strategy='kmeans')\n",
    "\n",
    "    for i in df.select_dtypes(exclude=['object']):    \n",
    "        df[i] = est.fit_transform(df[i].values.reshape(-1, 1))\n",
    "    return df"
   ]
  },
  {
   "cell_type": "code",
   "execution_count": 21,
   "metadata": {
    "execution": {
     "iopub.execute_input": "2022-06-10T09:37:20.537628Z",
     "iopub.status.busy": "2022-06-10T09:37:20.53705Z",
     "iopub.status.idle": "2022-06-10T09:37:20.543355Z",
     "shell.execute_reply": "2022-06-10T09:37:20.542338Z",
     "shell.execute_reply.started": "2022-06-10T09:37:20.537591Z"
    }
   },
   "outputs": [],
   "source": [
    "def trainform_categorical_data(data):\n",
    "    df = data.copy()    \n",
    "    \n",
    "    categorical_columns = df.select_dtypes(include=['object'])    \n",
    "    \n",
    "    for i in list(categorical_columns.iloc[:, 1:].columns):\n",
    "        le = LabelEncoder()\n",
    "        df[i] =  le.fit_transform(df[i]).astype('int64')\n",
    "    \n",
    "    return df"
   ]
  },
  {
   "cell_type": "code",
   "execution_count": 22,
   "metadata": {
    "execution": {
     "iopub.execute_input": "2022-06-10T09:22:52.294336Z",
     "iopub.status.busy": "2022-06-10T09:22:52.293395Z",
     "iopub.status.idle": "2022-06-10T09:22:52.300066Z",
     "shell.execute_reply": "2022-06-10T09:22:52.299358Z",
     "shell.execute_reply.started": "2022-06-10T09:22:52.294289Z"
    }
   },
   "outputs": [],
   "source": [
    "def data_preparation(data_frame):        \n",
    "    df = 0\n",
    "    df = data_frame.copy()\n",
    "    df = df[df.columns[~df.isnull().any()]]\n",
    "    \n",
    "    # Transform numarical data\n",
    "    df = trainform_numerical_data(df)        \n",
    "    \n",
    "    # Transform categorical data\n",
    "    df = trainform_categorical_data(df)    \n",
    "            \n",
    "    return df"
   ]
  },
  {
   "cell_type": "code",
   "execution_count": 23,
   "metadata": {
    "execution": {
     "iopub.execute_input": "2022-06-10T09:22:53.12729Z",
     "iopub.status.busy": "2022-06-10T09:22:53.126654Z",
     "iopub.status.idle": "2022-06-10T09:22:53.288508Z",
     "shell.execute_reply": "2022-06-10T09:22:53.287668Z",
     "shell.execute_reply.started": "2022-06-10T09:22:53.127255Z"
    },
    "scrolled": true
   },
   "outputs": [],
   "source": [
    "X_train = data_preparation(X_train)"
   ]
  },
  {
   "cell_type": "code",
   "execution_count": 24,
   "metadata": {
    "execution": {
     "iopub.execute_input": "2022-06-10T09:22:53.506028Z",
     "iopub.status.busy": "2022-06-10T09:22:53.505306Z",
     "iopub.status.idle": "2022-06-10T09:22:53.576733Z",
     "shell.execute_reply": "2022-06-10T09:22:53.57592Z",
     "shell.execute_reply.started": "2022-06-10T09:22:53.505996Z"
    }
   },
   "outputs": [],
   "source": [
    "X_val = data_preparation(X_val)"
   ]
  },
  {
   "cell_type": "markdown",
   "metadata": {},
   "source": [
    " <a class=\"anchor\" id=\"chapter7\"></a>  <h2 style='text-align: center'>Model Train & Select</h2> "
   ]
  },
  {
   "cell_type": "code",
   "execution_count": 25,
   "metadata": {
    "execution": {
     "iopub.execute_input": "2022-06-10T09:31:05.039639Z",
     "iopub.status.busy": "2022-06-10T09:31:05.039252Z",
     "iopub.status.idle": "2022-06-10T09:31:05.045107Z",
     "shell.execute_reply": "2022-06-10T09:31:05.043875Z",
     "shell.execute_reply.started": "2022-06-10T09:31:05.039607Z"
    }
   },
   "outputs": [],
   "source": [
    "def model_pipe(model, x, y, x_test, y_test):\n",
    "    \n",
    "    pipeline = Pipeline(steps = [            \n",
    "            ('selector', SelectKBest(mutual_info_classif, k=20)),\n",
    "            ('classifier', model)              \n",
    "           ])\n",
    "\n",
    "    model = pipeline.fit(x, y)\n",
    "    return model.score(x_test, y_test)    "
   ]
  },
  {
   "cell_type": "code",
   "execution_count": 26,
   "metadata": {
    "execution": {
     "iopub.execute_input": "2022-06-10T09:32:50.753304Z",
     "iopub.status.busy": "2022-06-10T09:32:50.752847Z",
     "iopub.status.idle": "2022-06-10T09:32:50.764556Z",
     "shell.execute_reply": "2022-06-10T09:32:50.763631Z",
     "shell.execute_reply.started": "2022-06-10T09:32:50.753263Z"
    }
   },
   "outputs": [],
   "source": [
    "pipelines = []\n",
    "pipelines.append(('Gradient Boosting Classifier' , (Pipeline([('scaled' , StandardScaler()), ('GBC' ,GradientBoostingClassifier())]))))\n",
    "pipelines.append(('Extreme Gradient Boosting Classifier' , (Pipeline([('scaled' , StandardScaler()),('GBC' , xgb.XGBClassifier())]))))\n",
    "pipelines.append(('Random Forest Classifier' , (Pipeline([('scaled' , StandardScaler()),('RFC' ,RandomForestClassifier())]))))\n",
    "pipelines.append(('Logistic Regression' , (Pipeline([('scaled' , StandardScaler()),('LR' ,LogisticRegression())]))))\n",
    "pipelines.append(('Decision Tree Classifier' , (Pipeline([('scaled' , StandardScaler()),('DTC' ,DecisionTreeClassifier())]))))"
   ]
  },
  {
   "cell_type": "code",
   "execution_count": 27,
   "metadata": {
    "execution": {
     "iopub.execute_input": "2022-06-10T09:32:11.795649Z",
     "iopub.status.busy": "2022-06-10T09:32:11.795008Z",
     "iopub.status.idle": "2022-06-10T09:32:36.220732Z",
     "shell.execute_reply": "2022-06-10T09:32:36.219842Z",
     "shell.execute_reply.started": "2022-06-10T09:32:11.795611Z"
    }
   },
   "outputs": [
    {
     "name": "stdout",
     "output_type": "stream",
     "text": [
      "Test On validation set\n",
      "\n",
      "Gradient Boosting Classifier: 87.20\n",
      "Extreme Gradient Boosting Classifier: 86.60\n",
      "Random Forest Classifier: 86.25\n",
      "Logistic Regression: 87.01\n",
      "Decision Tree Classifier: 85.86\n"
     ]
    }
   ],
   "source": [
    "model_name = []\n",
    "results = []\n",
    "print('Test On validation set\\n')\n",
    "for pipe ,model in pipelines:       \n",
    "    print(\"{}: {:.2f}\".format(pipe, model_pipe(model, X_train.iloc[:,1:], y_train, X_val.iloc[:,1:], y_val)*100))"
   ]
  },
  {
   "cell_type": "markdown",
   "metadata": {},
   "source": [
    "#### Tune Hyperparameters for Model <a class=\"anchor\" id=\"section_8_2\"></a>"
   ]
  },
  {
   "cell_type": "code",
   "execution_count": 28,
   "metadata": {
    "execution": {
     "iopub.execute_input": "2022-06-10T09:33:47.449199Z",
     "iopub.status.busy": "2022-06-10T09:33:47.448839Z",
     "iopub.status.idle": "2022-06-10T09:33:47.454252Z",
     "shell.execute_reply": "2022-06-10T09:33:47.453273Z",
     "shell.execute_reply.started": "2022-06-10T09:33:47.449167Z"
    }
   },
   "outputs": [],
   "source": [
    "parameters = {\n",
    "    \"n_estimators\":[50,250,32],\n",
    "    \"max_depth\":[1,3],\n",
    "    \"learning_rate\":[0.01,0.1,1,10]\n",
    "}\n",
    "\n",
    "gbc = GradientBoostingClassifier()"
   ]
  },
  {
   "cell_type": "code",
   "execution_count": 29,
   "metadata": {
    "execution": {
     "iopub.execute_input": "2022-06-10T09:33:48.013755Z",
     "iopub.status.busy": "2022-06-10T09:33:48.012616Z",
     "iopub.status.idle": "2022-06-10T09:33:55.540461Z",
     "shell.execute_reply": "2022-06-10T09:33:55.539023Z",
     "shell.execute_reply.started": "2022-06-10T09:33:48.013706Z"
    },
    "jupyter": {
     "outputs_hidden": true
    }
   },
   "outputs": [
    {
     "data": {
      "text/plain": [
       "GridSearchCV(cv=5, estimator=GradientBoostingClassifier(),\n",
       "             param_grid={'learning_rate': [0.01, 0.1, 1, 10],\n",
       "                         'max_depth': [1, 3], 'n_estimators': [50, 250, 32]})"
      ]
     },
     "execution_count": 29,
     "metadata": {},
     "output_type": "execute_result"
    }
   ],
   "source": [
    "cv = GridSearchCV(gbc,parameters,cv=5)\n",
    "cv.fit(X_train.iloc[:,1:],y_train)"
   ]
  },
  {
   "cell_type": "code",
   "execution_count": 30,
   "metadata": {
    "execution": {
     "iopub.execute_input": "2022-06-10T06:16:20.620883Z",
     "iopub.status.busy": "2022-06-10T06:16:20.620538Z",
     "iopub.status.idle": "2022-06-10T06:16:20.638056Z",
     "shell.execute_reply": "2022-06-10T06:16:20.636902Z",
     "shell.execute_reply.started": "2022-06-10T06:16:20.620855Z"
    }
   },
   "outputs": [
    {
     "data": {
      "text/plain": [
       "{'learning_rate': 0.1, 'max_depth': 3, 'n_estimators': 250}"
      ]
     },
     "execution_count": 30,
     "metadata": {},
     "output_type": "execute_result"
    }
   ],
   "source": [
    "cv.best_params_"
   ]
  },
  {
   "cell_type": "code",
   "execution_count": 31,
   "metadata": {
    "execution": {
     "iopub.execute_input": "2022-06-10T09:34:00.171719Z",
     "iopub.status.busy": "2022-06-10T09:34:00.170975Z",
     "iopub.status.idle": "2022-06-10T09:34:00.175881Z",
     "shell.execute_reply": "2022-06-10T09:34:00.174854Z",
     "shell.execute_reply.started": "2022-06-10T09:34:00.171681Z"
    }
   },
   "outputs": [],
   "source": [
    "cv = GradientBoostingClassifier(n_estimators= 50, max_depth=3, learning_rate=0.1)"
   ]
  },
  {
   "cell_type": "code",
   "execution_count": 32,
   "metadata": {
    "execution": {
     "iopub.execute_input": "2022-06-10T09:34:03.649706Z",
     "iopub.status.busy": "2022-06-10T09:34:03.649118Z",
     "iopub.status.idle": "2022-06-10T09:34:08.463569Z",
     "shell.execute_reply": "2022-06-10T09:34:08.462598Z",
     "shell.execute_reply.started": "2022-06-10T09:34:03.649668Z"
    }
   },
   "outputs": [
    {
     "data": {
      "text/plain": [
       "GradientBoostingClassifier(n_estimators=50)"
      ]
     },
     "execution_count": 32,
     "metadata": {},
     "output_type": "execute_result"
    }
   ],
   "source": [
    "cv.fit(X_train.iloc[:,1:],y_train)"
   ]
  },
  {
   "cell_type": "code",
   "execution_count": 33,
   "metadata": {
    "execution": {
     "iopub.execute_input": "2022-06-10T09:34:10.428328Z",
     "iopub.status.busy": "2022-06-10T09:34:10.42796Z",
     "iopub.status.idle": "2022-06-10T09:34:10.443493Z",
     "shell.execute_reply": "2022-06-10T09:34:10.442755Z",
     "shell.execute_reply.started": "2022-06-10T09:34:10.428298Z"
    }
   },
   "outputs": [],
   "source": [
    "y_pred = cv.predict(X_val.iloc[:,1:])"
   ]
  },
  {
   "cell_type": "code",
   "execution_count": 34,
   "metadata": {
    "execution": {
     "iopub.execute_input": "2022-06-10T09:34:11.588549Z",
     "iopub.status.busy": "2022-06-10T09:34:11.587921Z",
     "iopub.status.idle": "2022-06-10T09:34:11.596278Z",
     "shell.execute_reply": "2022-06-10T09:34:11.595191Z",
     "shell.execute_reply.started": "2022-06-10T09:34:11.588516Z"
    }
   },
   "outputs": [
    {
     "data": {
      "text/plain": [
       "0.8739629302736099"
      ]
     },
     "execution_count": 34,
     "metadata": {},
     "output_type": "execute_result"
    }
   ],
   "source": [
    "accuracy_score(y_pred, y_val)"
   ]
  },
  {
   "cell_type": "markdown",
   "metadata": {},
   "source": [
    "1. Here, We look at Gradient Boosting Classifier are get good performance from other models.\n",
    "2. We also find best parameter for Gradient Boosting. "
   ]
  },
  {
   "cell_type": "markdown",
   "metadata": {},
   "source": [
    "#### Cross-Validation on Selected model <a class=\"anchor\" id=\"section_8_2\"></a>"
   ]
  },
  {
   "cell_type": "code",
   "execution_count": 35,
   "metadata": {},
   "outputs": [],
   "source": [
    "X = data_preparation(X)"
   ]
  },
  {
   "cell_type": "code",
   "execution_count": 36,
   "metadata": {},
   "outputs": [
    {
     "data": {
      "text/plain": [
       "0        0\n",
       "1        1\n",
       "2        0\n",
       "3        0\n",
       "4        0\n",
       "        ..\n",
       "28317    0\n",
       "28318    0\n",
       "28319    0\n",
       "28320    0\n",
       "28321    0\n",
       "Name: label, Length: 28322, dtype: int64"
      ]
     },
     "execution_count": 36,
     "metadata": {},
     "output_type": "execute_result"
    }
   ],
   "source": [
    "y"
   ]
  },
  {
   "cell_type": "code",
   "execution_count": null,
   "metadata": {},
   "outputs": [],
   "source": [
    "cv_results = {}\n",
    "for pipe ,model in pipelines: \n",
    "    cv = RepeatedStratifiedKFold(n_splits=4, n_repeats=3, random_state=1)\n",
    "    cv_results[pipe] = cross_val_score(model, X.iloc[:,1:], y, cv=cv, scoring=('accuracy')) * 100\n",
    "pd.DataFrame(cv_results)"
   ]
  },
  {
   "cell_type": "markdown",
   "metadata": {},
   "source": [
    "1. In the entire dataset, Gradient Boosting and Logistic Regression have gotten the best performance."
   ]
  },
  {
   "cell_type": "markdown",
   "metadata": {},
   "source": [
    "<a class=\"anchor\" id=\"chapter10\"></a> <h2 style='text-align: center'>Final Model Train</h2>"
   ]
  },
  {
   "cell_type": "code",
   "execution_count": null,
   "metadata": {
    "execution": {
     "iopub.execute_input": "2022-06-10T09:35:03.204986Z",
     "iopub.status.busy": "2022-06-10T09:35:03.204622Z",
     "iopub.status.idle": "2022-06-10T09:35:03.209661Z",
     "shell.execute_reply": "2022-06-10T09:35:03.20881Z",
     "shell.execute_reply.started": "2022-06-10T09:35:03.204952Z"
    }
   },
   "outputs": [],
   "source": [
    "gbc = GradientBoostingClassifier(n_estimators= 50, max_depth=3, learning_rate=0.1)"
   ]
  },
  {
   "cell_type": "markdown",
   "metadata": {},
   "source": [
    "X is already pre-processed."
   ]
  },
  {
   "cell_type": "code",
   "execution_count": null,
   "metadata": {
    "execution": {
     "iopub.execute_input": "2022-06-10T09:35:58.655119Z",
     "iopub.status.busy": "2022-06-10T09:35:58.654763Z",
     "iopub.status.idle": "2022-06-10T09:36:05.0099Z",
     "shell.execute_reply": "2022-06-10T09:36:05.008976Z",
     "shell.execute_reply.started": "2022-06-10T09:35:58.655085Z"
    }
   },
   "outputs": [],
   "source": [
    "gbc.fit(X.iloc[:,1:], y)"
   ]
  },
  {
   "cell_type": "markdown",
   "metadata": {},
   "source": [
    "Our model has been trained. Now we predict our target based on the test dataset."
   ]
  },
  {
   "cell_type": "markdown",
   "metadata": {},
   "source": [
    "<a class=\"anchor\" id=\"chapter9\"></a> <h2 style='text-align: center'>Submission</h2>"
   ]
  },
  {
   "cell_type": "markdown",
   "metadata": {},
   "source": [
    "First we need test data transformation"
   ]
  },
  {
   "cell_type": "code",
   "execution_count": null,
   "metadata": {
    "execution": {
     "iopub.execute_input": "2022-06-10T09:37:46.757925Z",
     "iopub.status.busy": "2022-06-10T09:37:46.757236Z",
     "iopub.status.idle": "2022-06-10T09:37:47.270827Z",
     "shell.execute_reply": "2022-06-10T09:37:47.270036Z",
     "shell.execute_reply.started": "2022-06-10T09:37:46.757889Z"
    }
   },
   "outputs": [],
   "source": [
    "test = data_preparation(test)"
   ]
  },
  {
   "cell_type": "markdown",
   "metadata": {},
   "source": [
    "Predict test data on our model"
   ]
  },
  {
   "cell_type": "code",
   "execution_count": null,
   "metadata": {
    "execution": {
     "iopub.execute_input": "2022-06-10T09:38:09.064227Z",
     "iopub.status.busy": "2022-06-10T09:38:09.063852Z",
     "iopub.status.idle": "2022-06-10T09:38:09.164056Z",
     "shell.execute_reply": "2022-06-10T09:38:09.163183Z",
     "shell.execute_reply.started": "2022-06-10T09:38:09.064198Z"
    }
   },
   "outputs": [],
   "source": [
    "y_pred =  gbc.predict(test.iloc[:,1:])"
   ]
  },
  {
   "cell_type": "code",
   "execution_count": null,
   "metadata": {},
   "outputs": [],
   "source": [
    "y_pred[:5]"
   ]
  },
  {
   "cell_type": "markdown",
   "metadata": {},
   "source": [
    "Let's look sample submission file for create our submission file"
   ]
  },
  {
   "cell_type": "code",
   "execution_count": null,
   "metadata": {},
   "outputs": [],
   "source": [
    "sample_submission.head()"
   ]
  },
  {
   "cell_type": "code",
   "execution_count": null,
   "metadata": {
    "execution": {
     "iopub.execute_input": "2022-06-10T09:38:10.937253Z",
     "iopub.status.busy": "2022-06-10T09:38:10.936881Z",
     "iopub.status.idle": "2022-06-10T09:38:10.942456Z",
     "shell.execute_reply": "2022-06-10T09:38:10.941427Z",
     "shell.execute_reply.started": "2022-06-10T09:38:10.937223Z"
    }
   },
   "outputs": [],
   "source": [
    "submission = test[['id']]"
   ]
  },
  {
   "cell_type": "code",
   "execution_count": null,
   "metadata": {
    "execution": {
     "iopub.execute_input": "2022-06-10T09:38:12.452607Z",
     "iopub.status.busy": "2022-06-10T09:38:12.451976Z",
     "iopub.status.idle": "2022-06-10T09:38:12.459016Z",
     "shell.execute_reply": "2022-06-10T09:38:12.458214Z",
     "shell.execute_reply.started": "2022-06-10T09:38:12.45257Z"
    }
   },
   "outputs": [],
   "source": [
    "submission['label'] = y_pred"
   ]
  },
  {
   "cell_type": "code",
   "execution_count": null,
   "metadata": {
    "execution": {
     "iopub.execute_input": "2022-06-10T09:38:19.8019Z",
     "iopub.status.busy": "2022-06-10T09:38:19.801116Z",
     "iopub.status.idle": "2022-06-10T09:38:19.813825Z",
     "shell.execute_reply": "2022-06-10T09:38:19.81281Z",
     "shell.execute_reply.started": "2022-06-10T09:38:19.801862Z"
    }
   },
   "outputs": [],
   "source": [
    "submission.head()"
   ]
  },
  {
   "cell_type": "markdown",
   "metadata": {},
   "source": [
    "Our file save as submission.csv without index"
   ]
  },
  {
   "cell_type": "code",
   "execution_count": null,
   "metadata": {
    "execution": {
     "iopub.execute_input": "2022-06-10T09:40:06.179776Z",
     "iopub.status.busy": "2022-06-10T09:40:06.179295Z",
     "iopub.status.idle": "2022-06-10T09:40:06.694243Z",
     "shell.execute_reply": "2022-06-10T09:40:06.693412Z",
     "shell.execute_reply.started": "2022-06-10T09:40:06.179723Z"
    }
   },
   "outputs": [],
   "source": [
    "submission.to_csv('submission.csv', index=False)"
   ]
  },
  {
   "cell_type": "markdown",
   "metadata": {},
   "source": [
    "<a class=\"anchor\" id=\"chapter9\"></a> <h2 style='text-align: center'>The End</h2>"
   ]
  }
 ],
 "metadata": {
  "kernelspec": {
   "display_name": "Python 3 (ipykernel)",
   "language": "python",
   "name": "python3"
  },
  "language_info": {
   "codemirror_mode": {
    "name": "ipython",
    "version": 3
   },
   "file_extension": ".py",
   "mimetype": "text/x-python",
   "name": "python",
   "nbconvert_exporter": "python",
   "pygments_lexer": "ipython3",
   "version": "3.9.12"
  }
 },
 "nbformat": 4,
 "nbformat_minor": 4
}
