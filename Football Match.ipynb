{
 "cells": [
  {
   "cell_type": "code",
   "execution_count": 1,
   "id": "908dba9d",
   "metadata": {},
   "outputs": [],
   "source": [
    "%matplotlib inline\n",
    "import numpy as np\n",
    "import pandas as pd\n",
    "import matplotlib.pyplot as plt\n",
    "import seaborn as sns\n",
    "from sklearn.preprocessing import LabelEncoder\n",
    "import random\n",
    "from sklearn.metrics import accuracy_score\n",
    "from sklearn import metrics"
   ]
  },
  {
   "cell_type": "code",
   "execution_count": 2,
   "id": "f351f158",
   "metadata": {},
   "outputs": [],
   "source": [
    "train_m = pd.read_csv('train.csv', low_memory=False)"
   ]
  },
  {
   "cell_type": "code",
   "execution_count": 3,
   "id": "ffb59e26",
   "metadata": {},
   "outputs": [],
   "source": [
    "train = 0\n",
    "train = train_m.copy()"
   ]
  },
  {
   "cell_type": "code",
   "execution_count": 4,
   "id": "799bc1ae",
   "metadata": {},
   "outputs": [
    {
     "data": {
      "text/plain": [
       "(110938, 190)"
      ]
     },
     "execution_count": 4,
     "metadata": {},
     "output_type": "execute_result"
    }
   ],
   "source": [
    "train.shape"
   ]
  },
  {
   "cell_type": "code",
   "execution_count": 5,
   "id": "5c9c4908",
   "metadata": {},
   "outputs": [],
   "source": [
    "train = train[train['is_cup'].notna()]"
   ]
  },
  {
   "cell_type": "code",
   "execution_count": 6,
   "id": "4be408e2",
   "metadata": {},
   "outputs": [],
   "source": [
    "def missing_values_table(df):\n",
    "    mis_val = df.isnull().sum()\n",
    "    mis_val_percent = 100 * df.isnull().sum() / len(df)\n",
    "    mis_val_table = pd.concat([mis_val, mis_val_percent], axis=1)\n",
    "    mis_val_table_ren_columns = mis_val_table.rename(\n",
    "    columns = {0 : 'Missing Values', 1 : '% of Total Values'})\n",
    "    mis_val_table_ren_columns = mis_val_table_ren_columns[\n",
    "        mis_val_table_ren_columns.iloc[:,1] != 0].sort_values(\n",
    "    '% of Total Values', ascending=False).round(1)\n",
    "    print (\"Your selected dataframe has \" + str(df.shape[1]) + \" columns.\\n\"      \n",
    "        \"There are \" + str(mis_val_table_ren_columns.shape[0]) +\n",
    "            \" columns that have missing values.\")\n",
    "    return mis_val_table_ren_columns"
   ]
  },
  {
   "cell_type": "code",
   "execution_count": 8,
   "id": "abf43ab2",
   "metadata": {
    "scrolled": false
   },
   "outputs": [
    {
     "name": "stdout",
     "output_type": "stream",
     "text": [
      "Your selected dataframe has 190 columns.\n",
      "There are 182 columns that have missing values.\n"
     ]
    },
    {
     "data": {
      "text/html": [
       "<div>\n",
       "<style scoped>\n",
       "    .dataframe tbody tr th:only-of-type {\n",
       "        vertical-align: middle;\n",
       "    }\n",
       "\n",
       "    .dataframe tbody tr th {\n",
       "        vertical-align: top;\n",
       "    }\n",
       "\n",
       "    .dataframe thead th {\n",
       "        text-align: right;\n",
       "    }\n",
       "</style>\n",
       "<table border=\"1\" class=\"dataframe\">\n",
       "  <thead>\n",
       "    <tr style=\"text-align: right;\">\n",
       "      <th></th>\n",
       "      <th>Missing Values</th>\n",
       "      <th>% of Total Values</th>\n",
       "    </tr>\n",
       "  </thead>\n",
       "  <tbody>\n",
       "    <tr>\n",
       "      <th>away_team_history_coach_10</th>\n",
       "      <td>27129</td>\n",
       "      <td>24.5</td>\n",
       "    </tr>\n",
       "    <tr>\n",
       "      <th>home_team_history_coach_10</th>\n",
       "      <td>26653</td>\n",
       "      <td>24.0</td>\n",
       "    </tr>\n",
       "    <tr>\n",
       "      <th>away_team_history_coach_9</th>\n",
       "      <td>26150</td>\n",
       "      <td>23.6</td>\n",
       "    </tr>\n",
       "    <tr>\n",
       "      <th>home_team_history_coach_9</th>\n",
       "      <td>25733</td>\n",
       "      <td>23.2</td>\n",
       "    </tr>\n",
       "    <tr>\n",
       "      <th>away_team_history_coach_8</th>\n",
       "      <td>25219</td>\n",
       "      <td>22.7</td>\n",
       "    </tr>\n",
       "    <tr>\n",
       "      <th>...</th>\n",
       "      <td>...</td>\n",
       "      <td>...</td>\n",
       "    </tr>\n",
       "    <tr>\n",
       "      <th>home_team_history_match_date_1</th>\n",
       "      <td>1159</td>\n",
       "      <td>1.0</td>\n",
       "    </tr>\n",
       "    <tr>\n",
       "      <th>home_team_history_league_id_1</th>\n",
       "      <td>1159</td>\n",
       "      <td>1.0</td>\n",
       "    </tr>\n",
       "    <tr>\n",
       "      <th>home_team_history_opponent_goal_1</th>\n",
       "      <td>1159</td>\n",
       "      <td>1.0</td>\n",
       "    </tr>\n",
       "    <tr>\n",
       "      <th>home_team_history_goal_1</th>\n",
       "      <td>1159</td>\n",
       "      <td>1.0</td>\n",
       "    </tr>\n",
       "    <tr>\n",
       "      <th>home_team_history_is_play_home_1</th>\n",
       "      <td>1159</td>\n",
       "      <td>1.0</td>\n",
       "    </tr>\n",
       "  </tbody>\n",
       "</table>\n",
       "<p>182 rows × 2 columns</p>\n",
       "</div>"
      ],
      "text/plain": [
       "                                   Missing Values  % of Total Values\n",
       "away_team_history_coach_10                  27129               24.5\n",
       "home_team_history_coach_10                  26653               24.0\n",
       "away_team_history_coach_9                   26150               23.6\n",
       "home_team_history_coach_9                   25733               23.2\n",
       "away_team_history_coach_8                   25219               22.7\n",
       "...                                           ...                ...\n",
       "home_team_history_match_date_1               1159                1.0\n",
       "home_team_history_league_id_1                1159                1.0\n",
       "home_team_history_opponent_goal_1            1159                1.0\n",
       "home_team_history_goal_1                     1159                1.0\n",
       "home_team_history_is_play_home_1             1159                1.0\n",
       "\n",
       "[182 rows x 2 columns]"
      ]
     },
     "execution_count": 8,
     "metadata": {},
     "output_type": "execute_result"
    }
   ],
   "source": [
    "missing_values_table(train)"
   ]
  },
  {
   "cell_type": "code",
   "execution_count": 9,
   "id": "754ff709",
   "metadata": {},
   "outputs": [],
   "source": [
    "# cols = [i for i in train.columns if (not 'history_league_id_' in i) and (not '_team_history_coach_' in i)]\n",
    "# # cols = [i for i in train.columns if not 'history_league_id_' in i]\n",
    "# # cols = [i for i in train.columns if not 'league_name' in i]\n",
    "\n",
    "# train = train[cols]\n",
    "# train.shape\n",
    "# # len(cols)"
   ]
  },
  {
   "cell_type": "code",
   "execution_count": 11,
   "id": "17a361dc",
   "metadata": {},
   "outputs": [],
   "source": [
    "# train['away_team_history_coach_10'].isna().sum()"
   ]
  },
  {
   "cell_type": "code",
   "execution_count": 12,
   "id": "955b5873",
   "metadata": {},
   "outputs": [],
   "source": [
    "train['league_name'] = pd.factorize(train['league_name'])[0]+1"
   ]
  },
  {
   "cell_type": "code",
   "execution_count": 13,
   "id": "61882a71",
   "metadata": {},
   "outputs": [],
   "source": [
    "train['is_cup'] = pd.factorize(train['is_cup'])[0]+1"
   ]
  },
  {
   "cell_type": "code",
   "execution_count": 14,
   "id": "9e517e0e",
   "metadata": {},
   "outputs": [
    {
     "data": {
      "text/plain": [
       "1    101856\n",
       "2      9081\n",
       "Name: is_cup, dtype: int64"
      ]
     },
     "execution_count": 14,
     "metadata": {},
     "output_type": "execute_result"
    }
   ],
   "source": [
    "train['is_cup'].value_counts()"
   ]
  },
  {
   "cell_type": "code",
   "execution_count": 15,
   "id": "aa03f5df",
   "metadata": {},
   "outputs": [
    {
     "data": {
      "text/plain": [
       "1    101856\n",
       "2      9081\n",
       "Name: is_cup, dtype: int64"
      ]
     },
     "execution_count": 15,
     "metadata": {},
     "output_type": "execute_result"
    }
   ],
   "source": [
    "train['is_cup'].value_counts()"
   ]
  },
  {
   "cell_type": "code",
   "execution_count": 16,
   "id": "082342e2",
   "metadata": {},
   "outputs": [
    {
     "data": {
      "text/html": [
       "<div>\n",
       "<style scoped>\n",
       "    .dataframe tbody tr th:only-of-type {\n",
       "        vertical-align: middle;\n",
       "    }\n",
       "\n",
       "    .dataframe tbody tr th {\n",
       "        vertical-align: top;\n",
       "    }\n",
       "\n",
       "    .dataframe thead th {\n",
       "        text-align: right;\n",
       "    }\n",
       "</style>\n",
       "<table border=\"1\" class=\"dataframe\">\n",
       "  <thead>\n",
       "    <tr style=\"text-align: right;\">\n",
       "      <th></th>\n",
       "      <th>target</th>\n",
       "      <th>league_name</th>\n",
       "    </tr>\n",
       "  </thead>\n",
       "  <tbody>\n",
       "    <tr>\n",
       "      <th>0</th>\n",
       "      <td>2</td>\n",
       "      <td>1</td>\n",
       "    </tr>\n",
       "    <tr>\n",
       "      <th>1</th>\n",
       "      <td>1</td>\n",
       "      <td>2</td>\n",
       "    </tr>\n",
       "    <tr>\n",
       "      <th>2</th>\n",
       "      <td>3</td>\n",
       "      <td>3</td>\n",
       "    </tr>\n",
       "    <tr>\n",
       "      <th>3</th>\n",
       "      <td>2</td>\n",
       "      <td>4</td>\n",
       "    </tr>\n",
       "    <tr>\n",
       "      <th>4</th>\n",
       "      <td>1</td>\n",
       "      <td>3</td>\n",
       "    </tr>\n",
       "    <tr>\n",
       "      <th>...</th>\n",
       "      <td>...</td>\n",
       "      <td>...</td>\n",
       "    </tr>\n",
       "    <tr>\n",
       "      <th>110933</th>\n",
       "      <td>3</td>\n",
       "      <td>2</td>\n",
       "    </tr>\n",
       "    <tr>\n",
       "      <th>110934</th>\n",
       "      <td>2</td>\n",
       "      <td>152</td>\n",
       "    </tr>\n",
       "    <tr>\n",
       "      <th>110935</th>\n",
       "      <td>3</td>\n",
       "      <td>342</td>\n",
       "    </tr>\n",
       "    <tr>\n",
       "      <th>110936</th>\n",
       "      <td>2</td>\n",
       "      <td>2</td>\n",
       "    </tr>\n",
       "    <tr>\n",
       "      <th>110937</th>\n",
       "      <td>1</td>\n",
       "      <td>1</td>\n",
       "    </tr>\n",
       "  </tbody>\n",
       "</table>\n",
       "<p>110937 rows × 2 columns</p>\n",
       "</div>"
      ],
      "text/plain": [
       "        target  league_name\n",
       "0            2            1\n",
       "1            1            2\n",
       "2            3            3\n",
       "3            2            4\n",
       "4            1            3\n",
       "...        ...          ...\n",
       "110933       3            2\n",
       "110934       2          152\n",
       "110935       3          342\n",
       "110936       2            2\n",
       "110937       1            1\n",
       "\n",
       "[110937 rows x 2 columns]"
      ]
     },
     "execution_count": 16,
     "metadata": {},
     "output_type": "execute_result"
    }
   ],
   "source": [
    "target = {\n",
    "    'home': 1,\n",
    "    'away': 2,\n",
    "    'draw': 3,\n",
    "}\n",
    "\n",
    "train['target'] = train['target'].map(target)\n",
    "train[['target', 'league_name']]"
   ]
  },
  {
   "cell_type": "code",
   "execution_count": 14,
   "id": "d1713cf5",
   "metadata": {},
   "outputs": [
    {
     "ename": "KeyError",
     "evalue": "\"None of [Index(['target_home', 'target_away', 'target_draw'], dtype='object')] are in the [columns]\"",
     "output_type": "error",
     "traceback": [
      "\u001b[1;31m---------------------------------------------------------------------------\u001b[0m",
      "\u001b[1;31mKeyError\u001b[0m                                  Traceback (most recent call last)",
      "\u001b[1;32m~\\AppData\\Local\\Temp/ipykernel_14864/1085134645.py\u001b[0m in \u001b[0;36m<module>\u001b[1;34m\u001b[0m\n\u001b[1;32m----> 1\u001b[1;33m \u001b[0mtrain\u001b[0m\u001b[1;33m[\u001b[0m\u001b[1;33m[\u001b[0m\u001b[1;34m'target_home'\u001b[0m\u001b[1;33m,\u001b[0m \u001b[1;34m'target_away'\u001b[0m\u001b[1;33m,\u001b[0m \u001b[1;34m'target_draw'\u001b[0m\u001b[1;33m]\u001b[0m\u001b[1;33m]\u001b[0m\u001b[1;33m\u001b[0m\u001b[1;33m\u001b[0m\u001b[0m\n\u001b[0m",
      "\u001b[1;32m~\\anaconda3\\lib\\site-packages\\pandas\\core\\frame.py\u001b[0m in \u001b[0;36m__getitem__\u001b[1;34m(self, key)\u001b[0m\n\u001b[0;32m   3462\u001b[0m             \u001b[1;32mif\u001b[0m \u001b[0mis_iterator\u001b[0m\u001b[1;33m(\u001b[0m\u001b[0mkey\u001b[0m\u001b[1;33m)\u001b[0m\u001b[1;33m:\u001b[0m\u001b[1;33m\u001b[0m\u001b[1;33m\u001b[0m\u001b[0m\n\u001b[0;32m   3463\u001b[0m                 \u001b[0mkey\u001b[0m \u001b[1;33m=\u001b[0m \u001b[0mlist\u001b[0m\u001b[1;33m(\u001b[0m\u001b[0mkey\u001b[0m\u001b[1;33m)\u001b[0m\u001b[1;33m\u001b[0m\u001b[1;33m\u001b[0m\u001b[0m\n\u001b[1;32m-> 3464\u001b[1;33m             \u001b[0mindexer\u001b[0m \u001b[1;33m=\u001b[0m \u001b[0mself\u001b[0m\u001b[1;33m.\u001b[0m\u001b[0mloc\u001b[0m\u001b[1;33m.\u001b[0m\u001b[0m_get_listlike_indexer\u001b[0m\u001b[1;33m(\u001b[0m\u001b[0mkey\u001b[0m\u001b[1;33m,\u001b[0m \u001b[0maxis\u001b[0m\u001b[1;33m=\u001b[0m\u001b[1;36m1\u001b[0m\u001b[1;33m)\u001b[0m\u001b[1;33m[\u001b[0m\u001b[1;36m1\u001b[0m\u001b[1;33m]\u001b[0m\u001b[1;33m\u001b[0m\u001b[1;33m\u001b[0m\u001b[0m\n\u001b[0m\u001b[0;32m   3465\u001b[0m \u001b[1;33m\u001b[0m\u001b[0m\n\u001b[0;32m   3466\u001b[0m         \u001b[1;31m# take() does not accept boolean indexers\u001b[0m\u001b[1;33m\u001b[0m\u001b[1;33m\u001b[0m\u001b[0m\n",
      "\u001b[1;32m~\\anaconda3\\lib\\site-packages\\pandas\\core\\indexing.py\u001b[0m in \u001b[0;36m_get_listlike_indexer\u001b[1;34m(self, key, axis)\u001b[0m\n\u001b[0;32m   1312\u001b[0m             \u001b[0mkeyarr\u001b[0m\u001b[1;33m,\u001b[0m \u001b[0mindexer\u001b[0m\u001b[1;33m,\u001b[0m \u001b[0mnew_indexer\u001b[0m \u001b[1;33m=\u001b[0m \u001b[0max\u001b[0m\u001b[1;33m.\u001b[0m\u001b[0m_reindex_non_unique\u001b[0m\u001b[1;33m(\u001b[0m\u001b[0mkeyarr\u001b[0m\u001b[1;33m)\u001b[0m\u001b[1;33m\u001b[0m\u001b[1;33m\u001b[0m\u001b[0m\n\u001b[0;32m   1313\u001b[0m \u001b[1;33m\u001b[0m\u001b[0m\n\u001b[1;32m-> 1314\u001b[1;33m         \u001b[0mself\u001b[0m\u001b[1;33m.\u001b[0m\u001b[0m_validate_read_indexer\u001b[0m\u001b[1;33m(\u001b[0m\u001b[0mkeyarr\u001b[0m\u001b[1;33m,\u001b[0m \u001b[0mindexer\u001b[0m\u001b[1;33m,\u001b[0m \u001b[0maxis\u001b[0m\u001b[1;33m)\u001b[0m\u001b[1;33m\u001b[0m\u001b[1;33m\u001b[0m\u001b[0m\n\u001b[0m\u001b[0;32m   1315\u001b[0m \u001b[1;33m\u001b[0m\u001b[0m\n\u001b[0;32m   1316\u001b[0m         if needs_i8_conversion(ax.dtype) or isinstance(\n",
      "\u001b[1;32m~\\anaconda3\\lib\\site-packages\\pandas\\core\\indexing.py\u001b[0m in \u001b[0;36m_validate_read_indexer\u001b[1;34m(self, key, indexer, axis)\u001b[0m\n\u001b[0;32m   1372\u001b[0m                 \u001b[1;32mif\u001b[0m \u001b[0muse_interval_msg\u001b[0m\u001b[1;33m:\u001b[0m\u001b[1;33m\u001b[0m\u001b[1;33m\u001b[0m\u001b[0m\n\u001b[0;32m   1373\u001b[0m                     \u001b[0mkey\u001b[0m \u001b[1;33m=\u001b[0m \u001b[0mlist\u001b[0m\u001b[1;33m(\u001b[0m\u001b[0mkey\u001b[0m\u001b[1;33m)\u001b[0m\u001b[1;33m\u001b[0m\u001b[1;33m\u001b[0m\u001b[0m\n\u001b[1;32m-> 1374\u001b[1;33m                 \u001b[1;32mraise\u001b[0m \u001b[0mKeyError\u001b[0m\u001b[1;33m(\u001b[0m\u001b[1;34mf\"None of [{key}] are in the [{axis_name}]\"\u001b[0m\u001b[1;33m)\u001b[0m\u001b[1;33m\u001b[0m\u001b[1;33m\u001b[0m\u001b[0m\n\u001b[0m\u001b[0;32m   1375\u001b[0m \u001b[1;33m\u001b[0m\u001b[0m\n\u001b[0;32m   1376\u001b[0m             \u001b[0mnot_found\u001b[0m \u001b[1;33m=\u001b[0m \u001b[0mlist\u001b[0m\u001b[1;33m(\u001b[0m\u001b[0mensure_index\u001b[0m\u001b[1;33m(\u001b[0m\u001b[0mkey\u001b[0m\u001b[1;33m)\u001b[0m\u001b[1;33m[\u001b[0m\u001b[0mmissing_mask\u001b[0m\u001b[1;33m.\u001b[0m\u001b[0mnonzero\u001b[0m\u001b[1;33m(\u001b[0m\u001b[1;33m)\u001b[0m\u001b[1;33m[\u001b[0m\u001b[1;36m0\u001b[0m\u001b[1;33m]\u001b[0m\u001b[1;33m]\u001b[0m\u001b[1;33m.\u001b[0m\u001b[0munique\u001b[0m\u001b[1;33m(\u001b[0m\u001b[1;33m)\u001b[0m\u001b[1;33m)\u001b[0m\u001b[1;33m\u001b[0m\u001b[1;33m\u001b[0m\u001b[0m\n",
      "\u001b[1;31mKeyError\u001b[0m: \"None of [Index(['target_home', 'target_away', 'target_draw'], dtype='object')] are in the [columns]\""
     ]
    }
   ],
   "source": [
    "train[['target_home', 'target_away', 'target_draw']]"
   ]
  },
  {
   "cell_type": "code",
   "execution_count": 94,
   "id": "a973621b",
   "metadata": {},
   "outputs": [],
   "source": [
    "teams = dict.fromkeys(list(train['home_team_name'].value_counts().keys()) + list(train['away_team_name'].value_counts().keys()))\n",
    "dic = {}\n",
    "for i, team in enumerate(teams):    \n",
    "    dic[team] = i\n",
    "dic    \n",
    "train['home_team_name']=train['home_team_name'].map(dic)\n",
    "train['away_team_name']=train['away_team_name'].map(dic)\n",
    "train['away_team_name']=train['away_team_name'].astype('int64')\n",
    "train['away_team_name']=train['away_team_name'].astype('int64')"
   ]
  },
  {
   "cell_type": "code",
   "execution_count": 95,
   "id": "8047bb57",
   "metadata": {},
   "outputs": [],
   "source": [
    "train = train[train['home_team_name'] != train['away_team_name']]"
   ]
  },
  {
   "cell_type": "code",
   "execution_count": 148,
   "id": "9b936c1f",
   "metadata": {},
   "outputs": [],
   "source": [
    "def team_result(row,i,j,k):            \n",
    "    if row[j+'_team_history_is_play_home_'+str(i)] == 1:\n",
    "        if k == 'win':\n",
    "            if row[j+'_team_history_goal_'+str(i)] > row[j+'_team_history_opponent_goal_'+str(i)]:\n",
    "                val = 1\n",
    "            else:\n",
    "                val = 0\n",
    "        elif k == 'loss':                     \n",
    "            if row[j+'_team_history_goal_'+str(i)] < row[j+'_team_history_opponent_goal_'+str(i)]:\n",
    "                val = 1\n",
    "            else:\n",
    "                val = 0\n",
    "        else:\n",
    "            if row[j+'_team_history_goal_'+str(i)] == row[j+'_team_history_opponent_goal_'+str(i)]:\n",
    "                val = 1\n",
    "            else:\n",
    "                val = 0\n",
    "            \n",
    "    else:\n",
    "        if k == 'win':\n",
    "            if row[j+'_team_history_goal_'+str(i)] > row[j+'_team_history_opponent_goal_'+str(i)]:\n",
    "                val = 1\n",
    "            else:\n",
    "                val = 0\n",
    "        elif k == 'loss':                     \n",
    "            if row[j+'_team_history_goal_'+str(i)] < row[j+'_team_history_opponent_goal_'+str(i)]:\n",
    "                val = 1\n",
    "            else:\n",
    "                val = 0\n",
    "        else:\n",
    "            if row[j+'_team_history_goal_'+str(i)] == row[j+'_team_history_opponent_goal_'+str(i)]:\n",
    "                val = 1\n",
    "            else:\n",
    "                val = 0\n",
    "    return val"
   ]
  },
  {
   "cell_type": "code",
   "execution_count": 149,
   "id": "bcbfbd0d",
   "metadata": {},
   "outputs": [],
   "source": [
    "# Team Result\n",
    "for i in range(1,11):\n",
    "    for j in ['home', 'away']:        \n",
    "        for k in ['win', 'loss', 'draw']:\n",
    "            train[j+'_team_'+k+'_'+str(i)] = train.apply(team_result, i=i, j=j, k=k, axis=1)"
   ]
  },
  {
   "cell_type": "code",
   "execution_count": 151,
   "id": "fe16e59f",
   "metadata": {},
   "outputs": [
    {
     "data": {
      "text/plain": [
       "60"
      ]
     },
     "execution_count": 151,
     "metadata": {},
     "output_type": "execute_result"
    }
   ],
   "source": [
    "results = [i for i in train.columns if ('_team_win' in i) or ('_team_loss' in i) or ('_team_draw' in i)]\n",
    "len(results)"
   ]
  },
  {
   "cell_type": "code",
   "execution_count": 43,
   "id": "96e65960",
   "metadata": {},
   "outputs": [],
   "source": [
    "def add_features(df):\n",
    "    for i in range(1, 11): # range from 1 to 10\n",
    "        # Feat. difference of days\n",
    "        df[f'home_team_history_match_DIFF_day_{i}'] = (pd.to_datetime(df['match_date']) - pd.to_datetime(df[f'home_team_history_match_date_{i}'])).dt.days\n",
    "        df[f'away_team_history_match_DIFF_days_{i}'] = (pd.to_datetime(df['match_date']) - pd.to_datetime(df[f'away_team_history_match_date_{i}'])).dt.days\n",
    "    # Feat. difference of scored goals\n",
    "        df[f'home_team_history_DIFF_goal_{i}'] = df[f'home_team_history_goal_{i}'] - df[f'home_team_history_opponent_goal_{i}']\n",
    "        df[f'away_team_history_DIFF_goal_{i}'] = df[f'away_team_history_goal_{i}'] - df[f'away_team_history_opponent_goal_{i}']\n",
    "    # Results: multiple nested where # away:0, draw:1, home:2\n",
    "        df[f'home_team_result_{i}'] = np.where(df[f'home_team_history_DIFF_goal_{i}'] > 0, 2,\n",
    "                         (np.where(df[f'home_team_history_DIFF_goal_{i}'] == 0, 1,\n",
    "                                   np.where(df[f'home_team_history_DIFF_goal_{i}'].isna(), np.nan, 0))))\n",
    "        df[f'away_team_result_{i}'] = np.where(df[f'away_team_history_DIFF_goal_{i}'] > 0, 2,\n",
    "                         (np.where(df[f'away_team_history_DIFF_goal_{i}'] == 0, 1,\n",
    "                                   np.where(df[f'away_team_history_DIFF_goal_{i}'].isna(), np.nan, 0))))\n",
    "    # Feat. difference of rating (\"modified\" ELO RATING)\n",
    "        df[f'home_team_history_ELO_rating_{i}'] = 1/(1+10**((df[f'home_team_history_opponent_rating_{i}']-df[f'home_team_history_rating_{i}'])/10))\n",
    "        df[f'away_team_history_ELO_rating_{i}'] = 1/(1+10**((df[f'away_team_history_opponent_rating_{i}']-df[f'away_team_history_rating_{i}'])/10))\n",
    "        # df[f'home_away_team_history_ELO_rating_{i}'] = 1/(1+10**((df[f'away_team_history_rating_{i}']-df[f'home_team_history_rating_{i}'])/10))\n",
    "        # df[f'away_team_history_DIFF_rating_{i}'] =  - df[f'away_team_history_opponent_rating_{i}']\n",
    "    # Feat. same coach id\n",
    "        df[f'home_team_history_SAME_coaX_{i}'] = np.where(df['home_team_coach_id']==df[f'home_team_history_coach_{i}'],1,0)\n",
    "        df[f'away_team_history_SAME_coaX_{i}'] = np.where(df['away_team_coach_id']==df[f'away_team_history_coach_{i}'],1,0) \n",
    "    # Feat. same league id\n",
    "        df[f'home_team_history_SAME_leaG_{i}'] = np.where(df['league_id']==df[f'home_team_history_league_id_{i}'],1,0)\n",
    "        df[f'away_team_history_SAME_leaG_{i}'] = np.where(df['league_id']==df[f'away_team_history_league_id_{i}'],1,0) \n",
    "    # Fill NA with -666\n",
    "    # df.fillna(MASK, inplace = True)\n",
    "    return df\n"
   ]
  },
  {
   "cell_type": "code",
   "execution_count": 111,
   "id": "a8059758",
   "metadata": {},
   "outputs": [
    {
     "name": "stderr",
     "output_type": "stream",
     "text": [
      "C:\\Users\\AMERI_~1\\AppData\\Local\\Temp/ipykernel_10088/1999187886.py:4: PerformanceWarning: DataFrame is highly fragmented.  This is usually the result of calling `frame.insert` many times, which has poor performance.  Consider joining all columns at once using pd.concat(axis=1) instead.  To get a de-fragmented frame, use `newframe = frame.copy()`\n",
      "  df[f'home_team_history_match_DIFF_day_{i}'] = (pd.to_datetime(df['match_date']) - pd.to_datetime(df[f'home_team_history_match_date_{i}'])).dt.days\n",
      "C:\\Users\\AMERI_~1\\AppData\\Local\\Temp/ipykernel_10088/1999187886.py:5: PerformanceWarning: DataFrame is highly fragmented.  This is usually the result of calling `frame.insert` many times, which has poor performance.  Consider joining all columns at once using pd.concat(axis=1) instead.  To get a de-fragmented frame, use `newframe = frame.copy()`\n",
      "  df[f'away_team_history_match_DIFF_days_{i}'] = (pd.to_datetime(df['match_date']) - pd.to_datetime(df[f'away_team_history_match_date_{i}'])).dt.days\n",
      "C:\\Users\\AMERI_~1\\AppData\\Local\\Temp/ipykernel_10088/1999187886.py:7: PerformanceWarning: DataFrame is highly fragmented.  This is usually the result of calling `frame.insert` many times, which has poor performance.  Consider joining all columns at once using pd.concat(axis=1) instead.  To get a de-fragmented frame, use `newframe = frame.copy()`\n",
      "  df[f'home_team_history_DIFF_goal_{i}'] = df[f'home_team_history_goal_{i}'] - df[f'home_team_history_opponent_goal_{i}']\n",
      "C:\\Users\\AMERI_~1\\AppData\\Local\\Temp/ipykernel_10088/1999187886.py:8: PerformanceWarning: DataFrame is highly fragmented.  This is usually the result of calling `frame.insert` many times, which has poor performance.  Consider joining all columns at once using pd.concat(axis=1) instead.  To get a de-fragmented frame, use `newframe = frame.copy()`\n",
      "  df[f'away_team_history_DIFF_goal_{i}'] = df[f'away_team_history_goal_{i}'] - df[f'away_team_history_opponent_goal_{i}']\n",
      "C:\\Users\\AMERI_~1\\AppData\\Local\\Temp/ipykernel_10088/1999187886.py:10: PerformanceWarning: DataFrame is highly fragmented.  This is usually the result of calling `frame.insert` many times, which has poor performance.  Consider joining all columns at once using pd.concat(axis=1) instead.  To get a de-fragmented frame, use `newframe = frame.copy()`\n",
      "  df[f'home_team_result_{i}'] = np.where(df[f'home_team_history_DIFF_goal_{i}'] > 0, 2,\n",
      "C:\\Users\\AMERI_~1\\AppData\\Local\\Temp/ipykernel_10088/1999187886.py:13: PerformanceWarning: DataFrame is highly fragmented.  This is usually the result of calling `frame.insert` many times, which has poor performance.  Consider joining all columns at once using pd.concat(axis=1) instead.  To get a de-fragmented frame, use `newframe = frame.copy()`\n",
      "  df[f'away_team_result_{i}'] = np.where(df[f'away_team_history_DIFF_goal_{i}'] > 0, 2,\n",
      "C:\\Users\\AMERI_~1\\AppData\\Local\\Temp/ipykernel_10088/1999187886.py:17: PerformanceWarning: DataFrame is highly fragmented.  This is usually the result of calling `frame.insert` many times, which has poor performance.  Consider joining all columns at once using pd.concat(axis=1) instead.  To get a de-fragmented frame, use `newframe = frame.copy()`\n",
      "  df[f'home_team_history_ELO_rating_{i}'] = 1/(1+10**((df[f'home_team_history_opponent_rating_{i}']-df[f'home_team_history_rating_{i}'])/10))\n",
      "C:\\Users\\AMERI_~1\\AppData\\Local\\Temp/ipykernel_10088/1999187886.py:18: PerformanceWarning: DataFrame is highly fragmented.  This is usually the result of calling `frame.insert` many times, which has poor performance.  Consider joining all columns at once using pd.concat(axis=1) instead.  To get a de-fragmented frame, use `newframe = frame.copy()`\n",
      "  df[f'away_team_history_ELO_rating_{i}'] = 1/(1+10**((df[f'away_team_history_opponent_rating_{i}']-df[f'away_team_history_rating_{i}'])/10))\n",
      "C:\\Users\\AMERI_~1\\AppData\\Local\\Temp/ipykernel_10088/1999187886.py:22: PerformanceWarning: DataFrame is highly fragmented.  This is usually the result of calling `frame.insert` many times, which has poor performance.  Consider joining all columns at once using pd.concat(axis=1) instead.  To get a de-fragmented frame, use `newframe = frame.copy()`\n",
      "  df[f'home_team_history_SAME_coaX_{i}'] = np.where(df['home_team_coach_id']==df[f'home_team_history_coach_{i}'],1,0)\n",
      "C:\\Users\\AMERI_~1\\AppData\\Local\\Temp/ipykernel_10088/1999187886.py:23: PerformanceWarning: DataFrame is highly fragmented.  This is usually the result of calling `frame.insert` many times, which has poor performance.  Consider joining all columns at once using pd.concat(axis=1) instead.  To get a de-fragmented frame, use `newframe = frame.copy()`\n",
      "  df[f'away_team_history_SAME_coaX_{i}'] = np.where(df['away_team_coach_id']==df[f'away_team_history_coach_{i}'],1,0)\n",
      "C:\\Users\\AMERI_~1\\AppData\\Local\\Temp/ipykernel_10088/1999187886.py:25: PerformanceWarning: DataFrame is highly fragmented.  This is usually the result of calling `frame.insert` many times, which has poor performance.  Consider joining all columns at once using pd.concat(axis=1) instead.  To get a de-fragmented frame, use `newframe = frame.copy()`\n",
      "  df[f'home_team_history_SAME_leaG_{i}'] = np.where(df['league_id']==df[f'home_team_history_league_id_{i}'],1,0)\n",
      "C:\\Users\\AMERI_~1\\AppData\\Local\\Temp/ipykernel_10088/1999187886.py:26: PerformanceWarning: DataFrame is highly fragmented.  This is usually the result of calling `frame.insert` many times, which has poor performance.  Consider joining all columns at once using pd.concat(axis=1) instead.  To get a de-fragmented frame, use `newframe = frame.copy()`\n",
      "  df[f'away_team_history_SAME_leaG_{i}'] = np.where(df['league_id']==df[f'away_team_history_league_id_{i}'],1,0)\n"
     ]
    }
   ],
   "source": [
    "train = add_features(train)\n",
    "fetures = [i for i in train.columns if ('coaX' in i) or ('leaG' in i) or ('ELO_rating' in i) or ('team_result' in i) or ('DIFF_goal' in i) or ('DIFF_day' in i)]"
   ]
  },
  {
   "cell_type": "code",
   "execution_count": 119,
   "id": "0095a8b3",
   "metadata": {},
   "outputs": [
    {
     "ename": "ValueError",
     "evalue": "setting an array element with a sequence.",
     "output_type": "error",
     "traceback": [
      "\u001b[1;31m---------------------------------------------------------------------------\u001b[0m",
      "\u001b[1;31mTypeError\u001b[0m                                 Traceback (most recent call last)",
      "\u001b[1;31mTypeError\u001b[0m: only size-1 arrays can be converted to Python scalars",
      "\nThe above exception was the direct cause of the following exception:\n",
      "\u001b[1;31mValueError\u001b[0m                                Traceback (most recent call last)",
      "\u001b[1;32mC:\\Users\\AMERI_~1\\AppData\\Local\\Temp/ipykernel_1756/2557153226.py\u001b[0m in \u001b[0;36m<module>\u001b[1;34m\u001b[0m\n\u001b[1;32m----> 1\u001b[1;33m \u001b[0mtrain\u001b[0m\u001b[1;33m[\u001b[0m\u001b[1;33m[\u001b[0m\u001b[1;34m'home_team_result_1'\u001b[0m\u001b[1;33m]\u001b[0m\u001b[1;33m]\u001b[0m\u001b[1;33m.\u001b[0m\u001b[0mastype\u001b[0m\u001b[1;33m(\u001b[0m\u001b[0mfloat\u001b[0m\u001b[1;33m)\u001b[0m\u001b[1;33m\u001b[0m\u001b[1;33m\u001b[0m\u001b[0m\n\u001b[0m",
      "\u001b[1;32m~\\anaconda3\\lib\\site-packages\\pandas\\core\\generic.py\u001b[0m in \u001b[0;36mastype\u001b[1;34m(self, dtype, copy, errors)\u001b[0m\n\u001b[0;32m   5813\u001b[0m         \u001b[1;32melse\u001b[0m\u001b[1;33m:\u001b[0m\u001b[1;33m\u001b[0m\u001b[1;33m\u001b[0m\u001b[0m\n\u001b[0;32m   5814\u001b[0m             \u001b[1;31m# else, only a single dtype is given\u001b[0m\u001b[1;33m\u001b[0m\u001b[1;33m\u001b[0m\u001b[0m\n\u001b[1;32m-> 5815\u001b[1;33m             \u001b[0mnew_data\u001b[0m \u001b[1;33m=\u001b[0m \u001b[0mself\u001b[0m\u001b[1;33m.\u001b[0m\u001b[0m_mgr\u001b[0m\u001b[1;33m.\u001b[0m\u001b[0mastype\u001b[0m\u001b[1;33m(\u001b[0m\u001b[0mdtype\u001b[0m\u001b[1;33m=\u001b[0m\u001b[0mdtype\u001b[0m\u001b[1;33m,\u001b[0m \u001b[0mcopy\u001b[0m\u001b[1;33m=\u001b[0m\u001b[0mcopy\u001b[0m\u001b[1;33m,\u001b[0m \u001b[0merrors\u001b[0m\u001b[1;33m=\u001b[0m\u001b[0merrors\u001b[0m\u001b[1;33m)\u001b[0m\u001b[1;33m\u001b[0m\u001b[1;33m\u001b[0m\u001b[0m\n\u001b[0m\u001b[0;32m   5816\u001b[0m             \u001b[1;32mreturn\u001b[0m \u001b[0mself\u001b[0m\u001b[1;33m.\u001b[0m\u001b[0m_constructor\u001b[0m\u001b[1;33m(\u001b[0m\u001b[0mnew_data\u001b[0m\u001b[1;33m)\u001b[0m\u001b[1;33m.\u001b[0m\u001b[0m__finalize__\u001b[0m\u001b[1;33m(\u001b[0m\u001b[0mself\u001b[0m\u001b[1;33m,\u001b[0m \u001b[0mmethod\u001b[0m\u001b[1;33m=\u001b[0m\u001b[1;34m\"astype\"\u001b[0m\u001b[1;33m)\u001b[0m\u001b[1;33m\u001b[0m\u001b[1;33m\u001b[0m\u001b[0m\n\u001b[0;32m   5817\u001b[0m \u001b[1;33m\u001b[0m\u001b[0m\n",
      "\u001b[1;32m~\\anaconda3\\lib\\site-packages\\pandas\\core\\internals\\managers.py\u001b[0m in \u001b[0;36mastype\u001b[1;34m(self, dtype, copy, errors)\u001b[0m\n\u001b[0;32m    416\u001b[0m \u001b[1;33m\u001b[0m\u001b[0m\n\u001b[0;32m    417\u001b[0m     \u001b[1;32mdef\u001b[0m \u001b[0mastype\u001b[0m\u001b[1;33m(\u001b[0m\u001b[0mself\u001b[0m\u001b[1;33m:\u001b[0m \u001b[0mT\u001b[0m\u001b[1;33m,\u001b[0m \u001b[0mdtype\u001b[0m\u001b[1;33m,\u001b[0m \u001b[0mcopy\u001b[0m\u001b[1;33m:\u001b[0m \u001b[0mbool\u001b[0m \u001b[1;33m=\u001b[0m \u001b[1;32mFalse\u001b[0m\u001b[1;33m,\u001b[0m \u001b[0merrors\u001b[0m\u001b[1;33m:\u001b[0m \u001b[0mstr\u001b[0m \u001b[1;33m=\u001b[0m \u001b[1;34m\"raise\"\u001b[0m\u001b[1;33m)\u001b[0m \u001b[1;33m->\u001b[0m \u001b[0mT\u001b[0m\u001b[1;33m:\u001b[0m\u001b[1;33m\u001b[0m\u001b[1;33m\u001b[0m\u001b[0m\n\u001b[1;32m--> 418\u001b[1;33m         \u001b[1;32mreturn\u001b[0m \u001b[0mself\u001b[0m\u001b[1;33m.\u001b[0m\u001b[0mapply\u001b[0m\u001b[1;33m(\u001b[0m\u001b[1;34m\"astype\"\u001b[0m\u001b[1;33m,\u001b[0m \u001b[0mdtype\u001b[0m\u001b[1;33m=\u001b[0m\u001b[0mdtype\u001b[0m\u001b[1;33m,\u001b[0m \u001b[0mcopy\u001b[0m\u001b[1;33m=\u001b[0m\u001b[0mcopy\u001b[0m\u001b[1;33m,\u001b[0m \u001b[0merrors\u001b[0m\u001b[1;33m=\u001b[0m\u001b[0merrors\u001b[0m\u001b[1;33m)\u001b[0m\u001b[1;33m\u001b[0m\u001b[1;33m\u001b[0m\u001b[0m\n\u001b[0m\u001b[0;32m    419\u001b[0m \u001b[1;33m\u001b[0m\u001b[0m\n\u001b[0;32m    420\u001b[0m     def convert(\n",
      "\u001b[1;32m~\\anaconda3\\lib\\site-packages\\pandas\\core\\internals\\managers.py\u001b[0m in \u001b[0;36mapply\u001b[1;34m(self, f, align_keys, ignore_failures, **kwargs)\u001b[0m\n\u001b[0;32m    325\u001b[0m                     \u001b[0mapplied\u001b[0m \u001b[1;33m=\u001b[0m \u001b[0mb\u001b[0m\u001b[1;33m.\u001b[0m\u001b[0mapply\u001b[0m\u001b[1;33m(\u001b[0m\u001b[0mf\u001b[0m\u001b[1;33m,\u001b[0m \u001b[1;33m**\u001b[0m\u001b[0mkwargs\u001b[0m\u001b[1;33m)\u001b[0m\u001b[1;33m\u001b[0m\u001b[1;33m\u001b[0m\u001b[0m\n\u001b[0;32m    326\u001b[0m                 \u001b[1;32melse\u001b[0m\u001b[1;33m:\u001b[0m\u001b[1;33m\u001b[0m\u001b[1;33m\u001b[0m\u001b[0m\n\u001b[1;32m--> 327\u001b[1;33m                     \u001b[0mapplied\u001b[0m \u001b[1;33m=\u001b[0m \u001b[0mgetattr\u001b[0m\u001b[1;33m(\u001b[0m\u001b[0mb\u001b[0m\u001b[1;33m,\u001b[0m \u001b[0mf\u001b[0m\u001b[1;33m)\u001b[0m\u001b[1;33m(\u001b[0m\u001b[1;33m**\u001b[0m\u001b[0mkwargs\u001b[0m\u001b[1;33m)\u001b[0m\u001b[1;33m\u001b[0m\u001b[1;33m\u001b[0m\u001b[0m\n\u001b[0m\u001b[0;32m    328\u001b[0m             \u001b[1;32mexcept\u001b[0m \u001b[1;33m(\u001b[0m\u001b[0mTypeError\u001b[0m\u001b[1;33m,\u001b[0m \u001b[0mNotImplementedError\u001b[0m\u001b[1;33m)\u001b[0m\u001b[1;33m:\u001b[0m\u001b[1;33m\u001b[0m\u001b[1;33m\u001b[0m\u001b[0m\n\u001b[0;32m    329\u001b[0m                 \u001b[1;32mif\u001b[0m \u001b[1;32mnot\u001b[0m \u001b[0mignore_failures\u001b[0m\u001b[1;33m:\u001b[0m\u001b[1;33m\u001b[0m\u001b[1;33m\u001b[0m\u001b[0m\n",
      "\u001b[1;32m~\\anaconda3\\lib\\site-packages\\pandas\\core\\internals\\blocks.py\u001b[0m in \u001b[0;36mastype\u001b[1;34m(self, dtype, copy, errors)\u001b[0m\n\u001b[0;32m    589\u001b[0m         \u001b[0mvalues\u001b[0m \u001b[1;33m=\u001b[0m \u001b[0mself\u001b[0m\u001b[1;33m.\u001b[0m\u001b[0mvalues\u001b[0m\u001b[1;33m\u001b[0m\u001b[1;33m\u001b[0m\u001b[0m\n\u001b[0;32m    590\u001b[0m \u001b[1;33m\u001b[0m\u001b[0m\n\u001b[1;32m--> 591\u001b[1;33m         \u001b[0mnew_values\u001b[0m \u001b[1;33m=\u001b[0m \u001b[0mastype_array_safe\u001b[0m\u001b[1;33m(\u001b[0m\u001b[0mvalues\u001b[0m\u001b[1;33m,\u001b[0m \u001b[0mdtype\u001b[0m\u001b[1;33m,\u001b[0m \u001b[0mcopy\u001b[0m\u001b[1;33m=\u001b[0m\u001b[0mcopy\u001b[0m\u001b[1;33m,\u001b[0m \u001b[0merrors\u001b[0m\u001b[1;33m=\u001b[0m\u001b[0merrors\u001b[0m\u001b[1;33m)\u001b[0m\u001b[1;33m\u001b[0m\u001b[1;33m\u001b[0m\u001b[0m\n\u001b[0m\u001b[0;32m    592\u001b[0m \u001b[1;33m\u001b[0m\u001b[0m\n\u001b[0;32m    593\u001b[0m         \u001b[0mnew_values\u001b[0m \u001b[1;33m=\u001b[0m \u001b[0mmaybe_coerce_values\u001b[0m\u001b[1;33m(\u001b[0m\u001b[0mnew_values\u001b[0m\u001b[1;33m)\u001b[0m\u001b[1;33m\u001b[0m\u001b[1;33m\u001b[0m\u001b[0m\n",
      "\u001b[1;32m~\\anaconda3\\lib\\site-packages\\pandas\\core\\dtypes\\cast.py\u001b[0m in \u001b[0;36mastype_array_safe\u001b[1;34m(values, dtype, copy, errors)\u001b[0m\n\u001b[0;32m   1307\u001b[0m \u001b[1;33m\u001b[0m\u001b[0m\n\u001b[0;32m   1308\u001b[0m     \u001b[1;32mtry\u001b[0m\u001b[1;33m:\u001b[0m\u001b[1;33m\u001b[0m\u001b[1;33m\u001b[0m\u001b[0m\n\u001b[1;32m-> 1309\u001b[1;33m         \u001b[0mnew_values\u001b[0m \u001b[1;33m=\u001b[0m \u001b[0mastype_array\u001b[0m\u001b[1;33m(\u001b[0m\u001b[0mvalues\u001b[0m\u001b[1;33m,\u001b[0m \u001b[0mdtype\u001b[0m\u001b[1;33m,\u001b[0m \u001b[0mcopy\u001b[0m\u001b[1;33m=\u001b[0m\u001b[0mcopy\u001b[0m\u001b[1;33m)\u001b[0m\u001b[1;33m\u001b[0m\u001b[1;33m\u001b[0m\u001b[0m\n\u001b[0m\u001b[0;32m   1310\u001b[0m     \u001b[1;32mexcept\u001b[0m \u001b[1;33m(\u001b[0m\u001b[0mValueError\u001b[0m\u001b[1;33m,\u001b[0m \u001b[0mTypeError\u001b[0m\u001b[1;33m)\u001b[0m\u001b[1;33m:\u001b[0m\u001b[1;33m\u001b[0m\u001b[1;33m\u001b[0m\u001b[0m\n\u001b[0;32m   1311\u001b[0m         \u001b[1;31m# e.g. astype_nansafe can fail on object-dtype of strings\u001b[0m\u001b[1;33m\u001b[0m\u001b[1;33m\u001b[0m\u001b[0m\n",
      "\u001b[1;32m~\\anaconda3\\lib\\site-packages\\pandas\\core\\dtypes\\cast.py\u001b[0m in \u001b[0;36mastype_array\u001b[1;34m(values, dtype, copy)\u001b[0m\n\u001b[0;32m   1255\u001b[0m \u001b[1;33m\u001b[0m\u001b[0m\n\u001b[0;32m   1256\u001b[0m     \u001b[1;32melse\u001b[0m\u001b[1;33m:\u001b[0m\u001b[1;33m\u001b[0m\u001b[1;33m\u001b[0m\u001b[0m\n\u001b[1;32m-> 1257\u001b[1;33m         \u001b[0mvalues\u001b[0m \u001b[1;33m=\u001b[0m \u001b[0mastype_nansafe\u001b[0m\u001b[1;33m(\u001b[0m\u001b[0mvalues\u001b[0m\u001b[1;33m,\u001b[0m \u001b[0mdtype\u001b[0m\u001b[1;33m,\u001b[0m \u001b[0mcopy\u001b[0m\u001b[1;33m=\u001b[0m\u001b[0mcopy\u001b[0m\u001b[1;33m)\u001b[0m\u001b[1;33m\u001b[0m\u001b[1;33m\u001b[0m\u001b[0m\n\u001b[0m\u001b[0;32m   1258\u001b[0m \u001b[1;33m\u001b[0m\u001b[0m\n\u001b[0;32m   1259\u001b[0m     \u001b[1;31m# in pandas we don't store numpy str dtypes, so convert to object\u001b[0m\u001b[1;33m\u001b[0m\u001b[1;33m\u001b[0m\u001b[0m\n",
      "\u001b[1;32m~\\anaconda3\\lib\\site-packages\\pandas\\core\\dtypes\\cast.py\u001b[0m in \u001b[0;36mastype_nansafe\u001b[1;34m(arr, dtype, copy, skipna)\u001b[0m\n\u001b[0;32m   1093\u001b[0m     \u001b[1;32mif\u001b[0m \u001b[0marr\u001b[0m\u001b[1;33m.\u001b[0m\u001b[0mndim\u001b[0m \u001b[1;33m>\u001b[0m \u001b[1;36m1\u001b[0m\u001b[1;33m:\u001b[0m\u001b[1;33m\u001b[0m\u001b[1;33m\u001b[0m\u001b[0m\n\u001b[0;32m   1094\u001b[0m         \u001b[0mflat\u001b[0m \u001b[1;33m=\u001b[0m \u001b[0marr\u001b[0m\u001b[1;33m.\u001b[0m\u001b[0mravel\u001b[0m\u001b[1;33m(\u001b[0m\u001b[1;33m)\u001b[0m\u001b[1;33m\u001b[0m\u001b[1;33m\u001b[0m\u001b[0m\n\u001b[1;32m-> 1095\u001b[1;33m         \u001b[0mresult\u001b[0m \u001b[1;33m=\u001b[0m \u001b[0mastype_nansafe\u001b[0m\u001b[1;33m(\u001b[0m\u001b[0mflat\u001b[0m\u001b[1;33m,\u001b[0m \u001b[0mdtype\u001b[0m\u001b[1;33m,\u001b[0m \u001b[0mcopy\u001b[0m\u001b[1;33m=\u001b[0m\u001b[0mcopy\u001b[0m\u001b[1;33m,\u001b[0m \u001b[0mskipna\u001b[0m\u001b[1;33m=\u001b[0m\u001b[0mskipna\u001b[0m\u001b[1;33m)\u001b[0m\u001b[1;33m\u001b[0m\u001b[1;33m\u001b[0m\u001b[0m\n\u001b[0m\u001b[0;32m   1096\u001b[0m         \u001b[1;31m# error: Item \"ExtensionArray\" of \"Union[ExtensionArray, ndarray]\" has no\u001b[0m\u001b[1;33m\u001b[0m\u001b[1;33m\u001b[0m\u001b[0m\n\u001b[0;32m   1097\u001b[0m         \u001b[1;31m# attribute \"reshape\"\u001b[0m\u001b[1;33m\u001b[0m\u001b[1;33m\u001b[0m\u001b[0m\n",
      "\u001b[1;32m~\\anaconda3\\lib\\site-packages\\pandas\\core\\dtypes\\cast.py\u001b[0m in \u001b[0;36mastype_nansafe\u001b[1;34m(arr, dtype, copy, skipna)\u001b[0m\n\u001b[0;32m   1199\u001b[0m     \u001b[1;32mif\u001b[0m \u001b[0mcopy\u001b[0m \u001b[1;32mor\u001b[0m \u001b[0mis_object_dtype\u001b[0m\u001b[1;33m(\u001b[0m\u001b[0marr\u001b[0m\u001b[1;33m.\u001b[0m\u001b[0mdtype\u001b[0m\u001b[1;33m)\u001b[0m \u001b[1;32mor\u001b[0m \u001b[0mis_object_dtype\u001b[0m\u001b[1;33m(\u001b[0m\u001b[0mdtype\u001b[0m\u001b[1;33m)\u001b[0m\u001b[1;33m:\u001b[0m\u001b[1;33m\u001b[0m\u001b[1;33m\u001b[0m\u001b[0m\n\u001b[0;32m   1200\u001b[0m         \u001b[1;31m# Explicit copy, or required since NumPy can't view from / to object.\u001b[0m\u001b[1;33m\u001b[0m\u001b[1;33m\u001b[0m\u001b[0m\n\u001b[1;32m-> 1201\u001b[1;33m         \u001b[1;32mreturn\u001b[0m \u001b[0marr\u001b[0m\u001b[1;33m.\u001b[0m\u001b[0mastype\u001b[0m\u001b[1;33m(\u001b[0m\u001b[0mdtype\u001b[0m\u001b[1;33m,\u001b[0m \u001b[0mcopy\u001b[0m\u001b[1;33m=\u001b[0m\u001b[1;32mTrue\u001b[0m\u001b[1;33m)\u001b[0m\u001b[1;33m\u001b[0m\u001b[1;33m\u001b[0m\u001b[0m\n\u001b[0m\u001b[0;32m   1202\u001b[0m \u001b[1;33m\u001b[0m\u001b[0m\n\u001b[0;32m   1203\u001b[0m     \u001b[1;32mreturn\u001b[0m \u001b[0marr\u001b[0m\u001b[1;33m.\u001b[0m\u001b[0mastype\u001b[0m\u001b[1;33m(\u001b[0m\u001b[0mdtype\u001b[0m\u001b[1;33m,\u001b[0m \u001b[0mcopy\u001b[0m\u001b[1;33m=\u001b[0m\u001b[0mcopy\u001b[0m\u001b[1;33m)\u001b[0m\u001b[1;33m\u001b[0m\u001b[1;33m\u001b[0m\u001b[0m\n",
      "\u001b[1;31mValueError\u001b[0m: setting an array element with a sequence."
     ]
    }
   ],
   "source": [
    "train[['home_team_result_1']].astype(float)"
   ]
  },
  {
   "cell_type": "code",
   "execution_count": 15,
   "id": "c2800b74",
   "metadata": {},
   "outputs": [],
   "source": [
    "def history_target(row,i,j):    \n",
    "    if row[j+'_team_history_goal_'+str(i)] > row[j+'_team_history_opponent_goal_'+str(i)]:\n",
    "        val = 1\n",
    "    elif row[j+'_team_history_goal_'+str(i)] < row[j+'_team_history_opponent_goal_'+str(i)]:\n",
    "        val = -1\n",
    "    else:\n",
    "        val = 0\n",
    "    return val"
   ]
  },
  {
   "cell_type": "code",
   "execution_count": 16,
   "id": "46c19c10",
   "metadata": {},
   "outputs": [],
   "source": [
    "# Team Result\n",
    "for i in range(1,11):\n",
    "    for j in ['home', 'away']:\n",
    "        train[j+'_team_result_'+str(i)] = train.apply(team_result, i=i, j=j, axis=1)"
   ]
  },
  {
   "cell_type": "code",
   "execution_count": 17,
   "id": "616bdbb4",
   "metadata": {},
   "outputs": [],
   "source": [
    "# history target\n",
    "for i in range(1,11):\n",
    "    for j in ['home', 'away']:\n",
    "        train[j+'_history_target_'+str(i)] = train.apply(history_target, i=i, j=j, axis=1)"
   ]
  },
  {
   "cell_type": "code",
   "execution_count": 214,
   "id": "7263742f",
   "metadata": {},
   "outputs": [
    {
     "data": {
      "text/html": [
       "<div>\n",
       "<style scoped>\n",
       "    .dataframe tbody tr th:only-of-type {\n",
       "        vertical-align: middle;\n",
       "    }\n",
       "\n",
       "    .dataframe tbody tr th {\n",
       "        vertical-align: top;\n",
       "    }\n",
       "\n",
       "    .dataframe thead th {\n",
       "        text-align: right;\n",
       "    }\n",
       "</style>\n",
       "<table border=\"1\" class=\"dataframe\">\n",
       "  <thead>\n",
       "    <tr style=\"text-align: right;\">\n",
       "      <th></th>\n",
       "      <th>target</th>\n",
       "      <th>home_wins</th>\n",
       "      <th>away_wins</th>\n",
       "    </tr>\n",
       "  </thead>\n",
       "  <tbody>\n",
       "    <tr>\n",
       "      <th>0</th>\n",
       "      <td>2</td>\n",
       "      <td>0.3</td>\n",
       "      <td>0.5</td>\n",
       "    </tr>\n",
       "    <tr>\n",
       "      <th>1</th>\n",
       "      <td>1</td>\n",
       "      <td>0.5</td>\n",
       "      <td>0.2</td>\n",
       "    </tr>\n",
       "    <tr>\n",
       "      <th>2</th>\n",
       "      <td>3</td>\n",
       "      <td>0.5</td>\n",
       "      <td>-0.1</td>\n",
       "    </tr>\n",
       "    <tr>\n",
       "      <th>3</th>\n",
       "      <td>2</td>\n",
       "      <td>0.2</td>\n",
       "      <td>0.1</td>\n",
       "    </tr>\n",
       "    <tr>\n",
       "      <th>4</th>\n",
       "      <td>1</td>\n",
       "      <td>0.3</td>\n",
       "      <td>0.7</td>\n",
       "    </tr>\n",
       "    <tr>\n",
       "      <th>...</th>\n",
       "      <td>...</td>\n",
       "      <td>...</td>\n",
       "      <td>...</td>\n",
       "    </tr>\n",
       "    <tr>\n",
       "      <th>110932</th>\n",
       "      <td>2</td>\n",
       "      <td>0.0</td>\n",
       "      <td>-0.3</td>\n",
       "    </tr>\n",
       "    <tr>\n",
       "      <th>110934</th>\n",
       "      <td>2</td>\n",
       "      <td>0.2</td>\n",
       "      <td>0.6</td>\n",
       "    </tr>\n",
       "    <tr>\n",
       "      <th>110935</th>\n",
       "      <td>3</td>\n",
       "      <td>0.4</td>\n",
       "      <td>0.0</td>\n",
       "    </tr>\n",
       "    <tr>\n",
       "      <th>110936</th>\n",
       "      <td>2</td>\n",
       "      <td>0.0</td>\n",
       "      <td>0.1</td>\n",
       "    </tr>\n",
       "    <tr>\n",
       "      <th>110937</th>\n",
       "      <td>1</td>\n",
       "      <td>-0.1</td>\n",
       "      <td>0.1</td>\n",
       "    </tr>\n",
       "  </tbody>\n",
       "</table>\n",
       "<p>64116 rows × 3 columns</p>\n",
       "</div>"
      ],
      "text/plain": [
       "        target  home_wins  away_wins\n",
       "0            2        0.3        0.5\n",
       "1            1        0.5        0.2\n",
       "2            3        0.5       -0.1\n",
       "3            2        0.2        0.1\n",
       "4            1        0.3        0.7\n",
       "...        ...        ...        ...\n",
       "110932       2        0.0       -0.3\n",
       "110934       2        0.2        0.6\n",
       "110935       3        0.4        0.0\n",
       "110936       2        0.0        0.1\n",
       "110937       1       -0.1        0.1\n",
       "\n",
       "[64116 rows x 3 columns]"
      ]
     },
     "execution_count": 214,
     "metadata": {},
     "output_type": "execute_result"
    }
   ],
   "source": [
    "home_team_result = [i for i in train.columns if 'home_team_result_' in i]\n",
    "away_team_result = [i for i in train.columns if 'away_team_result_' in i]\n",
    "\n",
    "home_history_target = [i for i in train.columns if 'home_history_target' in i]\n",
    "away_history_target = [i for i in train.columns if 'away_history_target' in i]\n",
    "\n",
    "train['home_wins'] = train[home_team_result].mean(axis=1)\n",
    "train['away_wins'] = train[away_team_result].mean(axis=1)\n",
    "\n",
    "\n",
    "train[['target', 'home_wins', 'away_wins']]"
   ]
  },
  {
   "cell_type": "code",
   "execution_count": 149,
   "id": "afce25e7",
   "metadata": {
    "scrolled": true
   },
   "outputs": [
    {
     "data": {
      "text/plain": [
       "0         0.1\n",
       "1        -0.3\n",
       "2         0.1\n",
       "3         0.2\n",
       "4         0.3\n",
       "         ... \n",
       "110932   -0.4\n",
       "110934    0.2\n",
       "110935    0.0\n",
       "110936    0.0\n",
       "110937    0.1\n",
       "Name: home_wins, Length: 64116, dtype: float64"
      ]
     },
     "execution_count": 149,
     "metadata": {},
     "output_type": "execute_result"
    }
   ],
   "source": [
    "train['home_wins']"
   ]
  },
  {
   "cell_type": "code",
   "execution_count": 150,
   "id": "168de21f",
   "metadata": {},
   "outputs": [
    {
     "data": {
      "text/plain": [
       "0         0.3\n",
       "1        -0.2\n",
       "2         0.5\n",
       "3         0.1\n",
       "4         0.3\n",
       "         ... \n",
       "110932    0.3\n",
       "110934   -0.2\n",
       "110935    0.6\n",
       "110936   -0.1\n",
       "110937   -0.1\n",
       "Name: away_wins, Length: 64116, dtype: float64"
      ]
     },
     "execution_count": 150,
     "metadata": {},
     "output_type": "execute_result"
    }
   ],
   "source": [
    "train['away_wins']"
   ]
  },
  {
   "cell_type": "code",
   "execution_count": 42,
   "id": "2514249a",
   "metadata": {},
   "outputs": [],
   "source": [
    "for i in range(1,11):\n",
    "    for j in ['home', 'away']:\n",
    "        train[j+'_history_win_'+str(i)] = train.apply(f, i=i, j=j, axis=1)\n",
    "\n",
    "home_win = [i for i in train.columns if 'home_history_win_' in i]\n",
    "away_win = [i for i in train.columns if 'away_history_win_' in i]\n",
    "\n",
    "train['home_win'] = train[home_win].sum(axis=1)        \n",
    "train['away_win'] = train[away_win].sum(axis=1)        "
   ]
  },
  {
   "cell_type": "code",
   "execution_count": null,
   "id": "557ffd00",
   "metadata": {},
   "outputs": [],
   "source": []
  },
  {
   "cell_type": "code",
   "execution_count": null,
   "id": "4c0313a2",
   "metadata": {},
   "outputs": [],
   "source": []
  },
  {
   "cell_type": "code",
   "execution_count": 311,
   "id": "488ab385",
   "metadata": {},
   "outputs": [],
   "source": [
    "for i in range(1,11):\n",
    "    train['home_best_'+str(i)] = train['home_team_history_rating_'+str(i)] > train['home_team_history_opponent_rating_'+str(i)]\n",
    "    train['home_mediam_'+str(i)] = train['home_team_history_rating_'+str(i)] < train['home_team_history_opponent_rating_'+str(i)]    \n",
    "    \n",
    "    train['away_best_'+str(i)] = train['away_team_history_rating_'+str(i)] > train['away_team_history_opponent_rating_'+str(i)]\n",
    "    train['away_mediam_'+str(i)] = train['away_team_history_rating_'+str(i)] < train['away_team_history_opponent_rating_'+str(i)]    \n",
    "\n",
    "train['home_best'] = train[[i for i in train.columns if 'home_best' in i]].median(axis=1)\n",
    "train['home_mediam'] = train[[i for i in train.columns if 'home_best' in i]].median(axis=1)\n",
    "\n",
    "train['away_best'] = train[[i for i in train.columns if 'away_best' in i]].median(axis=1)\n",
    "train['away_mediam'] = train[[i for i in train.columns if 'away_mediam' in i]].median(axis=1)"
   ]
  },
  {
   "cell_type": "code",
   "execution_count": 312,
   "id": "0aad0172",
   "metadata": {},
   "outputs": [
    {
     "data": {
      "text/plain": [
       "60"
      ]
     },
     "execution_count": 312,
     "metadata": {},
     "output_type": "execute_result"
    }
   ],
   "source": [
    "targets = [i for i in train.columns if ('_win_' in i) or ('_loss_' in i) or ('_draw_' in i)]\n",
    "len(targets)"
   ]
  },
  {
   "cell_type": "code",
   "execution_count": 12,
   "id": "66ef6fe3",
   "metadata": {},
   "outputs": [
    {
     "data": {
      "image/png": "[encoded data removed]",
      "text/plain": [
       "<Figure size 432x288 with 1 Axes>"
      ]
     },
     "metadata": {
      "needs_background": "light"
     },
     "output_type": "display_data"
    }
   ],
   "source": [
    "sns.barplot(x='target',  y='match_date', data=train)          \n",
    "plt.show()"
   ]
  },
  {
   "cell_type": "code",
   "execution_count": 20,
   "id": "68570bc6",
   "metadata": {},
   "outputs": [
    {
     "data": {
      "text/plain": [
       "<AxesSubplot:ylabel='match_date'>"
      ]
     },
     "execution_count": 20,
     "metadata": {},
     "output_type": "execute_result"
    },
    {
     "data": {
      "image/png": "[encoded data removed]",
      "text/plain": [
       "<Figure size 432x288 with 1 Axes>"
      ]
     },
     "metadata": {
      "needs_background": "light"
     },
     "output_type": "display_data"
    }
   ],
   "source": [
    "sns.barplot(y=train['match_date'].value_counts(), x=train['match_date'].value_counts().keys())"
   ]
  },
  {
   "cell_type": "code",
   "execution_count": 131,
   "id": "6b973198",
   "metadata": {},
   "outputs": [],
   "source": [
    "away_team_history_goal = [i for i in train.columns if 'away_team_history_goal' in i]\n",
    "away_team_history_opponent_goal = [i for i in train.columns if 'away_team_history_opponent_goal' in i]\n",
    "away_team_history_rating = [i for i in train.columns if 'away_team_history_rating' in i]\n",
    "away_team_history_opponent_rating = [i for i in train.columns if 'away_team_history_opponent_rating' in i]\n",
    "\n",
    "home_team_history_goal = [i for i in train.columns if 'home_team_history_goal' in i]\n",
    "home_team_history_opponent_goal = [i for i in train.columns if 'home_team_history_opponent_goal' in i]\n",
    "home_team_history_rating = [i for i in train.columns if 'home_team_history_rating' in i]\n",
    "home_team_history_opponent_rating = [i for i in train.columns if 'home_team_history_opponent_rating' in i]\n",
    "\n",
    "train['home_goal'] = train[home_team_history_goal].sum(axis=1)\n",
    "train['home_opp_goal'] = train[home_team_history_opponent_goal].sum(axis=1)\n",
    "train['home_rating'] = train[home_team_history_rating].mean(axis=1)\n",
    "train['home_opp_rating'] = train[home_team_history_opponent_rating].mean(axis=1)\n",
    "\n",
    "train['away_goal'] = train[away_team_history_goal].sum(axis=1)\n",
    "train['away_opp_goal'] = train[away_team_history_opponent_goal].sum(axis=1)\n",
    "train['away_rating'] = train[away_team_history_rating].mean(axis=1)\n",
    "train['away_opp_rating'] = train[away_team_history_opponent_rating].mean(axis=1)"
   ]
  },
  {
   "cell_type": "code",
   "execution_count": 96,
   "id": "4da45bf1",
   "metadata": {},
   "outputs": [
    {
     "data": {
      "text/plain": [
       "['home_team_history_is_cup_1',\n",
       " 'home_team_history_is_cup_2',\n",
       " 'home_team_history_is_cup_3',\n",
       " 'home_team_history_is_cup_4',\n",
       " 'home_team_history_is_cup_5',\n",
       " 'home_team_history_is_cup_6',\n",
       " 'home_team_history_is_cup_7',\n",
       " 'home_team_history_is_cup_8',\n",
       " 'home_team_history_is_cup_9',\n",
       " 'home_team_history_is_cup_10',\n",
       " 'away_team_history_is_cup_1',\n",
       " 'away_team_history_is_cup_2',\n",
       " 'away_team_history_is_cup_3',\n",
       " 'away_team_history_is_cup_4',\n",
       " 'away_team_history_is_cup_5',\n",
       " 'away_team_history_is_cup_6',\n",
       " 'away_team_history_is_cup_7',\n",
       " 'away_team_history_is_cup_8',\n",
       " 'away_team_history_is_cup_9',\n",
       " 'away_team_history_is_cup_10']"
      ]
     },
     "execution_count": 96,
     "metadata": {},
     "output_type": "execute_result"
    }
   ],
   "source": [
    "train['date'] = pd.to_datetime(train['match_date'])\n",
    "datees = [i for i in train.columns if 'match_date' in i]\n",
    "is_cups = [i for i in train.columns if '_is_cup' in i]\n",
    "# train['date'].min()\n",
    "is_cups\n",
    "# train['match_date']"
   ]
  },
  {
   "cell_type": "code",
   "execution_count": 97,
   "id": "43f8d061",
   "metadata": {},
   "outputs": [
    {
     "data": {
      "text/html": [
       "<div>\n",
       "<style scoped>\n",
       "    .dataframe tbody tr th:only-of-type {\n",
       "        vertical-align: middle;\n",
       "    }\n",
       "\n",
       "    .dataframe tbody tr th {\n",
       "        vertical-align: top;\n",
       "    }\n",
       "\n",
       "    .dataframe thead th {\n",
       "        text-align: right;\n",
       "    }\n",
       "</style>\n",
       "<table border=\"1\" class=\"dataframe\">\n",
       "  <thead>\n",
       "    <tr style=\"text-align: right;\">\n",
       "      <th></th>\n",
       "      <th>match_date</th>\n",
       "      <th>home_team_history_match_date_1</th>\n",
       "      <th>home_team_history_match_date_2</th>\n",
       "      <th>home_team_history_match_date_3</th>\n",
       "      <th>home_team_history_match_date_4</th>\n",
       "      <th>home_team_history_match_date_5</th>\n",
       "      <th>home_team_history_match_date_6</th>\n",
       "      <th>home_team_history_match_date_7</th>\n",
       "      <th>home_team_history_match_date_8</th>\n",
       "      <th>home_team_history_match_date_9</th>\n",
       "      <th>...</th>\n",
       "      <th>away_team_history_match_date_1</th>\n",
       "      <th>away_team_history_match_date_2</th>\n",
       "      <th>away_team_history_match_date_3</th>\n",
       "      <th>away_team_history_match_date_4</th>\n",
       "      <th>away_team_history_match_date_5</th>\n",
       "      <th>away_team_history_match_date_6</th>\n",
       "      <th>away_team_history_match_date_7</th>\n",
       "      <th>away_team_history_match_date_8</th>\n",
       "      <th>away_team_history_match_date_9</th>\n",
       "      <th>away_team_history_match_date_10</th>\n",
       "    </tr>\n",
       "  </thead>\n",
       "  <tbody>\n",
       "    <tr>\n",
       "      <th>0</th>\n",
       "      <td>2019-12-01 00:45:00</td>\n",
       "      <td>2019-11-26 00:10:00</td>\n",
       "      <td>2019-11-10 18:30:00</td>\n",
       "      <td>2019-11-03 18:30:00</td>\n",
       "      <td>2019-10-29 22:10:00</td>\n",
       "      <td>2019-10-19 20:45:00</td>\n",
       "      <td>2019-10-04 22:00:00</td>\n",
       "      <td>2019-09-28 23:00:00</td>\n",
       "      <td>2019-09-22 14:00:00</td>\n",
       "      <td>2019-09-15 18:30:00</td>\n",
       "      <td>...</td>\n",
       "      <td>2019-11-23 20:00:00</td>\n",
       "      <td>2019-11-15 00:10:00</td>\n",
       "      <td>2019-11-10 14:00:00</td>\n",
       "      <td>2019-11-02 23:00:00</td>\n",
       "      <td>2019-10-30 00:20:00</td>\n",
       "      <td>2019-10-23 00:30:00</td>\n",
       "      <td>2019-10-18 22:00:00</td>\n",
       "      <td>2019-10-11 23:30:00</td>\n",
       "      <td>2019-10-06 20:45:00</td>\n",
       "      <td>2019-10-02 00:30:00</td>\n",
       "    </tr>\n",
       "    <tr>\n",
       "      <th>1</th>\n",
       "      <td>2019-12-01 01:00:00</td>\n",
       "      <td>2019-11-27 21:00:00</td>\n",
       "      <td>2019-11-24 01:00:00</td>\n",
       "      <td>2019-11-10 01:00:00</td>\n",
       "      <td>2019-11-02 21:30:00</td>\n",
       "      <td>2019-10-27 01:00:00</td>\n",
       "      <td>2019-10-24 01:00:00</td>\n",
       "      <td>2019-10-21 00:00:00</td>\n",
       "      <td>2019-10-18 01:00:00</td>\n",
       "      <td>2019-10-06 01:00:00</td>\n",
       "      <td>...</td>\n",
       "      <td>2019-11-27 21:00:00</td>\n",
       "      <td>2019-11-23 23:00:00</td>\n",
       "      <td>2019-11-09 22:00:00</td>\n",
       "      <td>2019-11-02 21:00:00</td>\n",
       "      <td>2019-10-28 00:00:00</td>\n",
       "      <td>2019-10-21 00:00:00</td>\n",
       "      <td>2019-10-16 21:00:00</td>\n",
       "      <td>2019-09-29 01:00:00</td>\n",
       "      <td>2019-09-20 21:30:00</td>\n",
       "      <td>2019-09-15 01:00:00</td>\n",
       "    </tr>\n",
       "    <tr>\n",
       "      <th>2</th>\n",
       "      <td>2019-12-01 01:00:00</td>\n",
       "      <td>2019-11-28 01:15:00</td>\n",
       "      <td>2019-11-21 01:30:00</td>\n",
       "      <td>2019-11-03 21:30:00</td>\n",
       "      <td>2019-10-27 01:00:00</td>\n",
       "      <td>2019-10-20 22:00:00</td>\n",
       "      <td>2019-10-17 01:00:00</td>\n",
       "      <td>2019-10-05 21:00:00</td>\n",
       "      <td>2019-09-29 01:00:00</td>\n",
       "      <td>2019-09-22 22:00:00</td>\n",
       "      <td>...</td>\n",
       "      <td>2019-11-21 01:30:00</td>\n",
       "      <td>2019-11-10 22:00:00</td>\n",
       "      <td>2019-10-26 21:00:00</td>\n",
       "      <td>2019-10-20 23:00:00</td>\n",
       "      <td>2019-10-16 21:30:00</td>\n",
       "      <td>2019-10-12 21:00:00</td>\n",
       "      <td>2019-10-05 21:00:00</td>\n",
       "      <td>2019-09-28 22:00:00</td>\n",
       "      <td>2019-09-22 22:00:00</td>\n",
       "      <td>2019-09-18 21:30:00</td>\n",
       "    </tr>\n",
       "    <tr>\n",
       "      <th>3</th>\n",
       "      <td>2019-12-01 01:00:00</td>\n",
       "      <td>2019-11-28 01:00:00</td>\n",
       "      <td>2019-11-23 03:10:00</td>\n",
       "      <td>2019-11-10 03:00:00</td>\n",
       "      <td>2019-11-04 02:00:00</td>\n",
       "      <td>2019-11-01 03:00:00</td>\n",
       "      <td>2019-10-27 01:00:00</td>\n",
       "      <td>2019-10-20 17:00:00</td>\n",
       "      <td>2019-10-05 22:00:00</td>\n",
       "      <td>2019-09-28 00:00:00</td>\n",
       "      <td>...</td>\n",
       "      <td>2019-11-28 01:00:00</td>\n",
       "      <td>2019-11-23 23:00:00</td>\n",
       "      <td>2019-11-09 01:00:00</td>\n",
       "      <td>2019-11-04 02:00:00</td>\n",
       "      <td>2019-11-01 01:00:00</td>\n",
       "      <td>2019-10-26 00:00:00</td>\n",
       "      <td>2019-10-19 22:00:00</td>\n",
       "      <td>2019-10-05 02:00:00</td>\n",
       "      <td>2019-10-02 02:00:00</td>\n",
       "      <td>2019-09-26 02:06:00</td>\n",
       "    </tr>\n",
       "    <tr>\n",
       "      <th>4</th>\n",
       "      <td>2019-12-01 01:00:00</td>\n",
       "      <td>2019-11-27 18:00:00</td>\n",
       "      <td>2019-11-24 01:00:00</td>\n",
       "      <td>2019-11-10 02:00:00</td>\n",
       "      <td>2019-11-03 01:00:00</td>\n",
       "      <td>2019-10-27 20:30:00</td>\n",
       "      <td>2019-10-24 00:00:00</td>\n",
       "      <td>2019-10-20 18:00:00</td>\n",
       "      <td>2019-10-06 17:00:00</td>\n",
       "      <td>2019-10-02 21:30:00</td>\n",
       "      <td>...</td>\n",
       "      <td>2019-11-27 19:00:00</td>\n",
       "      <td>2019-11-24 21:00:00</td>\n",
       "      <td>2019-11-10 19:30:00</td>\n",
       "      <td>2019-11-02 19:00:00</td>\n",
       "      <td>2019-10-26 21:00:00</td>\n",
       "      <td>2019-10-23 19:00:00</td>\n",
       "      <td>2019-10-20 17:30:00</td>\n",
       "      <td>2019-10-05 19:00:00</td>\n",
       "      <td>2019-10-02 19:00:00</td>\n",
       "      <td>2019-09-29 18:00:00</td>\n",
       "    </tr>\n",
       "    <tr>\n",
       "      <th>...</th>\n",
       "      <td>...</td>\n",
       "      <td>...</td>\n",
       "      <td>...</td>\n",
       "      <td>...</td>\n",
       "      <td>...</td>\n",
       "      <td>...</td>\n",
       "      <td>...</td>\n",
       "      <td>...</td>\n",
       "      <td>...</td>\n",
       "      <td>...</td>\n",
       "      <td>...</td>\n",
       "      <td>...</td>\n",
       "      <td>...</td>\n",
       "      <td>...</td>\n",
       "      <td>...</td>\n",
       "      <td>...</td>\n",
       "      <td>...</td>\n",
       "      <td>...</td>\n",
       "      <td>...</td>\n",
       "      <td>...</td>\n",
       "      <td>...</td>\n",
       "    </tr>\n",
       "    <tr>\n",
       "      <th>110933</th>\n",
       "      <td>2021-04-30 23:00:00</td>\n",
       "      <td>2021-04-23 23:00:00</td>\n",
       "      <td>2021-04-18 23:00:00</td>\n",
       "      <td>2020-12-10 21:00:00</td>\n",
       "      <td>2020-12-09 00:00:00</td>\n",
       "      <td>2020-12-03 21:00:00</td>\n",
       "      <td>2020-11-30 00:00:00</td>\n",
       "      <td>2020-11-26 21:00:00</td>\n",
       "      <td>2020-11-23 01:00:00</td>\n",
       "      <td>2020-11-20 21:00:00</td>\n",
       "      <td>...</td>\n",
       "      <td>2021-04-22 22:15:00</td>\n",
       "      <td>2021-04-15 22:00:00</td>\n",
       "      <td>2021-02-28 20:00:00</td>\n",
       "      <td>2021-02-25 20:00:00</td>\n",
       "      <td>2020-12-10 19:00:00</td>\n",
       "      <td>2020-12-08 13:00:00</td>\n",
       "      <td>2020-12-04 19:30:00</td>\n",
       "      <td>2020-11-29 16:00:00</td>\n",
       "      <td>2020-11-27 19:30:00</td>\n",
       "      <td>2020-11-24 19:30:00</td>\n",
       "    </tr>\n",
       "    <tr>\n",
       "      <th>110934</th>\n",
       "      <td>2021-04-30 23:00:00</td>\n",
       "      <td>2021-04-23 23:30:00</td>\n",
       "      <td>2021-04-09 19:00:00</td>\n",
       "      <td>2021-04-03 00:00:00</td>\n",
       "      <td>2021-03-15 19:00:00</td>\n",
       "      <td>2021-03-11 19:00:00</td>\n",
       "      <td>2021-03-04 00:30:00</td>\n",
       "      <td>2021-02-25 00:30:00</td>\n",
       "      <td>2020-12-31 19:00:00</td>\n",
       "      <td>2020-12-29 19:00:00</td>\n",
       "      <td>...</td>\n",
       "      <td>2021-04-24 20:00:00</td>\n",
       "      <td>2021-04-10 21:15:00</td>\n",
       "      <td>2021-04-04 19:00:00</td>\n",
       "      <td>2021-03-20 22:00:00</td>\n",
       "      <td>2021-03-14 21:15:00</td>\n",
       "      <td>2020-12-31 19:00:00</td>\n",
       "      <td>2020-12-29 19:00:00</td>\n",
       "      <td>2020-12-27 19:00:00</td>\n",
       "      <td>2020-12-24 16:00:00</td>\n",
       "      <td>2020-12-22 21:15:00</td>\n",
       "    </tr>\n",
       "    <tr>\n",
       "      <th>110935</th>\n",
       "      <td>2021-04-30 23:00:00</td>\n",
       "      <td>2021-04-28 23:00:00</td>\n",
       "      <td>2021-04-25 01:00:00</td>\n",
       "      <td>2021-04-22 23:00:00</td>\n",
       "      <td>2021-04-21 01:00:00</td>\n",
       "      <td>2021-03-14 18:00:00</td>\n",
       "      <td>2021-03-10 18:00:00</td>\n",
       "      <td>2021-03-06 18:00:00</td>\n",
       "      <td>2021-02-28 18:00:00</td>\n",
       "      <td>2020-12-16 22:00:00</td>\n",
       "      <td>...</td>\n",
       "      <td>2021-04-28 23:00:00</td>\n",
       "      <td>2021-04-24 23:00:00</td>\n",
       "      <td>2021-04-22 23:00:00</td>\n",
       "      <td>2021-04-21 01:00:00</td>\n",
       "      <td>2021-03-14 18:00:00</td>\n",
       "      <td>2021-03-10 22:00:00</td>\n",
       "      <td>2021-03-06 18:00:00</td>\n",
       "      <td>2021-02-27 19:00:00</td>\n",
       "      <td>2020-12-09 18:00:00</td>\n",
       "      <td>2020-12-06 18:00:00</td>\n",
       "    </tr>\n",
       "    <tr>\n",
       "      <th>110936</th>\n",
       "      <td>2021-05-01 00:00:00</td>\n",
       "      <td>2021-04-24 00:00:00</td>\n",
       "      <td>2021-04-18 19:00:00</td>\n",
       "      <td>2021-04-12 19:00:00</td>\n",
       "      <td>2021-04-02 19:00:00</td>\n",
       "      <td>2021-03-27 19:00:00</td>\n",
       "      <td>2021-02-14 13:30:00</td>\n",
       "      <td>2021-02-11 21:30:00</td>\n",
       "      <td>2021-02-06 20:00:00</td>\n",
       "      <td>2021-01-19 22:15:00</td>\n",
       "      <td>...</td>\n",
       "      <td>2021-04-24 19:30:00</td>\n",
       "      <td>2021-04-17 22:00:00</td>\n",
       "      <td>2021-04-11 19:00:00</td>\n",
       "      <td>2021-04-04 21:00:00</td>\n",
       "      <td>2021-03-30 23:00:00</td>\n",
       "      <td>2021-02-14 21:00:00</td>\n",
       "      <td>2021-02-10 21:30:00</td>\n",
       "      <td>2021-02-05 20:00:00</td>\n",
       "      <td>2021-01-24 20:00:00</td>\n",
       "      <td>2021-01-18 20:00:00</td>\n",
       "    </tr>\n",
       "    <tr>\n",
       "      <th>110937</th>\n",
       "      <td>2021-05-01 00:00:00</td>\n",
       "      <td>2021-04-25 18:45:00</td>\n",
       "      <td>2021-04-19 00:00:00</td>\n",
       "      <td>2021-04-12 00:00:00</td>\n",
       "      <td>2021-04-04 19:15:00</td>\n",
       "      <td>2021-03-27 17:00:00</td>\n",
       "      <td>2021-03-21 19:15:00</td>\n",
       "      <td>2021-03-17 20:15:00</td>\n",
       "      <td>2021-03-14 00:30:00</td>\n",
       "      <td>2021-03-06 22:20:00</td>\n",
       "      <td>...</td>\n",
       "      <td>2021-04-28 00:30:00</td>\n",
       "      <td>2021-04-25 16:30:00</td>\n",
       "      <td>2021-04-22 22:15:00</td>\n",
       "      <td>2021-04-18 16:30:00</td>\n",
       "      <td>2021-04-11 14:00:00</td>\n",
       "      <td>2021-04-04 00:00:00</td>\n",
       "      <td>2021-03-27 21:30:00</td>\n",
       "      <td>2021-03-22 22:00:00</td>\n",
       "      <td>2021-03-15 22:15:00</td>\n",
       "      <td>2021-03-07 20:10:00</td>\n",
       "    </tr>\n",
       "  </tbody>\n",
       "</table>\n",
       "<p>110935 rows × 21 columns</p>\n",
       "</div>"
      ],
      "text/plain": [
       "                 match_date home_team_history_match_date_1  \\\n",
       "0       2019-12-01 00:45:00            2019-11-26 00:10:00   \n",
       "1       2019-12-01 01:00:00            2019-11-27 21:00:00   \n",
       "2       2019-12-01 01:00:00            2019-11-28 01:15:00   \n",
       "3       2019-12-01 01:00:00            2019-11-28 01:00:00   \n",
       "4       2019-12-01 01:00:00            2019-11-27 18:00:00   \n",
       "...                     ...                            ...   \n",
       "110933  2021-04-30 23:00:00            2021-04-23 23:00:00   \n",
       "110934  2021-04-30 23:00:00            2021-04-23 23:30:00   \n",
       "110935  2021-04-30 23:00:00            2021-04-28 23:00:00   \n",
       "110936  2021-05-01 00:00:00            2021-04-24 00:00:00   \n",
       "110937  2021-05-01 00:00:00            2021-04-25 18:45:00   \n",
       "\n",
       "       home_team_history_match_date_2 home_team_history_match_date_3  \\\n",
       "0                 2019-11-10 18:30:00            2019-11-03 18:30:00   \n",
       "1                 2019-11-24 01:00:00            2019-11-10 01:00:00   \n",
       "2                 2019-11-21 01:30:00            2019-11-03 21:30:00   \n",
       "3                 2019-11-23 03:10:00            2019-11-10 03:00:00   \n",
       "4                 2019-11-24 01:00:00            2019-11-10 02:00:00   \n",
       "...                               ...                            ...   \n",
       "110933            2021-04-18 23:00:00            2020-12-10 21:00:00   \n",
       "110934            2021-04-09 19:00:00            2021-04-03 00:00:00   \n",
       "110935            2021-04-25 01:00:00            2021-04-22 23:00:00   \n",
       "110936            2021-04-18 19:00:00            2021-04-12 19:00:00   \n",
       "110937            2021-04-19 00:00:00            2021-04-12 00:00:00   \n",
       "\n",
       "       home_team_history_match_date_4 home_team_history_match_date_5  \\\n",
       "0                 2019-10-29 22:10:00            2019-10-19 20:45:00   \n",
       "1                 2019-11-02 21:30:00            2019-10-27 01:00:00   \n",
       "2                 2019-10-27 01:00:00            2019-10-20 22:00:00   \n",
       "3                 2019-11-04 02:00:00            2019-11-01 03:00:00   \n",
       "4                 2019-11-03 01:00:00            2019-10-27 20:30:00   \n",
       "...                               ...                            ...   \n",
       "110933            2020-12-09 00:00:00            2020-12-03 21:00:00   \n",
       "110934            2021-03-15 19:00:00            2021-03-11 19:00:00   \n",
       "110935            2021-04-21 01:00:00            2021-03-14 18:00:00   \n",
       "110936            2021-04-02 19:00:00            2021-03-27 19:00:00   \n",
       "110937            2021-04-04 19:15:00            2021-03-27 17:00:00   \n",
       "\n",
       "       home_team_history_match_date_6 home_team_history_match_date_7  \\\n",
       "0                 2019-10-04 22:00:00            2019-09-28 23:00:00   \n",
       "1                 2019-10-24 01:00:00            2019-10-21 00:00:00   \n",
       "2                 2019-10-17 01:00:00            2019-10-05 21:00:00   \n",
       "3                 2019-10-27 01:00:00            2019-10-20 17:00:00   \n",
       "4                 2019-10-24 00:00:00            2019-10-20 18:00:00   \n",
       "...                               ...                            ...   \n",
       "110933            2020-11-30 00:00:00            2020-11-26 21:00:00   \n",
       "110934            2021-03-04 00:30:00            2021-02-25 00:30:00   \n",
       "110935            2021-03-10 18:00:00            2021-03-06 18:00:00   \n",
       "110936            2021-02-14 13:30:00            2021-02-11 21:30:00   \n",
       "110937            2021-03-21 19:15:00            2021-03-17 20:15:00   \n",
       "\n",
       "       home_team_history_match_date_8 home_team_history_match_date_9  ...  \\\n",
       "0                 2019-09-22 14:00:00            2019-09-15 18:30:00  ...   \n",
       "1                 2019-10-18 01:00:00            2019-10-06 01:00:00  ...   \n",
       "2                 2019-09-29 01:00:00            2019-09-22 22:00:00  ...   \n",
       "3                 2019-10-05 22:00:00            2019-09-28 00:00:00  ...   \n",
       "4                 2019-10-06 17:00:00            2019-10-02 21:30:00  ...   \n",
       "...                               ...                            ...  ...   \n",
       "110933            2020-11-23 01:00:00            2020-11-20 21:00:00  ...   \n",
       "110934            2020-12-31 19:00:00            2020-12-29 19:00:00  ...   \n",
       "110935            2021-02-28 18:00:00            2020-12-16 22:00:00  ...   \n",
       "110936            2021-02-06 20:00:00            2021-01-19 22:15:00  ...   \n",
       "110937            2021-03-14 00:30:00            2021-03-06 22:20:00  ...   \n",
       "\n",
       "       away_team_history_match_date_1 away_team_history_match_date_2  \\\n",
       "0                 2019-11-23 20:00:00            2019-11-15 00:10:00   \n",
       "1                 2019-11-27 21:00:00            2019-11-23 23:00:00   \n",
       "2                 2019-11-21 01:30:00            2019-11-10 22:00:00   \n",
       "3                 2019-11-28 01:00:00            2019-11-23 23:00:00   \n",
       "4                 2019-11-27 19:00:00            2019-11-24 21:00:00   \n",
       "...                               ...                            ...   \n",
       "110933            2021-04-22 22:15:00            2021-04-15 22:00:00   \n",
       "110934            2021-04-24 20:00:00            2021-04-10 21:15:00   \n",
       "110935            2021-04-28 23:00:00            2021-04-24 23:00:00   \n",
       "110936            2021-04-24 19:30:00            2021-04-17 22:00:00   \n",
       "110937            2021-04-28 00:30:00            2021-04-25 16:30:00   \n",
       "\n",
       "       away_team_history_match_date_3 away_team_history_match_date_4  \\\n",
       "0                 2019-11-10 14:00:00            2019-11-02 23:00:00   \n",
       "1                 2019-11-09 22:00:00            2019-11-02 21:00:00   \n",
       "2                 2019-10-26 21:00:00            2019-10-20 23:00:00   \n",
       "3                 2019-11-09 01:00:00            2019-11-04 02:00:00   \n",
       "4                 2019-11-10 19:30:00            2019-11-02 19:00:00   \n",
       "...                               ...                            ...   \n",
       "110933            2021-02-28 20:00:00            2021-02-25 20:00:00   \n",
       "110934            2021-04-04 19:00:00            2021-03-20 22:00:00   \n",
       "110935            2021-04-22 23:00:00            2021-04-21 01:00:00   \n",
       "110936            2021-04-11 19:00:00            2021-04-04 21:00:00   \n",
       "110937            2021-04-22 22:15:00            2021-04-18 16:30:00   \n",
       "\n",
       "       away_team_history_match_date_5 away_team_history_match_date_6  \\\n",
       "0                 2019-10-30 00:20:00            2019-10-23 00:30:00   \n",
       "1                 2019-10-28 00:00:00            2019-10-21 00:00:00   \n",
       "2                 2019-10-16 21:30:00            2019-10-12 21:00:00   \n",
       "3                 2019-11-01 01:00:00            2019-10-26 00:00:00   \n",
       "4                 2019-10-26 21:00:00            2019-10-23 19:00:00   \n",
       "...                               ...                            ...   \n",
       "110933            2020-12-10 19:00:00            2020-12-08 13:00:00   \n",
       "110934            2021-03-14 21:15:00            2020-12-31 19:00:00   \n",
       "110935            2021-03-14 18:00:00            2021-03-10 22:00:00   \n",
       "110936            2021-03-30 23:00:00            2021-02-14 21:00:00   \n",
       "110937            2021-04-11 14:00:00            2021-04-04 00:00:00   \n",
       "\n",
       "       away_team_history_match_date_7 away_team_history_match_date_8  \\\n",
       "0                 2019-10-18 22:00:00            2019-10-11 23:30:00   \n",
       "1                 2019-10-16 21:00:00            2019-09-29 01:00:00   \n",
       "2                 2019-10-05 21:00:00            2019-09-28 22:00:00   \n",
       "3                 2019-10-19 22:00:00            2019-10-05 02:00:00   \n",
       "4                 2019-10-20 17:30:00            2019-10-05 19:00:00   \n",
       "...                               ...                            ...   \n",
       "110933            2020-12-04 19:30:00            2020-11-29 16:00:00   \n",
       "110934            2020-12-29 19:00:00            2020-12-27 19:00:00   \n",
       "110935            2021-03-06 18:00:00            2021-02-27 19:00:00   \n",
       "110936            2021-02-10 21:30:00            2021-02-05 20:00:00   \n",
       "110937            2021-03-27 21:30:00            2021-03-22 22:00:00   \n",
       "\n",
       "       away_team_history_match_date_9 away_team_history_match_date_10  \n",
       "0                 2019-10-06 20:45:00             2019-10-02 00:30:00  \n",
       "1                 2019-09-20 21:30:00             2019-09-15 01:00:00  \n",
       "2                 2019-09-22 22:00:00             2019-09-18 21:30:00  \n",
       "3                 2019-10-02 02:00:00             2019-09-26 02:06:00  \n",
       "4                 2019-10-02 19:00:00             2019-09-29 18:00:00  \n",
       "...                               ...                             ...  \n",
       "110933            2020-11-27 19:30:00             2020-11-24 19:30:00  \n",
       "110934            2020-12-24 16:00:00             2020-12-22 21:15:00  \n",
       "110935            2020-12-09 18:00:00             2020-12-06 18:00:00  \n",
       "110936            2021-01-24 20:00:00             2021-01-18 20:00:00  \n",
       "110937            2021-03-15 22:15:00             2021-03-07 20:10:00  \n",
       "\n",
       "[110935 rows x 21 columns]"
      ]
     },
     "execution_count": 97,
     "metadata": {},
     "output_type": "execute_result"
    }
   ],
   "source": [
    "train[datees]"
   ]
  },
  {
   "cell_type": "code",
   "execution_count": 98,
   "id": "68491cef",
   "metadata": {},
   "outputs": [],
   "source": [
    "train[datees] = train[datees].fillna(np.random.choice(list(range(1,13))))"
   ]
  },
  {
   "cell_type": "code",
   "execution_count": 99,
   "id": "45768411",
   "metadata": {},
   "outputs": [],
   "source": [
    "for i in train:\n",
    "    if 'match_date' in i:\n",
    "        try:\n",
    "            train[i] = pd.to_datetime(train[i]).dt.month.astype(int)\n",
    "        except:\n",
    "            pass"
   ]
  },
  {
   "cell_type": "code",
   "execution_count": 112,
   "id": "3f0b90ed",
   "metadata": {},
   "outputs": [
    {
     "data": {
      "text/html": [
       "<div>\n",
       "<style scoped>\n",
       "    .dataframe tbody tr th:only-of-type {\n",
       "        vertical-align: middle;\n",
       "    }\n",
       "\n",
       "    .dataframe tbody tr th {\n",
       "        vertical-align: top;\n",
       "    }\n",
       "\n",
       "    .dataframe thead th {\n",
       "        text-align: right;\n",
       "    }\n",
       "</style>\n",
       "<table border=\"1\" class=\"dataframe\">\n",
       "  <thead>\n",
       "    <tr style=\"text-align: right;\">\n",
       "      <th></th>\n",
       "      <th>id</th>\n",
       "      <th>target</th>\n",
       "      <th>home_team_name</th>\n",
       "      <th>away_team_name</th>\n",
       "      <th>match_date</th>\n",
       "      <th>league_name</th>\n",
       "      <th>league_id</th>\n",
       "      <th>is_cup</th>\n",
       "      <th>home_team_coach_id</th>\n",
       "      <th>away_team_coach_id</th>\n",
       "      <th>...</th>\n",
       "      <th>home_team_history_DIFF_goal_10</th>\n",
       "      <th>away_team_history_DIFF_goal_10</th>\n",
       "      <th>home_team_result_10</th>\n",
       "      <th>away_team_result_10</th>\n",
       "      <th>home_team_history_ELO_rating_10</th>\n",
       "      <th>away_team_history_ELO_rating_10</th>\n",
       "      <th>home_team_history_SAME_coaX_10</th>\n",
       "      <th>away_team_history_SAME_coaX_10</th>\n",
       "      <th>home_team_history_SAME_leaG_10</th>\n",
       "      <th>away_team_history_SAME_leaG_10</th>\n",
       "    </tr>\n",
       "  </thead>\n",
       "  <tbody>\n",
       "    <tr>\n",
       "      <th>0</th>\n",
       "      <td>11906497</td>\n",
       "      <td>2</td>\n",
       "      <td>2182</td>\n",
       "      <td>1</td>\n",
       "      <td>12</td>\n",
       "      <td>1</td>\n",
       "      <td>636.0</td>\n",
       "      <td>1</td>\n",
       "      <td>468196.0</td>\n",
       "      <td>468200.0</td>\n",
       "      <td>...</td>\n",
       "      <td>3.0</td>\n",
       "      <td>2.0</td>\n",
       "      <td>2.0</td>\n",
       "      <td>2.0</td>\n",
       "      <td>0.698653</td>\n",
       "      <td>0.570885</td>\n",
       "      <td>1</td>\n",
       "      <td>1</td>\n",
       "      <td>1</td>\n",
       "      <td>0</td>\n",
       "    </tr>\n",
       "    <tr>\n",
       "      <th>1</th>\n",
       "      <td>11984383</td>\n",
       "      <td>1</td>\n",
       "      <td>446</td>\n",
       "      <td>7552</td>\n",
       "      <td>12</td>\n",
       "      <td>2</td>\n",
       "      <td>752.0</td>\n",
       "      <td>1</td>\n",
       "      <td>516788.0</td>\n",
       "      <td>22169161.0</td>\n",
       "      <td>...</td>\n",
       "      <td>0.0</td>\n",
       "      <td>3.0</td>\n",
       "      <td>1.0</td>\n",
       "      <td>2.0</td>\n",
       "      <td>0.711318</td>\n",
       "      <td>0.204827</td>\n",
       "      <td>1</td>\n",
       "      <td>1</td>\n",
       "      <td>1</td>\n",
       "      <td>1</td>\n",
       "    </tr>\n",
       "    <tr>\n",
       "      <th>2</th>\n",
       "      <td>11983301</td>\n",
       "      <td>3</td>\n",
       "      <td>1273</td>\n",
       "      <td>513</td>\n",
       "      <td>12</td>\n",
       "      <td>3</td>\n",
       "      <td>734.0</td>\n",
       "      <td>1</td>\n",
       "      <td>2510608.0</td>\n",
       "      <td>456313.0</td>\n",
       "      <td>...</td>\n",
       "      <td>0.0</td>\n",
       "      <td>0.0</td>\n",
       "      <td>1.0</td>\n",
       "      <td>1.0</td>\n",
       "      <td>0.587305</td>\n",
       "      <td>0.805052</td>\n",
       "      <td>1</td>\n",
       "      <td>1</td>\n",
       "      <td>1</td>\n",
       "      <td>1</td>\n",
       "    </tr>\n",
       "    <tr>\n",
       "      <th>3</th>\n",
       "      <td>11983471</td>\n",
       "      <td>2</td>\n",
       "      <td>806</td>\n",
       "      <td>876</td>\n",
       "      <td>12</td>\n",
       "      <td>4</td>\n",
       "      <td>743.0</td>\n",
       "      <td>1</td>\n",
       "      <td>1552508.0</td>\n",
       "      <td>465797.0</td>\n",
       "      <td>...</td>\n",
       "      <td>0.0</td>\n",
       "      <td>-1.0</td>\n",
       "      <td>1.0</td>\n",
       "      <td>0.0</td>\n",
       "      <td>0.691667</td>\n",
       "      <td>0.368863</td>\n",
       "      <td>1</td>\n",
       "      <td>1</td>\n",
       "      <td>1</td>\n",
       "      <td>1</td>\n",
       "    </tr>\n",
       "    <tr>\n",
       "      <th>4</th>\n",
       "      <td>11883005</td>\n",
       "      <td>1</td>\n",
       "      <td>879</td>\n",
       "      <td>1554</td>\n",
       "      <td>12</td>\n",
       "      <td>3</td>\n",
       "      <td>705.0</td>\n",
       "      <td>1</td>\n",
       "      <td>429958.0</td>\n",
       "      <td>426870.0</td>\n",
       "      <td>...</td>\n",
       "      <td>0.0</td>\n",
       "      <td>0.0</td>\n",
       "      <td>1.0</td>\n",
       "      <td>1.0</td>\n",
       "      <td>0.801097</td>\n",
       "      <td>0.347241</td>\n",
       "      <td>1</td>\n",
       "      <td>0</td>\n",
       "      <td>1</td>\n",
       "      <td>1</td>\n",
       "    </tr>\n",
       "    <tr>\n",
       "      <th>...</th>\n",
       "      <td>...</td>\n",
       "      <td>...</td>\n",
       "      <td>...</td>\n",
       "      <td>...</td>\n",
       "      <td>...</td>\n",
       "      <td>...</td>\n",
       "      <td>...</td>\n",
       "      <td>...</td>\n",
       "      <td>...</td>\n",
       "      <td>...</td>\n",
       "      <td>...</td>\n",
       "      <td>...</td>\n",
       "      <td>...</td>\n",
       "      <td>...</td>\n",
       "      <td>...</td>\n",
       "      <td>...</td>\n",
       "      <td>...</td>\n",
       "      <td>...</td>\n",
       "      <td>...</td>\n",
       "      <td>...</td>\n",
       "      <td>...</td>\n",
       "    </tr>\n",
       "    <tr>\n",
       "      <th>110933</th>\n",
       "      <td>18030016</td>\n",
       "      <td>3</td>\n",
       "      <td>3134</td>\n",
       "      <td>4519</td>\n",
       "      <td>4</td>\n",
       "      <td>2</td>\n",
       "      <td>800.0</td>\n",
       "      <td>1</td>\n",
       "      <td>7708122.0</td>\n",
       "      <td>37564088.0</td>\n",
       "      <td>...</td>\n",
       "      <td>2.0</td>\n",
       "      <td>1.0</td>\n",
       "      <td>2.0</td>\n",
       "      <td>2.0</td>\n",
       "      <td>0.555767</td>\n",
       "      <td>0.744663</td>\n",
       "      <td>0</td>\n",
       "      <td>0</td>\n",
       "      <td>1</td>\n",
       "      <td>0</td>\n",
       "    </tr>\n",
       "    <tr>\n",
       "      <th>110934</th>\n",
       "      <td>18030096</td>\n",
       "      <td>2</td>\n",
       "      <td>1515</td>\n",
       "      <td>1802</td>\n",
       "      <td>4</td>\n",
       "      <td>152</td>\n",
       "      <td>1098.0</td>\n",
       "      <td>1</td>\n",
       "      <td>465833.0</td>\n",
       "      <td>16488543.0</td>\n",
       "      <td>...</td>\n",
       "      <td>0.0</td>\n",
       "      <td>2.0</td>\n",
       "      <td>1.0</td>\n",
       "      <td>2.0</td>\n",
       "      <td>0.910926</td>\n",
       "      <td>0.405041</td>\n",
       "      <td>0</td>\n",
       "      <td>0</td>\n",
       "      <td>1</td>\n",
       "      <td>1</td>\n",
       "    </tr>\n",
       "    <tr>\n",
       "      <th>110935</th>\n",
       "      <td>17715497</td>\n",
       "      <td>3</td>\n",
       "      <td>2014</td>\n",
       "      <td>2727</td>\n",
       "      <td>4</td>\n",
       "      <td>342</td>\n",
       "      <td>1314.0</td>\n",
       "      <td>1</td>\n",
       "      <td>8416491.0</td>\n",
       "      <td>528562.0</td>\n",
       "      <td>...</td>\n",
       "      <td>0.0</td>\n",
       "      <td>-1.0</td>\n",
       "      <td>1.0</td>\n",
       "      <td>0.0</td>\n",
       "      <td>0.544926</td>\n",
       "      <td>0.443207</td>\n",
       "      <td>0</td>\n",
       "      <td>0</td>\n",
       "      <td>0</td>\n",
       "      <td>0</td>\n",
       "    </tr>\n",
       "    <tr>\n",
       "      <th>110936</th>\n",
       "      <td>17944153</td>\n",
       "      <td>2</td>\n",
       "      <td>11</td>\n",
       "      <td>1516</td>\n",
       "      <td>5</td>\n",
       "      <td>2</td>\n",
       "      <td>663.0</td>\n",
       "      <td>1</td>\n",
       "      <td>6973085.0</td>\n",
       "      <td>471757.0</td>\n",
       "      <td>...</td>\n",
       "      <td>1.0</td>\n",
       "      <td>0.0</td>\n",
       "      <td>2.0</td>\n",
       "      <td>1.0</td>\n",
       "      <td>0.657568</td>\n",
       "      <td>0.374966</td>\n",
       "      <td>0</td>\n",
       "      <td>0</td>\n",
       "      <td>1</td>\n",
       "      <td>1</td>\n",
       "    </tr>\n",
       "    <tr>\n",
       "      <th>110937</th>\n",
       "      <td>17786297</td>\n",
       "      <td>1</td>\n",
       "      <td>2287</td>\n",
       "      <td>2221</td>\n",
       "      <td>5</td>\n",
       "      <td>1</td>\n",
       "      <td>636.0</td>\n",
       "      <td>1</td>\n",
       "      <td>213970.0</td>\n",
       "      <td>470859.0</td>\n",
       "      <td>...</td>\n",
       "      <td>3.0</td>\n",
       "      <td>-5.0</td>\n",
       "      <td>2.0</td>\n",
       "      <td>0.0</td>\n",
       "      <td>0.403156</td>\n",
       "      <td>0.470607</td>\n",
       "      <td>1</td>\n",
       "      <td>1</td>\n",
       "      <td>1</td>\n",
       "      <td>1</td>\n",
       "    </tr>\n",
       "  </tbody>\n",
       "</table>\n",
       "<p>110935 rows × 311 columns</p>\n",
       "</div>"
      ],
      "text/plain": [
       "              id  target  home_team_name  away_team_name  match_date  \\\n",
       "0       11906497       2            2182               1          12   \n",
       "1       11984383       1             446            7552          12   \n",
       "2       11983301       3            1273             513          12   \n",
       "3       11983471       2             806             876          12   \n",
       "4       11883005       1             879            1554          12   \n",
       "...          ...     ...             ...             ...         ...   \n",
       "110933  18030016       3            3134            4519           4   \n",
       "110934  18030096       2            1515            1802           4   \n",
       "110935  17715497       3            2014            2727           4   \n",
       "110936  17944153       2              11            1516           5   \n",
       "110937  17786297       1            2287            2221           5   \n",
       "\n",
       "        league_name  league_id  is_cup  home_team_coach_id  \\\n",
       "0                 1      636.0       1            468196.0   \n",
       "1                 2      752.0       1            516788.0   \n",
       "2                 3      734.0       1           2510608.0   \n",
       "3                 4      743.0       1           1552508.0   \n",
       "4                 3      705.0       1            429958.0   \n",
       "...             ...        ...     ...                 ...   \n",
       "110933            2      800.0       1           7708122.0   \n",
       "110934          152     1098.0       1            465833.0   \n",
       "110935          342     1314.0       1           8416491.0   \n",
       "110936            2      663.0       1           6973085.0   \n",
       "110937            1      636.0       1            213970.0   \n",
       "\n",
       "        away_team_coach_id  ...  home_team_history_DIFF_goal_10  \\\n",
       "0                 468200.0  ...                             3.0   \n",
       "1               22169161.0  ...                             0.0   \n",
       "2                 456313.0  ...                             0.0   \n",
       "3                 465797.0  ...                             0.0   \n",
       "4                 426870.0  ...                             0.0   \n",
       "...                    ...  ...                             ...   \n",
       "110933          37564088.0  ...                             2.0   \n",
       "110934          16488543.0  ...                             0.0   \n",
       "110935            528562.0  ...                             0.0   \n",
       "110936            471757.0  ...                             1.0   \n",
       "110937            470859.0  ...                             3.0   \n",
       "\n",
       "        away_team_history_DIFF_goal_10  home_team_result_10  \\\n",
       "0                                  2.0                  2.0   \n",
       "1                                  3.0                  1.0   \n",
       "2                                  0.0                  1.0   \n",
       "3                                 -1.0                  1.0   \n",
       "4                                  0.0                  1.0   \n",
       "...                                ...                  ...   \n",
       "110933                             1.0                  2.0   \n",
       "110934                             2.0                  1.0   \n",
       "110935                            -1.0                  1.0   \n",
       "110936                             0.0                  2.0   \n",
       "110937                            -5.0                  2.0   \n",
       "\n",
       "        away_team_result_10  home_team_history_ELO_rating_10  \\\n",
       "0                       2.0                         0.698653   \n",
       "1                       2.0                         0.711318   \n",
       "2                       1.0                         0.587305   \n",
       "3                       0.0                         0.691667   \n",
       "4                       1.0                         0.801097   \n",
       "...                     ...                              ...   \n",
       "110933                  2.0                         0.555767   \n",
       "110934                  2.0                         0.910926   \n",
       "110935                  0.0                         0.544926   \n",
       "110936                  1.0                         0.657568   \n",
       "110937                  0.0                         0.403156   \n",
       "\n",
       "        away_team_history_ELO_rating_10  home_team_history_SAME_coaX_10  \\\n",
       "0                              0.570885                               1   \n",
       "1                              0.204827                               1   \n",
       "2                              0.805052                               1   \n",
       "3                              0.368863                               1   \n",
       "4                              0.347241                               1   \n",
       "...                                 ...                             ...   \n",
       "110933                         0.744663                               0   \n",
       "110934                         0.405041                               0   \n",
       "110935                         0.443207                               0   \n",
       "110936                         0.374966                               0   \n",
       "110937                         0.470607                               1   \n",
       "\n",
       "        away_team_history_SAME_coaX_10  home_team_history_SAME_leaG_10  \\\n",
       "0                                    1                               1   \n",
       "1                                    1                               1   \n",
       "2                                    1                               1   \n",
       "3                                    1                               1   \n",
       "4                                    0                               1   \n",
       "...                                ...                             ...   \n",
       "110933                               0                               1   \n",
       "110934                               0                               1   \n",
       "110935                               0                               0   \n",
       "110936                               0                               1   \n",
       "110937                               1                               1   \n",
       "\n",
       "        away_team_history_SAME_leaG_10  \n",
       "0                                    0  \n",
       "1                                    1  \n",
       "2                                    1  \n",
       "3                                    1  \n",
       "4                                    1  \n",
       "...                                ...  \n",
       "110933                               0  \n",
       "110934                               1  \n",
       "110935                               0  \n",
       "110936                               1  \n",
       "110937                               1  \n",
       "\n",
       "[110935 rows x 311 columns]"
      ]
     },
     "execution_count": 112,
     "metadata": {},
     "output_type": "execute_result"
    }
   ],
   "source": [
    "# train = train[~train.isnull().any(axis=1)]\n",
    "list(train.columns)\n",
    "# train\n",
    "train[~train.isnull().any(axis=1)]"
   ]
  },
  {
   "cell_type": "code",
   "execution_count": 846,
   "id": "d9953fe9",
   "metadata": {
    "scrolled": true
   },
   "outputs": [],
   "source": [
    "# float_col = train.select_dtypes(include=['float64']) \n",
    "# for col in float_col.columns.values:\n",
    "#     try:\n",
    "#         train[col] = train[col].astype('int64')\n",
    "#     except:\n",
    "#         pass"
   ]
  },
  {
   "cell_type": "code",
   "execution_count": 101,
   "id": "ff9430c4",
   "metadata": {},
   "outputs": [],
   "source": [
    "for i in train:\n",
    "    if 'goal' in i:\n",
    "        train[i] = train[i].fillna(0)"
   ]
  },
  {
   "cell_type": "code",
   "execution_count": 102,
   "id": "918929af",
   "metadata": {},
   "outputs": [],
   "source": [
    "ratings = [c for c in train if '_rating_' in c]\n",
    "for r in [ratings]:\n",
    "    for i in train[r]:\n",
    "        train[i] = train[i].fillna(value=train[r][i].mean())        "
   ]
  },
  {
   "cell_type": "code",
   "execution_count": 103,
   "id": "e2ceae15",
   "metadata": {},
   "outputs": [
    {
     "data": {
      "text/plain": [
       "['home_team_history_coach_1',\n",
       " 'home_team_history_coach_2',\n",
       " 'home_team_history_coach_3',\n",
       " 'home_team_history_coach_4',\n",
       " 'home_team_history_coach_5',\n",
       " 'home_team_history_coach_6',\n",
       " 'home_team_history_coach_7',\n",
       " 'home_team_history_coach_8',\n",
       " 'home_team_history_coach_9',\n",
       " 'home_team_history_coach_10',\n",
       " 'home_team_coach_id']"
      ]
     },
     "execution_count": 103,
     "metadata": {},
     "output_type": "execute_result"
    }
   ],
   "source": [
    "home_coach_ids = [c for c in train if ('home_team_history_coach' in c)] + ['home_team_coach_id']\n",
    "away_coach_ids = [c for c in train if ('away_team_history_coach' in c)] + ['away_team_coach_id']\n",
    "home_coach_ids"
   ]
  },
  {
   "cell_type": "code",
   "execution_count": 104,
   "id": "52a5fba1",
   "metadata": {},
   "outputs": [],
   "source": [
    "# train['home_team_coach_id'] = train[['date', 'home_team_name'] + home_coach_ids].groupby(['home_team_name'], sort=True)['home_team_coach_id'].apply(lambda x: x.ffill())\n",
    "# train['away_team_coach_id'] = train[['date', 'away_team_name'] + away_coach_ids].groupby(['away_team_name'], sort=True)['away_team_coach_id'].apply(lambda x: x.ffill())\n",
    "# cols = [i for i in train.columns if not '_team_history_coach_' in i]\n",
    "# train = train[cols]\n",
    "train[['home_team_coach_id', 'away_team_coach_id']] = train[['home_team_coach_id', 'away_team_coach_id']].fillna(0) \n",
    "train[home_coach_ids+away_coach_ids] = train[home_coach_ids+away_coach_ids].fillna(0) "
   ]
  },
  {
   "cell_type": "code",
   "execution_count": 105,
   "id": "388c7780",
   "metadata": {},
   "outputs": [],
   "source": [
    "league_ids = [c for c in train if ('league_id' in c)]\n",
    "train[league_ids] = train[league_ids].ffill(axis = 1).bfill(axis = 1)"
   ]
  },
  {
   "cell_type": "code",
   "execution_count": 106,
   "id": "0fcc76aa",
   "metadata": {},
   "outputs": [],
   "source": [
    "# train = train[train['home_team_coach_id'].notna()]\n",
    "# train = train[train['away_team_coach_id'].notna()]"
   ]
  },
  {
   "cell_type": "code",
   "execution_count": 107,
   "id": "affb6f51",
   "metadata": {},
   "outputs": [
    {
     "data": {
      "text/html": [
       "<div>\n",
       "<style scoped>\n",
       "    .dataframe tbody tr th:only-of-type {\n",
       "        vertical-align: middle;\n",
       "    }\n",
       "\n",
       "    .dataframe tbody tr th {\n",
       "        vertical-align: top;\n",
       "    }\n",
       "\n",
       "    .dataframe thead th {\n",
       "        text-align: right;\n",
       "    }\n",
       "</style>\n",
       "<table border=\"1\" class=\"dataframe\">\n",
       "  <thead>\n",
       "    <tr style=\"text-align: right;\">\n",
       "      <th></th>\n",
       "      <th></th>\n",
       "    </tr>\n",
       "    <tr>\n",
       "      <th>away_team_coach_id</th>\n",
       "      <th>home_team_name</th>\n",
       "    </tr>\n",
       "  </thead>\n",
       "  <tbody>\n",
       "    <tr>\n",
       "      <th rowspan=\"5\" valign=\"top\">0.0</th>\n",
       "      <th>0</th>\n",
       "    </tr>\n",
       "    <tr>\n",
       "      <th>4</th>\n",
       "    </tr>\n",
       "    <tr>\n",
       "      <th>7</th>\n",
       "    </tr>\n",
       "    <tr>\n",
       "      <th>8</th>\n",
       "    </tr>\n",
       "    <tr>\n",
       "      <th>12</th>\n",
       "    </tr>\n",
       "    <tr>\n",
       "      <th>...</th>\n",
       "      <th>...</th>\n",
       "    </tr>\n",
       "    <tr>\n",
       "      <th>37567801.0</th>\n",
       "      <th>9011</th>\n",
       "    </tr>\n",
       "    <tr>\n",
       "      <th>37567807.0</th>\n",
       "      <th>4701</th>\n",
       "    </tr>\n",
       "    <tr>\n",
       "      <th>37567812.0</th>\n",
       "      <th>4964</th>\n",
       "    </tr>\n",
       "    <tr>\n",
       "      <th>37567817.0</th>\n",
       "      <th>4231</th>\n",
       "    </tr>\n",
       "    <tr>\n",
       "      <th>37568466.0</th>\n",
       "      <th>2912</th>\n",
       "    </tr>\n",
       "  </tbody>\n",
       "</table>\n",
       "<p>79665 rows × 0 columns</p>\n",
       "</div>"
      ],
      "text/plain": [
       "Empty DataFrame\n",
       "Columns: []\n",
       "Index: [(0.0, 0), (0.0, 4), (0.0, 7), (0.0, 8), (0.0, 12), (0.0, 13), (0.0, 14), (0.0, 15), (0.0, 16), (0.0, 18), (0.0, 19), (0.0, 20), (0.0, 21), (0.0, 23), (0.0, 25), (0.0, 26), (0.0, 27), (0.0, 33), (0.0, 36), (0.0, 40), (0.0, 41), (0.0, 42), (0.0, 43), (0.0, 46), (0.0, 48), (0.0, 50), (0.0, 52), (0.0, 53), (0.0, 56), (0.0, 60), (0.0, 62), (0.0, 72), (0.0, 73), (0.0, 74), (0.0, 80), (0.0, 83), (0.0, 88), (0.0, 93), (0.0, 95), (0.0, 108), (0.0, 109), (0.0, 112), (0.0, 114), (0.0, 118), (0.0, 120), (0.0, 121), (0.0, 128), (0.0, 131), (0.0, 138), (0.0, 143), (0.0, 144), (0.0, 145), (0.0, 149), (0.0, 163), (0.0, 167), (0.0, 169), (0.0, 171), (0.0, 174), (0.0, 177), (0.0, 178), (0.0, 187), (0.0, 188), (0.0, 191), (0.0, 197), (0.0, 202), (0.0, 203), (0.0, 206), (0.0, 210), (0.0, 217), (0.0, 219), (0.0, 221), (0.0, 225), (0.0, 230), (0.0, 232), (0.0, 234), (0.0, 237), (0.0, 239), (0.0, 245), (0.0, 255), (0.0, 256), (0.0, 261), (0.0, 263), (0.0, 265), (0.0, 267), (0.0, 273), (0.0, 282), (0.0, 285), (0.0, 286), (0.0, 291), (0.0, 294), (0.0, 295), (0.0, 297), (0.0, 300), (0.0, 310), (0.0, 312), (0.0, 313), (0.0, 314), (0.0, 316), (0.0, 318), (0.0, 320), ...]\n",
       "\n",
       "[79665 rows x 0 columns]"
      ]
     },
     "execution_count": 107,
     "metadata": {},
     "output_type": "execute_result"
    }
   ],
   "source": [
    "train[['home_team_name','away_team_coach_id']].groupby(['away_team_coach_id','home_team_name']).first()"
   ]
  },
  {
   "cell_type": "code",
   "execution_count": 108,
   "id": "d5b31849",
   "metadata": {},
   "outputs": [],
   "source": [
    "all_is_cup = [i for i in train if 'history_is_cup' in i]\n",
    "train[all_is_cup] = train[all_is_cup].fillna(value=np.random.choice(train['is_cup']))"
   ]
  },
  {
   "cell_type": "code",
   "execution_count": 786,
   "id": "e30c1381",
   "metadata": {},
   "outputs": [],
   "source": [
    "is_cup_dummies =  pd.get_dummies(train['is_cup'], prefix_sep='_',prefix='is_cup')\n",
    "train = pd.concat([train, is_cup_dummies], axis=1)"
   ]
  },
  {
   "cell_type": "code",
   "execution_count": 793,
   "id": "3f24eeac",
   "metadata": {},
   "outputs": [
    {
     "data": {
      "text/plain": [
       "1    58596\n",
       "0     5520\n",
       "Name: is_cup_1, dtype: int64"
      ]
     },
     "execution_count": 793,
     "metadata": {},
     "output_type": "execute_result"
    }
   ],
   "source": [
    "train['is_cup_1'].value_counts()"
   ]
  },
  {
   "cell_type": "code",
   "execution_count": 109,
   "id": "be4c43d7",
   "metadata": {},
   "outputs": [],
   "source": [
    "is_play_home = [i for i in train.columns if 'is_play_home' in i]\n",
    "train[is_play_home] = train[is_play_home].fillna(np.random.choice([0, 1.0])) "
   ]
  },
  {
   "cell_type": "markdown",
   "id": "bc709539",
   "metadata": {},
   "source": [
    "# Model"
   ]
  },
  {
   "cell_type": "code",
   "execution_count": 787,
   "id": "2a3856f8",
   "metadata": {},
   "outputs": [],
   "source": [
    "train.drop('is_cup', axis=1, inplace=True)"
   ]
  },
  {
   "cell_type": "code",
   "execution_count": 48,
   "id": "22c1fae1",
   "metadata": {},
   "outputs": [
    {
     "data": {
      "text/plain": [
       "Timestamp('2021-05-01 00:00:00')"
      ]
     },
     "execution_count": 48,
     "metadata": {},
     "output_type": "execute_result"
    }
   ],
   "source": [
    "train['date'].max()"
   ]
  },
  {
   "cell_type": "code",
   "execution_count": 49,
   "id": "0e30253a",
   "metadata": {},
   "outputs": [
    {
     "data": {
      "text/plain": [
       "Timestamp('2019-12-01 00:45:00')"
      ]
     },
     "execution_count": 49,
     "metadata": {},
     "output_type": "execute_result"
    }
   ],
   "source": [
    "train['date'].min()"
   ]
  },
  {
   "cell_type": "code",
   "execution_count": 50,
   "id": "288309be",
   "metadata": {},
   "outputs": [
    {
     "ename": "NameError",
     "evalue": "name 'max_list' is not defined",
     "output_type": "error",
     "traceback": [
      "\u001b[1;31m---------------------------------------------------------------------------\u001b[0m",
      "\u001b[1;31mNameError\u001b[0m                                 Traceback (most recent call last)",
      "\u001b[1;32mC:\\Users\\AMERI_~1\\AppData\\Local\\Temp/ipykernel_10088/886644035.py\u001b[0m in \u001b[0;36m<module>\u001b[1;34m\u001b[0m\n\u001b[1;32m----> 1\u001b[1;33m \u001b[0mmax_list\u001b[0m\u001b[1;33m\u001b[0m\u001b[1;33m\u001b[0m\u001b[0m\n\u001b[0m",
      "\u001b[1;31mNameError\u001b[0m: name 'max_list' is not defined"
     ]
    }
   ],
   "source": [
    "max_list"
   ]
  },
  {
   "cell_type": "code",
   "execution_count": 169,
   "id": "cd360ec1",
   "metadata": {},
   "outputs": [],
   "source": [
    "validation=0\n",
    "\n",
    "validation = train[['target', 'date', 'is_cup']+ fetures + results]\n",
    "# validation = train[['target', 'date', 'home_win', 'home_loss','home_draw', 'away_win', 'away_loss','away_draw', 'away_goal', 'home_goal']]\n",
    "\n",
    "# 48.5015\n",
    "# validation = train[['target', 'home_goal', 'home_team_name', 'away_team_name', 'home_opp_goal', 'home_team_coach_id', 'home_rating', 'home_opp_rating', 'away_goal', 'away_opp_goal', 'away_team_coach_id', 'away_rating','away_opp_rating', 'date', 'is_cup']]\n",
    "# validation = train"
   ]
  },
  {
   "cell_type": "code",
   "execution_count": 170,
   "id": "d6d50e0a",
   "metadata": {},
   "outputs": [
    {
     "data": {
      "text/plain": [
       "183"
      ]
     },
     "execution_count": 170,
     "metadata": {},
     "output_type": "execute_result"
    }
   ],
   "source": [
    "len(validation.columns)"
   ]
  },
  {
   "cell_type": "code",
   "execution_count": 171,
   "id": "7b24372f",
   "metadata": {
    "scrolled": true
   },
   "outputs": [
    {
     "name": "stdout",
     "output_type": "stream",
     "text": [
      "<class 'pandas.core.frame.DataFrame'>\n",
      "Int64Index: 110935 entries, 0 to 110937\n",
      "Columns: 183 entries, target to away_team_draw_10\n",
      "dtypes: datetime64[ns](1), float64(60), int32(40), int64(82)\n",
      "memory usage: 138.8 MB\n"
     ]
    }
   ],
   "source": [
    "validation.info()"
   ]
  },
  {
   "cell_type": "code",
   "execution_count": 172,
   "id": "425c9395",
   "metadata": {},
   "outputs": [],
   "source": [
    "val_train = validation[validation['date'].dt.year <= 2020]\n",
    "val_test = validation[validation['date'].dt.year >= 2021]"
   ]
  },
  {
   "cell_type": "code",
   "execution_count": 173,
   "id": "2c9a699c",
   "metadata": {},
   "outputs": [
    {
     "data": {
      "text/plain": [
       "(77691, 183)"
      ]
     },
     "execution_count": 173,
     "metadata": {},
     "output_type": "execute_result"
    }
   ],
   "source": [
    "val_train.shape"
   ]
  },
  {
   "cell_type": "code",
   "execution_count": 174,
   "id": "5ec7eced",
   "metadata": {},
   "outputs": [
    {
     "data": {
      "text/plain": [
       "(33244, 183)"
      ]
     },
     "execution_count": 174,
     "metadata": {},
     "output_type": "execute_result"
    }
   ],
   "source": [
    "val_test.shape"
   ]
  },
  {
   "cell_type": "code",
   "execution_count": 175,
   "id": "2656be3c",
   "metadata": {},
   "outputs": [
    {
     "name": "stderr",
     "output_type": "stream",
     "text": [
      "C:\\Users\\Ameri_4o1vsnk\\anaconda3\\lib\\site-packages\\pandas\\core\\frame.py:4906: SettingWithCopyWarning: \n",
      "A value is trying to be set on a copy of a slice from a DataFrame\n",
      "\n",
      "See the caveats in the documentation: https://pandas.pydata.org/pandas-docs/stable/user_guide/indexing.html#returning-a-view-versus-a-copy\n",
      "  return super().drop(\n"
     ]
    }
   ],
   "source": [
    "val_test.drop('date', axis=1, inplace=True)\n",
    "val_train.drop('date', axis=1, inplace=True)"
   ]
  },
  {
   "cell_type": "code",
   "execution_count": 176,
   "id": "b69aba84",
   "metadata": {},
   "outputs": [],
   "source": [
    "x_val_train = val_train.loc[:, val_train.columns != 'target']\n",
    "x_val_test = val_test.loc[:, val_train.columns != 'target']\n",
    "\n",
    "y_val_train = val_train[['target']]\n",
    "y_val_test = val_test[['target']]"
   ]
  },
  {
   "cell_type": "code",
   "execution_count": 177,
   "id": "15946ffc",
   "metadata": {},
   "outputs": [
    {
     "name": "stderr",
     "output_type": "stream",
     "text": [
      "C:\\Users\\Ameri_4o1vsnk\\anaconda3\\lib\\site-packages\\sklearn\\utils\\validation.py:63: DataConversionWarning: A column-vector y was passed when a 1d array was expected. Please change the shape of y to (n_samples, ), for example using ravel().\n",
      "  return f(*args, **kwargs)\n"
     ]
    },
    {
     "name": "stdout",
     "output_type": "stream",
     "text": [
      "Naive Bayes classifier for Gaussian Nomial accuracy: 0.4529\n"
     ]
    }
   ],
   "source": [
    "from sklearn.naive_bayes import GaussianNB\n",
    "gnb = GaussianNB()\n",
    "gnb.fit(x_val_train, y_val_train)\n",
    "y_pred = gnb.predict(x_val_test)\n",
    "print('Naive Bayes classifier for Gaussian Nomial accuracy: {:.4f}'.format(accuracy_score(y_val_test, y_pred)))"
   ]
  },
  {
   "cell_type": "code",
   "execution_count": 196,
   "id": "db07ca9f",
   "metadata": {},
   "outputs": [
    {
     "name": "stderr",
     "output_type": "stream",
     "text": [
      "C:\\Users\\Ameri_4o1vsnk\\anaconda3\\lib\\site-packages\\sklearn\\utils\\validation.py:63: DataConversionWarning: A column-vector y was passed when a 1d array was expected. Please change the shape of y to (n_samples, ), for example using ravel().\n",
      "  return f(*args, **kwargs)\n"
     ]
    },
    {
     "name": "stdout",
     "output_type": "stream",
     "text": [
      "Logistic Regression accuracy: 0.4881\n"
     ]
    },
    {
     "name": "stderr",
     "output_type": "stream",
     "text": [
      "C:\\Users\\Ameri_4o1vsnk\\anaconda3\\lib\\site-packages\\sklearn\\linear_model\\_logistic.py:763: ConvergenceWarning: lbfgs failed to converge (status=1):\n",
      "STOP: TOTAL NO. of ITERATIONS REACHED LIMIT.\n",
      "\n",
      "Increase the number of iterations (max_iter) or scale the data as shown in:\n",
      "    https://scikit-learn.org/stable/modules/preprocessing.html\n",
      "Please also refer to the documentation for alternative solver options:\n",
      "    https://scikit-learn.org/stable/modules/linear_model.html#logistic-regression\n",
      "  n_iter_i = _check_optimize_result(\n"
     ]
    }
   ],
   "source": [
    "from sklearn.linear_model import LogisticRegression\n",
    "\n",
    "reg = LogisticRegression().fit(x_val_train, y_val_train)\n",
    "y_pred = reg.predict(x_val_test)\n",
    "print('Logistic Regression accuracy: {:.4f}'.format(accuracy_score(y_val_test, y_pred)))"
   ]
  },
  {
   "cell_type": "code",
   "execution_count": 194,
   "id": "da6a51e4",
   "metadata": {},
   "outputs": [
    {
     "name": "stderr",
     "output_type": "stream",
     "text": [
      "C:\\Users\\Ameri_4o1vsnk\\anaconda3\\lib\\site-packages\\sklearn\\utils\\validation.py:63: DataConversionWarning: A column-vector y was passed when a 1d array was expected. Please change the shape of y to (n_samples, ), for example using ravel().\n",
      "  return f(*args, **kwargs)\n"
     ]
    },
    {
     "name": "stdout",
     "output_type": "stream",
     "text": [
      "neural_network Classifier accuracy: 48.9983\n"
     ]
    },
    {
     "name": "stderr",
     "output_type": "stream",
     "text": [
      "C:\\Users\\Ameri_4o1vsnk\\anaconda3\\lib\\site-packages\\sklearn\\neural_network\\_multilayer_perceptron.py:500: ConvergenceWarning: lbfgs failed to converge (status=1):\n",
      "STOP: TOTAL NO. of ITERATIONS REACHED LIMIT.\n",
      "\n",
      "Increase the number of iterations (max_iter) or scale the data as shown in:\n",
      "    https://scikit-learn.org/stable/modules/preprocessing.html\n",
      "  self.n_iter_ = _check_optimize_result(\"lbfgs\", opt_res, self.max_iter)\n"
     ]
    }
   ],
   "source": [
    "from sklearn.neural_network import MLPClassifier\n",
    "nn= MLPClassifier(solver='lbfgs', alpha=1e-5, hidden_layer_sizes=(5, 2), random_state=1)\n",
    "nn.fit(x_val_train, y_val_train)\n",
    "y_pred = nn.predict(x_val_test)\n",
    "print('neural_network Classifier accuracy: {:.4f}'.format(accuracy_score(y_val_test, y_pred)*100))"
   ]
  },
  {
   "cell_type": "code",
   "execution_count": 201,
   "id": "d4ffd9a6",
   "metadata": {},
   "outputs": [
    {
     "name": "stdout",
     "output_type": "stream",
     "text": [
      "MAE:  0.683579047511393\n",
      "MSE:  0.6391297491638687\n",
      "RMSE:  0.799455908204992\n"
     ]
    }
   ],
   "source": [
    "from sklearn.linear_model import LinearRegression\n",
    "from sklearn import metrics\n",
    "\n",
    "lr = LinearRegression()\n",
    "lr.fit(x_val_train, y_val_train)\n",
    "y_pred = lr.predict(x_val_test)\n",
    "\n",
    "print('MAE: ', metrics.mean_absolute_error(y_val_test , y_pred))\n",
    "print('MSE: ', metrics.mean_squared_error(y_val_test, y_pred))\n",
    "print('RMSE: ', np.sqrt(metrics.mean_squared_error(y_val_test, y_pred)))"
   ]
  },
  {
   "cell_type": "code",
   "execution_count": 203,
   "id": "afbe1718",
   "metadata": {},
   "outputs": [
    {
     "data": {
      "text/plain": [
       "<bound method NDFrame.head of         target\n",
       "77693        1\n",
       "77694        1\n",
       "77695        2\n",
       "77696        3\n",
       "77697        2\n",
       "...        ...\n",
       "110933       3\n",
       "110934       2\n",
       "110935       3\n",
       "110936       2\n",
       "110937       1\n",
       "\n",
       "[33244 rows x 1 columns]>"
      ]
     },
     "execution_count": 203,
     "metadata": {},
     "output_type": "execute_result"
    }
   ],
   "source": [
    "y_val_test.head"
   ]
  },
  {
   "cell_type": "code",
   "execution_count": 206,
   "id": "ecf09885",
   "metadata": {},
   "outputs": [
    {
     "data": {
      "text/plain": [
       "array([[1.58154297],\n",
       "       [1.71069336],\n",
       "       [1.98413086],\n",
       "       [1.71313477],\n",
       "       [1.92504883],\n",
       "       [1.95581055],\n",
       "       [1.87036133],\n",
       "       [1.96655273],\n",
       "       [1.83740234],\n",
       "       [1.85644531],\n",
       "       [1.80883789],\n",
       "       [1.52026367],\n",
       "       [1.8190918 ],\n",
       "       [1.79174805],\n",
       "       [1.7824707 ],\n",
       "       [1.7253418 ],\n",
       "       [1.55981445],\n",
       "       [1.68432617],\n",
       "       [1.54418945],\n",
       "       [1.74487305],\n",
       "       [1.83569336],\n",
       "       [1.48730469],\n",
       "       [1.74243164],\n",
       "       [1.62524414],\n",
       "       [1.72973633],\n",
       "       [1.66064453],\n",
       "       [1.84936523],\n",
       "       [1.69604492],\n",
       "       [2.09106445],\n",
       "       [1.8581543 ],\n",
       "       [1.64819336],\n",
       "       [1.67651367],\n",
       "       [1.80712891],\n",
       "       [1.87573242],\n",
       "       [1.59350586],\n",
       "       [2.14208984],\n",
       "       [1.72827148],\n",
       "       [1.49267578],\n",
       "       [1.6027832 ],\n",
       "       [1.86962891],\n",
       "       [1.7409668 ],\n",
       "       [1.91674805],\n",
       "       [1.76367188],\n",
       "       [1.70532227],\n",
       "       [2.00097656],\n",
       "       [1.72314453],\n",
       "       [1.98461914],\n",
       "       [2.09545898],\n",
       "       [2.09448242],\n",
       "       [1.703125  ],\n",
       "       [1.71411133],\n",
       "       [1.94628906],\n",
       "       [1.45874023],\n",
       "       [1.70361328],\n",
       "       [1.72631836],\n",
       "       [1.68041992],\n",
       "       [1.85766602],\n",
       "       [1.77001953],\n",
       "       [1.67163086],\n",
       "       [1.80371094],\n",
       "       [2.21923828],\n",
       "       [1.6862793 ],\n",
       "       [1.59301758],\n",
       "       [1.69458008],\n",
       "       [1.66040039],\n",
       "       [1.83642578],\n",
       "       [1.58398438],\n",
       "       [1.44921875],\n",
       "       [1.95117188],\n",
       "       [2.01538086],\n",
       "       [1.4831543 ],\n",
       "       [1.99047852],\n",
       "       [1.6472168 ],\n",
       "       [1.60864258],\n",
       "       [1.5065918 ],\n",
       "       [1.86987305],\n",
       "       [2.23339844],\n",
       "       [1.93579102],\n",
       "       [1.83325195],\n",
       "       [1.97998047],\n",
       "       [1.75244141],\n",
       "       [1.67651367],\n",
       "       [1.73022461],\n",
       "       [1.69946289],\n",
       "       [1.82055664],\n",
       "       [1.73510742],\n",
       "       [2.05688477],\n",
       "       [1.66992188],\n",
       "       [1.69213867],\n",
       "       [1.44921875],\n",
       "       [1.81567383],\n",
       "       [1.48144531],\n",
       "       [1.91601562],\n",
       "       [1.79418945],\n",
       "       [1.74365234],\n",
       "       [1.83032227],\n",
       "       [1.94165039],\n",
       "       [1.85083008],\n",
       "       [1.92675781],\n",
       "       [1.84887695]])"
      ]
     },
     "execution_count": 206,
     "metadata": {},
     "output_type": "execute_result"
    }
   ],
   "source": [
    "y_pred[:100]"
   ]
  },
  {
   "cell_type": "code",
   "execution_count": 179,
   "id": "9f36f98c",
   "metadata": {
    "scrolled": true
   },
   "outputs": [
    {
     "name": "stdout",
     "output_type": "stream",
     "text": [
      "Decision Tree Classifier accuracy: 38.1422\n"
     ]
    }
   ],
   "source": [
    "from sklearn.tree import DecisionTreeClassifier\n",
    "\n",
    "dml = DecisionTreeClassifier()\n",
    "dml.fit(x_val_train, y_val_train)\n",
    "y_pred = dml.predict(x_val_test)\n",
    "print(\"Decision Tree Classifier accuracy: {:.4f}\".format(accuracy_score(y_val_test,y_pred)*100))"
   ]
  },
  {
   "cell_type": "code",
   "execution_count": null,
   "id": "adf95a70",
   "metadata": {},
   "outputs": [],
   "source": []
  },
  {
   "cell_type": "code",
   "execution_count": 180,
   "id": "82362a85",
   "metadata": {},
   "outputs": [
    {
     "name": "stderr",
     "output_type": "stream",
     "text": [
      "C:\\Users\\AMERI_~1\\AppData\\Local\\Temp/ipykernel_10088/1032885765.py:3: DataConversionWarning: A column-vector y was passed when a 1d array was expected. Please change the shape of y to (n_samples,), for example using ravel().\n",
      "  randomForest.fit(x_val_train, y_val_train)\n"
     ]
    },
    {
     "name": "stdout",
     "output_type": "stream",
     "text": [
      "Random Forest Classifier accuracy: 46.2550\n"
     ]
    }
   ],
   "source": [
    "from sklearn.ensemble import RandomForestClassifier\n",
    "randomForest= RandomForestClassifier(n_estimators=32)\n",
    "randomForest.fit(x_val_train, y_val_train)\n",
    "y_pred = randomForest.predict(x_val_test)\n",
    "print('Random Forest Classifier accuracy: {:.4f}'.format(accuracy_score(y_val_test, y_pred)*100))"
   ]
  },
  {
   "cell_type": "code",
   "execution_count": 168,
   "id": "121539e0",
   "metadata": {},
   "outputs": [
    {
     "name": "stderr",
     "output_type": "stream",
     "text": [
      "C:\\Users\\Ameri_4o1vsnk\\anaconda3\\lib\\site-packages\\xgboost\\sklearn.py:1224: UserWarning: The use of label encoder in XGBClassifier is deprecated and will be removed in a future release. To remove this warning, do the following: 1) Pass option use_label_encoder=False when constructing XGBClassifier object; and 2) Encode your labels (y) as integers starting with 0, i.e. 0, 1, 2, ..., [num_class - 1].\n",
      "  warnings.warn(label_encoder_deprecation_msg, UserWarning)\n",
      "C:\\Users\\Ameri_4o1vsnk\\anaconda3\\lib\\site-packages\\sklearn\\utils\\validation.py:63: DataConversionWarning: A column-vector y was passed when a 1d array was expected. Please change the shape of y to (n_samples, ), for example using ravel().\n",
      "  return f(*args, **kwargs)\n"
     ]
    },
    {
     "name": "stdout",
     "output_type": "stream",
     "text": [
      "[21:18:32] WARNING: C:/Users/Administrator/workspace/xgboost-win64_release_1.5.1/src/learner.cc:1115: Starting in XGBoost 1.3.0, the default evaluation metric used with the objective 'multi:softprob' was changed from 'merror' to 'mlogloss'. Explicitly set eval_metric if you'd like to restore the old behavior.\n",
      "xgb Classifier accuracy: 48.0899\n"
     ]
    }
   ],
   "source": [
    "from xgboost import XGBClassifier\n",
    "\n",
    "xgb = XGBClassifier(n_estimators=125, predictor='cpu_predictor')\n",
    "xgb.fit(x_val_train, y_val_train)\n",
    "y_pred = xgb.predict(x_val_test)\n",
    "print('xgb Classifier accuracy: {:.4f}'.format(accuracy_score(y_val_test, y_pred)*100))"
   ]
  },
  {
   "cell_type": "code",
   "execution_count": 167,
   "id": "ffd04d02",
   "metadata": {},
   "outputs": [
    {
     "name": "stderr",
     "output_type": "stream",
     "text": [
      "C:\\Users\\Ameri_4o1vsnk\\anaconda3\\lib\\site-packages\\sklearn\\utils\\validation.py:63: DataConversionWarning: A column-vector y was passed when a 1d array was expected. Please change the shape of y to (n_samples, ), for example using ravel().\n",
      "  return f(*args, **kwargs)\n"
     ]
    },
    {
     "name": "stdout",
     "output_type": "stream",
     "text": [
      "GradientBoosting Classifier accuracy: 48.3817\n"
     ]
    }
   ],
   "source": [
    "from sklearn.ensemble import GradientBoostingClassifier\n",
    "\n",
    "clf = GradientBoostingClassifier(n_estimators=32)\n",
    "clf.fit(x_val_train, y_val_train)\n",
    "y_pred = clf.predict(x_val_test)\n",
    "# clf.score(X_test, y_test)\n",
    "\n",
    "print('GradientBoosting Classifier accuracy: {:.4f}'.format(accuracy_score(y_val_test, y_pred)*100))"
   ]
  },
  {
   "cell_type": "code",
   "execution_count": 190,
   "id": "231eea0c",
   "metadata": {},
   "outputs": [
    {
     "name": "stderr",
     "output_type": "stream",
     "text": [
      "C:\\Users\\Ameri_4o1vsnk\\anaconda3\\lib\\site-packages\\sklearn\\utils\\validation.py:63: DataConversionWarning: A column-vector y was passed when a 1d array was expected. Please change the shape of y to (n_samples, ), for example using ravel().\n",
      "  return f(*args, **kwargs)\n"
     ]
    },
    {
     "name": "stdout",
     "output_type": "stream",
     "text": [
      "AdaBoost Classifier accuracy: 48.3877\n"
     ]
    }
   ],
   "source": [
    "from sklearn.ensemble import AdaBoostClassifier\n",
    "# from sklearn.datasets import make_classification\n",
    "clf = AdaBoostClassifier(n_estimators=100)\n",
    "clf.fit(x_val_train, y_val_train)\n",
    "y_pred = clf.predict(x_val_test)\n",
    "print('AdaBoost Classifier accuracy: {:.4f}'.format(accuracy_score(y_val_test, y_pred)*100))"
   ]
  },
  {
   "cell_type": "code",
   "execution_count": 189,
   "id": "172ece07",
   "metadata": {},
   "outputs": [
    {
     "name": "stderr",
     "output_type": "stream",
     "text": [
      "C:\\Users\\Ameri_4o1vsnk\\anaconda3\\lib\\site-packages\\sklearn\\utils\\validation.py:63: DataConversionWarning: A column-vector y was passed when a 1d array was expected. Please change the shape of y to (n_samples, ), for example using ravel().\n",
      "  return f(*args, **kwargs)\n",
      "C:\\Users\\Ameri_4o1vsnk\\anaconda3\\lib\\site-packages\\lightgbm\\sklearn.py:598: UserWarning: 'silent' argument is deprecated and will be removed in a future release of LightGBM. Pass 'verbose' parameter via keyword arguments instead.\n",
      "  _log_warning(\"'silent' argument is deprecated and will be removed in a future release of LightGBM. \"\n"
     ]
    },
    {
     "name": "stdout",
     "output_type": "stream",
     "text": [
      "lightgbm Classifier accuracy: 48.8509\n"
     ]
    }
   ],
   "source": [
    "import lightgbm as ltb\n",
    "model = ltb.LGBMClassifier(boosting_type='gbdt', class_weight=None, colsample_bytree=1.0,\n",
    "        importance_type='split', learning_rate=0.1, max_depth=-1,\n",
    "        min_child_samples=32, min_child_weight=0.001, min_split_gain=0.0,\n",
    "        n_estimators=50, n_jobs=-1, num_leaves=31, objective=None,\n",
    "        random_state=None, reg_alpha=0.0, reg_lambda=0.0, silent=True,\n",
    "        subsample=1.0, subsample_for_bin=2000, subsample_freq=0)\n",
    "model.fit(x_val_train, y_val_train)\n",
    "y_pred = model.predict(x_val_test)\n",
    "print('lightgbm Classifier accuracy: {:.4f}'.format(accuracy_score(y_val_test, y_pred)*100))"
   ]
  },
  {
   "cell_type": "code",
   "execution_count": 181,
   "id": "8972f6a0",
   "metadata": {},
   "outputs": [
    {
     "data": {
      "application/vnd.jupyter.widget-view+json": {
       "model_id": "4cbc335d94404bbdbc8f1e9e6efb5ef2",
       "version_major": 2,
       "version_minor": 0
      },
      "text/plain": [
       "MetricVisualizer(layout=Layout(align_self='stretch', height='500px'))"
      ]
     },
     "metadata": {},
     "output_type": "display_data"
    },
    {
     "name": "stdout",
     "output_type": "stream",
     "text": [
      "Learning rate set to 0.5\n",
      "0:\tlearn: 1.0565329\ttotal: 87.1ms\tremaining: 784ms\n",
      "1:\tlearn: 1.0400100\ttotal: 194ms\tremaining: 777ms\n",
      "2:\tlearn: 1.0321362\ttotal: 273ms\tremaining: 637ms\n",
      "3:\tlearn: 1.0267853\ttotal: 351ms\tremaining: 527ms\n",
      "4:\tlearn: 1.0236570\ttotal: 468ms\tremaining: 468ms\n",
      "5:\tlearn: 1.0211360\ttotal: 547ms\tremaining: 365ms\n",
      "6:\tlearn: 1.0191651\ttotal: 637ms\tremaining: 273ms\n",
      "7:\tlearn: 1.0171084\ttotal: 759ms\tremaining: 190ms\n",
      "8:\tlearn: 1.0152027\ttotal: 828ms\tremaining: 92ms\n",
      "9:\tlearn: 1.0137515\ttotal: 915ms\tremaining: 0us\n",
      "CatBoost Classifier accuracy: 48.4960\n"
     ]
    }
   ],
   "source": [
    "from catboost import CatBoostClassifier\n",
    "model_params = {\n",
    "    'iterations': 10, \n",
    "    'loss_function': 'MultiClass',\n",
    "    'train_dir': 'crossentropy',\n",
    "    'allow_writing_files': False,\n",
    "    'random_seed': 42,\n",
    "}\n",
    "\n",
    "model = CatBoostClassifier(**model_params)\n",
    "model.fit(x_val_train, y_val_train, verbose=True, plot=True)\n",
    "y_pred = model.predict(x_val_test)\n",
    "print('CatBoost Classifier accuracy: {:.4f}'.format(accuracy_score(y_val_test, y_pred)*100))"
   ]
  },
  {
   "cell_type": "code",
   "execution_count": 66,
   "id": "04704b74",
   "metadata": {},
   "outputs": [
    {
     "name": "stdout",
     "output_type": "stream",
     "text": [
      "Collecting catboostNote: you may need to restart the kernel to use updated packages.\n",
      "  Downloading catboost-1.0.4-cp39-none-win_amd64.whl (73.5 MB)\n",
      "Requirement already satisfied: pandas>=0.24.0 in c:\\users\\ameri_4o1vsnk\\anaconda3\\lib\\site-packages (from catboost) (1.3.4)\n",
      "Requirement already satisfied: matplotlib in c:\\users\\ameri_4o1vsnk\\anaconda3\\lib\\site-packages (from catboost) (3.4.3)\n",
      "Collecting graphviz\n",
      "  Downloading graphviz-0.19.1-py3-none-any.whl (46 kB)\n",
      "Requirement already satisfied: scipy in c:\\users\\ameri_4o1vsnk\\anaconda3\\lib\\site-packages (from catboost) (1.7.1)\n",
      "Collecting plotly\n",
      "  Downloading plotly-5.6.0-py2.py3-none-any.whl (27.7 MB)\n",
      "Requirement already satisfied: numpy>=1.16.0 in c:\\users\\ameri_4o1vsnk\\anaconda3\\lib\\site-packages (from catboost) (1.20.3)\n",
      "Requirement already satisfied: six in c:\\users\\ameri_4o1vsnk\\anaconda3\\lib\\site-packages (from catboost) (1.16.0)\n",
      "Requirement already satisfied: python-dateutil>=2.7.3 in c:\\users\\ameri_4o1vsnk\\anaconda3\\lib\\site-packages (from pandas>=0.24.0->catboost) (2.8.2)\n",
      "Requirement already satisfied: pytz>=2017.3 in c:\\users\\ameri_4o1vsnk\\anaconda3\\lib\\site-packages (from pandas>=0.24.0->catboost) (2021.3)\n",
      "Requirement already satisfied: pyparsing>=2.2.1 in c:\\users\\ameri_4o1vsnk\\anaconda3\\lib\\site-packages (from matplotlib->catboost) (3.0.4)\n",
      "Requirement already satisfied: pillow>=6.2.0 in c:\\users\\ameri_4o1vsnk\\anaconda3\\lib\\site-packages (from matplotlib->catboost) (8.4.0)\n",
      "Requirement already satisfied: kiwisolver>=1.0.1 in c:\\users\\ameri_4o1vsnk\\anaconda3\\lib\\site-packages (from matplotlib->catboost) (1.3.1)\n",
      "Requirement already satisfied: cycler>=0.10 in c:\\users\\ameri_4o1vsnk\\anaconda3\\lib\\site-packages (from matplotlib->catboost) (0.10.0)\n",
      "Collecting tenacity>=6.2.0\n",
      "  Downloading tenacity-8.0.1-py3-none-any.whl (24 kB)\n",
      "Installing collected packages: tenacity, plotly, graphviz, catboost\n",
      "Successfully installed catboost-1.0.4 graphviz-0.19.1 plotly-5.6.0 tenacity-8.0.1\n",
      "\n"
     ]
    }
   ],
   "source": [
    "pip install catboost"
   ]
  },
  {
   "cell_type": "code",
   "execution_count": 72,
   "id": "809a2a07",
   "metadata": {},
   "outputs": [
    {
     "name": "stdout",
     "output_type": "stream",
     "text": [
      "Note: you may need to restart the kernel to use updated packages.\n"
     ]
    },
    {
     "name": "stderr",
     "output_type": "stream",
     "text": [
      "ERROR: Could not find a version that satisfies the requirement autosklearn (from versions: none)\n",
      "ERROR: No matching distribution found for autosklearn\n"
     ]
    }
   ],
   "source": [
    "pip install autosklearn"
   ]
  },
  {
   "cell_type": "code",
   "execution_count": 69,
   "id": "11ed5c02",
   "metadata": {},
   "outputs": [
    {
     "ename": "ModuleNotFoundError",
     "evalue": "No module named 'autosklearn'",
     "output_type": "error",
     "traceback": [
      "\u001b[1;31m---------------------------------------------------------------------------\u001b[0m",
      "\u001b[1;31mModuleNotFoundError\u001b[0m                       Traceback (most recent call last)",
      "\u001b[1;32mC:\\Users\\AMERI_~1\\AppData\\Local\\Temp/ipykernel_1756/3628065229.py\u001b[0m in \u001b[0;36m<module>\u001b[1;34m\u001b[0m\n\u001b[1;32m----> 1\u001b[1;33m \u001b[1;32mimport\u001b[0m \u001b[0mautosklearn\u001b[0m\u001b[1;33m\u001b[0m\u001b[1;33m\u001b[0m\u001b[0m\n\u001b[0m",
      "\u001b[1;31mModuleNotFoundError\u001b[0m: No module named 'autosklearn'"
     ]
    }
   ],
   "source": [
    "import autosklearn"
   ]
  },
  {
   "cell_type": "code",
   "execution_count": 73,
   "id": "c0e9b013",
   "metadata": {},
   "outputs": [
    {
     "ename": "NameError",
     "evalue": "name 'AutoSklearnClassifier' is not defined",
     "output_type": "error",
     "traceback": [
      "\u001b[1;31m---------------------------------------------------------------------------\u001b[0m",
      "\u001b[1;31mNameError\u001b[0m                                 Traceback (most recent call last)",
      "\u001b[1;32mC:\\Users\\AMERI_~1\\AppData\\Local\\Temp/ipykernel_1756/3313183046.py\u001b[0m in \u001b[0;36m<module>\u001b[1;34m\u001b[0m\n\u001b[1;32m----> 1\u001b[1;33m \u001b[0mmodel\u001b[0m \u001b[1;33m=\u001b[0m \u001b[0mAutoSklearnClassifier\u001b[0m\u001b[1;33m(\u001b[0m\u001b[0mtime_left_for_this_task\u001b[0m\u001b[1;33m=\u001b[0m\u001b[1;36m2\u001b[0m\u001b[1;33m*\u001b[0m\u001b[1;36m60\u001b[0m\u001b[1;33m,\u001b[0m \u001b[0mper_run_time_limit\u001b[0m\u001b[1;33m=\u001b[0m\u001b[1;36m30\u001b[0m\u001b[1;33m,\u001b[0m \u001b[0mn_jobs\u001b[0m\u001b[1;33m=\u001b[0m\u001b[1;36m8\u001b[0m\u001b[1;33m)\u001b[0m\u001b[1;33m\u001b[0m\u001b[1;33m\u001b[0m\u001b[0m\n\u001b[0m\u001b[0;32m      2\u001b[0m \u001b[1;33m\u001b[0m\u001b[0m\n\u001b[0;32m      3\u001b[0m \u001b[0mmodel\u001b[0m\u001b[1;33m.\u001b[0m\u001b[0mfit\u001b[0m\u001b[1;33m(\u001b[0m\u001b[0mx_val_train\u001b[0m\u001b[1;33m,\u001b[0m \u001b[0my_val_train\u001b[0m\u001b[1;33m)\u001b[0m\u001b[1;33m\u001b[0m\u001b[1;33m\u001b[0m\u001b[0m\n\u001b[0;32m      4\u001b[0m \u001b[1;33m\u001b[0m\u001b[0m\n\u001b[0;32m      5\u001b[0m \u001b[0mprint\u001b[0m\u001b[1;33m(\u001b[0m\u001b[0mmodel\u001b[0m\u001b[1;33m.\u001b[0m\u001b[0msprint_statistics\u001b[0m\u001b[1;33m(\u001b[0m\u001b[1;33m)\u001b[0m\u001b[1;33m)\u001b[0m\u001b[1;33m\u001b[0m\u001b[1;33m\u001b[0m\u001b[0m\n",
      "\u001b[1;31mNameError\u001b[0m: name 'AutoSklearnClassifier' is not defined"
     ]
    }
   ],
   "source": [
    "model = AutoSklearnClassifier(time_left_for_this_task=2*60, per_run_time_limit=30, n_jobs=8)\n",
    "\n",
    "model.fit(x_val_train, y_val_train)\n",
    "\n",
    "print(model.sprint_statistics())\n",
    "# evaluate best model\n",
    "y_hat = model.predict(X_test)\n",
    "acc = accuracy_score(y_test, y_hat)\n",
    "print(\"Accuracy: %.3f\" % acc)"
   ]
  },
  {
   "cell_type": "code",
   "execution_count": null,
   "id": "3dcd715c",
   "metadata": {},
   "outputs": [],
   "source": []
  }
 ],
 "metadata": {
  "kernelspec": {
   "display_name": "Python 3 (ipykernel)",
   "language": "python",
   "name": "python3"
  },
  "language_info": {
   "codemirror_mode": {
    "name": "ipython",
    "version": 3
   },
   "file_extension": ".py",
   "mimetype": "text/x-python",
   "name": "python",
   "nbconvert_exporter": "python",
   "pygments_lexer": "ipython3",
   "version": "3.9.7"
  }
 },
 "nbformat": 4,
 "nbformat_minor": 5
}
