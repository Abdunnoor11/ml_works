{
 "cells": [
  {
   "cell_type": "code",
   "execution_count": 1,
   "metadata": {
    "_cell_guid": "b1076dfc-b9ad-4769-8c92-a6c4dae69d19",
    "_uuid": "8f2839f25d086af736a60e9eeb907d3b93b6e0e5",
    "execution": {
     "iopub.execute_input": "2022-03-05T00:36:15.711587Z",
     "iopub.status.busy": "2022-03-05T00:36:15.711140Z",
     "iopub.status.idle": "2022-03-05T00:36:15.724490Z",
     "shell.execute_reply": "2022-03-05T00:36:15.723774Z",
     "shell.execute_reply.started": "2022-03-05T00:36:15.711520Z"
    }
   },
   "outputs": [],
   "source": [
    "# This Python 3 environment comes with many helpful analytics libraries installed\n",
    "# It is defined by the kaggle/python Docker image: https://github.com/kaggle/docker-python\n",
    "# For example, here's several helpful packages to load\n",
    "%matplotlib inline\n",
    "# %matplotlib notebook\n",
    "import numpy as np # linear algebra\n",
    "import pandas as pd # data processing, CSV file I/O (e.g. pd.read_csv)\n",
    "import matplotlib.pyplot as plt\n",
    "import seaborn as sns\n",
    "from sklearn.preprocessing import LabelEncoder\n",
    "import random\n",
    "from sklearn.metrics import accuracy_score\n",
    "from sklearn import metrics\n",
    "from pandas_profiling import ProfileReport\n",
    "\n",
    "# Input data files are available in the read-only \"../input/\" directory\n",
    "# For example, running this (by clicking run or pressing Shift+Enter) will list all files under the input directory\n",
    "\n",
    "# import os\n",
    "# for dirname, _, filenames in os.walk('/kaggle/input'):\n",
    "#     for filename in filenames:\n",
    "#         print(os.path.join(dirname, filename))\n",
    "\n",
    "# You can write up to 20GB to the current directory (/kaggle/working/) that gets preserved as output when you create a version using \"Save & Run All\" \n",
    "# You can also write temporary files to /kaggle/temp/, but they won't be saved outside of the current session"
   ]
  },
  {
   "cell_type": "code",
   "execution_count": 4,
   "metadata": {
    "execution": {
     "iopub.execute_input": "2022-03-05T00:36:15.727918Z",
     "iopub.status.busy": "2022-03-05T00:36:15.726390Z",
     "iopub.status.idle": "2022-03-05T00:36:28.789421Z",
     "shell.execute_reply": "2022-03-05T00:36:28.788616Z",
     "shell.execute_reply.started": "2022-03-05T00:36:15.727879Z"
    }
   },
   "outputs": [],
   "source": [
    "train = pd.read_csv('train.csv', low_memory=False)"
   ]
  },
  {
   "cell_type": "code",
   "execution_count": 5,
   "metadata": {
    "execution": {
     "iopub.execute_input": "2022-03-05T00:36:28.795880Z",
     "iopub.status.busy": "2022-03-05T00:36:28.793705Z",
     "iopub.status.idle": "2022-03-05T00:36:34.632338Z",
     "shell.execute_reply": "2022-03-05T00:36:34.631591Z",
     "shell.execute_reply.started": "2022-03-05T00:36:28.795829Z"
    }
   },
   "outputs": [],
   "source": [
    "test  = pd.read_csv('test.csv')"
   ]
  },
  {
   "cell_type": "code",
   "execution_count": 3,
   "metadata": {
    "execution": {
     "iopub.execute_input": "2022-03-05T00:36:34.634777Z",
     "iopub.status.busy": "2022-03-05T00:36:34.634390Z",
     "iopub.status.idle": "2022-03-05T00:36:34.644172Z",
     "shell.execute_reply": "2022-03-05T00:36:34.643497Z",
     "shell.execute_reply.started": "2022-03-05T00:36:34.634737Z"
    }
   },
   "outputs": [
    {
     "data": {
      "text/plain": [
       "(110938, 190)"
      ]
     },
     "execution_count": 3,
     "metadata": {},
     "output_type": "execute_result"
    }
   ],
   "source": [
    "train.shape"
   ]
  },
  {
   "cell_type": "code",
   "execution_count": 6,
   "metadata": {
    "execution": {
     "iopub.execute_input": "2022-03-05T00:36:34.646169Z",
     "iopub.status.busy": "2022-03-05T00:36:34.645768Z",
     "iopub.status.idle": "2022-03-05T00:36:34.658955Z",
     "shell.execute_reply": "2022-03-05T00:36:34.658197Z",
     "shell.execute_reply.started": "2022-03-05T00:36:34.646128Z"
    }
   },
   "outputs": [
    {
     "data": {
      "text/plain": [
       "(72711, 189)"
      ]
     },
     "execution_count": 6,
     "metadata": {},
     "output_type": "execute_result"
    }
   ],
   "source": [
    "test.shape"
   ]
  },
  {
   "cell_type": "code",
   "execution_count": 27,
   "metadata": {
    "execution": {
     "iopub.execute_input": "2022-03-05T00:36:34.663022Z",
     "iopub.status.busy": "2022-03-05T00:36:34.662362Z",
     "iopub.status.idle": "2022-03-05T00:36:34.673514Z",
     "shell.execute_reply": "2022-03-05T00:36:34.672810Z",
     "shell.execute_reply.started": "2022-03-05T00:36:34.662985Z"
    }
   },
   "outputs": [],
   "source": [
    "# design_report = ProfileReport(train)\n",
    "# design_report.to_file(output_file='report.html')"
   ]
  },
  {
   "cell_type": "code",
   "execution_count": 244,
   "metadata": {
    "execution": {
     "iopub.execute_input": "2022-03-05T00:36:34.675418Z",
     "iopub.status.busy": "2022-03-05T00:36:34.674961Z",
     "iopub.status.idle": "2022-03-05T00:36:34.724143Z",
     "shell.execute_reply": "2022-03-05T00:36:34.723390Z",
     "shell.execute_reply.started": "2022-03-05T00:36:34.675380Z"
    },
    "scrolled": true
   },
   "outputs": [
    {
     "data": {
      "text/html": [
       "<div>\n",
       "<style scoped>\n",
       "    .dataframe tbody tr th:only-of-type {\n",
       "        vertical-align: middle;\n",
       "    }\n",
       "\n",
       "    .dataframe tbody tr th {\n",
       "        vertical-align: top;\n",
       "    }\n",
       "\n",
       "    .dataframe thead th {\n",
       "        text-align: right;\n",
       "    }\n",
       "</style>\n",
       "<table border=\"1\" class=\"dataframe\">\n",
       "  <thead>\n",
       "    <tr style=\"text-align: right;\">\n",
       "      <th></th>\n",
       "      <th>id</th>\n",
       "      <th>target</th>\n",
       "      <th>home_team_name</th>\n",
       "      <th>away_team_name</th>\n",
       "      <th>match_date</th>\n",
       "      <th>league_name</th>\n",
       "      <th>league_id</th>\n",
       "      <th>is_cup</th>\n",
       "      <th>home_team_coach_id</th>\n",
       "      <th>away_team_coach_id</th>\n",
       "      <th>...</th>\n",
       "      <th>away_team_history_league_id_1</th>\n",
       "      <th>away_team_history_league_id_2</th>\n",
       "      <th>away_team_history_league_id_3</th>\n",
       "      <th>away_team_history_league_id_4</th>\n",
       "      <th>away_team_history_league_id_5</th>\n",
       "      <th>away_team_history_league_id_6</th>\n",
       "      <th>away_team_history_league_id_7</th>\n",
       "      <th>away_team_history_league_id_8</th>\n",
       "      <th>away_team_history_league_id_9</th>\n",
       "      <th>away_team_history_league_id_10</th>\n",
       "    </tr>\n",
       "  </thead>\n",
       "  <tbody>\n",
       "    <tr>\n",
       "      <th>0</th>\n",
       "      <td>11906497</td>\n",
       "      <td>away</td>\n",
       "      <td>Newell's Old Boys</td>\n",
       "      <td>River Plate</td>\n",
       "      <td>2019-12-01 00:45:00</td>\n",
       "      <td>Superliga</td>\n",
       "      <td>636</td>\n",
       "      <td>False</td>\n",
       "      <td>468196.0</td>\n",
       "      <td>468200.0</td>\n",
       "      <td>...</td>\n",
       "      <td>1122.0</td>\n",
       "      <td>642.0</td>\n",
       "      <td>636.0</td>\n",
       "      <td>636.0</td>\n",
       "      <td>636.0</td>\n",
       "      <td>1122.0</td>\n",
       "      <td>636.0</td>\n",
       "      <td>642.0</td>\n",
       "      <td>636.0</td>\n",
       "      <td>1122.0</td>\n",
       "    </tr>\n",
       "    <tr>\n",
       "      <th>1</th>\n",
       "      <td>11984383</td>\n",
       "      <td>home</td>\n",
       "      <td>Real Estelí</td>\n",
       "      <td>Deportivo Las Sabanas</td>\n",
       "      <td>2019-12-01 01:00:00</td>\n",
       "      <td>Primera Division</td>\n",
       "      <td>752</td>\n",
       "      <td>False</td>\n",
       "      <td>516788.0</td>\n",
       "      <td>22169161.0</td>\n",
       "      <td>...</td>\n",
       "      <td>752.0</td>\n",
       "      <td>752.0</td>\n",
       "      <td>752.0</td>\n",
       "      <td>752.0</td>\n",
       "      <td>752.0</td>\n",
       "      <td>752.0</td>\n",
       "      <td>752.0</td>\n",
       "      <td>752.0</td>\n",
       "      <td>752.0</td>\n",
       "      <td>752.0</td>\n",
       "    </tr>\n",
       "    <tr>\n",
       "      <th>2</th>\n",
       "      <td>11983301</td>\n",
       "      <td>draw</td>\n",
       "      <td>UPNFM</td>\n",
       "      <td>Marathón</td>\n",
       "      <td>2019-12-01 01:00:00</td>\n",
       "      <td>Liga Nacional</td>\n",
       "      <td>734</td>\n",
       "      <td>False</td>\n",
       "      <td>2510608.0</td>\n",
       "      <td>456313.0</td>\n",
       "      <td>...</td>\n",
       "      <td>734.0</td>\n",
       "      <td>734.0</td>\n",
       "      <td>734.0</td>\n",
       "      <td>734.0</td>\n",
       "      <td>734.0</td>\n",
       "      <td>734.0</td>\n",
       "      <td>734.0</td>\n",
       "      <td>734.0</td>\n",
       "      <td>734.0</td>\n",
       "      <td>734.0</td>\n",
       "    </tr>\n",
       "    <tr>\n",
       "      <th>3</th>\n",
       "      <td>11983471</td>\n",
       "      <td>away</td>\n",
       "      <td>León</td>\n",
       "      <td>Morelia</td>\n",
       "      <td>2019-12-01 01:00:00</td>\n",
       "      <td>Liga MX</td>\n",
       "      <td>743</td>\n",
       "      <td>False</td>\n",
       "      <td>1552508.0</td>\n",
       "      <td>465797.0</td>\n",
       "      <td>...</td>\n",
       "      <td>743.0</td>\n",
       "      <td>743.0</td>\n",
       "      <td>743.0</td>\n",
       "      <td>743.0</td>\n",
       "      <td>743.0</td>\n",
       "      <td>743.0</td>\n",
       "      <td>743.0</td>\n",
       "      <td>743.0</td>\n",
       "      <td>746.0</td>\n",
       "      <td>743.0</td>\n",
       "    </tr>\n",
       "    <tr>\n",
       "      <th>4</th>\n",
       "      <td>11883005</td>\n",
       "      <td>home</td>\n",
       "      <td>Cobán Imperial</td>\n",
       "      <td>Iztapa</td>\n",
       "      <td>2019-12-01 01:00:00</td>\n",
       "      <td>Liga Nacional</td>\n",
       "      <td>705</td>\n",
       "      <td>False</td>\n",
       "      <td>429958.0</td>\n",
       "      <td>426870.0</td>\n",
       "      <td>...</td>\n",
       "      <td>705.0</td>\n",
       "      <td>705.0</td>\n",
       "      <td>705.0</td>\n",
       "      <td>705.0</td>\n",
       "      <td>705.0</td>\n",
       "      <td>705.0</td>\n",
       "      <td>705.0</td>\n",
       "      <td>705.0</td>\n",
       "      <td>705.0</td>\n",
       "      <td>705.0</td>\n",
       "    </tr>\n",
       "  </tbody>\n",
       "</table>\n",
       "<p>5 rows × 190 columns</p>\n",
       "</div>"
      ],
      "text/plain": [
       "         id target     home_team_name         away_team_name  \\\n",
       "0  11906497   away  Newell's Old Boys            River Plate   \n",
       "1  11984383   home        Real Estelí  Deportivo Las Sabanas   \n",
       "2  11983301   draw              UPNFM               Marathón   \n",
       "3  11983471   away               León                Morelia   \n",
       "4  11883005   home     Cobán Imperial                 Iztapa   \n",
       "\n",
       "            match_date       league_name  league_id is_cup  \\\n",
       "0  2019-12-01 00:45:00         Superliga        636  False   \n",
       "1  2019-12-01 01:00:00  Primera Division        752  False   \n",
       "2  2019-12-01 01:00:00     Liga Nacional        734  False   \n",
       "3  2019-12-01 01:00:00           Liga MX        743  False   \n",
       "4  2019-12-01 01:00:00     Liga Nacional        705  False   \n",
       "\n",
       "   home_team_coach_id  away_team_coach_id  ... away_team_history_league_id_1  \\\n",
       "0            468196.0            468200.0  ...                        1122.0   \n",
       "1            516788.0          22169161.0  ...                         752.0   \n",
       "2           2510608.0            456313.0  ...                         734.0   \n",
       "3           1552508.0            465797.0  ...                         743.0   \n",
       "4            429958.0            426870.0  ...                         705.0   \n",
       "\n",
       "  away_team_history_league_id_2 away_team_history_league_id_3  \\\n",
       "0                         642.0                         636.0   \n",
       "1                         752.0                         752.0   \n",
       "2                         734.0                         734.0   \n",
       "3                         743.0                         743.0   \n",
       "4                         705.0                         705.0   \n",
       "\n",
       "  away_team_history_league_id_4 away_team_history_league_id_5  \\\n",
       "0                         636.0                         636.0   \n",
       "1                         752.0                         752.0   \n",
       "2                         734.0                         734.0   \n",
       "3                         743.0                         743.0   \n",
       "4                         705.0                         705.0   \n",
       "\n",
       "  away_team_history_league_id_6 away_team_history_league_id_7  \\\n",
       "0                        1122.0                         636.0   \n",
       "1                         752.0                         752.0   \n",
       "2                         734.0                         734.0   \n",
       "3                         743.0                         743.0   \n",
       "4                         705.0                         705.0   \n",
       "\n",
       "  away_team_history_league_id_8 away_team_history_league_id_9  \\\n",
       "0                         642.0                         636.0   \n",
       "1                         752.0                         752.0   \n",
       "2                         734.0                         734.0   \n",
       "3                         743.0                         746.0   \n",
       "4                         705.0                         705.0   \n",
       "\n",
       "  away_team_history_league_id_10  \n",
       "0                         1122.0  \n",
       "1                          752.0  \n",
       "2                          734.0  \n",
       "3                          743.0  \n",
       "4                          705.0  \n",
       "\n",
       "[5 rows x 190 columns]"
      ]
     },
     "execution_count": 244,
     "metadata": {},
     "output_type": "execute_result"
    }
   ],
   "source": [
    "train.head()"
   ]
  },
  {
   "cell_type": "markdown",
   "metadata": {},
   "source": [
    "#### Descriptive columns"
   ]
  },
  {
   "cell_type": "code",
   "execution_count": null,
   "metadata": {
    "execution": {
     "iopub.execute_input": "2022-03-05T00:36:34.725736Z",
     "iopub.status.busy": "2022-03-05T00:36:34.725357Z",
     "iopub.status.idle": "2022-03-05T00:36:34.737643Z",
     "shell.execute_reply": "2022-03-05T00:36:34.737001Z",
     "shell.execute_reply.started": "2022-03-05T00:36:34.725701Z"
    }
   },
   "outputs": [],
   "source": []
  },
  {
   "cell_type": "code",
   "execution_count": 3,
   "metadata": {
    "execution": {
     "iopub.execute_input": "2022-03-05T00:36:34.739073Z",
     "iopub.status.busy": "2022-03-05T00:36:34.738741Z",
     "iopub.status.idle": "2022-03-05T00:36:34.748431Z",
     "shell.execute_reply": "2022-03-05T00:36:34.747659Z",
     "shell.execute_reply.started": "2022-03-05T00:36:34.739037Z"
    }
   },
   "outputs": [
    {
     "data": {
      "text/plain": [
       "{'away_team_history_coach_10': 27129,\n",
       " 'home_team_history_coach_10': 26653,\n",
       " 'away_team_history_coach_9': 26150,\n",
       " 'home_team_history_coach_9': 25733,\n",
       " 'away_team_history_coach_8': 25219,\n",
       " 'home_team_history_coach_8': 24869,\n",
       " 'away_team_history_coach_7': 24377,\n",
       " 'home_team_history_coach_7': 23980,\n",
       " 'away_team_history_coach_6': 23525,\n",
       " 'home_team_history_coach_6': 23258,\n",
       " 'away_team_history_coach_5': 22855,\n",
       " 'home_team_history_coach_5': 22602,\n",
       " 'away_team_history_coach_4': 22294,\n",
       " 'home_team_history_coach_4': 22118,\n",
       " 'away_team_history_coach_3': 21949,\n",
       " 'away_team_coach_id': 21815,\n",
       " 'home_team_history_coach_3': 21733,\n",
       " 'home_team_coach_id': 21721,\n",
       " 'away_team_history_coach_2': 21696,\n",
       " 'away_team_history_coach_1': 21641,\n",
       " 'home_team_history_coach_2': 21571,\n",
       " 'home_team_history_coach_1': 21523,\n",
       " 'away_team_history_is_cup_10': 14819,\n",
       " 'away_team_history_rating_10': 14223,\n",
       " 'away_team_history_opponent_rating_10': 14223,\n",
       " 'away_team_history_goal_10': 14216,\n",
       " 'away_team_history_match_date_10': 14216,\n",
       " 'away_team_history_is_play_home_10': 14216,\n",
       " 'away_team_history_league_id_10': 14216,\n",
       " 'away_team_history_opponent_goal_10': 14216,\n",
       " 'home_team_history_is_cup_10': 14186,\n",
       " 'home_team_history_rating_10': 13566,\n",
       " 'home_team_history_opponent_rating_10': 13566,\n",
       " 'home_team_history_league_id_10': 13559,\n",
       " 'home_team_history_is_play_home_10': 13559,\n",
       " 'home_team_history_goal_10': 13559,\n",
       " 'home_team_history_opponent_goal_10': 13559,\n",
       " 'home_team_history_match_date_10': 13559,\n",
       " 'away_team_history_is_cup_9': 13305,\n",
       " 'away_team_history_rating_9': 12772,\n",
       " 'away_team_history_opponent_rating_9': 12772,\n",
       " 'away_team_history_is_play_home_9': 12762,\n",
       " 'away_team_history_match_date_9': 12762,\n",
       " 'away_team_history_goal_9': 12762,\n",
       " 'away_team_history_league_id_9': 12762,\n",
       " 'away_team_history_opponent_goal_9': 12762,\n",
       " 'home_team_history_is_cup_9': 12730,\n",
       " 'home_team_history_rating_9': 12141,\n",
       " 'home_team_history_opponent_rating_9': 12141,\n",
       " 'home_team_history_opponent_goal_9': 12136,\n",
       " 'home_team_history_match_date_9': 12136,\n",
       " 'home_team_history_league_id_9': 12136,\n",
       " 'home_team_history_is_play_home_9': 12136,\n",
       " 'home_team_history_goal_9': 12136,\n",
       " 'away_team_history_is_cup_8': 11779,\n",
       " 'away_team_history_opponent_rating_8': 11303,\n",
       " 'away_team_history_rating_8': 11303,\n",
       " 'away_team_history_match_date_8': 11295,\n",
       " 'away_team_history_is_play_home_8': 11295,\n",
       " 'away_team_history_league_id_8': 11295,\n",
       " 'away_team_history_goal_8': 11295,\n",
       " 'away_team_history_opponent_goal_8': 11295,\n",
       " 'home_team_history_is_cup_8': 11263,\n",
       " 'home_team_history_opponent_rating_8': 10729,\n",
       " 'home_team_history_rating_8': 10729,\n",
       " 'home_team_history_league_id_8': 10719,\n",
       " 'home_team_history_goal_8': 10719,\n",
       " 'home_team_history_match_date_8': 10719,\n",
       " 'home_team_history_is_play_home_8': 10719,\n",
       " 'home_team_history_opponent_goal_8': 10719,\n",
       " 'away_team_history_is_cup_7': 10283,\n",
       " 'away_team_history_rating_7': 9878,\n",
       " 'away_team_history_opponent_rating_7': 9878,\n",
       " 'away_team_history_is_play_home_7': 9867,\n",
       " 'away_team_history_opponent_goal_7': 9867,\n",
       " 'away_team_history_league_id_7': 9867,\n",
       " 'away_team_history_match_date_7': 9867,\n",
       " 'away_team_history_goal_7': 9867,\n",
       " 'home_team_history_is_cup_7': 9720,\n",
       " 'home_team_history_rating_7': 9308,\n",
       " 'home_team_history_opponent_rating_7': 9308,\n",
       " 'home_team_history_match_date_7': 9295,\n",
       " 'home_team_history_goal_7': 9295,\n",
       " 'home_team_history_opponent_goal_7': 9295,\n",
       " 'home_team_history_league_id_7': 9295,\n",
       " 'home_team_history_is_play_home_7': 9295,\n",
       " 'away_team_history_is_cup_6': 8747,\n",
       " 'away_team_history_opponent_rating_6': 8437,\n",
       " 'away_team_history_rating_6': 8437,\n",
       " 'away_team_history_league_id_6': 8426,\n",
       " 'away_team_history_goal_6': 8426,\n",
       " 'away_team_history_opponent_goal_6': 8426,\n",
       " 'away_team_history_is_play_home_6': 8426,\n",
       " 'away_team_history_match_date_6': 8426,\n",
       " 'home_team_history_is_cup_6': 8231,\n",
       " 'home_team_history_rating_6': 7909,\n",
       " 'home_team_history_opponent_rating_6': 7909,\n",
       " 'home_team_history_league_id_6': 7896,\n",
       " 'home_team_history_opponent_goal_6': 7896,\n",
       " 'home_team_history_match_date_6': 7896,\n",
       " 'home_team_history_goal_6': 7896,\n",
       " 'home_team_history_is_play_home_6': 7896,\n",
       " 'away_team_history_is_cup_5': 7255,\n",
       " 'away_team_history_opponent_rating_5': 7016,\n",
       " 'away_team_history_rating_5': 7016,\n",
       " 'away_team_history_match_date_5': 7000,\n",
       " 'away_team_history_is_play_home_5': 7000,\n",
       " 'away_team_history_opponent_goal_5': 7000,\n",
       " 'away_team_history_goal_5': 7000,\n",
       " 'away_team_history_league_id_5': 7000,\n",
       " 'home_team_history_is_cup_5': 6748,\n",
       " 'home_team_history_opponent_rating_5': 6485,\n",
       " 'home_team_history_rating_5': 6485,\n",
       " 'home_team_history_league_id_5': 6477,\n",
       " 'home_team_history_goal_5': 6477,\n",
       " 'home_team_history_opponent_goal_5': 6477,\n",
       " 'home_team_history_is_play_home_5': 6477,\n",
       " 'home_team_history_match_date_5': 6477,\n",
       " 'away_team_history_is_cup_4': 5721,\n",
       " 'away_team_history_opponent_rating_4': 5525,\n",
       " 'away_team_history_rating_4': 5525,\n",
       " 'away_team_history_match_date_4': 5516,\n",
       " 'away_team_history_opponent_goal_4': 5516,\n",
       " 'away_team_history_is_play_home_4': 5516,\n",
       " 'away_team_history_league_id_4': 5516,\n",
       " 'away_team_history_goal_4': 5516,\n",
       " 'home_team_history_is_cup_4': 5299,\n",
       " 'home_team_history_rating_4': 5117,\n",
       " 'home_team_history_opponent_rating_4': 5117,\n",
       " 'home_team_history_is_play_home_4': 5101,\n",
       " 'home_team_history_opponent_goal_4': 5101,\n",
       " 'home_team_history_goal_4': 5101,\n",
       " 'home_team_history_match_date_4': 5101,\n",
       " 'home_team_history_league_id_4': 5101,\n",
       " 'away_team_history_is_cup_3': 4172,\n",
       " 'away_team_history_opponent_rating_3': 4047,\n",
       " 'away_team_history_rating_3': 4047,\n",
       " 'away_team_history_goal_3': 4034,\n",
       " 'away_team_history_match_date_3': 4034,\n",
       " 'away_team_history_is_play_home_3': 4034,\n",
       " 'away_team_history_opponent_goal_3': 4034,\n",
       " 'away_team_history_league_id_3': 4034,\n",
       " 'home_team_history_is_cup_3': 3913,\n",
       " 'home_team_history_opponent_rating_3': 3785,\n",
       " 'home_team_history_rating_3': 3785,\n",
       " 'home_team_history_goal_3': 3773,\n",
       " 'home_team_history_opponent_goal_3': 3773,\n",
       " 'home_team_history_is_play_home_3': 3773,\n",
       " 'home_team_history_match_date_3': 3773,\n",
       " 'home_team_history_league_id_3': 3773,\n",
       " 'away_team_history_is_cup_2': 2681,\n",
       " 'away_team_history_rating_2': 2603,\n",
       " 'away_team_history_opponent_rating_2': 2603,\n",
       " 'away_team_history_league_id_2': 2593,\n",
       " 'away_team_history_opponent_goal_2': 2593,\n",
       " 'away_team_history_is_play_home_2': 2593,\n",
       " 'away_team_history_match_date_2': 2593,\n",
       " 'away_team_history_goal_2': 2593,\n",
       " 'home_team_history_is_cup_2': 2557,\n",
       " 'home_team_history_rating_2': 2466,\n",
       " 'home_team_history_opponent_rating_2': 2466,\n",
       " 'home_team_history_is_play_home_2': 2451,\n",
       " 'home_team_history_match_date_2': 2451,\n",
       " 'home_team_history_goal_2': 2451,\n",
       " 'home_team_history_opponent_goal_2': 2451,\n",
       " 'home_team_history_league_id_2': 2451,\n",
       " 'away_team_history_is_cup_1': 1274,\n",
       " 'away_team_history_opponent_rating_1': 1239,\n",
       " 'away_team_history_rating_1': 1239,\n",
       " 'away_team_history_opponent_goal_1': 1226,\n",
       " 'away_team_history_league_id_1': 1226,\n",
       " 'away_team_history_is_play_home_1': 1226,\n",
       " 'away_team_history_match_date_1': 1226,\n",
       " 'away_team_history_goal_1': 1226,\n",
       " 'home_team_history_is_cup_1': 1213,\n",
       " 'home_team_history_opponent_rating_1': 1171,\n",
       " 'home_team_history_rating_1': 1171,\n",
       " 'home_team_history_match_date_1': 1159,\n",
       " 'home_team_history_is_play_home_1': 1159,\n",
       " 'home_team_history_goal_1': 1159,\n",
       " 'home_team_history_opponent_goal_1': 1159,\n",
       " 'home_team_history_league_id_1': 1159,\n",
       " 'away_team_name': 1,\n",
       " 'is_cup': 1,\n",
       " 'league_name': 1,\n",
       " 'home_team_name': 1}"
      ]
     },
     "execution_count": 3,
     "metadata": {},
     "output_type": "execute_result"
    }
   ],
   "source": [
    "# nullvalues = train.loc[:, train.isnull().any()].isnull().sum().sort_values(ascending=False)\n",
    "\n",
    "# nullvalues.to_dict()"
   ]
  },
  {
   "cell_type": "code",
   "execution_count": 6,
   "metadata": {
    "execution": {
     "iopub.execute_input": "2022-03-05T00:36:35.098626Z",
     "iopub.status.busy": "2022-03-05T00:36:35.098151Z",
     "iopub.status.idle": "2022-03-05T00:36:35.283371Z",
     "shell.execute_reply": "2022-03-05T00:36:35.282600Z",
     "shell.execute_reply.started": "2022-03-05T00:36:35.098584Z"
    }
   },
   "outputs": [
    {
     "data": {
      "text/html": [
       "<div>\n",
       "<style scoped>\n",
       "    .dataframe tbody tr th:only-of-type {\n",
       "        vertical-align: middle;\n",
       "    }\n",
       "\n",
       "    .dataframe tbody tr th {\n",
       "        vertical-align: top;\n",
       "    }\n",
       "\n",
       "    .dataframe thead th {\n",
       "        text-align: right;\n",
       "    }\n",
       "</style>\n",
       "<table border=\"1\" class=\"dataframe\">\n",
       "  <thead>\n",
       "    <tr style=\"text-align: right;\">\n",
       "      <th></th>\n",
       "      <th>id</th>\n",
       "      <th>target</th>\n",
       "      <th>home_team_name</th>\n",
       "      <th>away_team_name</th>\n",
       "      <th>match_date</th>\n",
       "      <th>league_name</th>\n",
       "      <th>league_id</th>\n",
       "      <th>is_cup</th>\n",
       "      <th>home_team_coach_id</th>\n",
       "      <th>away_team_coach_id</th>\n",
       "      <th>...</th>\n",
       "      <th>away_team_history_league_id_1</th>\n",
       "      <th>away_team_history_league_id_2</th>\n",
       "      <th>away_team_history_league_id_3</th>\n",
       "      <th>away_team_history_league_id_4</th>\n",
       "      <th>away_team_history_league_id_5</th>\n",
       "      <th>away_team_history_league_id_6</th>\n",
       "      <th>away_team_history_league_id_7</th>\n",
       "      <th>away_team_history_league_id_8</th>\n",
       "      <th>away_team_history_league_id_9</th>\n",
       "      <th>away_team_history_league_id_10</th>\n",
       "    </tr>\n",
       "  </thead>\n",
       "  <tbody>\n",
       "    <tr>\n",
       "      <th>0</th>\n",
       "      <td>11906497</td>\n",
       "      <td>away</td>\n",
       "      <td>Newell's Old Boys</td>\n",
       "      <td>River Plate</td>\n",
       "      <td>2019-12-01 00:45:00</td>\n",
       "      <td>Superliga</td>\n",
       "      <td>636</td>\n",
       "      <td>False</td>\n",
       "      <td>468196.0</td>\n",
       "      <td>468200.0</td>\n",
       "      <td>...</td>\n",
       "      <td>1122.0</td>\n",
       "      <td>642.0</td>\n",
       "      <td>636.0</td>\n",
       "      <td>636.0</td>\n",
       "      <td>636.0</td>\n",
       "      <td>1122.0</td>\n",
       "      <td>636.0</td>\n",
       "      <td>642.0</td>\n",
       "      <td>636.0</td>\n",
       "      <td>1122.0</td>\n",
       "    </tr>\n",
       "    <tr>\n",
       "      <th>1</th>\n",
       "      <td>11984383</td>\n",
       "      <td>home</td>\n",
       "      <td>Real Estelí</td>\n",
       "      <td>Deportivo Las Sabanas</td>\n",
       "      <td>2019-12-01 01:00:00</td>\n",
       "      <td>Primera Division</td>\n",
       "      <td>752</td>\n",
       "      <td>False</td>\n",
       "      <td>516788.0</td>\n",
       "      <td>22169161.0</td>\n",
       "      <td>...</td>\n",
       "      <td>752.0</td>\n",
       "      <td>752.0</td>\n",
       "      <td>752.0</td>\n",
       "      <td>752.0</td>\n",
       "      <td>752.0</td>\n",
       "      <td>752.0</td>\n",
       "      <td>752.0</td>\n",
       "      <td>752.0</td>\n",
       "      <td>752.0</td>\n",
       "      <td>752.0</td>\n",
       "    </tr>\n",
       "    <tr>\n",
       "      <th>2</th>\n",
       "      <td>11983301</td>\n",
       "      <td>draw</td>\n",
       "      <td>UPNFM</td>\n",
       "      <td>Marathón</td>\n",
       "      <td>2019-12-01 01:00:00</td>\n",
       "      <td>Liga Nacional</td>\n",
       "      <td>734</td>\n",
       "      <td>False</td>\n",
       "      <td>2510608.0</td>\n",
       "      <td>456313.0</td>\n",
       "      <td>...</td>\n",
       "      <td>734.0</td>\n",
       "      <td>734.0</td>\n",
       "      <td>734.0</td>\n",
       "      <td>734.0</td>\n",
       "      <td>734.0</td>\n",
       "      <td>734.0</td>\n",
       "      <td>734.0</td>\n",
       "      <td>734.0</td>\n",
       "      <td>734.0</td>\n",
       "      <td>734.0</td>\n",
       "    </tr>\n",
       "    <tr>\n",
       "      <th>3</th>\n",
       "      <td>11983471</td>\n",
       "      <td>away</td>\n",
       "      <td>León</td>\n",
       "      <td>Morelia</td>\n",
       "      <td>2019-12-01 01:00:00</td>\n",
       "      <td>Liga MX</td>\n",
       "      <td>743</td>\n",
       "      <td>False</td>\n",
       "      <td>1552508.0</td>\n",
       "      <td>465797.0</td>\n",
       "      <td>...</td>\n",
       "      <td>743.0</td>\n",
       "      <td>743.0</td>\n",
       "      <td>743.0</td>\n",
       "      <td>743.0</td>\n",
       "      <td>743.0</td>\n",
       "      <td>743.0</td>\n",
       "      <td>743.0</td>\n",
       "      <td>743.0</td>\n",
       "      <td>746.0</td>\n",
       "      <td>743.0</td>\n",
       "    </tr>\n",
       "    <tr>\n",
       "      <th>4</th>\n",
       "      <td>11883005</td>\n",
       "      <td>home</td>\n",
       "      <td>Cobán Imperial</td>\n",
       "      <td>Iztapa</td>\n",
       "      <td>2019-12-01 01:00:00</td>\n",
       "      <td>Liga Nacional</td>\n",
       "      <td>705</td>\n",
       "      <td>False</td>\n",
       "      <td>429958.0</td>\n",
       "      <td>426870.0</td>\n",
       "      <td>...</td>\n",
       "      <td>705.0</td>\n",
       "      <td>705.0</td>\n",
       "      <td>705.0</td>\n",
       "      <td>705.0</td>\n",
       "      <td>705.0</td>\n",
       "      <td>705.0</td>\n",
       "      <td>705.0</td>\n",
       "      <td>705.0</td>\n",
       "      <td>705.0</td>\n",
       "      <td>705.0</td>\n",
       "    </tr>\n",
       "    <tr>\n",
       "      <th>...</th>\n",
       "      <td>...</td>\n",
       "      <td>...</td>\n",
       "      <td>...</td>\n",
       "      <td>...</td>\n",
       "      <td>...</td>\n",
       "      <td>...</td>\n",
       "      <td>...</td>\n",
       "      <td>...</td>\n",
       "      <td>...</td>\n",
       "      <td>...</td>\n",
       "      <td>...</td>\n",
       "      <td>...</td>\n",
       "      <td>...</td>\n",
       "      <td>...</td>\n",
       "      <td>...</td>\n",
       "      <td>...</td>\n",
       "      <td>...</td>\n",
       "      <td>...</td>\n",
       "      <td>...</td>\n",
       "      <td>...</td>\n",
       "      <td>...</td>\n",
       "    </tr>\n",
       "    <tr>\n",
       "      <th>110932</th>\n",
       "      <td>17948949</td>\n",
       "      <td>away</td>\n",
       "      <td>New York RB II</td>\n",
       "      <td>Hartford Athletic</td>\n",
       "      <td>2021-04-30 23:00:00</td>\n",
       "      <td>USL Championship</td>\n",
       "      <td>791</td>\n",
       "      <td>False</td>\n",
       "      <td>2511000.0</td>\n",
       "      <td>3645.0</td>\n",
       "      <td>...</td>\n",
       "      <td>791.0</td>\n",
       "      <td>791.0</td>\n",
       "      <td>791.0</td>\n",
       "      <td>791.0</td>\n",
       "      <td>791.0</td>\n",
       "      <td>791.0</td>\n",
       "      <td>791.0</td>\n",
       "      <td>791.0</td>\n",
       "      <td>791.0</td>\n",
       "      <td>791.0</td>\n",
       "    </tr>\n",
       "    <tr>\n",
       "      <th>110934</th>\n",
       "      <td>18030096</td>\n",
       "      <td>away</td>\n",
       "      <td>Royal Pari</td>\n",
       "      <td>Oriente Petrolero</td>\n",
       "      <td>2021-04-30 23:00:00</td>\n",
       "      <td>Liga De Futbol Prof</td>\n",
       "      <td>1098</td>\n",
       "      <td>False</td>\n",
       "      <td>465833.0</td>\n",
       "      <td>16488543.0</td>\n",
       "      <td>...</td>\n",
       "      <td>1098.0</td>\n",
       "      <td>1098.0</td>\n",
       "      <td>1098.0</td>\n",
       "      <td>1098.0</td>\n",
       "      <td>1098.0</td>\n",
       "      <td>1098.0</td>\n",
       "      <td>1098.0</td>\n",
       "      <td>1098.0</td>\n",
       "      <td>1098.0</td>\n",
       "      <td>1098.0</td>\n",
       "    </tr>\n",
       "    <tr>\n",
       "      <th>110935</th>\n",
       "      <td>17715497</td>\n",
       "      <td>draw</td>\n",
       "      <td>São Bernardo</td>\n",
       "      <td>Água Santa</td>\n",
       "      <td>2021-04-30 23:00:00</td>\n",
       "      <td>Paulista A2</td>\n",
       "      <td>1314</td>\n",
       "      <td>False</td>\n",
       "      <td>8416491.0</td>\n",
       "      <td>528562.0</td>\n",
       "      <td>...</td>\n",
       "      <td>1314.0</td>\n",
       "      <td>1314.0</td>\n",
       "      <td>1314.0</td>\n",
       "      <td>1314.0</td>\n",
       "      <td>1314.0</td>\n",
       "      <td>1314.0</td>\n",
       "      <td>1314.0</td>\n",
       "      <td>1314.0</td>\n",
       "      <td>1746.0</td>\n",
       "      <td>1746.0</td>\n",
       "    </tr>\n",
       "    <tr>\n",
       "      <th>110936</th>\n",
       "      <td>17944153</td>\n",
       "      <td>away</td>\n",
       "      <td>Everton</td>\n",
       "      <td>La Serena</td>\n",
       "      <td>2021-05-01 00:00:00</td>\n",
       "      <td>Primera Division</td>\n",
       "      <td>663</td>\n",
       "      <td>False</td>\n",
       "      <td>6973085.0</td>\n",
       "      <td>471757.0</td>\n",
       "      <td>...</td>\n",
       "      <td>663.0</td>\n",
       "      <td>663.0</td>\n",
       "      <td>663.0</td>\n",
       "      <td>663.0</td>\n",
       "      <td>663.0</td>\n",
       "      <td>663.0</td>\n",
       "      <td>663.0</td>\n",
       "      <td>663.0</td>\n",
       "      <td>663.0</td>\n",
       "      <td>663.0</td>\n",
       "    </tr>\n",
       "    <tr>\n",
       "      <th>110937</th>\n",
       "      <td>17786297</td>\n",
       "      <td>home</td>\n",
       "      <td>Colón</td>\n",
       "      <td>Arsenal de Sarandi</td>\n",
       "      <td>2021-05-01 00:00:00</td>\n",
       "      <td>Superliga</td>\n",
       "      <td>636</td>\n",
       "      <td>False</td>\n",
       "      <td>213970.0</td>\n",
       "      <td>470859.0</td>\n",
       "      <td>...</td>\n",
       "      <td>1116.0</td>\n",
       "      <td>636.0</td>\n",
       "      <td>1116.0</td>\n",
       "      <td>636.0</td>\n",
       "      <td>636.0</td>\n",
       "      <td>636.0</td>\n",
       "      <td>636.0</td>\n",
       "      <td>636.0</td>\n",
       "      <td>636.0</td>\n",
       "      <td>636.0</td>\n",
       "    </tr>\n",
       "  </tbody>\n",
       "</table>\n",
       "<p>64117 rows × 190 columns</p>\n",
       "</div>"
      ],
      "text/plain": [
       "              id target     home_team_name         away_team_name  \\\n",
       "0       11906497   away  Newell's Old Boys            River Plate   \n",
       "1       11984383   home        Real Estelí  Deportivo Las Sabanas   \n",
       "2       11983301   draw              UPNFM               Marathón   \n",
       "3       11983471   away               León                Morelia   \n",
       "4       11883005   home     Cobán Imperial                 Iztapa   \n",
       "...          ...    ...                ...                    ...   \n",
       "110932  17948949   away     New York RB II      Hartford Athletic   \n",
       "110934  18030096   away         Royal Pari      Oriente Petrolero   \n",
       "110935  17715497   draw       São Bernardo             Água Santa   \n",
       "110936  17944153   away            Everton              La Serena   \n",
       "110937  17786297   home              Colón     Arsenal de Sarandi   \n",
       "\n",
       "                 match_date          league_name  league_id is_cup  \\\n",
       "0       2019-12-01 00:45:00            Superliga        636  False   \n",
       "1       2019-12-01 01:00:00     Primera Division        752  False   \n",
       "2       2019-12-01 01:00:00        Liga Nacional        734  False   \n",
       "3       2019-12-01 01:00:00              Liga MX        743  False   \n",
       "4       2019-12-01 01:00:00        Liga Nacional        705  False   \n",
       "...                     ...                  ...        ...    ...   \n",
       "110932  2021-04-30 23:00:00     USL Championship        791  False   \n",
       "110934  2021-04-30 23:00:00  Liga De Futbol Prof       1098  False   \n",
       "110935  2021-04-30 23:00:00          Paulista A2       1314  False   \n",
       "110936  2021-05-01 00:00:00     Primera Division        663  False   \n",
       "110937  2021-05-01 00:00:00            Superliga        636  False   \n",
       "\n",
       "        home_team_coach_id  away_team_coach_id  ...  \\\n",
       "0                 468196.0            468200.0  ...   \n",
       "1                 516788.0          22169161.0  ...   \n",
       "2                2510608.0            456313.0  ...   \n",
       "3                1552508.0            465797.0  ...   \n",
       "4                 429958.0            426870.0  ...   \n",
       "...                    ...                 ...  ...   \n",
       "110932           2511000.0              3645.0  ...   \n",
       "110934            465833.0          16488543.0  ...   \n",
       "110935           8416491.0            528562.0  ...   \n",
       "110936           6973085.0            471757.0  ...   \n",
       "110937            213970.0            470859.0  ...   \n",
       "\n",
       "       away_team_history_league_id_1 away_team_history_league_id_2  \\\n",
       "0                             1122.0                         642.0   \n",
       "1                              752.0                         752.0   \n",
       "2                              734.0                         734.0   \n",
       "3                              743.0                         743.0   \n",
       "4                              705.0                         705.0   \n",
       "...                              ...                           ...   \n",
       "110932                         791.0                         791.0   \n",
       "110934                        1098.0                        1098.0   \n",
       "110935                        1314.0                        1314.0   \n",
       "110936                         663.0                         663.0   \n",
       "110937                        1116.0                         636.0   \n",
       "\n",
       "       away_team_history_league_id_3 away_team_history_league_id_4  \\\n",
       "0                              636.0                         636.0   \n",
       "1                              752.0                         752.0   \n",
       "2                              734.0                         734.0   \n",
       "3                              743.0                         743.0   \n",
       "4                              705.0                         705.0   \n",
       "...                              ...                           ...   \n",
       "110932                         791.0                         791.0   \n",
       "110934                        1098.0                        1098.0   \n",
       "110935                        1314.0                        1314.0   \n",
       "110936                         663.0                         663.0   \n",
       "110937                        1116.0                         636.0   \n",
       "\n",
       "       away_team_history_league_id_5 away_team_history_league_id_6  \\\n",
       "0                              636.0                        1122.0   \n",
       "1                              752.0                         752.0   \n",
       "2                              734.0                         734.0   \n",
       "3                              743.0                         743.0   \n",
       "4                              705.0                         705.0   \n",
       "...                              ...                           ...   \n",
       "110932                         791.0                         791.0   \n",
       "110934                        1098.0                        1098.0   \n",
       "110935                        1314.0                        1314.0   \n",
       "110936                         663.0                         663.0   \n",
       "110937                         636.0                         636.0   \n",
       "\n",
       "       away_team_history_league_id_7 away_team_history_league_id_8  \\\n",
       "0                              636.0                         642.0   \n",
       "1                              752.0                         752.0   \n",
       "2                              734.0                         734.0   \n",
       "3                              743.0                         743.0   \n",
       "4                              705.0                         705.0   \n",
       "...                              ...                           ...   \n",
       "110932                         791.0                         791.0   \n",
       "110934                        1098.0                        1098.0   \n",
       "110935                        1314.0                        1314.0   \n",
       "110936                         663.0                         663.0   \n",
       "110937                         636.0                         636.0   \n",
       "\n",
       "       away_team_history_league_id_9 away_team_history_league_id_10  \n",
       "0                              636.0                         1122.0  \n",
       "1                              752.0                          752.0  \n",
       "2                              734.0                          734.0  \n",
       "3                              746.0                          743.0  \n",
       "4                              705.0                          705.0  \n",
       "...                              ...                            ...  \n",
       "110932                         791.0                          791.0  \n",
       "110934                        1098.0                         1098.0  \n",
       "110935                        1746.0                         1746.0  \n",
       "110936                         663.0                          663.0  \n",
       "110937                         636.0                          636.0  \n",
       "\n",
       "[64117 rows x 190 columns]"
      ]
     },
     "execution_count": 6,
     "metadata": {},
     "output_type": "execute_result"
    }
   ],
   "source": [
    "train = train[~train.isnull().any(axis=1)]\n",
    "train\n",
    "# train[~train.isnull().any(axis=1)]"
   ]
  },
  {
   "cell_type": "code",
   "execution_count": 30,
   "metadata": {
    "execution": {
     "iopub.execute_input": "2022-03-05T00:36:35.285066Z",
     "iopub.status.busy": "2022-03-05T00:36:35.284675Z",
     "iopub.status.idle": "2022-03-05T00:36:35.699324Z",
     "shell.execute_reply": "2022-03-05T00:36:35.698603Z",
     "shell.execute_reply.started": "2022-03-05T00:36:35.285030Z"
    }
   },
   "outputs": [],
   "source": [
    "# train[home_team_history].info()"
   ]
  },
  {
   "cell_type": "code",
   "execution_count": 31,
   "metadata": {
    "execution": {
     "iopub.execute_input": "2022-03-05T00:36:35.700614Z",
     "iopub.status.busy": "2022-03-05T00:36:35.700346Z",
     "iopub.status.idle": "2022-03-05T00:36:35.993329Z",
     "shell.execute_reply": "2022-03-05T00:36:35.992560Z",
     "shell.execute_reply.started": "2022-03-05T00:36:35.700577Z"
    }
   },
   "outputs": [],
   "source": [
    "# train[away_team_history].info()"
   ]
  },
  {
   "cell_type": "code",
   "execution_count": 32,
   "metadata": {
    "execution": {
     "iopub.execute_input": "2022-03-05T00:36:35.994657Z",
     "iopub.status.busy": "2022-03-05T00:36:35.994395Z",
     "iopub.status.idle": "2022-03-05T00:36:36.047781Z",
     "shell.execute_reply": "2022-03-05T00:36:36.047051Z",
     "shell.execute_reply.started": "2022-03-05T00:36:35.994621Z"
    }
   },
   "outputs": [],
   "source": [
    "# train[descr].describe()"
   ]
  },
  {
   "cell_type": "code",
   "execution_count": 33,
   "metadata": {
    "execution": {
     "iopub.execute_input": "2022-03-05T00:36:36.049533Z",
     "iopub.status.busy": "2022-03-05T00:36:36.049157Z",
     "iopub.status.idle": "2022-03-05T00:36:36.882322Z",
     "shell.execute_reply": "2022-03-05T00:36:36.881601Z",
     "shell.execute_reply.started": "2022-03-05T00:36:36.049497Z"
    }
   },
   "outputs": [],
   "source": [
    "# train[home_team_history].describe()"
   ]
  },
  {
   "cell_type": "code",
   "execution_count": 126,
   "metadata": {
    "execution": {
     "iopub.execute_input": "2022-03-05T00:36:36.884008Z",
     "iopub.status.busy": "2022-03-05T00:36:36.883628Z",
     "iopub.status.idle": "2022-03-05T00:36:38.899339Z",
     "shell.execute_reply": "2022-03-05T00:36:38.898580Z",
     "shell.execute_reply.started": "2022-03-05T00:36:36.883972Z"
    }
   },
   "outputs": [],
   "source": []
  },
  {
   "cell_type": "code",
   "execution_count": 16,
   "metadata": {},
   "outputs": [
    {
     "data": {
      "text/plain": [
       "['match_date',\n",
       " 'home_team_history_match_date_1',\n",
       " 'home_team_history_match_date_2',\n",
       " 'home_team_history_match_date_3',\n",
       " 'home_team_history_match_date_4',\n",
       " 'home_team_history_match_date_5',\n",
       " 'home_team_history_match_date_6',\n",
       " 'home_team_history_match_date_7',\n",
       " 'home_team_history_match_date_8',\n",
       " 'home_team_history_match_date_9',\n",
       " 'home_team_history_match_date_10',\n",
       " 'away_team_history_match_date_1',\n",
       " 'away_team_history_match_date_2',\n",
       " 'away_team_history_match_date_3',\n",
       " 'away_team_history_match_date_4',\n",
       " 'away_team_history_match_date_5',\n",
       " 'away_team_history_match_date_6',\n",
       " 'away_team_history_match_date_7',\n",
       " 'away_team_history_match_date_8',\n",
       " 'away_team_history_match_date_9',\n",
       " 'away_team_history_match_date_10']"
      ]
     },
     "execution_count": 16,
     "metadata": {},
     "output_type": "execute_result"
    }
   ],
   "source": [
    "train['date'] = pd.to_datetime(train['match_date'])\n",
    "datees = [i for i in train.columns if 'match_date' in i]\n",
    "\n",
    "# train['date'].min()\n",
    "datees\n",
    "# train['match_date']"
   ]
  },
  {
   "cell_type": "code",
   "execution_count": 21,
   "metadata": {},
   "outputs": [],
   "source": [
    "for i in train:\n",
    "    if 'match_date' in i:\n",
    "        try:\n",
    "            train[i] = pd.to_datetime(train[i]).dt.month.astype(int)        \n",
    "        except:\n",
    "            continue"
   ]
  },
  {
   "cell_type": "code",
   "execution_count": 22,
   "metadata": {},
   "outputs": [],
   "source": [
    "train[datees] = train[datees].fillna(np.random.choice(list(range(1,13))))  "
   ]
  },
  {
   "cell_type": "code",
   "execution_count": 23,
   "metadata": {},
   "outputs": [
    {
     "data": {
      "text/html": [
       "<div>\n",
       "<style scoped>\n",
       "    .dataframe tbody tr th:only-of-type {\n",
       "        vertical-align: middle;\n",
       "    }\n",
       "\n",
       "    .dataframe tbody tr th {\n",
       "        vertical-align: top;\n",
       "    }\n",
       "\n",
       "    .dataframe thead th {\n",
       "        text-align: right;\n",
       "    }\n",
       "</style>\n",
       "<table border=\"1\" class=\"dataframe\">\n",
       "  <thead>\n",
       "    <tr style=\"text-align: right;\">\n",
       "      <th></th>\n",
       "      <th>match_date</th>\n",
       "      <th>home_team_history_match_date_1</th>\n",
       "      <th>home_team_history_match_date_2</th>\n",
       "      <th>home_team_history_match_date_3</th>\n",
       "      <th>home_team_history_match_date_4</th>\n",
       "      <th>home_team_history_match_date_5</th>\n",
       "      <th>home_team_history_match_date_6</th>\n",
       "      <th>home_team_history_match_date_7</th>\n",
       "      <th>home_team_history_match_date_8</th>\n",
       "      <th>home_team_history_match_date_9</th>\n",
       "      <th>...</th>\n",
       "      <th>away_team_history_match_date_1</th>\n",
       "      <th>away_team_history_match_date_2</th>\n",
       "      <th>away_team_history_match_date_3</th>\n",
       "      <th>away_team_history_match_date_4</th>\n",
       "      <th>away_team_history_match_date_5</th>\n",
       "      <th>away_team_history_match_date_6</th>\n",
       "      <th>away_team_history_match_date_7</th>\n",
       "      <th>away_team_history_match_date_8</th>\n",
       "      <th>away_team_history_match_date_9</th>\n",
       "      <th>away_team_history_match_date_10</th>\n",
       "    </tr>\n",
       "  </thead>\n",
       "  <tbody>\n",
       "    <tr>\n",
       "      <th>0</th>\n",
       "      <td>1</td>\n",
       "      <td>11</td>\n",
       "      <td>11</td>\n",
       "      <td>11</td>\n",
       "      <td>10</td>\n",
       "      <td>10</td>\n",
       "      <td>10</td>\n",
       "      <td>9</td>\n",
       "      <td>9</td>\n",
       "      <td>9</td>\n",
       "      <td>...</td>\n",
       "      <td>11</td>\n",
       "      <td>11</td>\n",
       "      <td>11</td>\n",
       "      <td>11</td>\n",
       "      <td>10</td>\n",
       "      <td>10</td>\n",
       "      <td>10</td>\n",
       "      <td>10</td>\n",
       "      <td>10</td>\n",
       "      <td>10</td>\n",
       "    </tr>\n",
       "    <tr>\n",
       "      <th>1</th>\n",
       "      <td>1</td>\n",
       "      <td>11</td>\n",
       "      <td>11</td>\n",
       "      <td>11</td>\n",
       "      <td>11</td>\n",
       "      <td>10</td>\n",
       "      <td>10</td>\n",
       "      <td>10</td>\n",
       "      <td>10</td>\n",
       "      <td>10</td>\n",
       "      <td>...</td>\n",
       "      <td>11</td>\n",
       "      <td>11</td>\n",
       "      <td>11</td>\n",
       "      <td>11</td>\n",
       "      <td>10</td>\n",
       "      <td>10</td>\n",
       "      <td>10</td>\n",
       "      <td>9</td>\n",
       "      <td>9</td>\n",
       "      <td>9</td>\n",
       "    </tr>\n",
       "    <tr>\n",
       "      <th>2</th>\n",
       "      <td>1</td>\n",
       "      <td>11</td>\n",
       "      <td>11</td>\n",
       "      <td>11</td>\n",
       "      <td>10</td>\n",
       "      <td>10</td>\n",
       "      <td>10</td>\n",
       "      <td>10</td>\n",
       "      <td>9</td>\n",
       "      <td>9</td>\n",
       "      <td>...</td>\n",
       "      <td>11</td>\n",
       "      <td>11</td>\n",
       "      <td>10</td>\n",
       "      <td>10</td>\n",
       "      <td>10</td>\n",
       "      <td>10</td>\n",
       "      <td>10</td>\n",
       "      <td>9</td>\n",
       "      <td>9</td>\n",
       "      <td>9</td>\n",
       "    </tr>\n",
       "    <tr>\n",
       "      <th>3</th>\n",
       "      <td>1</td>\n",
       "      <td>11</td>\n",
       "      <td>11</td>\n",
       "      <td>11</td>\n",
       "      <td>11</td>\n",
       "      <td>11</td>\n",
       "      <td>10</td>\n",
       "      <td>10</td>\n",
       "      <td>10</td>\n",
       "      <td>9</td>\n",
       "      <td>...</td>\n",
       "      <td>11</td>\n",
       "      <td>11</td>\n",
       "      <td>11</td>\n",
       "      <td>11</td>\n",
       "      <td>11</td>\n",
       "      <td>10</td>\n",
       "      <td>10</td>\n",
       "      <td>10</td>\n",
       "      <td>10</td>\n",
       "      <td>9</td>\n",
       "    </tr>\n",
       "    <tr>\n",
       "      <th>4</th>\n",
       "      <td>1</td>\n",
       "      <td>11</td>\n",
       "      <td>11</td>\n",
       "      <td>11</td>\n",
       "      <td>11</td>\n",
       "      <td>10</td>\n",
       "      <td>10</td>\n",
       "      <td>10</td>\n",
       "      <td>10</td>\n",
       "      <td>10</td>\n",
       "      <td>...</td>\n",
       "      <td>11</td>\n",
       "      <td>11</td>\n",
       "      <td>11</td>\n",
       "      <td>11</td>\n",
       "      <td>10</td>\n",
       "      <td>10</td>\n",
       "      <td>10</td>\n",
       "      <td>10</td>\n",
       "      <td>10</td>\n",
       "      <td>9</td>\n",
       "    </tr>\n",
       "    <tr>\n",
       "      <th>...</th>\n",
       "      <td>...</td>\n",
       "      <td>...</td>\n",
       "      <td>...</td>\n",
       "      <td>...</td>\n",
       "      <td>...</td>\n",
       "      <td>...</td>\n",
       "      <td>...</td>\n",
       "      <td>...</td>\n",
       "      <td>...</td>\n",
       "      <td>...</td>\n",
       "      <td>...</td>\n",
       "      <td>...</td>\n",
       "      <td>...</td>\n",
       "      <td>...</td>\n",
       "      <td>...</td>\n",
       "      <td>...</td>\n",
       "      <td>...</td>\n",
       "      <td>...</td>\n",
       "      <td>...</td>\n",
       "      <td>...</td>\n",
       "      <td>...</td>\n",
       "    </tr>\n",
       "    <tr>\n",
       "      <th>110933</th>\n",
       "      <td>1</td>\n",
       "      <td>4</td>\n",
       "      <td>4</td>\n",
       "      <td>12</td>\n",
       "      <td>12</td>\n",
       "      <td>12</td>\n",
       "      <td>11</td>\n",
       "      <td>11</td>\n",
       "      <td>11</td>\n",
       "      <td>11</td>\n",
       "      <td>...</td>\n",
       "      <td>4</td>\n",
       "      <td>4</td>\n",
       "      <td>2</td>\n",
       "      <td>2</td>\n",
       "      <td>12</td>\n",
       "      <td>12</td>\n",
       "      <td>12</td>\n",
       "      <td>11</td>\n",
       "      <td>11</td>\n",
       "      <td>11</td>\n",
       "    </tr>\n",
       "    <tr>\n",
       "      <th>110934</th>\n",
       "      <td>1</td>\n",
       "      <td>4</td>\n",
       "      <td>4</td>\n",
       "      <td>4</td>\n",
       "      <td>3</td>\n",
       "      <td>3</td>\n",
       "      <td>3</td>\n",
       "      <td>2</td>\n",
       "      <td>12</td>\n",
       "      <td>12</td>\n",
       "      <td>...</td>\n",
       "      <td>4</td>\n",
       "      <td>4</td>\n",
       "      <td>4</td>\n",
       "      <td>3</td>\n",
       "      <td>3</td>\n",
       "      <td>12</td>\n",
       "      <td>12</td>\n",
       "      <td>12</td>\n",
       "      <td>12</td>\n",
       "      <td>12</td>\n",
       "    </tr>\n",
       "    <tr>\n",
       "      <th>110935</th>\n",
       "      <td>1</td>\n",
       "      <td>4</td>\n",
       "      <td>4</td>\n",
       "      <td>4</td>\n",
       "      <td>4</td>\n",
       "      <td>3</td>\n",
       "      <td>3</td>\n",
       "      <td>3</td>\n",
       "      <td>2</td>\n",
       "      <td>12</td>\n",
       "      <td>...</td>\n",
       "      <td>4</td>\n",
       "      <td>4</td>\n",
       "      <td>4</td>\n",
       "      <td>4</td>\n",
       "      <td>3</td>\n",
       "      <td>3</td>\n",
       "      <td>3</td>\n",
       "      <td>2</td>\n",
       "      <td>12</td>\n",
       "      <td>12</td>\n",
       "    </tr>\n",
       "    <tr>\n",
       "      <th>110936</th>\n",
       "      <td>1</td>\n",
       "      <td>4</td>\n",
       "      <td>4</td>\n",
       "      <td>4</td>\n",
       "      <td>4</td>\n",
       "      <td>3</td>\n",
       "      <td>2</td>\n",
       "      <td>2</td>\n",
       "      <td>2</td>\n",
       "      <td>1</td>\n",
       "      <td>...</td>\n",
       "      <td>4</td>\n",
       "      <td>4</td>\n",
       "      <td>4</td>\n",
       "      <td>4</td>\n",
       "      <td>3</td>\n",
       "      <td>2</td>\n",
       "      <td>2</td>\n",
       "      <td>2</td>\n",
       "      <td>1</td>\n",
       "      <td>1</td>\n",
       "    </tr>\n",
       "    <tr>\n",
       "      <th>110937</th>\n",
       "      <td>1</td>\n",
       "      <td>4</td>\n",
       "      <td>4</td>\n",
       "      <td>4</td>\n",
       "      <td>4</td>\n",
       "      <td>3</td>\n",
       "      <td>3</td>\n",
       "      <td>3</td>\n",
       "      <td>3</td>\n",
       "      <td>3</td>\n",
       "      <td>...</td>\n",
       "      <td>4</td>\n",
       "      <td>4</td>\n",
       "      <td>4</td>\n",
       "      <td>4</td>\n",
       "      <td>4</td>\n",
       "      <td>4</td>\n",
       "      <td>3</td>\n",
       "      <td>3</td>\n",
       "      <td>3</td>\n",
       "      <td>3</td>\n",
       "    </tr>\n",
       "  </tbody>\n",
       "</table>\n",
       "<p>110938 rows × 21 columns</p>\n",
       "</div>"
      ],
      "text/plain": [
       "        match_date  home_team_history_match_date_1  \\\n",
       "0                1                              11   \n",
       "1                1                              11   \n",
       "2                1                              11   \n",
       "3                1                              11   \n",
       "4                1                              11   \n",
       "...            ...                             ...   \n",
       "110933           1                               4   \n",
       "110934           1                               4   \n",
       "110935           1                               4   \n",
       "110936           1                               4   \n",
       "110937           1                               4   \n",
       "\n",
       "        home_team_history_match_date_2  home_team_history_match_date_3  \\\n",
       "0                                   11                              11   \n",
       "1                                   11                              11   \n",
       "2                                   11                              11   \n",
       "3                                   11                              11   \n",
       "4                                   11                              11   \n",
       "...                                ...                             ...   \n",
       "110933                               4                              12   \n",
       "110934                               4                               4   \n",
       "110935                               4                               4   \n",
       "110936                               4                               4   \n",
       "110937                               4                               4   \n",
       "\n",
       "        home_team_history_match_date_4  home_team_history_match_date_5  \\\n",
       "0                                   10                              10   \n",
       "1                                   11                              10   \n",
       "2                                   10                              10   \n",
       "3                                   11                              11   \n",
       "4                                   11                              10   \n",
       "...                                ...                             ...   \n",
       "110933                              12                              12   \n",
       "110934                               3                               3   \n",
       "110935                               4                               3   \n",
       "110936                               4                               3   \n",
       "110937                               4                               3   \n",
       "\n",
       "        home_team_history_match_date_6  home_team_history_match_date_7  \\\n",
       "0                                   10                               9   \n",
       "1                                   10                              10   \n",
       "2                                   10                              10   \n",
       "3                                   10                              10   \n",
       "4                                   10                              10   \n",
       "...                                ...                             ...   \n",
       "110933                              11                              11   \n",
       "110934                               3                               2   \n",
       "110935                               3                               3   \n",
       "110936                               2                               2   \n",
       "110937                               3                               3   \n",
       "\n",
       "        home_team_history_match_date_8  home_team_history_match_date_9  ...  \\\n",
       "0                                    9                               9  ...   \n",
       "1                                   10                              10  ...   \n",
       "2                                    9                               9  ...   \n",
       "3                                   10                               9  ...   \n",
       "4                                   10                              10  ...   \n",
       "...                                ...                             ...  ...   \n",
       "110933                              11                              11  ...   \n",
       "110934                              12                              12  ...   \n",
       "110935                               2                              12  ...   \n",
       "110936                               2                               1  ...   \n",
       "110937                               3                               3  ...   \n",
       "\n",
       "        away_team_history_match_date_1  away_team_history_match_date_2  \\\n",
       "0                                   11                              11   \n",
       "1                                   11                              11   \n",
       "2                                   11                              11   \n",
       "3                                   11                              11   \n",
       "4                                   11                              11   \n",
       "...                                ...                             ...   \n",
       "110933                               4                               4   \n",
       "110934                               4                               4   \n",
       "110935                               4                               4   \n",
       "110936                               4                               4   \n",
       "110937                               4                               4   \n",
       "\n",
       "        away_team_history_match_date_3  away_team_history_match_date_4  \\\n",
       "0                                   11                              11   \n",
       "1                                   11                              11   \n",
       "2                                   10                              10   \n",
       "3                                   11                              11   \n",
       "4                                   11                              11   \n",
       "...                                ...                             ...   \n",
       "110933                               2                               2   \n",
       "110934                               4                               3   \n",
       "110935                               4                               4   \n",
       "110936                               4                               4   \n",
       "110937                               4                               4   \n",
       "\n",
       "        away_team_history_match_date_5  away_team_history_match_date_6  \\\n",
       "0                                   10                              10   \n",
       "1                                   10                              10   \n",
       "2                                   10                              10   \n",
       "3                                   11                              10   \n",
       "4                                   10                              10   \n",
       "...                                ...                             ...   \n",
       "110933                              12                              12   \n",
       "110934                               3                              12   \n",
       "110935                               3                               3   \n",
       "110936                               3                               2   \n",
       "110937                               4                               4   \n",
       "\n",
       "        away_team_history_match_date_7  away_team_history_match_date_8  \\\n",
       "0                                   10                              10   \n",
       "1                                   10                               9   \n",
       "2                                   10                               9   \n",
       "3                                   10                              10   \n",
       "4                                   10                              10   \n",
       "...                                ...                             ...   \n",
       "110933                              12                              11   \n",
       "110934                              12                              12   \n",
       "110935                               3                               2   \n",
       "110936                               2                               2   \n",
       "110937                               3                               3   \n",
       "\n",
       "        away_team_history_match_date_9  away_team_history_match_date_10  \n",
       "0                                   10                               10  \n",
       "1                                    9                                9  \n",
       "2                                    9                                9  \n",
       "3                                   10                                9  \n",
       "4                                   10                                9  \n",
       "...                                ...                              ...  \n",
       "110933                              11                               11  \n",
       "110934                              12                               12  \n",
       "110935                              12                               12  \n",
       "110936                               1                                1  \n",
       "110937                               3                                3  \n",
       "\n",
       "[110938 rows x 21 columns]"
      ]
     },
     "execution_count": 23,
     "metadata": {},
     "output_type": "execute_result"
    }
   ],
   "source": [
    "train[datees]"
   ]
  },
  {
   "cell_type": "code",
   "execution_count": 35,
   "metadata": {
    "execution": {
     "iopub.execute_input": "2022-03-05T00:36:38.901036Z",
     "iopub.status.busy": "2022-03-05T00:36:38.900667Z",
     "iopub.status.idle": "2022-03-05T00:36:39.119388Z",
     "shell.execute_reply": "2022-03-05T00:36:39.118711Z",
     "shell.execute_reply.started": "2022-03-05T00:36:38.900997Z"
    }
   },
   "outputs": [],
   "source": [
    "# train[train[\"is_cup\"].notnull()]"
   ]
  },
  {
   "cell_type": "code",
   "execution_count": 36,
   "metadata": {},
   "outputs": [],
   "source": [
    "# train[descr].info()"
   ]
  },
  {
   "cell_type": "code",
   "execution_count": 37,
   "metadata": {
    "execution": {
     "iopub.execute_input": "2022-03-05T00:36:39.295017Z",
     "iopub.status.busy": "2022-03-05T00:36:39.294642Z",
     "iopub.status.idle": "2022-03-05T00:36:39.379296Z",
     "shell.execute_reply": "2022-03-05T00:36:39.378626Z",
     "shell.execute_reply.started": "2022-03-05T00:36:39.294981Z"
    }
   },
   "outputs": [],
   "source": [
    "# train[home_team_history].info()"
   ]
  },
  {
   "cell_type": "code",
   "execution_count": 38,
   "metadata": {
    "execution": {
     "iopub.execute_input": "2022-03-05T00:36:39.380991Z",
     "iopub.status.busy": "2022-03-05T00:36:39.380615Z",
     "iopub.status.idle": "2022-03-05T00:36:39.547082Z",
     "shell.execute_reply": "2022-03-05T00:36:39.546081Z",
     "shell.execute_reply.started": "2022-03-05T00:36:39.380956Z"
    }
   },
   "outputs": [],
   "source": [
    "# train[away_team_history].info()"
   ]
  },
  {
   "cell_type": "code",
   "execution_count": 104,
   "metadata": {
    "scrolled": false
   },
   "outputs": [
    {
     "data": {
      "text/plain": [
       "(110938, 151)"
      ]
     },
     "execution_count": 104,
     "metadata": {},
     "output_type": "execute_result"
    }
   ],
   "source": [
    "cols = [i for i in train.columns if (not 'history_league_id_' in i) and (not '_team_history_coach_' in i)]\n",
    "# cols = [i for i in train.columns if not 'history_league_id_' in i]\n",
    "train = train[cols]\n",
    "train.shape\n",
    "# len(cols)"
   ]
  },
  {
   "cell_type": "code",
   "execution_count": null,
   "metadata": {},
   "outputs": [],
   "source": []
  },
  {
   "cell_type": "code",
   "execution_count": 58,
   "metadata": {
    "execution": {
     "iopub.execute_input": "2022-03-05T00:36:39.615763Z",
     "iopub.status.busy": "2022-03-05T00:36:39.614768Z",
     "iopub.status.idle": "2022-03-05T00:36:39.684495Z",
     "shell.execute_reply": "2022-03-05T00:36:39.683728Z",
     "shell.execute_reply.started": "2022-03-05T00:36:39.615723Z"
    }
   },
   "outputs": [
    {
     "data": {
      "text/plain": [
       "Premier League              3308\n",
       "Club Friendlies             2098\n",
       "Primera Division            1790\n",
       "Championship                1039\n",
       "Serie A                      949\n",
       "                            ... \n",
       "National Football League       1\n",
       "Paulista Série B               1\n",
       "Srpska Liga - East             1\n",
       "Catarinense 2                  1\n",
       "Division Intermedia            1\n",
       "Name: league_name, Length: 525, dtype: int64"
      ]
     },
     "execution_count": 58,
     "metadata": {},
     "output_type": "execute_result"
    }
   ],
   "source": [
    "train['league_name'].value_counts()"
   ]
  },
  {
   "cell_type": "code",
   "execution_count": 59,
   "metadata": {
    "execution": {
     "iopub.execute_input": "2022-03-05T00:36:39.702689Z",
     "iopub.status.busy": "2022-03-05T00:36:39.693435Z",
     "iopub.status.idle": "2022-03-05T00:36:39.721299Z",
     "shell.execute_reply": "2022-03-05T00:36:39.720603Z",
     "shell.execute_reply.started": "2022-03-05T00:36:39.702645Z"
    }
   },
   "outputs": [
    {
     "data": {
      "text/plain": [
       "1101    2098\n",
       "9        835\n",
       "14       744\n",
       "12       702\n",
       "567      663\n",
       "        ... \n",
       "1385       1\n",
       "1161       1\n",
       "1249       1\n",
       "1435       1\n",
       "761        1\n",
       "Name: league_id, Length: 623, dtype: int64"
      ]
     },
     "execution_count": 59,
     "metadata": {},
     "output_type": "execute_result"
    }
   ],
   "source": [
    "train['league_id'].value_counts()"
   ]
  },
  {
   "cell_type": "code",
   "execution_count": 11,
   "metadata": {
    "execution": {
     "iopub.execute_input": "2022-03-05T00:36:39.727394Z",
     "iopub.status.busy": "2022-03-05T00:36:39.725051Z",
     "iopub.status.idle": "2022-03-05T00:36:39.779335Z",
     "shell.execute_reply": "2022-03-05T00:36:39.778599Z",
     "shell.execute_reply.started": "2022-03-05T00:36:39.727348Z"
    }
   },
   "outputs": [
    {
     "data": {
      "text/plain": [
       "Int64Index([ 13, 301,   2,  15,  76,  93, 174, 192,   1,  58,\n",
       "            ...\n",
       "            561, 681, 682,   0, 684, 687, 286, 265, 651, 652],\n",
       "           dtype='int64', length=728)"
      ]
     },
     "execution_count": 11,
     "metadata": {},
     "output_type": "execute_result"
    }
   ],
   "source": [
    "train['league_name'].value_counts().keys()"
   ]
  },
  {
   "cell_type": "markdown",
   "metadata": {},
   "source": [
    "ID Re-generate"
   ]
  },
  {
   "cell_type": "code",
   "execution_count": 10,
   "metadata": {
    "execution": {
     "iopub.execute_input": "2022-03-05T00:36:39.945425Z",
     "iopub.status.busy": "2022-03-05T00:36:39.943037Z",
     "iopub.status.idle": "2022-03-05T00:36:39.985501Z",
     "shell.execute_reply": "2022-03-05T00:36:39.984750Z",
     "shell.execute_reply.started": "2022-03-05T00:36:39.945382Z"
    }
   },
   "outputs": [],
   "source": [
    "train['league_name'] = pd.factorize(train['league_name'])[0]+1"
   ]
  },
  {
   "cell_type": "code",
   "execution_count": 13,
   "metadata": {
    "execution": {
     "iopub.execute_input": "2022-03-05T00:36:39.992215Z",
     "iopub.status.busy": "2022-03-05T00:36:39.989719Z",
     "iopub.status.idle": "2022-03-05T00:36:40.010229Z",
     "shell.execute_reply": "2022-03-05T00:36:40.009597Z",
     "shell.execute_reply.started": "2022-03-05T00:36:39.992170Z"
    }
   },
   "outputs": [
    {
     "data": {
      "text/plain": [
       "13     5565\n",
       "301    3724\n",
       "2      2369\n",
       "15     1530\n",
       "76     1327\n",
       "       ... \n",
       "687       1\n",
       "286       1\n",
       "265       1\n",
       "651       1\n",
       "652       1\n",
       "Name: league_name, Length: 728, dtype: int64"
      ]
     },
     "execution_count": 13,
     "metadata": {},
     "output_type": "execute_result"
    }
   ],
   "source": [
    "train['league_name'].value_counts()"
   ]
  },
  {
   "cell_type": "code",
   "execution_count": 38,
   "metadata": {
    "execution": {
     "iopub.execute_input": "2022-03-05T00:36:40.015809Z",
     "iopub.status.busy": "2022-03-05T00:36:40.013719Z",
     "iopub.status.idle": "2022-03-05T00:36:40.069186Z",
     "shell.execute_reply": "2022-03-05T00:36:40.068491Z",
     "shell.execute_reply.started": "2022-03-05T00:36:40.015772Z"
    }
   },
   "outputs": [],
   "source": [
    "# train.drop('league_name', axis=1, inplace=True)"
   ]
  },
  {
   "cell_type": "code",
   "execution_count": 46,
   "metadata": {
    "execution": {
     "iopub.execute_input": "2022-03-05T00:36:40.070382Z",
     "iopub.status.busy": "2022-03-05T00:36:40.070133Z",
     "iopub.status.idle": "2022-03-05T00:36:40.196512Z",
     "shell.execute_reply": "2022-03-05T00:36:40.195930Z",
     "shell.execute_reply.started": "2022-03-05T00:36:40.070347Z"
    }
   },
   "outputs": [],
   "source": [
    "# for i, name in list(temp[['league_id', 'league_name']].value_counts().keys().sort_values(ascending=True)):\n",
    "#     print(str(i) + ' : ' + name, end=' | ')"
   ]
  },
  {
   "cell_type": "code",
   "execution_count": 111,
   "metadata": {
    "execution": {
     "iopub.execute_input": "2022-03-05T00:36:40.452868Z",
     "iopub.status.busy": "2022-03-05T00:36:40.452384Z",
     "iopub.status.idle": "2022-03-05T00:36:40.497037Z",
     "shell.execute_reply": "2022-03-05T00:36:40.496308Z",
     "shell.execute_reply.started": "2022-03-05T00:36:40.452827Z"
    }
   },
   "outputs": [
    {
     "data": {
      "text/plain": [
       "(64117, 198)"
      ]
     },
     "execution_count": 111,
     "metadata": {},
     "output_type": "execute_result"
    }
   ],
   "source": [
    "train.shape"
   ]
  },
  {
   "cell_type": "code",
   "execution_count": 48,
   "metadata": {
    "execution": {
     "iopub.execute_input": "2022-03-05T00:36:40.498365Z",
     "iopub.status.busy": "2022-03-05T00:36:40.498103Z",
     "iopub.status.idle": "2022-03-05T00:36:40.624241Z",
     "shell.execute_reply": "2022-03-05T00:36:40.623365Z",
     "shell.execute_reply.started": "2022-03-05T00:36:40.498322Z"
    }
   },
   "outputs": [
    {
     "data": {
      "text/html": [
       "<div>\n",
       "<style scoped>\n",
       "    .dataframe tbody tr th:only-of-type {\n",
       "        vertical-align: middle;\n",
       "    }\n",
       "\n",
       "    .dataframe tbody tr th {\n",
       "        vertical-align: top;\n",
       "    }\n",
       "\n",
       "    .dataframe thead th {\n",
       "        text-align: right;\n",
       "    }\n",
       "</style>\n",
       "<table border=\"1\" class=\"dataframe\">\n",
       "  <thead>\n",
       "    <tr style=\"text-align: right;\">\n",
       "      <th></th>\n",
       "      <th>is_cup</th>\n",
       "      <th>away_team_history_is_cup_1</th>\n",
       "      <th>home_team_history_is_cup_2</th>\n",
       "      <th>home_team_history_is_cup_3</th>\n",
       "      <th>home_team_history_is_cup_4</th>\n",
       "      <th>home_team_history_is_cup_5</th>\n",
       "      <th>home_team_history_is_cup_6</th>\n",
       "    </tr>\n",
       "  </thead>\n",
       "  <tbody>\n",
       "    <tr>\n",
       "      <th>260</th>\n",
       "      <td>True</td>\n",
       "      <td>0.0</td>\n",
       "      <td>0.0</td>\n",
       "      <td>0.0</td>\n",
       "      <td>0.0</td>\n",
       "      <td>0.0</td>\n",
       "      <td>0.0</td>\n",
       "    </tr>\n",
       "    <tr>\n",
       "      <th>271</th>\n",
       "      <td>True</td>\n",
       "      <td>0.0</td>\n",
       "      <td>0.0</td>\n",
       "      <td>0.0</td>\n",
       "      <td>0.0</td>\n",
       "      <td>1.0</td>\n",
       "      <td>1.0</td>\n",
       "    </tr>\n",
       "    <tr>\n",
       "      <th>434</th>\n",
       "      <td>True</td>\n",
       "      <td>0.0</td>\n",
       "      <td>1.0</td>\n",
       "      <td>1.0</td>\n",
       "      <td>1.0</td>\n",
       "      <td>0.0</td>\n",
       "      <td>0.0</td>\n",
       "    </tr>\n",
       "    <tr>\n",
       "      <th>440</th>\n",
       "      <td>True</td>\n",
       "      <td>1.0</td>\n",
       "      <td>0.0</td>\n",
       "      <td>1.0</td>\n",
       "      <td>1.0</td>\n",
       "      <td>0.0</td>\n",
       "      <td>1.0</td>\n",
       "    </tr>\n",
       "    <tr>\n",
       "      <th>441</th>\n",
       "      <td>True</td>\n",
       "      <td>0.0</td>\n",
       "      <td>0.0</td>\n",
       "      <td>1.0</td>\n",
       "      <td>0.0</td>\n",
       "      <td>0.0</td>\n",
       "      <td>0.0</td>\n",
       "    </tr>\n",
       "    <tr>\n",
       "      <th>...</th>\n",
       "      <td>...</td>\n",
       "      <td>...</td>\n",
       "      <td>...</td>\n",
       "      <td>...</td>\n",
       "      <td>...</td>\n",
       "      <td>...</td>\n",
       "      <td>...</td>\n",
       "    </tr>\n",
       "    <tr>\n",
       "      <th>110680</th>\n",
       "      <td>True</td>\n",
       "      <td>0.0</td>\n",
       "      <td>1.0</td>\n",
       "      <td>0.0</td>\n",
       "      <td>0.0</td>\n",
       "      <td>1.0</td>\n",
       "      <td>0.0</td>\n",
       "    </tr>\n",
       "    <tr>\n",
       "      <th>110725</th>\n",
       "      <td>True</td>\n",
       "      <td>0.0</td>\n",
       "      <td>0.0</td>\n",
       "      <td>0.0</td>\n",
       "      <td>0.0</td>\n",
       "      <td>NaN</td>\n",
       "      <td>NaN</td>\n",
       "    </tr>\n",
       "    <tr>\n",
       "      <th>110726</th>\n",
       "      <td>True</td>\n",
       "      <td>NaN</td>\n",
       "      <td>0.0</td>\n",
       "      <td>0.0</td>\n",
       "      <td>0.0</td>\n",
       "      <td>NaN</td>\n",
       "      <td>NaN</td>\n",
       "    </tr>\n",
       "    <tr>\n",
       "      <th>110745</th>\n",
       "      <td>True</td>\n",
       "      <td>0.0</td>\n",
       "      <td>0.0</td>\n",
       "      <td>0.0</td>\n",
       "      <td>0.0</td>\n",
       "      <td>1.0</td>\n",
       "      <td>1.0</td>\n",
       "    </tr>\n",
       "    <tr>\n",
       "      <th>110859</th>\n",
       "      <td>True</td>\n",
       "      <td>0.0</td>\n",
       "      <td>0.0</td>\n",
       "      <td>0.0</td>\n",
       "      <td>0.0</td>\n",
       "      <td>1.0</td>\n",
       "      <td>0.0</td>\n",
       "    </tr>\n",
       "  </tbody>\n",
       "</table>\n",
       "<p>5943 rows × 7 columns</p>\n",
       "</div>"
      ],
      "text/plain": [
       "       is_cup  away_team_history_is_cup_1  home_team_history_is_cup_2  \\\n",
       "260      True                         0.0                         0.0   \n",
       "271      True                         0.0                         0.0   \n",
       "434      True                         0.0                         1.0   \n",
       "440      True                         1.0                         0.0   \n",
       "441      True                         0.0                         0.0   \n",
       "...       ...                         ...                         ...   \n",
       "110680   True                         0.0                         1.0   \n",
       "110725   True                         0.0                         0.0   \n",
       "110726   True                         NaN                         0.0   \n",
       "110745   True                         0.0                         0.0   \n",
       "110859   True                         0.0                         0.0   \n",
       "\n",
       "        home_team_history_is_cup_3  home_team_history_is_cup_4  \\\n",
       "260                            0.0                         0.0   \n",
       "271                            0.0                         0.0   \n",
       "434                            1.0                         1.0   \n",
       "440                            1.0                         1.0   \n",
       "441                            1.0                         0.0   \n",
       "...                            ...                         ...   \n",
       "110680                         0.0                         0.0   \n",
       "110725                         0.0                         0.0   \n",
       "110726                         0.0                         0.0   \n",
       "110745                         0.0                         0.0   \n",
       "110859                         0.0                         0.0   \n",
       "\n",
       "        home_team_history_is_cup_5  home_team_history_is_cup_6  \n",
       "260                            0.0                         0.0  \n",
       "271                            1.0                         1.0  \n",
       "434                            0.0                         0.0  \n",
       "440                            0.0                         1.0  \n",
       "441                            0.0                         0.0  \n",
       "...                            ...                         ...  \n",
       "110680                         1.0                         0.0  \n",
       "110725                         NaN                         NaN  \n",
       "110726                         NaN                         NaN  \n",
       "110745                         1.0                         1.0  \n",
       "110859                         1.0                         0.0  \n",
       "\n",
       "[5943 rows x 7 columns]"
      ]
     },
     "execution_count": 48,
     "metadata": {},
     "output_type": "execute_result"
    }
   ],
   "source": [
    "# train.loc[(train['is_cup']  == True) & (train['home_team_history_is_cup_1'] == 0.0 )][['is_cup','away_team_history_is_cup_1','home_team_history_is_cup_2','home_team_history_is_cup_3','home_team_history_is_cup_4','home_team_history_is_cup_5','home_team_history_is_cup_6',]]"
   ]
  },
  {
   "cell_type": "code",
   "execution_count": 14,
   "metadata": {},
   "outputs": [
    {
     "data": {
      "text/plain": [
       "0         2\n",
       "1         1\n",
       "2         3\n",
       "3         2\n",
       "4         1\n",
       "         ..\n",
       "110932    2\n",
       "110934    2\n",
       "110935    3\n",
       "110936    2\n",
       "110937    1\n",
       "Name: target, Length: 64117, dtype: int64"
      ]
     },
     "execution_count": 14,
     "metadata": {},
     "output_type": "execute_result"
    }
   ],
   "source": [
    "target = {\n",
    "    'home': 1,\n",
    "    'away': 2,\n",
    "    'draw': 3,\n",
    "}\n",
    "\n",
    "train['target'] = train['target'].map(target)\n",
    "train['target']"
   ]
  },
  {
   "cell_type": "code",
   "execution_count": 28,
   "metadata": {},
   "outputs": [
    {
     "data": {
      "text/plain": [
       "191"
      ]
     },
     "execution_count": 28,
     "metadata": {},
     "output_type": "execute_result"
    }
   ],
   "source": [
    "home_team_history = []\n",
    "away_team_history = []\n",
    "descr = []\n",
    "for j in list(train.columns):\n",
    "    if 'home_team_history' in j:\n",
    "        home_team_history.append(j)        \n",
    "    elif 'away_team_history' in j:\n",
    "        away_team_history.append(j)\n",
    "    else:\n",
    "        descr.append(j)        \n",
    "len(descr + home_team_history + away_team_history)        "
   ]
  },
  {
   "cell_type": "code",
   "execution_count": 110,
   "metadata": {
    "execution": {
     "iopub.execute_input": "2022-03-05T00:36:40.764317Z",
     "iopub.status.busy": "2022-03-05T00:36:40.764075Z",
     "iopub.status.idle": "2022-03-05T00:36:40.780733Z",
     "shell.execute_reply": "2022-03-05T00:36:40.779951Z",
     "shell.execute_reply.started": "2022-03-05T00:36:40.764282Z"
    }
   },
   "outputs": [],
   "source": [
    "def missing_values_table(df):\n",
    "    mis_val = df.isnull().sum()\n",
    "    mis_val_percent = 100 * df.isnull().sum() / len(df)\n",
    "    mis_val_table = pd.concat([mis_val, mis_val_percent], axis=1)\n",
    "    mis_val_table_ren_columns = mis_val_table.rename(\n",
    "    columns = {0 : 'Missing Values', 1 : '% of Total Values'})\n",
    "    mis_val_table_ren_columns = mis_val_table_ren_columns[\n",
    "        mis_val_table_ren_columns.iloc[:,1] != 0].sort_values(\n",
    "    '% of Total Values', ascending=False).round(1)\n",
    "    print (\"Your selected dataframe has \" + str(df.shape[1]) + \" columns.\\n\"      \n",
    "        \"There are \" + str(mis_val_table_ren_columns.shape[0]) +\n",
    "            \" columns that have missing values.\")\n",
    "    return mis_val_table_ren_columns"
   ]
  },
  {
   "cell_type": "code",
   "execution_count": 11,
   "metadata": {
    "execution": {
     "iopub.execute_input": "2022-03-05T00:36:40.785969Z",
     "iopub.status.busy": "2022-03-05T00:36:40.784511Z",
     "iopub.status.idle": "2022-03-05T00:36:40.984421Z",
     "shell.execute_reply": "2022-03-05T00:36:40.983613Z",
     "shell.execute_reply.started": "2022-03-05T00:36:40.785931Z"
    }
   },
   "outputs": [
    {
     "data": {
      "text/plain": [
       "(64117, 169)"
      ]
     },
     "execution_count": 11,
     "metadata": {},
     "output_type": "execute_result"
    }
   ],
   "source": [
    "# train = train[train['is_cup'].notna()]\n",
    "# train.shape"
   ]
  },
  {
   "cell_type": "code",
   "execution_count": 113,
   "metadata": {
    "execution": {
     "iopub.execute_input": "2022-03-05T00:36:40.985722Z",
     "iopub.status.busy": "2022-03-05T00:36:40.985457Z",
     "iopub.status.idle": "2022-03-05T00:36:41.013249Z",
     "shell.execute_reply": "2022-03-05T00:36:41.012534Z",
     "shell.execute_reply.started": "2022-03-05T00:36:40.985684Z"
    }
   },
   "outputs": [],
   "source": [
    "train[\"is_cup\"] = train[\"is_cup\"].astype(int)"
   ]
  },
  {
   "cell_type": "code",
   "execution_count": 112,
   "metadata": {
    "execution": {
     "iopub.execute_input": "2022-03-05T00:36:41.019711Z",
     "iopub.status.busy": "2022-03-05T00:36:41.017304Z",
     "iopub.status.idle": "2022-03-05T00:36:41.173296Z",
     "shell.execute_reply": "2022-03-05T00:36:41.172599Z",
     "shell.execute_reply.started": "2022-03-05T00:36:41.019670Z"
    }
   },
   "outputs": [
    {
     "name": "stdout",
     "output_type": "stream",
     "text": [
      "Your selected dataframe has 198 columns.\n",
      "There are 0 columns that have missing values.\n"
     ]
    },
    {
     "data": {
      "text/html": [
       "<div>\n",
       "<style scoped>\n",
       "    .dataframe tbody tr th:only-of-type {\n",
       "        vertical-align: middle;\n",
       "    }\n",
       "\n",
       "    .dataframe tbody tr th {\n",
       "        vertical-align: top;\n",
       "    }\n",
       "\n",
       "    .dataframe thead th {\n",
       "        text-align: right;\n",
       "    }\n",
       "</style>\n",
       "<table border=\"1\" class=\"dataframe\">\n",
       "  <thead>\n",
       "    <tr style=\"text-align: right;\">\n",
       "      <th></th>\n",
       "      <th>Missing Values</th>\n",
       "      <th>% of Total Values</th>\n",
       "    </tr>\n",
       "  </thead>\n",
       "  <tbody>\n",
       "  </tbody>\n",
       "</table>\n",
       "</div>"
      ],
      "text/plain": [
       "Empty DataFrame\n",
       "Columns: [Missing Values, % of Total Values]\n",
       "Index: []"
      ]
     },
     "execution_count": 112,
     "metadata": {},
     "output_type": "execute_result"
    }
   ],
   "source": [
    "missing_values_table(train)"
   ]
  },
  {
   "cell_type": "code",
   "execution_count": 59,
   "metadata": {},
   "outputs": [],
   "source": [
    "goal = [i for i in train.columns if 'goal' in i]\n",
    "# goal"
   ]
  },
  {
   "cell_type": "code",
   "execution_count": 60,
   "metadata": {
    "execution": {
     "iopub.execute_input": "2022-03-05T00:36:41.179713Z",
     "iopub.status.busy": "2022-03-05T00:36:41.177060Z",
     "iopub.status.idle": "2022-03-05T00:36:41.267456Z",
     "shell.execute_reply": "2022-03-05T00:36:41.266612Z",
     "shell.execute_reply.started": "2022-03-05T00:36:41.179669Z"
    }
   },
   "outputs": [],
   "source": [
    "for i in train:\n",
    "    if 'goal' in i:\n",
    "        train[i] = train[i].fillna(0)"
   ]
  },
  {
   "cell_type": "code",
   "execution_count": 57,
   "metadata": {
    "execution": {
     "iopub.execute_input": "2022-03-05T00:36:41.268734Z",
     "iopub.status.busy": "2022-03-05T00:36:41.268470Z",
     "iopub.status.idle": "2022-03-05T00:36:41.281244Z",
     "shell.execute_reply": "2022-03-05T00:36:41.280604Z",
     "shell.execute_reply.started": "2022-03-05T00:36:41.268697Z"
    }
   },
   "outputs": [],
   "source": [
    "home_rating_columns = [c for c in train if 'home_team_history_rating' in c]\n",
    "home_opponent_rating_columns = [c for c in train if 'home_team_history_opponent_rating_' in c]\n",
    "away_rating_columns = [c for c in train if 'away_team_history_rating' in c]\n",
    "away_opponent_rating_columns = [c for c in train if 'away_team_history_opponent_rating_' in c]"
   ]
  },
  {
   "cell_type": "code",
   "execution_count": 58,
   "metadata": {
    "execution": {
     "iopub.execute_input": "2022-03-05T00:36:41.302330Z",
     "iopub.status.busy": "2022-03-05T00:36:41.301560Z",
     "iopub.status.idle": "2022-03-05T00:36:41.556760Z",
     "shell.execute_reply": "2022-03-05T00:36:41.555909Z",
     "shell.execute_reply.started": "2022-03-05T00:36:41.302296Z"
    }
   },
   "outputs": [],
   "source": [
    "for r in [home_rating_columns, home_opponent_rating_columns, away_rating_columns, away_opponent_rating_columns]:\n",
    "    for i in train[r]:\n",
    "        train[i] = train[i].fillna(value=train[r][i].mean())        "
   ]
  },
  {
   "cell_type": "code",
   "execution_count": 59,
   "metadata": {
    "execution": {
     "iopub.execute_input": "2022-03-05T00:36:41.587678Z",
     "iopub.status.busy": "2022-03-05T00:36:41.576509Z",
     "iopub.status.idle": "2022-03-05T00:36:41.591193Z",
     "shell.execute_reply": "2022-03-05T00:36:41.590507Z",
     "shell.execute_reply.started": "2022-03-05T00:36:41.587638Z"
    }
   },
   "outputs": [],
   "source": [
    "# train.loc[(train['is_cup']  == True) & (train['home_team_history_is_cup_1'] == 0.0 )][['is_cup','away_team_history_is_cup_1','home_team_history_is_cup_2','home_team_history_is_cup_3','home_team_history_is_cup_4','home_team_history_is_cup_5','home_team_history_is_cup_6',]]"
   ]
  },
  {
   "cell_type": "code",
   "execution_count": 60,
   "metadata": {
    "execution": {
     "iopub.execute_input": "2022-03-05T00:36:41.594771Z",
     "iopub.status.busy": "2022-03-05T00:36:41.592537Z",
     "iopub.status.idle": "2022-03-05T00:36:41.682784Z",
     "shell.execute_reply": "2022-03-05T00:36:41.681996Z",
     "shell.execute_reply.started": "2022-03-05T00:36:41.594731Z"
    }
   },
   "outputs": [],
   "source": [
    "all_is_cup = [i for i in train if 'history_is_cup' in i]\n",
    "\n",
    "train[all_is_cup] = train[all_is_cup].fillna(value=np.random.choice(train['is_cup']))"
   ]
  },
  {
   "cell_type": "code",
   "execution_count": 61,
   "metadata": {
    "execution": {
     "iopub.execute_input": "2022-03-05T00:36:41.688864Z",
     "iopub.status.busy": "2022-03-05T00:36:41.686789Z",
     "iopub.status.idle": "2022-03-05T00:36:41.696261Z",
     "shell.execute_reply": "2022-03-05T00:36:41.695614Z",
     "shell.execute_reply.started": "2022-03-05T00:36:41.688824Z"
    }
   },
   "outputs": [],
   "source": [
    "home_history_coach = [h for h in train if 'home_team_history_coach' in h]\n",
    "away_history_coach = [a for a in train if 'away_team_history_coach_' in a]"
   ]
  },
  {
   "cell_type": "code",
   "execution_count": 1,
   "metadata": {
    "collapsed": true,
    "execution": {
     "iopub.execute_input": "2022-03-05T00:36:41.702143Z",
     "iopub.status.busy": "2022-03-05T00:36:41.699116Z",
     "iopub.status.idle": "2022-03-05T00:36:41.785533Z",
     "shell.execute_reply": "2022-03-05T00:36:41.784736Z",
     "shell.execute_reply.started": "2022-03-05T00:36:41.702102Z"
    }
   },
   "outputs": [
    {
     "ename": "NameError",
     "evalue": "name 'np' is not defined",
     "output_type": "error",
     "traceback": [
      "\u001b[1;31m---------------------------------------------------------------------------\u001b[0m",
      "\u001b[1;31mNameError\u001b[0m                                 Traceback (most recent call last)",
      "\u001b[1;32m~\\AppData\\Local\\Temp/ipykernel_9396/3131589117.py\u001b[0m in \u001b[0;36m<module>\u001b[1;34m\u001b[0m\n\u001b[0;32m      3\u001b[0m \u001b[1;31m# train['away_team_coach_id'] = train['away_team_coach_id'].fillna(0)\u001b[0m\u001b[1;33m\u001b[0m\u001b[1;33m\u001b[0m\u001b[0m\n\u001b[0;32m      4\u001b[0m \u001b[1;31m# train['home_team_coach_id'] = train['home_team_coach_id'].fillna(0)\u001b[0m\u001b[1;33m\u001b[0m\u001b[1;33m\u001b[0m\u001b[0m\n\u001b[1;32m----> 5\u001b[1;33m \u001b[0mnp\u001b[0m\u001b[1;33m.\u001b[0m\u001b[0mrandom\u001b[0m\u001b[1;33m.\u001b[0m\u001b[0mchoice\u001b[0m\u001b[1;33m(\u001b[0m\u001b[0mtrain\u001b[0m\u001b[1;33m[\u001b[0m\u001b[1;34m'home_team_coach_id'\u001b[0m\u001b[1;33m]\u001b[0m\u001b[1;33m)\u001b[0m\u001b[1;33m\u001b[0m\u001b[1;33m\u001b[0m\u001b[0m\n\u001b[0m",
      "\u001b[1;31mNameError\u001b[0m: name 'np' is not defined"
     ]
    }
   ],
   "source": [
    "# train[home_history_coach] = train[home_history_coach].fillna(value=np.random.choice(train['home_team_coach_id']))\n",
    "# train[away_history_coach] = train[away_history_coach].fillna(value=np.random.choice(train['away_team_coach_id']))\n",
    "# train['away_team_coach_id'] = train['away_team_coach_id'].fillna(0)\n",
    "# train['home_team_coach_id'] = train['home_team_coach_id'].fillna(0)\n",
    "np.random.choice(train['home_team_coach_id'])"
   ]
  },
  {
   "cell_type": "code",
   "execution_count": 2,
   "metadata": {
    "collapsed": true
   },
   "outputs": [
    {
     "ename": "NameError",
     "evalue": "name 'train' is not defined",
     "output_type": "error",
     "traceback": [
      "\u001b[1;31m---------------------------------------------------------------------------\u001b[0m",
      "\u001b[1;31mNameError\u001b[0m                                 Traceback (most recent call last)",
      "\u001b[1;32m~\\AppData\\Local\\Temp/ipykernel_11900/4262988121.py\u001b[0m in \u001b[0;36m<module>\u001b[1;34m\u001b[0m\n\u001b[1;32m----> 1\u001b[1;33m \u001b[0mis_play_home\u001b[0m \u001b[1;33m=\u001b[0m \u001b[1;33m[\u001b[0m\u001b[0mi\u001b[0m \u001b[1;32mfor\u001b[0m \u001b[0mi\u001b[0m \u001b[1;32min\u001b[0m \u001b[0mtrain\u001b[0m\u001b[1;33m.\u001b[0m\u001b[0mcolumns\u001b[0m \u001b[1;32mif\u001b[0m \u001b[1;34m'is_play_home'\u001b[0m \u001b[1;32min\u001b[0m \u001b[0mi\u001b[0m\u001b[1;33m]\u001b[0m\u001b[1;33m\u001b[0m\u001b[1;33m\u001b[0m\u001b[0m\n\u001b[0m\u001b[0;32m      2\u001b[0m \u001b[0mtrain\u001b[0m\u001b[1;33m[\u001b[0m\u001b[0mis_play_home\u001b[0m\u001b[1;33m]\u001b[0m \u001b[1;33m=\u001b[0m \u001b[0mtrain\u001b[0m\u001b[1;33m[\u001b[0m\u001b[0mis_play_home\u001b[0m\u001b[1;33m]\u001b[0m\u001b[1;33m.\u001b[0m\u001b[0mfillna\u001b[0m\u001b[1;33m(\u001b[0m\u001b[0mnp\u001b[0m\u001b[1;33m.\u001b[0m\u001b[0mrandom\u001b[0m\u001b[1;33m.\u001b[0m\u001b[0mchoice\u001b[0m\u001b[1;33m(\u001b[0m\u001b[1;33m[\u001b[0m\u001b[1;36m0\u001b[0m\u001b[1;33m,\u001b[0m \u001b[1;36m1.0\u001b[0m\u001b[1;33m]\u001b[0m\u001b[1;33m)\u001b[0m\u001b[1;33m)\u001b[0m\u001b[1;33m\u001b[0m\u001b[1;33m\u001b[0m\u001b[0m\n\u001b[0;32m      3\u001b[0m \u001b[0mtrain\u001b[0m\u001b[1;33m[\u001b[0m\u001b[0mis_play_home\u001b[0m\u001b[1;33m]\u001b[0m\u001b[1;33m\u001b[0m\u001b[1;33m\u001b[0m\u001b[0m\n",
      "\u001b[1;31mNameError\u001b[0m: name 'train' is not defined"
     ]
    }
   ],
   "source": [
    "is_play_home = [i for i in train.columns if 'is_play_home' in i]\n",
    "train[is_play_home] = train[is_play_home].fillna(np.random.choice([0, 1.0])) \n",
    "train[is_play_home] "
   ]
  },
  {
   "cell_type": "code",
   "execution_count": 29,
   "metadata": {
    "execution": {
     "iopub.execute_input": "2022-03-05T00:36:41.791394Z",
     "iopub.status.busy": "2022-03-05T00:36:41.786506Z",
     "iopub.status.idle": "2022-03-05T00:36:41.971400Z",
     "shell.execute_reply": "2022-03-05T00:36:41.970506Z",
     "shell.execute_reply.started": "2022-03-05T00:36:41.791356Z"
    }
   },
   "outputs": [
    {
     "name": "stdout",
     "output_type": "stream",
     "text": [
      "Your selected dataframe has 90 columns.\n",
      "There are 70 columns that have missing values.\n"
     ]
    },
    {
     "data": {
      "text/html": [
       "<div>\n",
       "<style scoped>\n",
       "    .dataframe tbody tr th:only-of-type {\n",
       "        vertical-align: middle;\n",
       "    }\n",
       "\n",
       "    .dataframe tbody tr th {\n",
       "        vertical-align: top;\n",
       "    }\n",
       "\n",
       "    .dataframe thead th {\n",
       "        text-align: right;\n",
       "    }\n",
       "</style>\n",
       "<table border=\"1\" class=\"dataframe\">\n",
       "  <thead>\n",
       "    <tr style=\"text-align: right;\">\n",
       "      <th></th>\n",
       "      <th>Missing Values</th>\n",
       "      <th>% of Total Values</th>\n",
       "    </tr>\n",
       "  </thead>\n",
       "  <tbody>\n",
       "    <tr>\n",
       "      <th>home_team_history_coach_10</th>\n",
       "      <td>26653</td>\n",
       "      <td>24.0</td>\n",
       "    </tr>\n",
       "    <tr>\n",
       "      <th>home_team_history_coach_9</th>\n",
       "      <td>25733</td>\n",
       "      <td>23.2</td>\n",
       "    </tr>\n",
       "    <tr>\n",
       "      <th>home_team_history_coach_8</th>\n",
       "      <td>24869</td>\n",
       "      <td>22.4</td>\n",
       "    </tr>\n",
       "    <tr>\n",
       "      <th>home_team_history_coach_7</th>\n",
       "      <td>23980</td>\n",
       "      <td>21.6</td>\n",
       "    </tr>\n",
       "    <tr>\n",
       "      <th>home_team_history_coach_6</th>\n",
       "      <td>23258</td>\n",
       "      <td>21.0</td>\n",
       "    </tr>\n",
       "    <tr>\n",
       "      <th>...</th>\n",
       "      <td>...</td>\n",
       "      <td>...</td>\n",
       "    </tr>\n",
       "    <tr>\n",
       "      <th>home_team_history_rating_1</th>\n",
       "      <td>1171</td>\n",
       "      <td>1.1</td>\n",
       "    </tr>\n",
       "    <tr>\n",
       "      <th>home_team_history_opponent_rating_1</th>\n",
       "      <td>1171</td>\n",
       "      <td>1.1</td>\n",
       "    </tr>\n",
       "    <tr>\n",
       "      <th>home_team_history_league_id_1</th>\n",
       "      <td>1159</td>\n",
       "      <td>1.0</td>\n",
       "    </tr>\n",
       "    <tr>\n",
       "      <th>home_team_history_goal_1</th>\n",
       "      <td>1159</td>\n",
       "      <td>1.0</td>\n",
       "    </tr>\n",
       "    <tr>\n",
       "      <th>home_team_history_opponent_goal_1</th>\n",
       "      <td>1159</td>\n",
       "      <td>1.0</td>\n",
       "    </tr>\n",
       "  </tbody>\n",
       "</table>\n",
       "<p>70 rows × 2 columns</p>\n",
       "</div>"
      ],
      "text/plain": [
       "                                     Missing Values  % of Total Values\n",
       "home_team_history_coach_10                    26653               24.0\n",
       "home_team_history_coach_9                     25733               23.2\n",
       "home_team_history_coach_8                     24869               22.4\n",
       "home_team_history_coach_7                     23980               21.6\n",
       "home_team_history_coach_6                     23258               21.0\n",
       "...                                             ...                ...\n",
       "home_team_history_rating_1                     1171                1.1\n",
       "home_team_history_opponent_rating_1            1171                1.1\n",
       "home_team_history_league_id_1                  1159                1.0\n",
       "home_team_history_goal_1                       1159                1.0\n",
       "home_team_history_opponent_goal_1              1159                1.0\n",
       "\n",
       "[70 rows x 2 columns]"
      ]
     },
     "execution_count": 29,
     "metadata": {},
     "output_type": "execute_result"
    }
   ],
   "source": [
    "missing_values_table(train[home_team_history])"
   ]
  },
  {
   "cell_type": "code",
   "execution_count": 74,
   "metadata": {
    "execution": {
     "iopub.execute_input": "2022-03-05T00:36:41.972945Z",
     "iopub.status.busy": "2022-03-05T00:36:41.972674Z",
     "iopub.status.idle": "2022-03-05T00:36:42.148777Z",
     "shell.execute_reply": "2022-03-05T00:36:42.147809Z",
     "shell.execute_reply.started": "2022-03-05T00:36:41.972907Z"
    }
   },
   "outputs": [
    {
     "name": "stdout",
     "output_type": "stream",
     "text": [
      "Your selected dataframe has 70 columns.\n",
      "There are 0 columns that have missing values.\n"
     ]
    },
    {
     "data": {
      "text/html": [
       "<div>\n",
       "<style scoped>\n",
       "    .dataframe tbody tr th:only-of-type {\n",
       "        vertical-align: middle;\n",
       "    }\n",
       "\n",
       "    .dataframe tbody tr th {\n",
       "        vertical-align: top;\n",
       "    }\n",
       "\n",
       "    .dataframe thead th {\n",
       "        text-align: right;\n",
       "    }\n",
       "</style>\n",
       "<table border=\"1\" class=\"dataframe\">\n",
       "  <thead>\n",
       "    <tr style=\"text-align: right;\">\n",
       "      <th></th>\n",
       "      <th>Missing Values</th>\n",
       "      <th>% of Total Values</th>\n",
       "    </tr>\n",
       "  </thead>\n",
       "  <tbody>\n",
       "  </tbody>\n",
       "</table>\n",
       "</div>"
      ],
      "text/plain": [
       "Empty DataFrame\n",
       "Columns: [Missing Values, % of Total Values]\n",
       "Index: []"
      ]
     },
     "execution_count": 74,
     "metadata": {},
     "output_type": "execute_result"
    }
   ],
   "source": [
    "missing_values_table(train[away_team_history])"
   ]
  },
  {
   "cell_type": "code",
   "execution_count": 31,
   "metadata": {
    "execution": {
     "iopub.execute_input": "2022-03-05T00:36:42.185170Z",
     "iopub.status.busy": "2022-03-05T00:36:42.184807Z",
     "iopub.status.idle": "2022-03-05T00:36:42.310158Z",
     "shell.execute_reply": "2022-03-05T00:36:42.309020Z",
     "shell.execute_reply.started": "2022-03-05T00:36:42.185103Z"
    }
   },
   "outputs": [],
   "source": [
    "teams = dict.fromkeys(list(train['home_team_name'].value_counts().keys()) + list(train['away_team_name'].value_counts().keys()))\n",
    "dic = {}\n",
    "for i, team in enumerate(teams):\n",
    "    dic[team] = i"
   ]
  },
  {
   "cell_type": "code",
   "execution_count": 32,
   "metadata": {
    "execution": {
     "iopub.execute_input": "2022-03-05T00:36:42.311877Z",
     "iopub.status.busy": "2022-03-05T00:36:42.311599Z",
     "iopub.status.idle": "2022-03-05T00:36:42.370628Z",
     "shell.execute_reply": "2022-03-05T00:36:42.369604Z",
     "shell.execute_reply.started": "2022-03-05T00:36:42.311831Z"
    }
   },
   "outputs": [],
   "source": [
    "train['home_team_name']=train['home_team_name'].map(dic)\n",
    "train['away_team_name']=train['away_team_name'].map(dic)"
   ]
  },
  {
   "cell_type": "code",
   "execution_count": 33,
   "metadata": {
    "execution": {
     "iopub.execute_input": "2022-03-05T00:36:42.455157Z",
     "iopub.status.busy": "2022-03-05T00:36:42.454163Z",
     "iopub.status.idle": "2022-03-05T00:36:42.502208Z",
     "shell.execute_reply": "2022-03-05T00:36:42.501502Z",
     "shell.execute_reply.started": "2022-03-05T00:36:42.455118Z"
    }
   },
   "outputs": [
    {
     "data": {
      "text/plain": [
       "0.0        82\n",
       "1.0        77\n",
       "3.0        65\n",
       "2.0        64\n",
       "4.0        64\n",
       "           ..\n",
       "8712.0      1\n",
       "8301.0      1\n",
       "10213.0     1\n",
       "8332.0      1\n",
       "8977.0      1\n",
       "Name: away_team_name, Length: 9892, dtype: int64"
      ]
     },
     "execution_count": 33,
     "metadata": {},
     "output_type": "execute_result"
    }
   ],
   "source": [
    "train['away_team_name'].value_counts()"
   ]
  },
  {
   "cell_type": "code",
   "execution_count": 134,
   "metadata": {},
   "outputs": [
    {
     "ename": "NameError",
     "evalue": "name 'home_team_history' is not defined",
     "output_type": "error",
     "traceback": [
      "\u001b[1;31m---------------------------------------------------------------------------\u001b[0m",
      "\u001b[1;31mNameError\u001b[0m                                 Traceback (most recent call last)",
      "\u001b[1;32m~\\AppData\\Local\\Temp/ipykernel_5488/4177275508.py\u001b[0m in \u001b[0;36m<module>\u001b[1;34m\u001b[0m\n\u001b[1;32m----> 1\u001b[1;33m \u001b[0mdata\u001b[0m \u001b[1;33m=\u001b[0m \u001b[1;33m[\u001b[0m\u001b[1;34m'target'\u001b[0m\u001b[1;33m]\u001b[0m \u001b[1;33m+\u001b[0m \u001b[0mhome_team_history\u001b[0m \u001b[1;33m+\u001b[0m \u001b[0maway_team_history\u001b[0m\u001b[1;33m\u001b[0m\u001b[1;33m\u001b[0m\u001b[0m\n\u001b[0m\u001b[0;32m      2\u001b[0m \u001b[0mprint\u001b[0m\u001b[1;33m(\u001b[0m\u001b[0mdata\u001b[0m\u001b[1;33m)\u001b[0m\u001b[1;33m\u001b[0m\u001b[1;33m\u001b[0m\u001b[0m\n\u001b[0;32m      3\u001b[0m \u001b[0mcorr\u001b[0m \u001b[1;33m=\u001b[0m \u001b[0mtrain\u001b[0m\u001b[1;33m.\u001b[0m\u001b[0miloc\u001b[0m\u001b[1;33m[\u001b[0m\u001b[1;33m:\u001b[0m\u001b[1;33m,\u001b[0m\u001b[1;36m0\u001b[0m\u001b[1;33m:\u001b[0m\u001b[1;36m30\u001b[0m\u001b[1;33m]\u001b[0m\u001b[1;33m.\u001b[0m\u001b[0mcorr\u001b[0m\u001b[1;33m(\u001b[0m\u001b[1;33m)\u001b[0m\u001b[1;33m.\u001b[0m\u001b[0mreplace\u001b[0m\u001b[1;33m(\u001b[0m\u001b[1;36m1\u001b[0m\u001b[1;33m,\u001b[0m \u001b[0mnp\u001b[0m\u001b[1;33m.\u001b[0m\u001b[0mNaN\u001b[0m\u001b[1;33m)\u001b[0m\u001b[1;33m.\u001b[0m\u001b[0mabs\u001b[0m\u001b[1;33m(\u001b[0m\u001b[1;33m)\u001b[0m\u001b[1;33m\u001b[0m\u001b[1;33m\u001b[0m\u001b[0m\n\u001b[0;32m      4\u001b[0m \u001b[1;33m\u001b[0m\u001b[0m\n\u001b[0;32m      5\u001b[0m \u001b[0mmax_list\u001b[0m \u001b[1;33m=\u001b[0m \u001b[1;33m[\u001b[0m\u001b[1;33m]\u001b[0m\u001b[1;33m\u001b[0m\u001b[1;33m\u001b[0m\u001b[0m\n",
      "\u001b[1;31mNameError\u001b[0m: name 'home_team_history' is not defined"
     ]
    }
   ],
   "source": [
    "data = ['target'] + home_team_history + away_team_history\n",
    "print(data)\n",
    "corr = train.iloc[:,0:30].corr().replace(1, np.NaN).abs()\n",
    "\n",
    "max_list = []\n",
    "for i in range(0,100):\n",
    "    max_val = max(corr.max())\n",
    "    max_list.append((max_val, corr.columns[np.where(corr == max_val)[0][:]][0],\n",
    "                    corr.columns[np.where(corr == max_val)[0][:]][1]))\n",
    "    corr.replace(max_val, np.NaN, inplace=True)\n"
   ]
  },
  {
   "cell_type": "code",
   "execution_count": 76,
   "metadata": {},
   "outputs": [
    {
     "data": {
      "text/plain": [
       "[(0.4385850702811064,\n",
       "  'home_team_history_is_play_home_8',\n",
       "  'home_team_history_is_play_home_9'),\n",
       " (0.43505041624283197,\n",
       "  'home_team_history_is_play_home_7',\n",
       "  'home_team_history_is_play_home_8'),\n",
       " (0.4325939306332451,\n",
       "  'home_team_history_is_play_home_9',\n",
       "  'home_team_history_is_play_home_10'),\n",
       " (0.4296696182447896,\n",
       "  'home_team_history_is_play_home_4',\n",
       "  'home_team_history_is_play_home_5'),\n",
       " (0.42606532103559097,\n",
       "  'home_team_history_is_play_home_6',\n",
       "  'home_team_history_is_play_home_7'),\n",
       " (0.4246288174687052,\n",
       "  'home_team_history_is_play_home_2',\n",
       "  'home_team_history_is_play_home_3'),\n",
       " (0.4234060079322376,\n",
       "  'home_team_history_is_play_home_5',\n",
       "  'home_team_history_is_play_home_6'),\n",
       " (0.4207265271346516,\n",
       "  'home_team_history_is_play_home_3',\n",
       "  'home_team_history_is_play_home_4'),\n",
       " (0.40611011992183416,\n",
       "  'home_team_history_is_play_home_1',\n",
       "  'home_team_history_is_play_home_2'),\n",
       " (0.24411237697757673, 'is_cup', 'home_team_history_is_cup_2'),\n",
       " (0.23427448445863755,\n",
       "  'home_team_history_is_cup_1',\n",
       "  'home_team_history_is_cup_3'),\n",
       " (0.22930853450871208,\n",
       "  'home_team_history_is_cup_2',\n",
       "  'home_team_history_is_cup_4'),\n",
       " (0.22129188584045015, 'league_id', 'is_cup'),\n",
       " (0.21570238230407057,\n",
       "  'home_team_history_is_cup_7',\n",
       "  'home_team_history_is_cup_9'),\n",
       " (0.21508251339863207,\n",
       "  'home_team_history_is_cup_3',\n",
       "  'home_team_history_is_cup_5'),\n",
       " (0.20999260812190215,\n",
       "  'home_team_history_is_cup_4',\n",
       "  'home_team_history_is_cup_6'),\n",
       " (0.2081183076974506,\n",
       "  'home_team_history_is_cup_5',\n",
       "  'home_team_history_is_cup_7'),\n",
       " (0.20417479590961976,\n",
       "  'home_team_history_is_cup_8',\n",
       "  'home_team_history_is_cup_10'),\n",
       " (0.20079308795822892,\n",
       "  'home_team_history_is_cup_6',\n",
       "  'home_team_history_is_cup_8'),\n",
       " (0.19710761257791676, 'home_team_coach_id', 'away_team_coach_id'),\n",
       " (0.17339702787722533, 'is_cup', 'home_team_history_is_cup_1'),\n",
       " (0.17255003647197392, 'is_cup', 'home_team_history_is_cup_3'),\n",
       " (0.17055505259175963,\n",
       "  'home_team_history_is_cup_1',\n",
       "  'home_team_history_is_cup_4'),\n",
       " (0.16543388630426992,\n",
       "  'home_team_history_is_cup_1',\n",
       "  'home_team_history_is_cup_2'),\n",
       " (0.1613878948320879,\n",
       "  'home_team_history_is_cup_2',\n",
       "  'home_team_history_is_cup_5'),\n",
       " (0.15717966158518512,\n",
       "  'home_team_history_is_cup_2',\n",
       "  'home_team_history_is_cup_3'),\n",
       " (0.1554708488301042,\n",
       "  'home_team_history_is_cup_6',\n",
       "  'home_team_history_is_cup_9'),\n",
       " (0.1543674550611773,\n",
       "  'home_team_history_is_cup_4',\n",
       "  'home_team_history_is_cup_7'),\n",
       " (0.1542915211099611,\n",
       "  'home_team_history_is_cup_3',\n",
       "  'home_team_history_is_cup_6'),\n",
       " (0.15255575115361317,\n",
       "  'home_team_history_is_cup_5',\n",
       "  'home_team_history_is_cup_8'),\n",
       " (0.1514924959993027,\n",
       "  'home_team_history_is_play_home_2',\n",
       "  'home_team_history_is_cup_1'),\n",
       " (0.15136355577158686, 'is_cup', 'home_team_history_is_cup_4'),\n",
       " (0.15044594687199114,\n",
       "  'home_team_history_is_play_home_7',\n",
       "  'home_team_history_is_play_home_9'),\n",
       " (0.14985505858482684,\n",
       "  'home_team_history_is_cup_3',\n",
       "  'home_team_history_is_cup_4'),\n",
       " (0.14865939207127327,\n",
       "  'home_team_history_is_cup_7',\n",
       "  'home_team_history_is_cup_10'),\n",
       " (0.14406952478698157,\n",
       "  'home_team_history_is_cup_1',\n",
       "  'home_team_history_is_cup_5'),\n",
       " (0.14149487362310054,\n",
       "  'home_team_history_is_cup_4',\n",
       "  'home_team_history_is_cup_5'),\n",
       " (0.14125862987275598,\n",
       "  'home_team_history_is_play_home_8',\n",
       "  'home_team_history_is_play_home_10'),\n",
       " (0.1407279012071822,\n",
       "  'home_team_history_is_cup_4',\n",
       "  'home_team_history_is_cup_8'),\n",
       " (0.14007702644270792,\n",
       "  'home_team_history_is_cup_5',\n",
       "  'home_team_history_is_cup_9'),\n",
       " (0.13809968627617292,\n",
       "  'home_team_history_is_cup_2',\n",
       "  'home_team_history_is_cup_6'),\n",
       " (0.13703489825058143,\n",
       "  'home_team_history_is_play_home_4',\n",
       "  'home_team_history_is_play_home_6'),\n",
       " (0.1365847696255063,\n",
       "  'home_team_history_is_play_home_5',\n",
       "  'home_team_history_is_play_home_7'),\n",
       " (0.13471345350778446,\n",
       "  'home_team_history_is_cup_6',\n",
       "  'home_team_history_is_cup_7'),\n",
       " (0.1343047898745564,\n",
       "  'home_team_history_is_cup_5',\n",
       "  'home_team_history_is_cup_6'),\n",
       " (0.13408948157729766,\n",
       "  'home_team_history_is_cup_2',\n",
       "  'home_team_history_is_cup_7'),\n",
       " (0.13404707033736277,\n",
       "  'home_team_history_is_play_home_6',\n",
       "  'home_team_history_is_play_home_8'),\n",
       " (0.13384892186956246,\n",
       "  'home_team_history_is_cup_7',\n",
       "  'home_team_history_is_cup_8'),\n",
       " (0.1333048545839614,\n",
       "  'home_team_history_is_cup_6',\n",
       "  'home_team_history_is_cup_10'),\n",
       " (0.13290725694053257,\n",
       "  'home_team_history_is_cup_3',\n",
       "  'home_team_history_is_cup_7'),\n",
       " (0.1325853737175618,\n",
       "  'home_team_history_is_play_home_3',\n",
       "  'home_team_history_is_play_home_5'),\n",
       " (0.13198652070319042,\n",
       "  'home_team_history_is_cup_4',\n",
       "  'home_team_history_is_cup_9'),\n",
       " (0.13179237743359248,\n",
       "  'home_team_history_is_cup_8',\n",
       "  'home_team_history_is_cup_9'),\n",
       " (0.13175256043898498,\n",
       "  'home_team_history_is_play_home_2',\n",
       "  'home_team_history_is_play_home_4'),\n",
       " (0.13123465781740087,\n",
       "  'home_team_history_is_cup_5',\n",
       "  'home_team_history_is_cup_10'),\n",
       " (0.13110849412683037, 'is_cup', 'home_team_history_is_cup_5'),\n",
       " (0.1297708369880033,\n",
       "  'home_team_history_is_cup_3',\n",
       "  'home_team_history_is_cup_8'),\n",
       " (0.12815255840253664,\n",
       "  'home_team_history_is_cup_1',\n",
       "  'home_team_history_is_cup_6'),\n",
       " (0.12701795466190374,\n",
       "  'home_team_history_is_cup_9',\n",
       "  'home_team_history_is_cup_10'),\n",
       " (0.1266005480176195, 'is_cup', 'home_team_history_is_play_home_1'),\n",
       " (0.12117739885300126,\n",
       "  'home_team_history_is_play_home_1',\n",
       "  'home_team_history_goal_1'),\n",
       " (0.1181870433313624,\n",
       "  'home_team_history_is_play_home_1',\n",
       "  'home_team_history_is_cup_1'),\n",
       " (0.1157238187665736,\n",
       "  'home_team_history_is_play_home_1',\n",
       "  'home_team_history_is_play_home_3'),\n",
       " (0.11384344161757982, 'is_cup', 'home_team_history_is_cup_6'),\n",
       " (0.11343707125713964,\n",
       "  'home_team_history_is_cup_1',\n",
       "  'home_team_history_is_cup_7'),\n",
       " (0.11091440951494087,\n",
       "  'home_team_history_is_cup_4',\n",
       "  'home_team_history_is_cup_10'),\n",
       " (0.10889181465363028,\n",
       "  'home_team_history_is_cup_3',\n",
       "  'home_team_history_is_cup_9'),\n",
       " (0.10638149976764427, 'is_cup', 'home_team_history_is_cup_7'),\n",
       " (0.10571210316748597,\n",
       "  'home_team_history_is_cup_2',\n",
       "  'home_team_history_is_cup_8'),\n",
       " (0.10512758396151292,\n",
       "  'home_team_history_is_cup_2',\n",
       "  'home_team_history_is_cup_9'),\n",
       " (0.10263590865355456,\n",
       "  'home_team_history_is_cup_1',\n",
       "  'home_team_history_is_cup_8'),\n",
       " (0.0965708004031058,\n",
       "  'home_team_history_is_cup_3',\n",
       "  'home_team_history_is_cup_10'),\n",
       " (0.08463953505038999,\n",
       "  'home_team_history_is_play_home_7',\n",
       "  'home_team_history_is_play_home_10'),\n",
       " (0.08403195113393899,\n",
       "  'home_team_history_is_play_home_6',\n",
       "  'home_team_history_is_play_home_9'),\n",
       " (0.08164180737244187,\n",
       "  'home_team_history_is_play_home_4',\n",
       "  'home_team_history_is_play_home_7'),\n",
       " (0.08102520254495946, 'is_cup', 'home_team_history_is_cup_9'),\n",
       " (0.07878963733197032, 'league_id', 'home_team_history_is_play_home_1'),\n",
       " (0.07827029576679989,\n",
       "  'home_team_history_is_cup_1',\n",
       "  'home_team_history_is_cup_9'),\n",
       " (0.07817673227627985,\n",
       "  'home_team_history_is_play_home_2',\n",
       "  'home_team_history_is_play_home_5'),\n",
       " (0.07758518467358785,\n",
       "  'home_team_history_is_cup_2',\n",
       "  'home_team_history_is_cup_10'),\n",
       " (0.07702986205360343, 'league_id', 'home_team_history_is_cup_2'),\n",
       " (0.07618950408443392, 'is_cup', 'home_team_history_is_cup_8'),\n",
       " (0.07325525894554703,\n",
       "  'home_team_history_is_cup_1',\n",
       "  'home_team_history_is_cup_10'),\n",
       " (0.07313394697878198,\n",
       "  'home_team_history_is_play_home_5',\n",
       "  'home_team_history_is_play_home_8'),\n",
       " (0.07115040623903492,\n",
       "  'home_team_history_is_play_home_3',\n",
       "  'home_team_history_is_play_home_6'),\n",
       " (0.06993551279648652,\n",
       "  'home_team_history_is_play_home_1',\n",
       "  'home_team_history_is_play_home_4'),\n",
       " (0.06841761397589874, 'is_cup', 'home_team_history_is_cup_10'),\n",
       " (0.06671948691553535,\n",
       "  'home_team_history_is_play_home_3',\n",
       "  'home_team_history_is_cup_2'),\n",
       " (0.06532118132372756,\n",
       "  'home_team_history_is_play_home_2',\n",
       "  'home_team_history_is_cup_2'),\n",
       " (0.0635137471388987, 'is_cup', 'home_team_history_is_play_home_2'),\n",
       " (0.06308829404928479, 'is_cup', 'away_team_coach_id'),\n",
       " (0.0628616892332371,\n",
       "  'home_team_history_is_play_home_3',\n",
       "  'home_team_history_is_cup_1'),\n",
       " (0.06239002277258774, 'is_cup', 'home_team_history_goal_1'),\n",
       " (0.0618669342246375,\n",
       "  'home_team_history_is_cup_1',\n",
       "  'home_team_history_goal_1'),\n",
       " (0.061031795444210155, 'home_team_coach_id', 'home_team_history_is_cup_2'),\n",
       " (0.060005189069004525, 'id', 'is_cup'),\n",
       " (0.059169207838442636, 'home_team_coach_id', 'home_team_history_is_cup_1'),\n",
       " (0.05827472196554044, 'home_team_coach_id', 'home_team_history_is_cup_6'),\n",
       " (0.05737365352118969, 'home_team_coach_id', 'home_team_history_is_cup_7'),\n",
       " (0.0571526920198359, 'home_team_coach_id', 'home_team_history_is_cup_5')]"
      ]
     },
     "execution_count": 76,
     "metadata": {},
     "output_type": "execute_result"
    }
   ],
   "source": [
    "max_list"
   ]
  },
  {
   "cell_type": "code",
   "execution_count": 77,
   "metadata": {},
   "outputs": [
    {
     "ename": "NameError",
     "evalue": "name 'home_rating_columns' is not defined",
     "output_type": "error",
     "traceback": [
      "\u001b[1;31m---------------------------------------------------------------------------\u001b[0m",
      "\u001b[1;31mNameError\u001b[0m                                 Traceback (most recent call last)",
      "\u001b[1;32m~\\AppData\\Local\\Temp/ipykernel_9964/2085083066.py\u001b[0m in \u001b[0;36m<module>\u001b[1;34m\u001b[0m\n\u001b[1;32m----> 1\u001b[1;33m \u001b[1;33m[\u001b[0m\u001b[0mhome_rating_columns\u001b[0m\u001b[1;33m,\u001b[0m \u001b[0mhome_opponent_rating_columns\u001b[0m\u001b[1;33m,\u001b[0m \u001b[0maway_rating_columns\u001b[0m\u001b[1;33m,\u001b[0m \u001b[0maway_opponent_rating_columns\u001b[0m\u001b[1;33m]\u001b[0m\u001b[1;33m\u001b[0m\u001b[1;33m\u001b[0m\u001b[0m\n\u001b[0m",
      "\u001b[1;31mNameError\u001b[0m: name 'home_rating_columns' is not defined"
     ]
    }
   ],
   "source": [
    "[home_rating_columns, home_opponent_rating_columns, away_rating_columns, away_opponent_rating_columns]"
   ]
  },
  {
   "cell_type": "code",
   "execution_count": 78,
   "metadata": {},
   "outputs": [],
   "source": [
    "# train[['target', 'home_team_coach_id', 'is_cup', 'away_team_coach_id'] + home_rating_columns + home_opponent_rating_columns + away_rating_columns + away_opponent_rating_columns].corr()"
   ]
  },
  {
   "cell_type": "code",
   "execution_count": 129,
   "metadata": {
    "execution": {
     "iopub.execute_input": "2022-03-05T00:36:42.716348Z",
     "iopub.status.busy": "2022-03-05T00:36:42.715984Z",
     "iopub.status.idle": "2022-03-05T00:36:42.723556Z",
     "shell.execute_reply": "2022-03-05T00:36:42.722767Z",
     "shell.execute_reply.started": "2022-03-05T00:36:42.716308Z"
    }
   },
   "outputs": [],
   "source": [
    "for i in train:\n",
    "    if 'match_date' in i:\n",
    "        try:\n",
    "            train[i] = pd.to_datetime(train[i]).dt.month.astype(int)\n",
    "        except:\n",
    "            pass"
   ]
  },
  {
   "cell_type": "code",
   "execution_count": 60,
   "metadata": {
    "execution": {
     "iopub.execute_input": "2022-03-05T00:36:42.503367Z",
     "iopub.status.busy": "2022-03-05T00:36:42.503117Z",
     "iopub.status.idle": "2022-03-05T00:36:42.511071Z",
     "shell.execute_reply": "2022-03-05T00:36:42.510308Z",
     "shell.execute_reply.started": "2022-03-05T00:36:42.503325Z"
    }
   },
   "outputs": [
    {
     "data": {
      "text/plain": [
       "['id',\n",
       " 'target',\n",
       " 'home_team_name',\n",
       " 'away_team_name',\n",
       " 'match_date',\n",
       " 'league_name',\n",
       " 'league_id',\n",
       " 'is_cup',\n",
       " 'home_team_coach_id',\n",
       " 'away_team_coach_id',\n",
       " 'home_team_history_match_date_1',\n",
       " 'home_team_history_match_date_2',\n",
       " 'home_team_history_match_date_3',\n",
       " 'home_team_history_match_date_4',\n",
       " 'home_team_history_match_date_5',\n",
       " 'home_team_history_match_date_6',\n",
       " 'home_team_history_match_date_7',\n",
       " 'home_team_history_match_date_8',\n",
       " 'home_team_history_match_date_9',\n",
       " 'home_team_history_match_date_10',\n",
       " 'home_team_history_is_play_home_1',\n",
       " 'home_team_history_is_play_home_2',\n",
       " 'home_team_history_is_play_home_3',\n",
       " 'home_team_history_is_play_home_4',\n",
       " 'home_team_history_is_play_home_5',\n",
       " 'home_team_history_is_play_home_6',\n",
       " 'home_team_history_is_play_home_7',\n",
       " 'home_team_history_is_play_home_8',\n",
       " 'home_team_history_is_play_home_9',\n",
       " 'home_team_history_is_play_home_10',\n",
       " 'home_team_history_is_cup_1',\n",
       " 'home_team_history_is_cup_2',\n",
       " 'home_team_history_is_cup_3',\n",
       " 'home_team_history_is_cup_4',\n",
       " 'home_team_history_is_cup_5',\n",
       " 'home_team_history_is_cup_6',\n",
       " 'home_team_history_is_cup_7',\n",
       " 'home_team_history_is_cup_8',\n",
       " 'home_team_history_is_cup_9',\n",
       " 'home_team_history_is_cup_10',\n",
       " 'home_team_history_goal_1',\n",
       " 'home_team_history_goal_2',\n",
       " 'home_team_history_goal_3',\n",
       " 'home_team_history_goal_4',\n",
       " 'home_team_history_goal_5',\n",
       " 'home_team_history_goal_6',\n",
       " 'home_team_history_goal_7',\n",
       " 'home_team_history_goal_8',\n",
       " 'home_team_history_goal_9',\n",
       " 'home_team_history_goal_10',\n",
       " 'home_team_history_opponent_goal_1',\n",
       " 'home_team_history_opponent_goal_2',\n",
       " 'home_team_history_opponent_goal_3',\n",
       " 'home_team_history_opponent_goal_4',\n",
       " 'home_team_history_opponent_goal_5',\n",
       " 'home_team_history_opponent_goal_6',\n",
       " 'home_team_history_opponent_goal_7',\n",
       " 'home_team_history_opponent_goal_8',\n",
       " 'home_team_history_opponent_goal_9',\n",
       " 'home_team_history_opponent_goal_10',\n",
       " 'home_team_history_rating_1',\n",
       " 'home_team_history_rating_2',\n",
       " 'home_team_history_rating_3',\n",
       " 'home_team_history_rating_4',\n",
       " 'home_team_history_rating_5',\n",
       " 'home_team_history_rating_6',\n",
       " 'home_team_history_rating_7',\n",
       " 'home_team_history_rating_8',\n",
       " 'home_team_history_rating_9',\n",
       " 'home_team_history_rating_10',\n",
       " 'home_team_history_opponent_rating_1',\n",
       " 'home_team_history_opponent_rating_2',\n",
       " 'home_team_history_opponent_rating_3',\n",
       " 'home_team_history_opponent_rating_4',\n",
       " 'home_team_history_opponent_rating_5',\n",
       " 'home_team_history_opponent_rating_6',\n",
       " 'home_team_history_opponent_rating_7',\n",
       " 'home_team_history_opponent_rating_8',\n",
       " 'home_team_history_opponent_rating_9',\n",
       " 'home_team_history_opponent_rating_10',\n",
       " 'home_team_history_coach_1',\n",
       " 'home_team_history_coach_2',\n",
       " 'home_team_history_coach_3',\n",
       " 'home_team_history_coach_4',\n",
       " 'home_team_history_coach_5',\n",
       " 'home_team_history_coach_6',\n",
       " 'home_team_history_coach_7',\n",
       " 'home_team_history_coach_8',\n",
       " 'home_team_history_coach_9',\n",
       " 'home_team_history_coach_10',\n",
       " 'home_team_history_league_id_1',\n",
       " 'home_team_history_league_id_2',\n",
       " 'home_team_history_league_id_3',\n",
       " 'home_team_history_league_id_4',\n",
       " 'home_team_history_league_id_5',\n",
       " 'home_team_history_league_id_6',\n",
       " 'home_team_history_league_id_7',\n",
       " 'home_team_history_league_id_8',\n",
       " 'home_team_history_league_id_9',\n",
       " 'home_team_history_league_id_10',\n",
       " 'away_team_history_match_date_1',\n",
       " 'away_team_history_match_date_2',\n",
       " 'away_team_history_match_date_3',\n",
       " 'away_team_history_match_date_4',\n",
       " 'away_team_history_match_date_5',\n",
       " 'away_team_history_match_date_6',\n",
       " 'away_team_history_match_date_7',\n",
       " 'away_team_history_match_date_8',\n",
       " 'away_team_history_match_date_9',\n",
       " 'away_team_history_match_date_10',\n",
       " 'away_team_history_is_play_home_1',\n",
       " 'away_team_history_is_play_home_2',\n",
       " 'away_team_history_is_play_home_3',\n",
       " 'away_team_history_is_play_home_4',\n",
       " 'away_team_history_is_play_home_5',\n",
       " 'away_team_history_is_play_home_6',\n",
       " 'away_team_history_is_play_home_7',\n",
       " 'away_team_history_is_play_home_8',\n",
       " 'away_team_history_is_play_home_9',\n",
       " 'away_team_history_is_play_home_10',\n",
       " 'away_team_history_is_cup_1',\n",
       " 'away_team_history_is_cup_2',\n",
       " 'away_team_history_is_cup_3',\n",
       " 'away_team_history_is_cup_4',\n",
       " 'away_team_history_is_cup_5',\n",
       " 'away_team_history_is_cup_6',\n",
       " 'away_team_history_is_cup_7',\n",
       " 'away_team_history_is_cup_8',\n",
       " 'away_team_history_is_cup_9',\n",
       " 'away_team_history_is_cup_10',\n",
       " 'away_team_history_goal_1',\n",
       " 'away_team_history_goal_2',\n",
       " 'away_team_history_goal_3',\n",
       " 'away_team_history_goal_4',\n",
       " 'away_team_history_goal_5',\n",
       " 'away_team_history_goal_6',\n",
       " 'away_team_history_goal_7',\n",
       " 'away_team_history_goal_8',\n",
       " 'away_team_history_goal_9',\n",
       " 'away_team_history_goal_10',\n",
       " 'away_team_history_opponent_goal_1',\n",
       " 'away_team_history_opponent_goal_2',\n",
       " 'away_team_history_opponent_goal_3',\n",
       " 'away_team_history_opponent_goal_4',\n",
       " 'away_team_history_opponent_goal_5',\n",
       " 'away_team_history_opponent_goal_6',\n",
       " 'away_team_history_opponent_goal_7',\n",
       " 'away_team_history_opponent_goal_8',\n",
       " 'away_team_history_opponent_goal_9',\n",
       " 'away_team_history_opponent_goal_10',\n",
       " 'away_team_history_rating_1',\n",
       " 'away_team_history_rating_2',\n",
       " 'away_team_history_rating_3',\n",
       " 'away_team_history_rating_4',\n",
       " 'away_team_history_rating_5',\n",
       " 'away_team_history_rating_6',\n",
       " 'away_team_history_rating_7',\n",
       " 'away_team_history_rating_8',\n",
       " 'away_team_history_rating_9',\n",
       " 'away_team_history_rating_10',\n",
       " 'away_team_history_opponent_rating_1',\n",
       " 'away_team_history_opponent_rating_2',\n",
       " 'away_team_history_opponent_rating_3',\n",
       " 'away_team_history_opponent_rating_4',\n",
       " 'away_team_history_opponent_rating_5',\n",
       " 'away_team_history_opponent_rating_6',\n",
       " 'away_team_history_opponent_rating_7',\n",
       " 'away_team_history_opponent_rating_8',\n",
       " 'away_team_history_opponent_rating_9',\n",
       " 'away_team_history_opponent_rating_10',\n",
       " 'away_team_history_coach_1',\n",
       " 'away_team_history_coach_2',\n",
       " 'away_team_history_coach_3',\n",
       " 'away_team_history_coach_4',\n",
       " 'away_team_history_coach_5',\n",
       " 'away_team_history_coach_6',\n",
       " 'away_team_history_coach_7',\n",
       " 'away_team_history_coach_8',\n",
       " 'away_team_history_coach_9',\n",
       " 'away_team_history_coach_10',\n",
       " 'away_team_history_league_id_1',\n",
       " 'away_team_history_league_id_2',\n",
       " 'away_team_history_league_id_3',\n",
       " 'away_team_history_league_id_4',\n",
       " 'away_team_history_league_id_5',\n",
       " 'away_team_history_league_id_6',\n",
       " 'away_team_history_league_id_7',\n",
       " 'away_team_history_league_id_8',\n",
       " 'away_team_history_league_id_9',\n",
       " 'away_team_history_league_id_10',\n",
       " 'date']"
      ]
     },
     "execution_count": 60,
     "metadata": {},
     "output_type": "execute_result"
    }
   ],
   "source": [
    "# sns.barplot(train['target'].value_counts().keys(), train['target'].value_counts())\n",
    "# plt.show()\n",
    "list(train.columns)"
   ]
  },
  {
   "cell_type": "code",
   "execution_count": 101,
   "metadata": {},
   "outputs": [],
   "source": [
    "away_team_history_goal = [i for i in train.columns if 'away_team_history_goal' in i]\n",
    "away_team_history_opponent_goal = [i for i in train.columns if 'away_team_history_opponent_goal' in i]\n",
    "away_team_history_rating = [i for i in train.columns if 'away_team_history_rating' in i]\n",
    "away_team_history_opponent_rating = [i for i in train.columns if 'away_team_history_opponent_rating' in i]\n",
    "\n",
    "home_team_history_goal = [i for i in train.columns if 'home_team_history_goal' in i]\n",
    "home_team_history_opponent_goal = [i for i in train.columns if 'home_team_history_opponent_goal' in i]\n",
    "home_team_history_rating = [i for i in train.columns if 'home_team_history_rating' in i]\n",
    "home_team_history_opponent_rating = [i for i in train.columns if 'home_team_history_opponent_rating' in i]\n",
    "\n",
    "train['home_goal'] = train[home_team_history_goal].sum(axis=1)\n",
    "train['home_opp_goal'] = train[home_team_history_opponent_goal].sum(axis=1)\n",
    "train['home_rating'] = train[home_team_history_rating].std(axis=1)\n",
    "train['home_opp_rating'] = train[home_team_history_opponent_rating].std(axis=1)\n",
    "\n",
    "train['away_goal'] = train[away_team_history_goal].sum(axis=1)\n",
    "train['away_opp_goal'] = train[away_team_history_opponent_goal].sum(axis=1)\n",
    "train['away_rating'] = train[away_team_history_rating].std(axis=1)\n",
    "train['away_opp_rating'] = train[away_team_history_opponent_rating].std(axis=1)"
   ]
  },
  {
   "cell_type": "code",
   "execution_count": 102,
   "metadata": {
    "execution": {
     "iopub.execute_input": "2022-03-05T00:36:42.787022Z",
     "iopub.status.busy": "2022-03-05T00:36:42.784901Z",
     "iopub.status.idle": "2022-03-05T00:36:42.791599Z",
     "shell.execute_reply": "2022-03-05T00:36:42.790897Z",
     "shell.execute_reply.started": "2022-03-05T00:36:42.786985Z"
    }
   },
   "outputs": [
    {
     "data": {
      "text/html": [
       "<div>\n",
       "<style scoped>\n",
       "    .dataframe tbody tr th:only-of-type {\n",
       "        vertical-align: middle;\n",
       "    }\n",
       "\n",
       "    .dataframe tbody tr th {\n",
       "        vertical-align: top;\n",
       "    }\n",
       "\n",
       "    .dataframe thead th {\n",
       "        text-align: right;\n",
       "    }\n",
       "</style>\n",
       "<table border=\"1\" class=\"dataframe\">\n",
       "  <thead>\n",
       "    <tr style=\"text-align: right;\">\n",
       "      <th></th>\n",
       "      <th>target</th>\n",
       "      <th>home_team_history_goal_1</th>\n",
       "      <th>home_team_history_goal_2</th>\n",
       "      <th>home_team_history_goal_3</th>\n",
       "      <th>home_team_history_goal_4</th>\n",
       "      <th>home_team_history_goal_5</th>\n",
       "      <th>home_team_history_goal_6</th>\n",
       "      <th>home_team_history_goal_7</th>\n",
       "      <th>home_team_history_goal_8</th>\n",
       "      <th>home_team_history_goal_9</th>\n",
       "      <th>home_team_history_goal_10</th>\n",
       "    </tr>\n",
       "  </thead>\n",
       "  <tbody>\n",
       "    <tr>\n",
       "      <th>0</th>\n",
       "      <td>2</td>\n",
       "      <td>0.0</td>\n",
       "      <td>2.0</td>\n",
       "      <td>0.0</td>\n",
       "      <td>0.0</td>\n",
       "      <td>3.0</td>\n",
       "      <td>0.0</td>\n",
       "      <td>1.0</td>\n",
       "      <td>2.0</td>\n",
       "      <td>1.0</td>\n",
       "      <td>4.0</td>\n",
       "    </tr>\n",
       "    <tr>\n",
       "      <th>1</th>\n",
       "      <td>1</td>\n",
       "      <td>0.0</td>\n",
       "      <td>0.0</td>\n",
       "      <td>4.0</td>\n",
       "      <td>0.0</td>\n",
       "      <td>0.0</td>\n",
       "      <td>2.0</td>\n",
       "      <td>0.0</td>\n",
       "      <td>2.0</td>\n",
       "      <td>1.0</td>\n",
       "      <td>0.0</td>\n",
       "    </tr>\n",
       "    <tr>\n",
       "      <th>2</th>\n",
       "      <td>3</td>\n",
       "      <td>3.0</td>\n",
       "      <td>2.0</td>\n",
       "      <td>2.0</td>\n",
       "      <td>1.0</td>\n",
       "      <td>0.0</td>\n",
       "      <td>2.0</td>\n",
       "      <td>4.0</td>\n",
       "      <td>3.0</td>\n",
       "      <td>1.0</td>\n",
       "      <td>1.0</td>\n",
       "    </tr>\n",
       "    <tr>\n",
       "      <th>3</th>\n",
       "      <td>2</td>\n",
       "      <td>3.0</td>\n",
       "      <td>2.0</td>\n",
       "      <td>4.0</td>\n",
       "      <td>1.0</td>\n",
       "      <td>0.0</td>\n",
       "      <td>3.0</td>\n",
       "      <td>2.0</td>\n",
       "      <td>1.0</td>\n",
       "      <td>1.0</td>\n",
       "      <td>1.0</td>\n",
       "    </tr>\n",
       "    <tr>\n",
       "      <th>4</th>\n",
       "      <td>1</td>\n",
       "      <td>1.0</td>\n",
       "      <td>3.0</td>\n",
       "      <td>2.0</td>\n",
       "      <td>2.0</td>\n",
       "      <td>1.0</td>\n",
       "      <td>3.0</td>\n",
       "      <td>3.0</td>\n",
       "      <td>1.0</td>\n",
       "      <td>1.0</td>\n",
       "      <td>1.0</td>\n",
       "    </tr>\n",
       "    <tr>\n",
       "      <th>...</th>\n",
       "      <td>...</td>\n",
       "      <td>...</td>\n",
       "      <td>...</td>\n",
       "      <td>...</td>\n",
       "      <td>...</td>\n",
       "      <td>...</td>\n",
       "      <td>...</td>\n",
       "      <td>...</td>\n",
       "      <td>...</td>\n",
       "      <td>...</td>\n",
       "      <td>...</td>\n",
       "    </tr>\n",
       "    <tr>\n",
       "      <th>110932</th>\n",
       "      <td>2</td>\n",
       "      <td>0.0</td>\n",
       "      <td>0.0</td>\n",
       "      <td>5.0</td>\n",
       "      <td>1.0</td>\n",
       "      <td>6.0</td>\n",
       "      <td>0.0</td>\n",
       "      <td>3.0</td>\n",
       "      <td>1.0</td>\n",
       "      <td>1.0</td>\n",
       "      <td>1.0</td>\n",
       "    </tr>\n",
       "    <tr>\n",
       "      <th>110934</th>\n",
       "      <td>2</td>\n",
       "      <td>1.0</td>\n",
       "      <td>3.0</td>\n",
       "      <td>3.0</td>\n",
       "      <td>4.0</td>\n",
       "      <td>8.0</td>\n",
       "      <td>1.0</td>\n",
       "      <td>1.0</td>\n",
       "      <td>3.0</td>\n",
       "      <td>1.0</td>\n",
       "      <td>1.0</td>\n",
       "    </tr>\n",
       "    <tr>\n",
       "      <th>110935</th>\n",
       "      <td>3</td>\n",
       "      <td>1.0</td>\n",
       "      <td>1.0</td>\n",
       "      <td>2.0</td>\n",
       "      <td>1.0</td>\n",
       "      <td>1.0</td>\n",
       "      <td>0.0</td>\n",
       "      <td>1.0</td>\n",
       "      <td>2.0</td>\n",
       "      <td>0.0</td>\n",
       "      <td>1.0</td>\n",
       "    </tr>\n",
       "    <tr>\n",
       "      <th>110936</th>\n",
       "      <td>2</td>\n",
       "      <td>1.0</td>\n",
       "      <td>0.0</td>\n",
       "      <td>1.0</td>\n",
       "      <td>2.0</td>\n",
       "      <td>1.0</td>\n",
       "      <td>1.0</td>\n",
       "      <td>0.0</td>\n",
       "      <td>1.0</td>\n",
       "      <td>1.0</td>\n",
       "      <td>2.0</td>\n",
       "    </tr>\n",
       "    <tr>\n",
       "      <th>110937</th>\n",
       "      <td>1</td>\n",
       "      <td>1.0</td>\n",
       "      <td>2.0</td>\n",
       "      <td>2.0</td>\n",
       "      <td>0.0</td>\n",
       "      <td>3.0</td>\n",
       "      <td>0.0</td>\n",
       "      <td>0.0</td>\n",
       "      <td>2.0</td>\n",
       "      <td>2.0</td>\n",
       "      <td>3.0</td>\n",
       "    </tr>\n",
       "  </tbody>\n",
       "</table>\n",
       "<p>64117 rows × 11 columns</p>\n",
       "</div>"
      ],
      "text/plain": [
       "        target  home_team_history_goal_1  home_team_history_goal_2  \\\n",
       "0            2                       0.0                       2.0   \n",
       "1            1                       0.0                       0.0   \n",
       "2            3                       3.0                       2.0   \n",
       "3            2                       3.0                       2.0   \n",
       "4            1                       1.0                       3.0   \n",
       "...        ...                       ...                       ...   \n",
       "110932       2                       0.0                       0.0   \n",
       "110934       2                       1.0                       3.0   \n",
       "110935       3                       1.0                       1.0   \n",
       "110936       2                       1.0                       0.0   \n",
       "110937       1                       1.0                       2.0   \n",
       "\n",
       "        home_team_history_goal_3  home_team_history_goal_4  \\\n",
       "0                            0.0                       0.0   \n",
       "1                            4.0                       0.0   \n",
       "2                            2.0                       1.0   \n",
       "3                            4.0                       1.0   \n",
       "4                            2.0                       2.0   \n",
       "...                          ...                       ...   \n",
       "110932                       5.0                       1.0   \n",
       "110934                       3.0                       4.0   \n",
       "110935                       2.0                       1.0   \n",
       "110936                       1.0                       2.0   \n",
       "110937                       2.0                       0.0   \n",
       "\n",
       "        home_team_history_goal_5  home_team_history_goal_6  \\\n",
       "0                            3.0                       0.0   \n",
       "1                            0.0                       2.0   \n",
       "2                            0.0                       2.0   \n",
       "3                            0.0                       3.0   \n",
       "4                            1.0                       3.0   \n",
       "...                          ...                       ...   \n",
       "110932                       6.0                       0.0   \n",
       "110934                       8.0                       1.0   \n",
       "110935                       1.0                       0.0   \n",
       "110936                       1.0                       1.0   \n",
       "110937                       3.0                       0.0   \n",
       "\n",
       "        home_team_history_goal_7  home_team_history_goal_8  \\\n",
       "0                            1.0                       2.0   \n",
       "1                            0.0                       2.0   \n",
       "2                            4.0                       3.0   \n",
       "3                            2.0                       1.0   \n",
       "4                            3.0                       1.0   \n",
       "...                          ...                       ...   \n",
       "110932                       3.0                       1.0   \n",
       "110934                       1.0                       3.0   \n",
       "110935                       1.0                       2.0   \n",
       "110936                       0.0                       1.0   \n",
       "110937                       0.0                       2.0   \n",
       "\n",
       "        home_team_history_goal_9  home_team_history_goal_10  \n",
       "0                            1.0                        4.0  \n",
       "1                            1.0                        0.0  \n",
       "2                            1.0                        1.0  \n",
       "3                            1.0                        1.0  \n",
       "4                            1.0                        1.0  \n",
       "...                          ...                        ...  \n",
       "110932                       1.0                        1.0  \n",
       "110934                       1.0                        1.0  \n",
       "110935                       0.0                        1.0  \n",
       "110936                       1.0                        2.0  \n",
       "110937                       2.0                        3.0  \n",
       "\n",
       "[64117 rows x 11 columns]"
      ]
     },
     "execution_count": 102,
     "metadata": {},
     "output_type": "execute_result"
    }
   ],
   "source": [
    "train[['target']+ home_team_history_goal]"
   ]
  },
  {
   "cell_type": "code",
   "execution_count": 103,
   "metadata": {},
   "outputs": [
    {
     "name": "stdout",
     "output_type": "stream",
     "text": [
      "<class 'pandas.core.frame.DataFrame'>\n",
      "Int64Index: 57 entries, 0 to 99\n",
      "Columns: 198 entries, id to away_opp_rating\n",
      "dtypes: float64(170), int64(3), object(25)\n",
      "memory usage: 88.6+ KB\n"
     ]
    }
   ],
   "source": [
    "train.loc[:100].info()"
   ]
  },
  {
   "cell_type": "code",
   "execution_count": 104,
   "metadata": {},
   "outputs": [
    {
     "data": {
      "text/html": [
       "<div>\n",
       "<style scoped>\n",
       "    .dataframe tbody tr th:only-of-type {\n",
       "        vertical-align: middle;\n",
       "    }\n",
       "\n",
       "    .dataframe tbody tr th {\n",
       "        vertical-align: top;\n",
       "    }\n",
       "\n",
       "    .dataframe thead th {\n",
       "        text-align: right;\n",
       "    }\n",
       "</style>\n",
       "<table border=\"1\" class=\"dataframe\">\n",
       "  <thead>\n",
       "    <tr style=\"text-align: right;\">\n",
       "      <th></th>\n",
       "      <th>target</th>\n",
       "      <th>home_goal</th>\n",
       "    </tr>\n",
       "  </thead>\n",
       "  <tbody>\n",
       "    <tr>\n",
       "      <th>target</th>\n",
       "      <td>1.000000</td>\n",
       "      <td>-0.114687</td>\n",
       "    </tr>\n",
       "    <tr>\n",
       "      <th>home_goal</th>\n",
       "      <td>-0.114687</td>\n",
       "      <td>1.000000</td>\n",
       "    </tr>\n",
       "  </tbody>\n",
       "</table>\n",
       "</div>"
      ],
      "text/plain": [
       "             target  home_goal\n",
       "target     1.000000  -0.114687\n",
       "home_goal -0.114687   1.000000"
      ]
     },
     "execution_count": 104,
     "metadata": {},
     "output_type": "execute_result"
    }
   ],
   "source": [
    "train[['target', 'home_goal']].corr()"
   ]
  },
  {
   "cell_type": "code",
   "execution_count": 105,
   "metadata": {
    "execution": {
     "iopub.execute_input": "2022-03-05T00:36:42.795199Z",
     "iopub.status.busy": "2022-03-05T00:36:42.794447Z",
     "iopub.status.idle": "2022-03-05T00:36:42.801374Z",
     "shell.execute_reply": "2022-03-05T00:36:42.800687Z",
     "shell.execute_reply.started": "2022-03-05T00:36:42.795166Z"
    }
   },
   "outputs": [
    {
     "data": {
      "image/png": "[encoded data removed]",
      "text/plain": [
       "<Figure size 432x288 with 1 Axes>"
      ]
     },
     "metadata": {
      "needs_background": "light"
     },
     "output_type": "display_data"
    }
   ],
   "source": [
    "sns.barplot(x='target',  y='home_goal', data=train)          \n",
    "plt.show()"
   ]
  },
  {
   "cell_type": "code",
   "execution_count": 94,
   "metadata": {},
   "outputs": [
    {
     "data": {
      "image/png": "[encoded data removed]",
      "text/plain": [
       "<Figure size 432x288 with 1 Axes>"
      ]
     },
     "metadata": {
      "needs_background": "light"
     },
     "output_type": "display_data"
    }
   ],
   "source": [
    "# plt.figure(figsize=(6, 7))\n",
    "sns.barplot(x='target',  y='home_opp_goal', data=train)          \n",
    "plt.show()"
   ]
  },
  {
   "cell_type": "code",
   "execution_count": 132,
   "metadata": {},
   "outputs": [
    {
     "data": {
      "image/png": "[encoded data removed]",
      "text/plain": [
       "<Figure size 432x288 with 1 Axes>"
      ]
     },
     "metadata": {
      "needs_background": "light"
     },
     "output_type": "display_data"
    }
   ],
   "source": [
    "# plt.figure(figsize=(6, 7))\n",
    "sns.barplot(x='target',  y='home_rating', data=train)          \n",
    "plt.show()"
   ]
  },
  {
   "cell_type": "code",
   "execution_count": 107,
   "metadata": {},
   "outputs": [
    {
     "data": {
      "image/png": "[encoded data removed]",
      "text/plain": [
       "<Figure size 432x288 with 1 Axes>"
      ]
     },
     "metadata": {
      "needs_background": "light"
     },
     "output_type": "display_data"
    }
   ],
   "source": [
    "sns.barplot(x='target',  y='home_opp_rating', data=train)          \n",
    "plt.show()"
   ]
  },
  {
   "cell_type": "code",
   "execution_count": 99,
   "metadata": {},
   "outputs": [
    {
     "data": {
      "image/png": "[encoded data removed]",
      "text/plain": [
       "<Figure size 432x288 with 1 Axes>"
      ]
     },
     "metadata": {
      "needs_background": "light"
     },
     "output_type": "display_data"
    }
   ],
   "source": [
    "sns.barplot(x='target',  y='home_team_coach_id', data=train)          \n",
    "plt.show()"
   ]
  },
  {
   "cell_type": "code",
   "execution_count": 88,
   "metadata": {},
   "outputs": [
    {
     "data": {
      "image/png": "[encoded data removed]",
      "text/plain": [
       "<Figure size 432x288 with 1 Axes>"
      ]
     },
     "metadata": {
      "needs_background": "light"
     },
     "output_type": "display_data"
    }
   ],
   "source": [
    "sns.barplot(x='target',  y='away_goal', data=train)          \n",
    "plt.show()"
   ]
  },
  {
   "cell_type": "code",
   "execution_count": 89,
   "metadata": {},
   "outputs": [
    {
     "data": {
      "image/png": "[encoded data removed]",
      "text/plain": [
       "<Figure size 432x288 with 1 Axes>"
      ]
     },
     "metadata": {
      "needs_background": "light"
     },
     "output_type": "display_data"
    }
   ],
   "source": [
    "sns.barplot(x='target',  y='away_opp_goal', data=train)          \n",
    "plt.show()"
   ]
  },
  {
   "cell_type": "code",
   "execution_count": 90,
   "metadata": {},
   "outputs": [
    {
     "data": {
      "image/png": "[encoded data removed]",
      "text/plain": [
       "<Figure size 432x288 with 1 Axes>"
      ]
     },
     "metadata": {
      "needs_background": "light"
     },
     "output_type": "display_data"
    }
   ],
   "source": [
    "sns.barplot(x='target',  y='away_rating', data=train)          \n",
    "plt.show()"
   ]
  },
  {
   "cell_type": "code",
   "execution_count": 100,
   "metadata": {},
   "outputs": [
    {
     "data": {
      "image/png": "[encoded data removed]",
      "text/plain": [
       "<Figure size 432x288 with 1 Axes>"
      ]
     },
     "metadata": {
      "needs_background": "light"
     },
     "output_type": "display_data"
    }
   ],
   "source": [
    "sns.barplot(x='target',  y='away_opp_rating', data=train)          \n",
    "plt.show()"
   ]
  },
  {
   "cell_type": "code",
   "execution_count": 126,
   "metadata": {},
   "outputs": [
    {
     "data": {
      "image/png": "[encoded data removed]",
      "text/plain": [
       "<Figure size 432x288 with 1 Axes>"
      ]
     },
     "metadata": {
      "needs_background": "light"
     },
     "output_type": "display_data"
    }
   ],
   "source": [
    "sns.barplot(x='target',  y='is_cup', data=train)          \n",
    "plt.show()"
   ]
  },
  {
   "cell_type": "code",
   "execution_count": 133,
   "metadata": {},
   "outputs": [
    {
     "data": {
      "image/png": "[encoded data removed]",
      "text/plain": [
       "<Figure size 432x288 with 1 Axes>"
      ]
     },
     "metadata": {
      "needs_background": "light"
     },
     "output_type": "display_data"
    }
   ],
   "source": [
    "sns.barplot(x='target',  y='match_date', data=train)          \n",
    "plt.show()"
   ]
  },
  {
   "cell_type": "code",
   "execution_count": 125,
   "metadata": {},
   "outputs": [
    {
     "data": {
      "text/plain": [
       "<seaborn.axisgrid.PairGrid at 0x28d0aed2910>"
      ]
     },
     "execution_count": 125,
     "metadata": {},
     "output_type": "execute_result"
    },
    {
     "data": {
      "image/png": "[encoded data removed]",
      "text/plain": [
       "<Figure size 360x360 with 6 Axes>"
      ]
     },
     "metadata": {
      "needs_background": "light"
     },
     "output_type": "display_data"
    }
   ],
   "source": [
    "sns.pairplot(train[['target', 'is_cup']])"
   ]
  },
  {
   "cell_type": "code",
   "execution_count": 349,
   "metadata": {},
   "outputs": [],
   "source": [
    "# #i'll ignore to ids.\n",
    "# f,ax = plt.subplots(figsize=(12,10))\n",
    "# sns.heatmap(train.iloc[:,2:].corr(),annot=True, linewidths=.1, fmt='.1f', ax=ax)\n",
    "\n",
    "# plt.show()"
   ]
  },
  {
   "cell_type": "code",
   "execution_count": 77,
   "metadata": {
    "execution": {
     "iopub.execute_input": "2022-03-05T00:36:42.804127Z",
     "iopub.status.busy": "2022-03-05T00:36:42.802719Z",
     "iopub.status.idle": "2022-03-05T00:36:42.811152Z",
     "shell.execute_reply": "2022-03-05T00:36:42.810450Z",
     "shell.execute_reply.started": "2022-03-05T00:36:42.804093Z"
    }
   },
   "outputs": [],
   "source": [
    "# sns.barplot(x='target',  y='home_team_history_rating_1', data=train)\n",
    "# plt.show()"
   ]
  },
  {
   "cell_type": "code",
   "execution_count": 78,
   "metadata": {
    "execution": {
     "iopub.execute_input": "2022-03-05T00:36:42.819883Z",
     "iopub.status.busy": "2022-03-05T00:36:42.814468Z",
     "iopub.status.idle": "2022-03-05T00:36:42.823785Z",
     "shell.execute_reply": "2022-03-05T00:36:42.823076Z",
     "shell.execute_reply.started": "2022-03-05T00:36:42.819845Z"
    }
   },
   "outputs": [],
   "source": [
    "# sns.barplot(x='target',  y='home_team_history_opponent_rating_1', data=train)\n",
    "# plt.show()"
   ]
  },
  {
   "cell_type": "code",
   "execution_count": null,
   "metadata": {
    "execution": {
     "iopub.execute_input": "2022-03-05T00:36:42.827409Z",
     "iopub.status.busy": "2022-03-05T00:36:42.825944Z",
     "iopub.status.idle": "2022-03-05T00:36:43.061724Z",
     "shell.execute_reply": "2022-03-05T00:36:43.060954Z",
     "shell.execute_reply.started": "2022-03-05T00:36:42.827371Z"
    }
   },
   "outputs": [],
   "source": []
  },
  {
   "cell_type": "code",
   "execution_count": 79,
   "metadata": {
    "execution": {
     "iopub.execute_input": "2022-03-05T00:36:43.140035Z",
     "iopub.status.busy": "2022-03-05T00:36:43.139772Z",
     "iopub.status.idle": "2022-03-05T00:36:43.149495Z",
     "shell.execute_reply": "2022-03-05T00:36:43.148677Z",
     "shell.execute_reply.started": "2022-03-05T00:36:43.139999Z"
    }
   },
   "outputs": [],
   "source": [
    "# df = train[['target', 'is_cup'] + home_rating_columns + home_opponent_rating_columns + away_rating_columns + away_opponent_rating_columns + goal]\n",
    "\n",
    "# sns.pairplot(df)\n",
    "# plt.show()\n"
   ]
  },
  {
   "cell_type": "code",
   "execution_count": 80,
   "metadata": {
    "execution": {
     "iopub.execute_input": "2022-03-05T00:36:43.153122Z",
     "iopub.status.busy": "2022-03-05T00:36:43.151691Z",
     "iopub.status.idle": "2022-03-05T00:36:43.160079Z",
     "shell.execute_reply": "2022-03-05T00:36:43.159273Z",
     "shell.execute_reply.started": "2022-03-05T00:36:43.153080Z"
    }
   },
   "outputs": [],
   "source": [
    "# df = train[['target','home_team_history_rating_1','home_team_history_opponent_rating_1','home_team_history_goal_1','home_team_history_opponent_goal_1', 'home_team_name']]\n",
    "\n",
    "# sns.pairplot(df)\n",
    "# plt.show()\n"
   ]
  },
  {
   "cell_type": "code",
   "execution_count": 81,
   "metadata": {
    "execution": {
     "iopub.execute_input": "2022-03-05T00:36:43.165614Z",
     "iopub.status.busy": "2022-03-05T00:36:43.163846Z",
     "iopub.status.idle": "2022-03-05T00:36:43.174859Z",
     "shell.execute_reply": "2022-03-05T00:36:43.174154Z",
     "shell.execute_reply.started": "2022-03-05T00:36:43.165117Z"
    }
   },
   "outputs": [],
   "source": [
    "# sns.barplot(x='target',  y='home_team_history_is_play_home_2', data=train)\n",
    "# plt.show()"
   ]
  },
  {
   "cell_type": "code",
   "execution_count": 82,
   "metadata": {
    "execution": {
     "iopub.execute_input": "2022-03-05T00:36:43.177051Z",
     "iopub.status.busy": "2022-03-05T00:36:43.176189Z",
     "iopub.status.idle": "2022-03-05T00:36:43.182296Z",
     "shell.execute_reply": "2022-03-05T00:36:43.181594Z",
     "shell.execute_reply.started": "2022-03-05T00:36:43.176960Z"
    }
   },
   "outputs": [],
   "source": [
    "# test.info()"
   ]
  },
  {
   "cell_type": "markdown",
   "metadata": {},
   "source": [
    "# **Model Develope**"
   ]
  },
  {
   "cell_type": "code",
   "execution_count": 80,
   "metadata": {
    "execution": {
     "iopub.execute_input": "2022-03-05T00:36:43.186909Z",
     "iopub.status.busy": "2022-03-05T00:36:43.184903Z",
     "iopub.status.idle": "2022-03-05T00:36:43.203838Z",
     "shell.execute_reply": "2022-03-05T00:36:43.203144Z",
     "shell.execute_reply.started": "2022-03-05T00:36:43.186863Z"
    }
   },
   "outputs": [
    {
     "ename": "NameError",
     "evalue": "name 'datees' is not defined",
     "output_type": "error",
     "traceback": [
      "\u001b[1;31m---------------------------------------------------------------------------\u001b[0m",
      "\u001b[1;31mNameError\u001b[0m                                 Traceback (most recent call last)",
      "\u001b[1;32m~\\AppData\\Local\\Temp/ipykernel_5488/3231783372.py\u001b[0m in \u001b[0;36m<module>\u001b[1;34m\u001b[0m\n\u001b[1;32m----> 1\u001b[1;33m \u001b[0mtrain\u001b[0m\u001b[1;33m[\u001b[0m\u001b[0mdatees\u001b[0m\u001b[1;33m]\u001b[0m\u001b[1;33m.\u001b[0m\u001b[0mmax\u001b[0m\u001b[1;33m(\u001b[0m\u001b[1;33m)\u001b[0m\u001b[1;33m\u001b[0m\u001b[1;33m\u001b[0m\u001b[0m\n\u001b[0m",
      "\u001b[1;31mNameError\u001b[0m: name 'datees' is not defined"
     ]
    }
   ],
   "source": [
    "train[datees].max()"
   ]
  },
  {
   "cell_type": "code",
   "execution_count": 121,
   "metadata": {
    "execution": {
     "iopub.execute_input": "2022-03-05T00:36:43.229896Z",
     "iopub.status.busy": "2022-03-05T00:36:43.228712Z",
     "iopub.status.idle": "2022-03-05T00:36:43.251223Z",
     "shell.execute_reply": "2022-03-05T00:36:43.250598Z",
     "shell.execute_reply.started": "2022-03-05T00:36:43.229849Z"
    }
   },
   "outputs": [
    {
     "data": {
      "text/plain": [
       "Timestamp('2020-10-24 13:00:00')"
      ]
     },
     "execution_count": 121,
     "metadata": {},
     "output_type": "execute_result"
    }
   ],
   "source": [
    "train['match_date'].median()"
   ]
  },
  {
   "cell_type": "code",
   "execution_count": 120,
   "metadata": {
    "execution": {
     "iopub.execute_input": "2022-03-05T00:36:43.256535Z",
     "iopub.status.busy": "2022-03-05T00:36:43.253845Z",
     "iopub.status.idle": "2022-03-05T00:36:43.272133Z",
     "shell.execute_reply": "2022-03-05T00:36:43.271458Z",
     "shell.execute_reply.started": "2022-03-05T00:36:43.256498Z"
    }
   },
   "outputs": [
    {
     "data": {
      "text/plain": [
       "Timestamp('2019-12-01 00:45:00')"
      ]
     },
     "execution_count": 120,
     "metadata": {},
     "output_type": "execute_result"
    }
   ],
   "source": [
    "train['date'].min()"
   ]
  },
  {
   "cell_type": "code",
   "execution_count": 151,
   "metadata": {
    "execution": {
     "iopub.execute_input": "2022-03-05T00:36:43.275673Z",
     "iopub.status.busy": "2022-03-05T00:36:43.274235Z",
     "iopub.status.idle": "2022-03-05T00:36:43.287155Z",
     "shell.execute_reply": "2022-03-05T00:36:43.286494Z",
     "shell.execute_reply.started": "2022-03-05T00:36:43.275636Z"
    }
   },
   "outputs": [],
   "source": [
    "validation=0"
   ]
  },
  {
   "cell_type": "code",
   "execution_count": null,
   "metadata": {},
   "outputs": [],
   "source": []
  },
  {
   "cell_type": "code",
   "execution_count": 152,
   "metadata": {
    "execution": {
     "iopub.execute_input": "2022-03-05T00:36:43.289401Z",
     "iopub.status.busy": "2022-03-05T00:36:43.288530Z",
     "iopub.status.idle": "2022-03-05T00:36:43.397321Z",
     "shell.execute_reply": "2022-03-05T00:36:43.396587Z",
     "shell.execute_reply.started": "2022-03-05T00:36:43.289365Z"
    }
   },
   "outputs": [],
   "source": [
    "# validation = train[descr+home_team_history+away_team_history]\n",
    "validation = train[['target', 'home_team_name', 'away_team_name', 'date', 'home_goal', 'away_goal', 'away_rating', 'home_rating'] + datees]"
   ]
  },
  {
   "cell_type": "code",
   "execution_count": 153,
   "metadata": {
    "execution": {
     "iopub.execute_input": "2022-03-05T00:36:43.403649Z",
     "iopub.status.busy": "2022-03-05T00:36:43.401567Z",
     "iopub.status.idle": "2022-03-05T00:36:43.409356Z",
     "shell.execute_reply": "2022-03-05T00:36:43.408625Z",
     "shell.execute_reply.started": "2022-03-05T00:36:43.403612Z"
    }
   },
   "outputs": [],
   "source": [
    "# is_play_home = [h for h in validation.columns if 'is_play_home' in h][:]"
   ]
  },
  {
   "cell_type": "code",
   "execution_count": 154,
   "metadata": {
    "execution": {
     "iopub.execute_input": "2022-03-05T00:36:43.413474Z",
     "iopub.status.busy": "2022-03-05T00:36:43.412475Z",
     "iopub.status.idle": "2022-03-05T00:36:44.831414Z",
     "shell.execute_reply": "2022-03-05T00:36:44.830615Z",
     "shell.execute_reply.started": "2022-03-05T00:36:43.413436Z"
    }
   },
   "outputs": [],
   "source": [
    "# for i in validation.columns:    \n",
    "#     if 'is_play_home' in i:\n",
    "#         validation.drop(i, axis=1, inplace=True)            "
   ]
  },
  {
   "cell_type": "code",
   "execution_count": 155,
   "metadata": {
    "execution": {
     "iopub.execute_input": "2022-03-05T00:36:44.838254Z",
     "iopub.status.busy": "2022-03-05T00:36:44.835824Z",
     "iopub.status.idle": "2022-03-05T00:36:44.847680Z",
     "shell.execute_reply": "2022-03-05T00:36:44.846948Z",
     "shell.execute_reply.started": "2022-03-05T00:36:44.838211Z"
    }
   },
   "outputs": [
    {
     "data": {
      "text/plain": [
       "29"
      ]
     },
     "execution_count": 155,
     "metadata": {},
     "output_type": "execute_result"
    }
   ],
   "source": [
    "len(validation.columns)"
   ]
  },
  {
   "cell_type": "code",
   "execution_count": null,
   "metadata": {},
   "outputs": [],
   "source": []
  },
  {
   "cell_type": "code",
   "execution_count": 156,
   "metadata": {
    "execution": {
     "iopub.execute_input": "2022-03-05T00:36:44.918774Z",
     "iopub.status.busy": "2022-03-05T00:36:44.918503Z",
     "iopub.status.idle": "2022-03-05T00:36:45.082147Z",
     "shell.execute_reply": "2022-03-05T00:36:45.081249Z",
     "shell.execute_reply.started": "2022-03-05T00:36:44.918738Z"
    }
   },
   "outputs": [],
   "source": [
    "val_train = validation[validation['date'].dt.year <= 2020]\n",
    "val_test = validation[validation['date'].dt.year >= 2021]"
   ]
  },
  {
   "cell_type": "code",
   "execution_count": 157,
   "metadata": {
    "execution": {
     "iopub.execute_input": "2022-03-05T00:36:45.086628Z",
     "iopub.status.busy": "2022-03-05T00:36:45.083325Z",
     "iopub.status.idle": "2022-03-05T00:36:45.097297Z",
     "shell.execute_reply": "2022-03-05T00:36:45.096521Z",
     "shell.execute_reply.started": "2022-03-05T00:36:45.086582Z"
    }
   },
   "outputs": [
    {
     "data": {
      "text/plain": [
       "29"
      ]
     },
     "execution_count": 157,
     "metadata": {},
     "output_type": "execute_result"
    }
   ],
   "source": [
    "len(val_train.columns)"
   ]
  },
  {
   "cell_type": "code",
   "execution_count": 158,
   "metadata": {},
   "outputs": [
    {
     "data": {
      "text/plain": [
       "(52338, 29)"
      ]
     },
     "execution_count": 158,
     "metadata": {},
     "output_type": "execute_result"
    }
   ],
   "source": [
    "val_train.shape"
   ]
  },
  {
   "cell_type": "code",
   "execution_count": 159,
   "metadata": {},
   "outputs": [
    {
     "data": {
      "text/plain": [
       "(22583, 29)"
      ]
     },
     "execution_count": 159,
     "metadata": {},
     "output_type": "execute_result"
    }
   ],
   "source": [
    "val_test.shape"
   ]
  },
  {
   "cell_type": "code",
   "execution_count": 160,
   "metadata": {
    "execution": {
     "iopub.execute_input": "2022-03-05T00:36:45.100526Z",
     "iopub.status.busy": "2022-03-05T00:36:45.098850Z",
     "iopub.status.idle": "2022-03-05T00:36:45.143308Z",
     "shell.execute_reply": "2022-03-05T00:36:45.142595Z",
     "shell.execute_reply.started": "2022-03-05T00:36:45.100481Z"
    }
   },
   "outputs": [
    {
     "name": "stdout",
     "output_type": "stream",
     "text": [
      "<class 'pandas.core.frame.DataFrame'>\n",
      "Int64Index: 74921 entries, 0 to 110937\n",
      "Data columns (total 1 columns):\n",
      " #   Column  Non-Null Count  Dtype         \n",
      "---  ------  --------------  -----         \n",
      " 0   date    74921 non-null  datetime64[ns]\n",
      "dtypes: datetime64[ns](1)\n",
      "memory usage: 1.1 MB\n"
     ]
    }
   ],
   "source": [
    "validation[['date']].info()"
   ]
  },
  {
   "cell_type": "code",
   "execution_count": 161,
   "metadata": {
    "execution": {
     "iopub.execute_input": "2022-03-05T00:36:45.149499Z",
     "iopub.status.busy": "2022-03-05T00:36:45.147101Z",
     "iopub.status.idle": "2022-03-05T00:36:45.314040Z",
     "shell.execute_reply": "2022-03-05T00:36:45.313339Z",
     "shell.execute_reply.started": "2022-03-05T00:36:45.149460Z"
    },
    "scrolled": true
   },
   "outputs": [
    {
     "name": "stdout",
     "output_type": "stream",
     "text": [
      "Your selected dataframe has 29 columns.\n",
      "There are 0 columns that have missing values.\n"
     ]
    },
    {
     "data": {
      "text/html": [
       "<div>\n",
       "<style scoped>\n",
       "    .dataframe tbody tr th:only-of-type {\n",
       "        vertical-align: middle;\n",
       "    }\n",
       "\n",
       "    .dataframe tbody tr th {\n",
       "        vertical-align: top;\n",
       "    }\n",
       "\n",
       "    .dataframe thead th {\n",
       "        text-align: right;\n",
       "    }\n",
       "</style>\n",
       "<table border=\"1\" class=\"dataframe\">\n",
       "  <thead>\n",
       "    <tr style=\"text-align: right;\">\n",
       "      <th></th>\n",
       "      <th>Missing Values</th>\n",
       "      <th>% of Total Values</th>\n",
       "    </tr>\n",
       "  </thead>\n",
       "  <tbody>\n",
       "  </tbody>\n",
       "</table>\n",
       "</div>"
      ],
      "text/plain": [
       "Empty DataFrame\n",
       "Columns: [Missing Values, % of Total Values]\n",
       "Index: []"
      ]
     },
     "execution_count": 161,
     "metadata": {},
     "output_type": "execute_result"
    }
   ],
   "source": [
    "missing_values_table(validation)"
   ]
  },
  {
   "cell_type": "code",
   "execution_count": 162,
   "metadata": {
    "execution": {
     "iopub.execute_input": "2022-03-05T00:36:45.315243Z",
     "iopub.status.busy": "2022-03-05T00:36:45.314991Z",
     "iopub.status.idle": "2022-03-05T00:36:45.379301Z",
     "shell.execute_reply": "2022-03-05T00:36:45.378600Z",
     "shell.execute_reply.started": "2022-03-05T00:36:45.315205Z"
    }
   },
   "outputs": [
    {
     "name": "stderr",
     "output_type": "stream",
     "text": [
      "C:\\Users\\Ameri\\anaconda3\\lib\\site-packages\\pandas\\core\\frame.py:4906: SettingWithCopyWarning: \n",
      "A value is trying to be set on a copy of a slice from a DataFrame\n",
      "\n",
      "See the caveats in the documentation: https://pandas.pydata.org/pandas-docs/stable/user_guide/indexing.html#returning-a-view-versus-a-copy\n",
      "  return super().drop(\n"
     ]
    }
   ],
   "source": [
    "# for i in val_train.columns:\n",
    "#     if 'match_date' in i:\n",
    "#         val_train.drop(i, axis=1, inplace=True)\n",
    "#         val_test.drop(i, axis=1, inplace=True)\n",
    "val_test.drop('date', axis=1, inplace=True)\n",
    "val_train.drop('date', axis=1, inplace=True)"
   ]
  },
  {
   "cell_type": "code",
   "execution_count": 163,
   "metadata": {
    "execution": {
     "iopub.execute_input": "2022-03-05T00:36:45.385404Z",
     "iopub.status.busy": "2022-03-05T00:36:45.383124Z",
     "iopub.status.idle": "2022-03-05T00:36:45.493049Z",
     "shell.execute_reply": "2022-03-05T00:36:45.487845Z",
     "shell.execute_reply.started": "2022-03-05T00:36:45.385363Z"
    }
   },
   "outputs": [],
   "source": [
    "x_val_train = val_train.loc[:, val_train.columns != 'target']\n",
    "x_val_test = val_test.loc[:, val_train.columns != 'target']\n",
    "\n",
    "y_val_train = val_train['target']\n",
    "y_val_test = val_test['target']"
   ]
  },
  {
   "cell_type": "code",
   "execution_count": 164,
   "metadata": {
    "scrolled": true
   },
   "outputs": [],
   "source": [
    "# x_train = train.loc[:, val_train.columns != 'target']\n",
    "# x_test = test.loc[:, val_train.columns != 'target']"
   ]
  },
  {
   "cell_type": "code",
   "execution_count": 58,
   "metadata": {},
   "outputs": [
    {
     "ename": "NameError",
     "evalue": "name 'test' is not defined",
     "output_type": "error",
     "traceback": [
      "\u001b[1;31m---------------------------------------------------------------------------\u001b[0m",
      "\u001b[1;31mNameError\u001b[0m                                 Traceback (most recent call last)",
      "\u001b[1;32m~\\AppData\\Local\\Temp/ipykernel_13452/2158784471.py\u001b[0m in \u001b[0;36m<module>\u001b[1;34m\u001b[0m\n\u001b[1;32m----> 1\u001b[1;33m \u001b[0mtest\u001b[0m\u001b[1;33m.\u001b[0m\u001b[0mcolumns\u001b[0m\u001b[1;33m\u001b[0m\u001b[1;33m\u001b[0m\u001b[0m\n\u001b[0m",
      "\u001b[1;31mNameError\u001b[0m: name 'test' is not defined"
     ]
    }
   ],
   "source": [
    "# test.columns"
   ]
  },
  {
   "cell_type": "code",
   "execution_count": 166,
   "metadata": {},
   "outputs": [
    {
     "name": "stdout",
     "output_type": "stream",
     "text": [
      "Naive Bayes classifier for Multi Nomial accuracy: 0.4171\n"
     ]
    }
   ],
   "source": [
    "from sklearn.naive_bayes import MultinomialNB\n",
    "clf = MultinomialNB()\n",
    "clf.fit(x_val_train, y_val_train)\n",
    "y_pred = clf.predict(x_val_test)\n",
    "print('Naive Bayes classifier for Multi Nomial accuracy: {:.4f}'.format(accuracy_score(y_val_test, y_pred)))"
   ]
  },
  {
   "cell_type": "code",
   "execution_count": 167,
   "metadata": {
    "execution": {
     "iopub.execute_input": "2022-03-05T00:38:35.944293Z",
     "iopub.status.busy": "2022-03-05T00:38:35.943219Z",
     "iopub.status.idle": "2022-03-05T00:38:35.949063Z",
     "shell.execute_reply": "2022-03-05T00:38:35.948370Z",
     "shell.execute_reply.started": "2022-03-05T00:38:35.944241Z"
    }
   },
   "outputs": [],
   "source": [
    "from sklearn.naive_bayes import GaussianNB\n",
    "gnb = GaussianNB()"
   ]
  },
  {
   "cell_type": "code",
   "execution_count": 168,
   "metadata": {
    "execution": {
     "iopub.execute_input": "2022-03-05T00:38:37.176301Z",
     "iopub.status.busy": "2022-03-05T00:38:37.175990Z",
     "iopub.status.idle": "2022-03-05T00:38:37.301623Z",
     "shell.execute_reply": "2022-03-05T00:38:37.298045Z",
     "shell.execute_reply.started": "2022-03-05T00:38:37.176264Z"
    }
   },
   "outputs": [
    {
     "data": {
      "text/plain": [
       "0"
      ]
     },
     "execution_count": 168,
     "metadata": {},
     "output_type": "execute_result"
    }
   ],
   "source": [
    "x_val_train.isna().sum().sum()"
   ]
  },
  {
   "cell_type": "code",
   "execution_count": 169,
   "metadata": {
    "execution": {
     "iopub.execute_input": "2022-03-05T00:38:39.770049Z",
     "iopub.status.busy": "2022-03-05T00:38:39.769580Z",
     "iopub.status.idle": "2022-03-05T00:38:40.108139Z",
     "shell.execute_reply": "2022-03-05T00:38:40.106984Z",
     "shell.execute_reply.started": "2022-03-05T00:38:39.770001Z"
    }
   },
   "outputs": [
    {
     "data": {
      "text/plain": [
       "GaussianNB()"
      ]
     },
     "execution_count": 169,
     "metadata": {},
     "output_type": "execute_result"
    }
   ],
   "source": [
    "gnb.fit(x_val_train, y_val_train)"
   ]
  },
  {
   "cell_type": "code",
   "execution_count": 170,
   "metadata": {
    "execution": {
     "iopub.execute_input": "2022-03-05T00:38:42.196650Z",
     "iopub.status.busy": "2022-03-05T00:38:42.196203Z",
     "iopub.status.idle": "2022-03-05T00:38:42.400342Z",
     "shell.execute_reply": "2022-03-05T00:38:42.399606Z",
     "shell.execute_reply.started": "2022-03-05T00:38:42.196605Z"
    }
   },
   "outputs": [
    {
     "name": "stdout",
     "output_type": "stream",
     "text": [
      "Naive Bayes classifier for Gaussian Nomial accuracy: 0.3542\n"
     ]
    }
   ],
   "source": [
    "y_pred = gnb.predict(x_val_test)\n",
    "print('Naive Bayes classifier for Gaussian Nomial accuracy: {:.4f}'.format(accuracy_score(y_val_test, y_pred)))"
   ]
  },
  {
   "cell_type": "code",
   "execution_count": 171,
   "metadata": {
    "execution": {
     "iopub.execute_input": "2022-03-05T00:38:45.996176Z",
     "iopub.status.busy": "2022-03-05T00:38:45.995834Z",
     "iopub.status.idle": "2022-03-05T00:38:46.013717Z",
     "shell.execute_reply": "2022-03-05T00:38:46.013023Z",
     "shell.execute_reply.started": "2022-03-05T00:38:45.996135Z"
    }
   },
   "outputs": [
    {
     "name": "stdout",
     "output_type": "stream",
     "text": [
      "MAE:  0.953372005490856\n",
      "MSE:  1.568436434486118\n",
      "RMSE:  1.2523723226285854\n"
     ]
    }
   ],
   "source": [
    "print('MAE: ', metrics.mean_absolute_error(y_val_test , y_pred))\n",
    "print('MSE: ', metrics.mean_squared_error(y_val_test, y_pred))\n",
    "print('RMSE: ', np.sqrt(metrics.mean_squared_error(y_val_test, y_pred)))"
   ]
  },
  {
   "cell_type": "code",
   "execution_count": 172,
   "metadata": {
    "execution": {
     "iopub.execute_input": "2022-03-05T00:36:46.466666Z",
     "iopub.status.busy": "2022-03-05T00:36:46.459642Z",
     "iopub.status.idle": "2022-03-05T00:36:46.472453Z",
     "shell.execute_reply": "2022-03-05T00:36:46.471668Z",
     "shell.execute_reply.started": "2022-03-05T00:36:46.466627Z"
    }
   },
   "outputs": [
    {
     "data": {
      "text/plain": [
       "array([1, 1, 2, 2, 1], dtype=int64)"
      ]
     },
     "execution_count": 172,
     "metadata": {},
     "output_type": "execute_result"
    }
   ],
   "source": [
    "y_pred[:5]"
   ]
  },
  {
   "cell_type": "code",
   "execution_count": 173,
   "metadata": {
    "execution": {
     "iopub.execute_input": "2022-03-05T00:36:46.474676Z",
     "iopub.status.busy": "2022-03-05T00:36:46.474119Z",
     "iopub.status.idle": "2022-03-05T00:36:46.486317Z",
     "shell.execute_reply": "2022-03-05T00:36:46.485664Z",
     "shell.execute_reply.started": "2022-03-05T00:36:46.474636Z"
    }
   },
   "outputs": [
    {
     "data": {
      "text/plain": [
       "77693    1\n",
       "77696    3\n",
       "77705    2\n",
       "77706    2\n",
       "77710    3\n",
       "Name: target, dtype: int64"
      ]
     },
     "execution_count": 173,
     "metadata": {},
     "output_type": "execute_result"
    }
   ],
   "source": [
    "y_val_test.head()"
   ]
  },
  {
   "cell_type": "code",
   "execution_count": 174,
   "metadata": {
    "execution": {
     "iopub.execute_input": "2022-03-05T00:37:02.863061Z",
     "iopub.status.busy": "2022-03-05T00:37:02.862611Z",
     "iopub.status.idle": "2022-03-05T00:37:02.867577Z",
     "shell.execute_reply": "2022-03-05T00:37:02.866468Z",
     "shell.execute_reply.started": "2022-03-05T00:37:02.863015Z"
    }
   },
   "outputs": [],
   "source": [
    "from sklearn.linear_model import LinearRegression\n",
    "from sklearn import metrics"
   ]
  },
  {
   "cell_type": "code",
   "execution_count": 175,
   "metadata": {
    "execution": {
     "iopub.execute_input": "2022-03-05T00:40:37.444283Z",
     "iopub.status.busy": "2022-03-05T00:40:37.443941Z",
     "iopub.status.idle": "2022-03-05T00:40:38.915520Z",
     "shell.execute_reply": "2022-03-05T00:40:38.914712Z",
     "shell.execute_reply.started": "2022-03-05T00:40:37.444242Z"
    }
   },
   "outputs": [
    {
     "name": "stdout",
     "output_type": "stream",
     "text": [
      "MAE:  0.6863002552987505\n",
      "MSE:  0.6442861091065732\n",
      "RMSE:  0.80267434810549\n"
     ]
    }
   ],
   "source": [
    "lr = LinearRegression()\n",
    "lr.fit(x_val_train, y_val_train)\n",
    "y_pred = lr.predict(x_val_test)\n",
    "\n",
    "print('MAE: ', metrics.mean_absolute_error(y_val_test , y_pred))\n",
    "print('MSE: ', metrics.mean_squared_error(y_val_test, y_pred))\n",
    "print('RMSE: ', np.sqrt(metrics.mean_squared_error(y_val_test, y_pred)))"
   ]
  },
  {
   "cell_type": "code",
   "execution_count": 176,
   "metadata": {
    "execution": {
     "iopub.execute_input": "2022-03-05T00:39:33.419701Z",
     "iopub.status.busy": "2022-03-05T00:39:33.419307Z",
     "iopub.status.idle": "2022-03-05T00:39:55.769696Z",
     "shell.execute_reply": "2022-03-05T00:39:55.768608Z",
     "shell.execute_reply.started": "2022-03-05T00:39:33.419652Z"
    }
   },
   "outputs": [
    {
     "name": "stdout",
     "output_type": "stream",
     "text": [
      "Decision Tree Classifier accuracy: 37.4308\n"
     ]
    }
   ],
   "source": [
    "from sklearn.tree import DecisionTreeClassifier\n",
    "\n",
    "dml = DecisionTreeClassifier()\n",
    "dml.fit(x_val_train, y_val_train)\n",
    "y_pred = dml.predict(x_val_test)\n",
    "print(\"Decision Tree Classifier accuracy: {:.4f}\".format(accuracy_score(y_val_test,y_pred)*100))"
   ]
  },
  {
   "cell_type": "code",
   "execution_count": 177,
   "metadata": {},
   "outputs": [
    {
     "name": "stdout",
     "output_type": "stream",
     "text": [
      "Random Forest Classifier accuracy: 43.9578\n"
     ]
    }
   ],
   "source": [
    "from sklearn.ensemble import RandomForestClassifier\n",
    "randomForest= RandomForestClassifier(n_estimators=100)\n",
    "randomForest.fit(x_val_train, y_val_train)\n",
    "y_pred = randomForest.predict(x_val_test)\n",
    "print('Random Forest Classifier accuracy: {:.4f}'.format(accuracy_score(y_val_test, y_pred)*100))"
   ]
  },
  {
   "cell_type": "code",
   "execution_count": 221,
   "metadata": {
    "execution": {
     "iopub.execute_input": "2022-03-05T00:41:01.539792Z",
     "iopub.status.busy": "2022-03-05T00:41:01.539293Z",
     "iopub.status.idle": "2022-03-05T00:41:01.578130Z",
     "shell.execute_reply": "2022-03-05T00:41:01.577232Z",
     "shell.execute_reply.started": "2022-03-05T00:41:01.539741Z"
    }
   },
   "outputs": [],
   "source": [
    "from sklearn.ensemble import RandomForestRegressor"
   ]
  },
  {
   "cell_type": "code",
   "execution_count": 222,
   "metadata": {
    "execution": {
     "iopub.execute_input": "2022-03-05T00:45:10.003752Z",
     "iopub.status.busy": "2022-03-05T00:45:10.003305Z",
     "iopub.status.idle": "2022-03-05T00:45:10.010646Z",
     "shell.execute_reply": "2022-03-05T00:45:10.009726Z",
     "shell.execute_reply.started": "2022-03-05T00:45:10.003707Z"
    }
   },
   "outputs": [],
   "source": [
    "randomForest= RandomForestRegressor(n_estimators=100)\n",
    "randomForest.fit(x_val_train, y_val_train)\n",
    "y_pred = randomForest.predict(x_val_test)\n",
    "# print('Random Forest Classifier accuracy: {:.4f}'.format(accuracy_score(y_val_test, y_pred)*100))"
   ]
  },
  {
   "cell_type": "code",
   "execution_count": 228,
   "metadata": {},
   "outputs": [
    {
     "data": {
      "text/plain": [
       "0.8128962273282786"
      ]
     },
     "execution_count": 228,
     "metadata": {},
     "output_type": "execute_result"
    }
   ],
   "source": [
    "np.sqrt(metrics.mean_squared_error(y_val_test, y_pred))"
   ]
  },
  {
   "cell_type": "code",
   "execution_count": 229,
   "metadata": {},
   "outputs": [
    {
     "data": {
      "text/plain": [
       "array([1, 1, 2, ..., 1, 1, 1])"
      ]
     },
     "execution_count": 229,
     "metadata": {},
     "output_type": "execute_result"
    }
   ],
   "source": [
    "y_pred.astype(int)"
   ]
  },
  {
   "cell_type": "code",
   "execution_count": 230,
   "metadata": {},
   "outputs": [
    {
     "data": {
      "text/plain": [
       "77693    1\n",
       "77705    2\n",
       "77706    2\n",
       "77710    3\n",
       "77711    1\n",
       "Name: target, dtype: int64"
      ]
     },
     "execution_count": 230,
     "metadata": {},
     "output_type": "execute_result"
    }
   ],
   "source": [
    "y_val_test.head()"
   ]
  },
  {
   "cell_type": "code",
   "execution_count": 235,
   "metadata": {},
   "outputs": [],
   "source": [
    "from sklearn.neighbors import KNeighborsClassifier\n",
    "knn_model = KNeighborsClassifier()"
   ]
  },
  {
   "cell_type": "code",
   "execution_count": 236,
   "metadata": {},
   "outputs": [
    {
     "data": {
      "text/plain": [
       "KNeighborsClassifier()"
      ]
     },
     "execution_count": 236,
     "metadata": {},
     "output_type": "execute_result"
    }
   ],
   "source": [
    "knn_model.fit(x_val_train, y_val_train)"
   ]
  },
  {
   "cell_type": "code",
   "execution_count": 237,
   "metadata": {},
   "outputs": [
    {
     "name": "stdout",
     "output_type": "stream",
     "text": [
      "KNN Classification accuracy: 40.2573\n"
     ]
    }
   ],
   "source": [
    "y_pred = knn_model.predict(x_val_test)\n",
    "print(\"KNN Classification accuracy: {:.4f}\".format(accuracy_score(y_val_test,y_pred)*100))"
   ]
  },
  {
   "cell_type": "code",
   "execution_count": 275,
   "metadata": {},
   "outputs": [],
   "source": [
    "from sklearn.linear_model import LogisticRegression"
   ]
  },
  {
   "cell_type": "code",
   "execution_count": 276,
   "metadata": {},
   "outputs": [],
   "source": [
    "# lr = LogisticRegression(C=0.001,penalty='l2',solver='lbfgs')"
   ]
  },
  {
   "cell_type": "code",
   "execution_count": 277,
   "metadata": {},
   "outputs": [],
   "source": [
    "# lr.fit(x_val_train, y_val_train)"
   ]
  },
  {
   "cell_type": "code",
   "execution_count": 278,
   "metadata": {},
   "outputs": [],
   "source": [
    "# print(\"LogisticRegression accuracy: {:.4f}\".format(accuracy_score(y_val_test,y_pred)*100))"
   ]
  },
  {
   "cell_type": "code",
   "execution_count": 242,
   "metadata": {},
   "outputs": [
    {
     "name": "stdout",
     "output_type": "stream",
     "text": [
      "neural_network Classifier accuracy: 42.6809\n"
     ]
    },
    {
     "name": "stderr",
     "output_type": "stream",
     "text": [
      "C:\\Users\\Ameri\\anaconda3\\lib\\site-packages\\sklearn\\neural_network\\_multilayer_perceptron.py:500: ConvergenceWarning: lbfgs failed to converge (status=1):\n",
      "STOP: TOTAL NO. of ITERATIONS REACHED LIMIT.\n",
      "\n",
      "Increase the number of iterations (max_iter) or scale the data as shown in:\n",
      "    https://scikit-learn.org/stable/modules/preprocessing.html\n",
      "  self.n_iter_ = _check_optimize_result(\"lbfgs\", opt_res, self.max_iter)\n"
     ]
    }
   ],
   "source": [
    "from sklearn.neural_network import MLPClassifier\n",
    "nn= MLPClassifier(solver='lbfgs', alpha=1e-5, hidden_layer_sizes=(5, 2), random_state=1)\n",
    "nn.fit(x_val_train, y_val_train)\n",
    "y_pred = nn.predict(x_val_test)\n",
    "print('neural_network Classifier accuracy: {:.4f}'.format(accuracy_score(y_val_test, y_pred)*100))"
   ]
  },
  {
   "cell_type": "markdown",
   "metadata": {},
   "source": [
    "# model on test.csv"
   ]
  },
  {
   "cell_type": "code",
   "execution_count": null,
   "metadata": {},
   "outputs": [],
   "source": []
  },
  {
   "cell_type": "code",
   "execution_count": 124,
   "metadata": {},
   "outputs": [],
   "source": [
    "# randomForest= RandomForestClassifier(n_estimators=100)\n",
    "# randomForest.fit(x_val_train, y_val_train)\n",
    "# y_pred = randomForest.predict(x_val_test)\n",
    "# print('Random Forest Classifier accuracy: {:.4f}'.format(accuracy_score(y_val_test, y_pred)*100))"
   ]
  },
  {
   "cell_type": "code",
   "execution_count": null,
   "metadata": {},
   "outputs": [],
   "source": []
  },
  {
   "cell_type": "code",
   "execution_count": null,
   "metadata": {},
   "outputs": [],
   "source": []
  },
  {
   "cell_type": "code",
   "execution_count": null,
   "metadata": {},
   "outputs": [],
   "source": []
  },
  {
   "cell_type": "code",
   "execution_count": 125,
   "metadata": {},
   "outputs": [],
   "source": [
    "train.to_csv('T.csv',index=False)"
   ]
  },
  {
   "cell_type": "code",
   "execution_count": null,
   "metadata": {},
   "outputs": [],
   "source": []
  },
  {
   "cell_type": "code",
   "execution_count": 134,
   "metadata": {},
   "outputs": [
    {
     "name": "stdout",
     "output_type": "stream",
     "text": [
      "<class 'pandas.core.frame.DataFrame'>\n",
      "Int64Index: 110937 entries, 0 to 110937\n",
      "Data columns (total 70 columns):\n",
      " #   Column                                Non-Null Count   Dtype  \n",
      "---  ------                                --------------   -----  \n",
      " 0   home_team_history_is_play_home_1      110937 non-null  float64\n",
      " 1   home_team_history_is_play_home_2      110937 non-null  float64\n",
      " 2   home_team_history_is_play_home_3      110937 non-null  float64\n",
      " 3   home_team_history_is_play_home_4      110937 non-null  float64\n",
      " 4   home_team_history_is_play_home_5      110937 non-null  float64\n",
      " 5   home_team_history_is_play_home_6      110937 non-null  float64\n",
      " 6   home_team_history_is_play_home_7      110937 non-null  float64\n",
      " 7   home_team_history_is_play_home_8      110937 non-null  float64\n",
      " 8   home_team_history_is_play_home_9      110937 non-null  float64\n",
      " 9   home_team_history_is_play_home_10     110937 non-null  float64\n",
      " 10  home_team_history_is_cup_1            110937 non-null  float64\n",
      " 11  home_team_history_is_cup_2            110937 non-null  float64\n",
      " 12  home_team_history_is_cup_3            110937 non-null  float64\n",
      " 13  home_team_history_is_cup_4            110937 non-null  float64\n",
      " 14  home_team_history_is_cup_5            110937 non-null  float64\n",
      " 15  home_team_history_is_cup_6            110937 non-null  float64\n",
      " 16  home_team_history_is_cup_7            110937 non-null  float64\n",
      " 17  home_team_history_is_cup_8            110937 non-null  float64\n",
      " 18  home_team_history_is_cup_9            110937 non-null  float64\n",
      " 19  home_team_history_is_cup_10           110937 non-null  float64\n",
      " 20  home_team_history_goal_1              110937 non-null  float64\n",
      " 21  home_team_history_goal_2              110937 non-null  float64\n",
      " 22  home_team_history_goal_3              110937 non-null  float64\n",
      " 23  home_team_history_goal_4              110937 non-null  float64\n",
      " 24  home_team_history_goal_5              110937 non-null  float64\n",
      " 25  home_team_history_goal_6              110937 non-null  float64\n",
      " 26  home_team_history_goal_7              110937 non-null  float64\n",
      " 27  home_team_history_goal_8              110937 non-null  float64\n",
      " 28  home_team_history_goal_9              110937 non-null  float64\n",
      " 29  home_team_history_goal_10             110937 non-null  float64\n",
      " 30  home_team_history_opponent_goal_1     110937 non-null  float64\n",
      " 31  home_team_history_opponent_goal_2     110937 non-null  float64\n",
      " 32  home_team_history_opponent_goal_3     110937 non-null  float64\n",
      " 33  home_team_history_opponent_goal_4     110937 non-null  float64\n",
      " 34  home_team_history_opponent_goal_5     110937 non-null  float64\n",
      " 35  home_team_history_opponent_goal_6     110937 non-null  float64\n",
      " 36  home_team_history_opponent_goal_7     110937 non-null  float64\n",
      " 37  home_team_history_opponent_goal_8     110937 non-null  float64\n",
      " 38  home_team_history_opponent_goal_9     110937 non-null  float64\n",
      " 39  home_team_history_opponent_goal_10    110937 non-null  float64\n",
      " 40  home_team_history_rating_1            110937 non-null  float64\n",
      " 41  home_team_history_rating_2            110937 non-null  float64\n",
      " 42  home_team_history_rating_3            110937 non-null  float64\n",
      " 43  home_team_history_rating_4            110937 non-null  float64\n",
      " 44  home_team_history_rating_5            110937 non-null  float64\n",
      " 45  home_team_history_rating_6            110937 non-null  float64\n",
      " 46  home_team_history_rating_7            110937 non-null  float64\n",
      " 47  home_team_history_rating_8            110937 non-null  float64\n",
      " 48  home_team_history_rating_9            110937 non-null  float64\n",
      " 49  home_team_history_rating_10           110937 non-null  float64\n",
      " 50  home_team_history_opponent_rating_1   110937 non-null  float64\n",
      " 51  home_team_history_opponent_rating_2   110937 non-null  float64\n",
      " 52  home_team_history_opponent_rating_3   110937 non-null  float64\n",
      " 53  home_team_history_opponent_rating_4   110937 non-null  float64\n",
      " 54  home_team_history_opponent_rating_5   110937 non-null  float64\n",
      " 55  home_team_history_opponent_rating_6   110937 non-null  float64\n",
      " 56  home_team_history_opponent_rating_7   110937 non-null  float64\n",
      " 57  home_team_history_opponent_rating_8   110937 non-null  float64\n",
      " 58  home_team_history_opponent_rating_9   110937 non-null  float64\n",
      " 59  home_team_history_opponent_rating_10  110937 non-null  float64\n",
      " 60  home_team_history_coach_1             110937 non-null  float64\n",
      " 61  home_team_history_coach_2             110937 non-null  float64\n",
      " 62  home_team_history_coach_3             110937 non-null  float64\n",
      " 63  home_team_history_coach_4             110937 non-null  float64\n",
      " 64  home_team_history_coach_5             110937 non-null  float64\n",
      " 65  home_team_history_coach_6             110937 non-null  float64\n",
      " 66  home_team_history_coach_7             110937 non-null  float64\n",
      " 67  home_team_history_coach_8             110937 non-null  float64\n",
      " 68  home_team_history_coach_9             110937 non-null  float64\n",
      " 69  home_team_history_coach_10            110937 non-null  float64\n",
      "dtypes: float64(70)\n",
      "memory usage: 60.1 MB\n"
     ]
    }
   ],
   "source": [
    "train[home_team_history].info()"
   ]
  },
  {
   "cell_type": "code",
   "execution_count": 131,
   "metadata": {},
   "outputs": [],
   "source": [
    "train[['home_team_coach_id', 'away_team_coach_id']] = train[['home_team_coach_id', 'away_team_coach_id']].astype(int)"
   ]
  },
  {
   "cell_type": "code",
   "execution_count": 135,
   "metadata": {},
   "outputs": [],
   "source": [
    "train[home_team_history] = train[home_team_history].astype(int)"
   ]
  },
  {
   "cell_type": "code",
   "execution_count": 136,
   "metadata": {},
   "outputs": [],
   "source": [
    "train[away_team_history] = train[away_team_history].astype(int)"
   ]
  },
  {
   "cell_type": "code",
   "execution_count": 137,
   "metadata": {},
   "outputs": [
    {
     "data": {
      "text/plain": [
       "(110937, 149)"
      ]
     },
     "execution_count": 137,
     "metadata": {},
     "output_type": "execute_result"
    }
   ],
   "source": [
    "train.shape"
   ]
  },
  {
   "cell_type": "code",
   "execution_count": 139,
   "metadata": {
    "collapsed": true
   },
   "outputs": [
    {
     "data": {
      "application/vnd.jupyter.widget-view+json": {
       "model_id": "7f37a3a33523463aaa4f65a03edd8a55",
       "version_major": 2,
       "version_minor": 0
      },
      "text/plain": [
       "Summarize dataset:   0%|          | 0/5 [00:00<?, ?it/s]"
      ]
     },
     "metadata": {},
     "output_type": "display_data"
    },
    {
     "name": "stderr",
     "output_type": "stream",
     "text": [
      "C:\\Users\\Ameri\\anaconda3\\lib\\site-packages\\scipy\\stats\\stats.py:4812: RuntimeWarning: overflow encountered in longlong_scalars\n",
      "  (2 * xtie * ytie) / m + x0 * y0 / (9 * m * (size - 2)))\n"
     ]
    },
    {
     "ename": "KeyboardInterrupt",
     "evalue": "",
     "output_type": "error",
     "traceback": [
      "\u001b[1;31m---------------------------------------------------------------------------\u001b[0m",
      "\u001b[1;31mKeyboardInterrupt\u001b[0m                         Traceback (most recent call last)",
      "\u001b[1;32m~\\AppData\\Local\\Temp/ipykernel_6924/1606337369.py\u001b[0m in \u001b[0;36m<module>\u001b[1;34m\u001b[0m\n\u001b[0;32m      1\u001b[0m \u001b[0mdesign_report\u001b[0m \u001b[1;33m=\u001b[0m \u001b[0mProfileReport\u001b[0m\u001b[1;33m(\u001b[0m\u001b[0mtrain\u001b[0m\u001b[1;33m[\u001b[0m\u001b[0mdescr\u001b[0m \u001b[1;33m+\u001b[0m \u001b[0mhome_team_history\u001b[0m\u001b[1;33m]\u001b[0m\u001b[1;33m)\u001b[0m\u001b[1;33m\u001b[0m\u001b[1;33m\u001b[0m\u001b[0m\n\u001b[1;32m----> 2\u001b[1;33m \u001b[0mdesign_report\u001b[0m\u001b[1;33m.\u001b[0m\u001b[0mto_file\u001b[0m\u001b[1;33m(\u001b[0m\u001b[0moutput_file\u001b[0m\u001b[1;33m=\u001b[0m\u001b[1;34m'report.html'\u001b[0m\u001b[1;33m)\u001b[0m\u001b[1;33m\u001b[0m\u001b[1;33m\u001b[0m\u001b[0m\n\u001b[0m",
      "\u001b[1;32m~\\anaconda3\\lib\\site-packages\\pandas_profiling\\profile_report.py\u001b[0m in \u001b[0;36mto_file\u001b[1;34m(self, output_file, silent)\u001b[0m\n\u001b[0;32m    255\u001b[0m                 \u001b[0mcreate_html_assets\u001b[0m\u001b[1;33m(\u001b[0m\u001b[0mself\u001b[0m\u001b[1;33m.\u001b[0m\u001b[0mconfig\u001b[0m\u001b[1;33m,\u001b[0m \u001b[0moutput_file\u001b[0m\u001b[1;33m)\u001b[0m\u001b[1;33m\u001b[0m\u001b[1;33m\u001b[0m\u001b[0m\n\u001b[0;32m    256\u001b[0m \u001b[1;33m\u001b[0m\u001b[0m\n\u001b[1;32m--> 257\u001b[1;33m             \u001b[0mdata\u001b[0m \u001b[1;33m=\u001b[0m \u001b[0mself\u001b[0m\u001b[1;33m.\u001b[0m\u001b[0mto_html\u001b[0m\u001b[1;33m(\u001b[0m\u001b[1;33m)\u001b[0m\u001b[1;33m\u001b[0m\u001b[1;33m\u001b[0m\u001b[0m\n\u001b[0m\u001b[0;32m    258\u001b[0m \u001b[1;33m\u001b[0m\u001b[0m\n\u001b[0;32m    259\u001b[0m             \u001b[1;32mif\u001b[0m \u001b[0moutput_file\u001b[0m\u001b[1;33m.\u001b[0m\u001b[0msuffix\u001b[0m \u001b[1;33m!=\u001b[0m \u001b[1;34m\".html\"\u001b[0m\u001b[1;33m:\u001b[0m\u001b[1;33m\u001b[0m\u001b[1;33m\u001b[0m\u001b[0m\n",
      "\u001b[1;32m~\\anaconda3\\lib\\site-packages\\pandas_profiling\\profile_report.py\u001b[0m in \u001b[0;36mto_html\u001b[1;34m(self)\u001b[0m\n\u001b[0;32m    366\u001b[0m \u001b[1;33m\u001b[0m\u001b[0m\n\u001b[0;32m    367\u001b[0m         \"\"\"\n\u001b[1;32m--> 368\u001b[1;33m         \u001b[1;32mreturn\u001b[0m \u001b[0mself\u001b[0m\u001b[1;33m.\u001b[0m\u001b[0mhtml\u001b[0m\u001b[1;33m\u001b[0m\u001b[1;33m\u001b[0m\u001b[0m\n\u001b[0m\u001b[0;32m    369\u001b[0m \u001b[1;33m\u001b[0m\u001b[0m\n\u001b[0;32m    370\u001b[0m     \u001b[1;32mdef\u001b[0m \u001b[0mto_json\u001b[0m\u001b[1;33m(\u001b[0m\u001b[0mself\u001b[0m\u001b[1;33m)\u001b[0m \u001b[1;33m->\u001b[0m \u001b[0mstr\u001b[0m\u001b[1;33m:\u001b[0m\u001b[1;33m\u001b[0m\u001b[1;33m\u001b[0m\u001b[0m\n",
      "\u001b[1;32m~\\anaconda3\\lib\\site-packages\\pandas_profiling\\profile_report.py\u001b[0m in \u001b[0;36mhtml\u001b[1;34m(self)\u001b[0m\n\u001b[0;32m    183\u001b[0m     \u001b[1;32mdef\u001b[0m \u001b[0mhtml\u001b[0m\u001b[1;33m(\u001b[0m\u001b[0mself\u001b[0m\u001b[1;33m)\u001b[0m \u001b[1;33m->\u001b[0m \u001b[0mstr\u001b[0m\u001b[1;33m:\u001b[0m\u001b[1;33m\u001b[0m\u001b[1;33m\u001b[0m\u001b[0m\n\u001b[0;32m    184\u001b[0m         \u001b[1;32mif\u001b[0m \u001b[0mself\u001b[0m\u001b[1;33m.\u001b[0m\u001b[0m_html\u001b[0m \u001b[1;32mis\u001b[0m \u001b[1;32mNone\u001b[0m\u001b[1;33m:\u001b[0m\u001b[1;33m\u001b[0m\u001b[1;33m\u001b[0m\u001b[0m\n\u001b[1;32m--> 185\u001b[1;33m             \u001b[0mself\u001b[0m\u001b[1;33m.\u001b[0m\u001b[0m_html\u001b[0m \u001b[1;33m=\u001b[0m \u001b[0mself\u001b[0m\u001b[1;33m.\u001b[0m\u001b[0m_render_html\u001b[0m\u001b[1;33m(\u001b[0m\u001b[1;33m)\u001b[0m\u001b[1;33m\u001b[0m\u001b[1;33m\u001b[0m\u001b[0m\n\u001b[0m\u001b[0;32m    186\u001b[0m         \u001b[1;32mreturn\u001b[0m \u001b[0mself\u001b[0m\u001b[1;33m.\u001b[0m\u001b[0m_html\u001b[0m\u001b[1;33m\u001b[0m\u001b[1;33m\u001b[0m\u001b[0m\n\u001b[0;32m    187\u001b[0m \u001b[1;33m\u001b[0m\u001b[0m\n",
      "\u001b[1;32m~\\anaconda3\\lib\\site-packages\\pandas_profiling\\profile_report.py\u001b[0m in \u001b[0;36m_render_html\u001b[1;34m(self)\u001b[0m\n\u001b[0;32m    285\u001b[0m         \u001b[1;32mfrom\u001b[0m \u001b[0mpandas_profiling\u001b[0m\u001b[1;33m.\u001b[0m\u001b[0mreport\u001b[0m\u001b[1;33m.\u001b[0m\u001b[0mpresentation\u001b[0m\u001b[1;33m.\u001b[0m\u001b[0mflavours\u001b[0m \u001b[1;32mimport\u001b[0m \u001b[0mHTMLReport\u001b[0m\u001b[1;33m\u001b[0m\u001b[1;33m\u001b[0m\u001b[0m\n\u001b[0;32m    286\u001b[0m \u001b[1;33m\u001b[0m\u001b[0m\n\u001b[1;32m--> 287\u001b[1;33m         \u001b[0mreport\u001b[0m \u001b[1;33m=\u001b[0m \u001b[0mself\u001b[0m\u001b[1;33m.\u001b[0m\u001b[0mreport\u001b[0m\u001b[1;33m\u001b[0m\u001b[1;33m\u001b[0m\u001b[0m\n\u001b[0m\u001b[0;32m    288\u001b[0m \u001b[1;33m\u001b[0m\u001b[0m\n\u001b[0;32m    289\u001b[0m         with tqdm(\n",
      "\u001b[1;32m~\\anaconda3\\lib\\site-packages\\pandas_profiling\\profile_report.py\u001b[0m in \u001b[0;36mreport\u001b[1;34m(self)\u001b[0m\n\u001b[0;32m    177\u001b[0m     \u001b[1;32mdef\u001b[0m \u001b[0mreport\u001b[0m\u001b[1;33m(\u001b[0m\u001b[0mself\u001b[0m\u001b[1;33m)\u001b[0m \u001b[1;33m->\u001b[0m \u001b[0mRoot\u001b[0m\u001b[1;33m:\u001b[0m\u001b[1;33m\u001b[0m\u001b[1;33m\u001b[0m\u001b[0m\n\u001b[0;32m    178\u001b[0m         \u001b[1;32mif\u001b[0m \u001b[0mself\u001b[0m\u001b[1;33m.\u001b[0m\u001b[0m_report\u001b[0m \u001b[1;32mis\u001b[0m \u001b[1;32mNone\u001b[0m\u001b[1;33m:\u001b[0m\u001b[1;33m\u001b[0m\u001b[1;33m\u001b[0m\u001b[0m\n\u001b[1;32m--> 179\u001b[1;33m             \u001b[0mself\u001b[0m\u001b[1;33m.\u001b[0m\u001b[0m_report\u001b[0m \u001b[1;33m=\u001b[0m \u001b[0mget_report_structure\u001b[0m\u001b[1;33m(\u001b[0m\u001b[0mself\u001b[0m\u001b[1;33m.\u001b[0m\u001b[0mconfig\u001b[0m\u001b[1;33m,\u001b[0m \u001b[0mself\u001b[0m\u001b[1;33m.\u001b[0m\u001b[0mdescription_set\u001b[0m\u001b[1;33m)\u001b[0m\u001b[1;33m\u001b[0m\u001b[1;33m\u001b[0m\u001b[0m\n\u001b[0m\u001b[0;32m    180\u001b[0m         \u001b[1;32mreturn\u001b[0m \u001b[0mself\u001b[0m\u001b[1;33m.\u001b[0m\u001b[0m_report\u001b[0m\u001b[1;33m\u001b[0m\u001b[1;33m\u001b[0m\u001b[0m\n\u001b[0;32m    181\u001b[0m \u001b[1;33m\u001b[0m\u001b[0m\n",
      "\u001b[1;32m~\\anaconda3\\lib\\site-packages\\pandas_profiling\\profile_report.py\u001b[0m in \u001b[0;36mdescription_set\u001b[1;34m(self)\u001b[0m\n\u001b[0;32m    159\u001b[0m     \u001b[1;32mdef\u001b[0m \u001b[0mdescription_set\u001b[0m\u001b[1;33m(\u001b[0m\u001b[0mself\u001b[0m\u001b[1;33m)\u001b[0m \u001b[1;33m->\u001b[0m \u001b[0mDict\u001b[0m\u001b[1;33m[\u001b[0m\u001b[0mstr\u001b[0m\u001b[1;33m,\u001b[0m \u001b[0mAny\u001b[0m\u001b[1;33m]\u001b[0m\u001b[1;33m:\u001b[0m\u001b[1;33m\u001b[0m\u001b[1;33m\u001b[0m\u001b[0m\n\u001b[0;32m    160\u001b[0m         \u001b[1;32mif\u001b[0m \u001b[0mself\u001b[0m\u001b[1;33m.\u001b[0m\u001b[0m_description_set\u001b[0m \u001b[1;32mis\u001b[0m \u001b[1;32mNone\u001b[0m\u001b[1;33m:\u001b[0m\u001b[1;33m\u001b[0m\u001b[1;33m\u001b[0m\u001b[0m\n\u001b[1;32m--> 161\u001b[1;33m             self._description_set = describe_df(\n\u001b[0m\u001b[0;32m    162\u001b[0m                 \u001b[0mself\u001b[0m\u001b[1;33m.\u001b[0m\u001b[0mconfig\u001b[0m\u001b[1;33m,\u001b[0m\u001b[1;33m\u001b[0m\u001b[1;33m\u001b[0m\u001b[0m\n\u001b[0;32m    163\u001b[0m                 \u001b[0mself\u001b[0m\u001b[1;33m.\u001b[0m\u001b[0mdf\u001b[0m\u001b[1;33m,\u001b[0m\u001b[1;33m\u001b[0m\u001b[1;33m\u001b[0m\u001b[0m\n",
      "\u001b[1;32m~\\anaconda3\\lib\\site-packages\\pandas_profiling\\model\\describe.py\u001b[0m in \u001b[0;36mdescribe\u001b[1;34m(config, df, summarizer, typeset, sample)\u001b[0m\n\u001b[0;32m    113\u001b[0m         }\n\u001b[0;32m    114\u001b[0m         \u001b[1;32mfor\u001b[0m \u001b[0mx\u001b[0m\u001b[1;33m,\u001b[0m \u001b[0my\u001b[0m \u001b[1;32min\u001b[0m \u001b[0mscatter_tasks\u001b[0m\u001b[1;33m:\u001b[0m\u001b[1;33m\u001b[0m\u001b[1;33m\u001b[0m\u001b[0m\n\u001b[1;32m--> 115\u001b[1;33m             scatter_matrix[x][y] = progress(\n\u001b[0m\u001b[0;32m    116\u001b[0m                 \u001b[0mget_scatter_plot\u001b[0m\u001b[1;33m,\u001b[0m \u001b[0mpbar\u001b[0m\u001b[1;33m,\u001b[0m \u001b[1;34mf\"scatter {x}, {y}\"\u001b[0m\u001b[1;33m\u001b[0m\u001b[1;33m\u001b[0m\u001b[0m\n\u001b[0;32m    117\u001b[0m             )(config, df, x, y, interval_columns)\n",
      "\u001b[1;32m~\\anaconda3\\lib\\site-packages\\pandas_profiling\\utils\\progress_bar.py\u001b[0m in \u001b[0;36minner\u001b[1;34m(*args, **kwargs)\u001b[0m\n\u001b[0;32m      9\u001b[0m     \u001b[1;32mdef\u001b[0m \u001b[0minner\u001b[0m\u001b[1;33m(\u001b[0m\u001b[1;33m*\u001b[0m\u001b[0margs\u001b[0m\u001b[1;33m,\u001b[0m \u001b[1;33m**\u001b[0m\u001b[0mkwargs\u001b[0m\u001b[1;33m)\u001b[0m \u001b[1;33m->\u001b[0m \u001b[0mAny\u001b[0m\u001b[1;33m:\u001b[0m\u001b[1;33m\u001b[0m\u001b[1;33m\u001b[0m\u001b[0m\n\u001b[0;32m     10\u001b[0m         \u001b[0mbar\u001b[0m\u001b[1;33m.\u001b[0m\u001b[0mset_postfix_str\u001b[0m\u001b[1;33m(\u001b[0m\u001b[0mmessage\u001b[0m\u001b[1;33m)\u001b[0m\u001b[1;33m\u001b[0m\u001b[1;33m\u001b[0m\u001b[0m\n\u001b[1;32m---> 11\u001b[1;33m         \u001b[0mret\u001b[0m \u001b[1;33m=\u001b[0m \u001b[0mfn\u001b[0m\u001b[1;33m(\u001b[0m\u001b[1;33m*\u001b[0m\u001b[0margs\u001b[0m\u001b[1;33m,\u001b[0m \u001b[1;33m**\u001b[0m\u001b[0mkwargs\u001b[0m\u001b[1;33m)\u001b[0m\u001b[1;33m\u001b[0m\u001b[1;33m\u001b[0m\u001b[0m\n\u001b[0m\u001b[0;32m     12\u001b[0m         \u001b[0mbar\u001b[0m\u001b[1;33m.\u001b[0m\u001b[0mupdate\u001b[0m\u001b[1;33m(\u001b[0m\u001b[1;33m)\u001b[0m\u001b[1;33m\u001b[0m\u001b[1;33m\u001b[0m\u001b[0m\n\u001b[0;32m     13\u001b[0m         \u001b[1;32mreturn\u001b[0m \u001b[0mret\u001b[0m\u001b[1;33m\u001b[0m\u001b[1;33m\u001b[0m\u001b[0m\n",
      "\u001b[1;32m~\\anaconda3\\lib\\site-packages\\pandas_profiling\\model\\pairwise.py\u001b[0m in \u001b[0;36mget_scatter_plot\u001b[1;34m(config, df, x, y, continuous_variables)\u001b[0m\n\u001b[0;32m     29\u001b[0m         \u001b[1;32melse\u001b[0m\u001b[1;33m:\u001b[0m\u001b[1;33m\u001b[0m\u001b[1;33m\u001b[0m\u001b[0m\n\u001b[0;32m     30\u001b[0m             \u001b[0mdf_temp\u001b[0m \u001b[1;33m=\u001b[0m \u001b[0mdf\u001b[0m\u001b[1;33m[\u001b[0m\u001b[1;33m[\u001b[0m\u001b[0mx\u001b[0m\u001b[1;33m,\u001b[0m \u001b[0my\u001b[0m\u001b[1;33m]\u001b[0m\u001b[1;33m]\u001b[0m\u001b[1;33m.\u001b[0m\u001b[0mdropna\u001b[0m\u001b[1;33m(\u001b[0m\u001b[1;33m)\u001b[0m\u001b[1;33m\u001b[0m\u001b[1;33m\u001b[0m\u001b[0m\n\u001b[1;32m---> 31\u001b[1;33m         \u001b[1;32mreturn\u001b[0m \u001b[0mscatter_pairwise\u001b[0m\u001b[1;33m(\u001b[0m\u001b[0mconfig\u001b[0m\u001b[1;33m,\u001b[0m \u001b[0mdf_temp\u001b[0m\u001b[1;33m[\u001b[0m\u001b[0mx\u001b[0m\u001b[1;33m]\u001b[0m\u001b[1;33m,\u001b[0m \u001b[0mdf_temp\u001b[0m\u001b[1;33m[\u001b[0m\u001b[0my\u001b[0m\u001b[1;33m]\u001b[0m\u001b[1;33m,\u001b[0m \u001b[0mx\u001b[0m\u001b[1;33m,\u001b[0m \u001b[0my\u001b[0m\u001b[1;33m)\u001b[0m\u001b[1;33m\u001b[0m\u001b[1;33m\u001b[0m\u001b[0m\n\u001b[0m\u001b[0;32m     32\u001b[0m     \u001b[1;32melse\u001b[0m\u001b[1;33m:\u001b[0m\u001b[1;33m\u001b[0m\u001b[1;33m\u001b[0m\u001b[0m\n\u001b[0;32m     33\u001b[0m         \u001b[1;32mreturn\u001b[0m \u001b[1;34m\"\"\u001b[0m\u001b[1;33m\u001b[0m\u001b[1;33m\u001b[0m\u001b[0m\n",
      "\u001b[1;32m~\\anaconda3\\lib\\contextlib.py\u001b[0m in \u001b[0;36minner\u001b[1;34m(*args, **kwds)\u001b[0m\n\u001b[0;32m     77\u001b[0m         \u001b[1;32mdef\u001b[0m \u001b[0minner\u001b[0m\u001b[1;33m(\u001b[0m\u001b[1;33m*\u001b[0m\u001b[0margs\u001b[0m\u001b[1;33m,\u001b[0m \u001b[1;33m**\u001b[0m\u001b[0mkwds\u001b[0m\u001b[1;33m)\u001b[0m\u001b[1;33m:\u001b[0m\u001b[1;33m\u001b[0m\u001b[1;33m\u001b[0m\u001b[0m\n\u001b[0;32m     78\u001b[0m             \u001b[1;32mwith\u001b[0m \u001b[0mself\u001b[0m\u001b[1;33m.\u001b[0m\u001b[0m_recreate_cm\u001b[0m\u001b[1;33m(\u001b[0m\u001b[1;33m)\u001b[0m\u001b[1;33m:\u001b[0m\u001b[1;33m\u001b[0m\u001b[1;33m\u001b[0m\u001b[0m\n\u001b[1;32m---> 79\u001b[1;33m                 \u001b[1;32mreturn\u001b[0m \u001b[0mfunc\u001b[0m\u001b[1;33m(\u001b[0m\u001b[1;33m*\u001b[0m\u001b[0margs\u001b[0m\u001b[1;33m,\u001b[0m \u001b[1;33m**\u001b[0m\u001b[0mkwds\u001b[0m\u001b[1;33m)\u001b[0m\u001b[1;33m\u001b[0m\u001b[1;33m\u001b[0m\u001b[0m\n\u001b[0m\u001b[0;32m     80\u001b[0m         \u001b[1;32mreturn\u001b[0m \u001b[0minner\u001b[0m\u001b[1;33m\u001b[0m\u001b[1;33m\u001b[0m\u001b[0m\n\u001b[0;32m     81\u001b[0m \u001b[1;33m\u001b[0m\u001b[0m\n",
      "\u001b[1;32m~\\anaconda3\\lib\\site-packages\\pandas_profiling\\visualisation\\plot.py\u001b[0m in \u001b[0;36mscatter_pairwise\u001b[1;34m(config, series1, series2, x_label, y_label)\u001b[0m\n\u001b[0;32m    296\u001b[0m     \u001b[1;32melse\u001b[0m\u001b[1;33m:\u001b[0m\u001b[1;33m\u001b[0m\u001b[1;33m\u001b[0m\u001b[0m\n\u001b[0;32m    297\u001b[0m         \u001b[0mplt\u001b[0m\u001b[1;33m.\u001b[0m\u001b[0mscatter\u001b[0m\u001b[1;33m(\u001b[0m\u001b[0mseries1\u001b[0m\u001b[1;33m[\u001b[0m\u001b[0mindices\u001b[0m\u001b[1;33m]\u001b[0m\u001b[1;33m,\u001b[0m \u001b[0mseries2\u001b[0m\u001b[1;33m[\u001b[0m\u001b[0mindices\u001b[0m\u001b[1;33m]\u001b[0m\u001b[1;33m,\u001b[0m \u001b[0mcolor\u001b[0m\u001b[1;33m=\u001b[0m\u001b[0mcolor\u001b[0m\u001b[1;33m)\u001b[0m\u001b[1;33m\u001b[0m\u001b[1;33m\u001b[0m\u001b[0m\n\u001b[1;32m--> 298\u001b[1;33m     \u001b[1;32mreturn\u001b[0m \u001b[0mplot_360_n0sc0pe\u001b[0m\u001b[1;33m(\u001b[0m\u001b[0mconfig\u001b[0m\u001b[1;33m)\u001b[0m\u001b[1;33m\u001b[0m\u001b[1;33m\u001b[0m\u001b[0m\n\u001b[0m\u001b[0;32m    299\u001b[0m \u001b[1;33m\u001b[0m\u001b[0m\n\u001b[0;32m    300\u001b[0m \u001b[1;33m\u001b[0m\u001b[0m\n",
      "\u001b[1;32m~\\anaconda3\\lib\\site-packages\\pandas_profiling\\visualisation\\utils.py\u001b[0m in \u001b[0;36mplot_360_n0sc0pe\u001b[1;34m(config, image_format)\u001b[0m\n\u001b[0;32m     64\u001b[0m         \u001b[1;32mif\u001b[0m \u001b[0mimage_format\u001b[0m \u001b[1;33m==\u001b[0m \u001b[1;34m\"svg\"\u001b[0m\u001b[1;33m:\u001b[0m\u001b[1;33m\u001b[0m\u001b[1;33m\u001b[0m\u001b[0m\n\u001b[0;32m     65\u001b[0m             \u001b[0mimage_str\u001b[0m \u001b[1;33m=\u001b[0m \u001b[0mStringIO\u001b[0m\u001b[1;33m(\u001b[0m\u001b[1;33m)\u001b[0m\u001b[1;33m\u001b[0m\u001b[1;33m\u001b[0m\u001b[0m\n\u001b[1;32m---> 66\u001b[1;33m             \u001b[0mplt\u001b[0m\u001b[1;33m.\u001b[0m\u001b[0msavefig\u001b[0m\u001b[1;33m(\u001b[0m\u001b[0mimage_str\u001b[0m\u001b[1;33m,\u001b[0m \u001b[0mformat\u001b[0m\u001b[1;33m=\u001b[0m\u001b[0mimage_format\u001b[0m\u001b[1;33m)\u001b[0m\u001b[1;33m\u001b[0m\u001b[1;33m\u001b[0m\u001b[0m\n\u001b[0m\u001b[0;32m     67\u001b[0m             \u001b[0mplt\u001b[0m\u001b[1;33m.\u001b[0m\u001b[0mclose\u001b[0m\u001b[1;33m(\u001b[0m\u001b[1;33m)\u001b[0m\u001b[1;33m\u001b[0m\u001b[1;33m\u001b[0m\u001b[0m\n\u001b[0;32m     68\u001b[0m             \u001b[0mresult_string\u001b[0m \u001b[1;33m=\u001b[0m \u001b[0mimage_str\u001b[0m\u001b[1;33m.\u001b[0m\u001b[0mgetvalue\u001b[0m\u001b[1;33m(\u001b[0m\u001b[1;33m)\u001b[0m\u001b[1;33m\u001b[0m\u001b[1;33m\u001b[0m\u001b[0m\n",
      "\u001b[1;32m~\\anaconda3\\lib\\site-packages\\matplotlib\\pyplot.py\u001b[0m in \u001b[0;36msavefig\u001b[1;34m(*args, **kwargs)\u001b[0m\n\u001b[0;32m    964\u001b[0m \u001b[1;32mdef\u001b[0m \u001b[0msavefig\u001b[0m\u001b[1;33m(\u001b[0m\u001b[1;33m*\u001b[0m\u001b[0margs\u001b[0m\u001b[1;33m,\u001b[0m \u001b[1;33m**\u001b[0m\u001b[0mkwargs\u001b[0m\u001b[1;33m)\u001b[0m\u001b[1;33m:\u001b[0m\u001b[1;33m\u001b[0m\u001b[1;33m\u001b[0m\u001b[0m\n\u001b[0;32m    965\u001b[0m     \u001b[0mfig\u001b[0m \u001b[1;33m=\u001b[0m \u001b[0mgcf\u001b[0m\u001b[1;33m(\u001b[0m\u001b[1;33m)\u001b[0m\u001b[1;33m\u001b[0m\u001b[1;33m\u001b[0m\u001b[0m\n\u001b[1;32m--> 966\u001b[1;33m     \u001b[0mres\u001b[0m \u001b[1;33m=\u001b[0m \u001b[0mfig\u001b[0m\u001b[1;33m.\u001b[0m\u001b[0msavefig\u001b[0m\u001b[1;33m(\u001b[0m\u001b[1;33m*\u001b[0m\u001b[0margs\u001b[0m\u001b[1;33m,\u001b[0m \u001b[1;33m**\u001b[0m\u001b[0mkwargs\u001b[0m\u001b[1;33m)\u001b[0m\u001b[1;33m\u001b[0m\u001b[1;33m\u001b[0m\u001b[0m\n\u001b[0m\u001b[0;32m    967\u001b[0m     \u001b[0mfig\u001b[0m\u001b[1;33m.\u001b[0m\u001b[0mcanvas\u001b[0m\u001b[1;33m.\u001b[0m\u001b[0mdraw_idle\u001b[0m\u001b[1;33m(\u001b[0m\u001b[1;33m)\u001b[0m   \u001b[1;31m# need this if 'transparent=True' to reset colors\u001b[0m\u001b[1;33m\u001b[0m\u001b[1;33m\u001b[0m\u001b[0m\n\u001b[0;32m    968\u001b[0m     \u001b[1;32mreturn\u001b[0m \u001b[0mres\u001b[0m\u001b[1;33m\u001b[0m\u001b[1;33m\u001b[0m\u001b[0m\n",
      "\u001b[1;32m~\\anaconda3\\lib\\site-packages\\matplotlib\\figure.py\u001b[0m in \u001b[0;36msavefig\u001b[1;34m(self, fname, transparent, **kwargs)\u001b[0m\n\u001b[0;32m   3013\u001b[0m                 \u001b[0mpatch\u001b[0m\u001b[1;33m.\u001b[0m\u001b[0mset_edgecolor\u001b[0m\u001b[1;33m(\u001b[0m\u001b[1;34m'none'\u001b[0m\u001b[1;33m)\u001b[0m\u001b[1;33m\u001b[0m\u001b[1;33m\u001b[0m\u001b[0m\n\u001b[0;32m   3014\u001b[0m \u001b[1;33m\u001b[0m\u001b[0m\n\u001b[1;32m-> 3015\u001b[1;33m         \u001b[0mself\u001b[0m\u001b[1;33m.\u001b[0m\u001b[0mcanvas\u001b[0m\u001b[1;33m.\u001b[0m\u001b[0mprint_figure\u001b[0m\u001b[1;33m(\u001b[0m\u001b[0mfname\u001b[0m\u001b[1;33m,\u001b[0m \u001b[1;33m**\u001b[0m\u001b[0mkwargs\u001b[0m\u001b[1;33m)\u001b[0m\u001b[1;33m\u001b[0m\u001b[1;33m\u001b[0m\u001b[0m\n\u001b[0m\u001b[0;32m   3016\u001b[0m \u001b[1;33m\u001b[0m\u001b[0m\n\u001b[0;32m   3017\u001b[0m         \u001b[1;32mif\u001b[0m \u001b[0mtransparent\u001b[0m\u001b[1;33m:\u001b[0m\u001b[1;33m\u001b[0m\u001b[1;33m\u001b[0m\u001b[0m\n",
      "\u001b[1;32m~\\anaconda3\\lib\\site-packages\\matplotlib\\backend_bases.py\u001b[0m in \u001b[0;36mprint_figure\u001b[1;34m(self, filename, dpi, facecolor, edgecolor, orientation, format, bbox_inches, pad_inches, bbox_extra_artists, backend, **kwargs)\u001b[0m\n\u001b[0;32m   2253\u001b[0m                 \u001b[1;31m# force the figure dpi to 72), so we need to set it again here.\u001b[0m\u001b[1;33m\u001b[0m\u001b[1;33m\u001b[0m\u001b[0m\n\u001b[0;32m   2254\u001b[0m                 \u001b[1;32mwith\u001b[0m \u001b[0mcbook\u001b[0m\u001b[1;33m.\u001b[0m\u001b[0m_setattr_cm\u001b[0m\u001b[1;33m(\u001b[0m\u001b[0mself\u001b[0m\u001b[1;33m.\u001b[0m\u001b[0mfigure\u001b[0m\u001b[1;33m,\u001b[0m \u001b[0mdpi\u001b[0m\u001b[1;33m=\u001b[0m\u001b[0mdpi\u001b[0m\u001b[1;33m)\u001b[0m\u001b[1;33m:\u001b[0m\u001b[1;33m\u001b[0m\u001b[1;33m\u001b[0m\u001b[0m\n\u001b[1;32m-> 2255\u001b[1;33m                     result = print_method(\n\u001b[0m\u001b[0;32m   2256\u001b[0m                         \u001b[0mfilename\u001b[0m\u001b[1;33m,\u001b[0m\u001b[1;33m\u001b[0m\u001b[1;33m\u001b[0m\u001b[0m\n\u001b[0;32m   2257\u001b[0m                         \u001b[0mfacecolor\u001b[0m\u001b[1;33m=\u001b[0m\u001b[0mfacecolor\u001b[0m\u001b[1;33m,\u001b[0m\u001b[1;33m\u001b[0m\u001b[1;33m\u001b[0m\u001b[0m\n",
      "\u001b[1;32m~\\anaconda3\\lib\\site-packages\\matplotlib\\backends\\backend_svg.py\u001b[0m in \u001b[0;36mprint_svg\u001b[1;34m(self, filename, *args, **kwargs)\u001b[0m\n\u001b[0;32m   1331\u001b[0m                 \u001b[0mdetach\u001b[0m \u001b[1;33m=\u001b[0m \u001b[1;32mTrue\u001b[0m\u001b[1;33m\u001b[0m\u001b[1;33m\u001b[0m\u001b[0m\n\u001b[0;32m   1332\u001b[0m \u001b[1;33m\u001b[0m\u001b[0m\n\u001b[1;32m-> 1333\u001b[1;33m             \u001b[0mself\u001b[0m\u001b[1;33m.\u001b[0m\u001b[0m_print_svg\u001b[0m\u001b[1;33m(\u001b[0m\u001b[0mfilename\u001b[0m\u001b[1;33m,\u001b[0m \u001b[0mfh\u001b[0m\u001b[1;33m,\u001b[0m \u001b[1;33m**\u001b[0m\u001b[0mkwargs\u001b[0m\u001b[1;33m)\u001b[0m\u001b[1;33m\u001b[0m\u001b[1;33m\u001b[0m\u001b[0m\n\u001b[0m\u001b[0;32m   1334\u001b[0m \u001b[1;33m\u001b[0m\u001b[0m\n\u001b[0;32m   1335\u001b[0m             \u001b[1;31m# Detach underlying stream from wrapper so that it remains open in\u001b[0m\u001b[1;33m\u001b[0m\u001b[1;33m\u001b[0m\u001b[0m\n",
      "\u001b[1;32m~\\anaconda3\\lib\\site-packages\\matplotlib\\backend_bases.py\u001b[0m in \u001b[0;36mwrapper\u001b[1;34m(*args, **kwargs)\u001b[0m\n\u001b[0;32m   1667\u001b[0m             \u001b[0mkwargs\u001b[0m\u001b[1;33m.\u001b[0m\u001b[0mpop\u001b[0m\u001b[1;33m(\u001b[0m\u001b[0marg\u001b[0m\u001b[1;33m)\u001b[0m\u001b[1;33m\u001b[0m\u001b[1;33m\u001b[0m\u001b[0m\n\u001b[0;32m   1668\u001b[0m \u001b[1;33m\u001b[0m\u001b[0m\n\u001b[1;32m-> 1669\u001b[1;33m         \u001b[1;32mreturn\u001b[0m \u001b[0mfunc\u001b[0m\u001b[1;33m(\u001b[0m\u001b[1;33m*\u001b[0m\u001b[0margs\u001b[0m\u001b[1;33m,\u001b[0m \u001b[1;33m**\u001b[0m\u001b[0mkwargs\u001b[0m\u001b[1;33m)\u001b[0m\u001b[1;33m\u001b[0m\u001b[1;33m\u001b[0m\u001b[0m\n\u001b[0m\u001b[0;32m   1670\u001b[0m \u001b[1;33m\u001b[0m\u001b[0m\n\u001b[0;32m   1671\u001b[0m     \u001b[1;32mreturn\u001b[0m \u001b[0mwrapper\u001b[0m\u001b[1;33m\u001b[0m\u001b[1;33m\u001b[0m\u001b[0m\n",
      "\u001b[1;32m~\\anaconda3\\lib\\site-packages\\matplotlib\\_api\\deprecation.py\u001b[0m in \u001b[0;36mwrapper\u001b[1;34m(*inner_args, **inner_kwargs)\u001b[0m\n\u001b[0;32m    429\u001b[0m                          \u001b[1;32melse\u001b[0m \u001b[0mdeprecation_addendum\u001b[0m\u001b[1;33m,\u001b[0m\u001b[1;33m\u001b[0m\u001b[1;33m\u001b[0m\u001b[0m\n\u001b[0;32m    430\u001b[0m                 **kwargs)\n\u001b[1;32m--> 431\u001b[1;33m         \u001b[1;32mreturn\u001b[0m \u001b[0mfunc\u001b[0m\u001b[1;33m(\u001b[0m\u001b[1;33m*\u001b[0m\u001b[0minner_args\u001b[0m\u001b[1;33m,\u001b[0m \u001b[1;33m**\u001b[0m\u001b[0minner_kwargs\u001b[0m\u001b[1;33m)\u001b[0m\u001b[1;33m\u001b[0m\u001b[1;33m\u001b[0m\u001b[0m\n\u001b[0m\u001b[0;32m    432\u001b[0m \u001b[1;33m\u001b[0m\u001b[0m\n\u001b[0;32m    433\u001b[0m     \u001b[1;32mreturn\u001b[0m \u001b[0mwrapper\u001b[0m\u001b[1;33m\u001b[0m\u001b[1;33m\u001b[0m\u001b[0m\n",
      "\u001b[1;32m~\\anaconda3\\lib\\site-packages\\matplotlib\\backends\\backend_svg.py\u001b[0m in \u001b[0;36m_print_svg\u001b[1;34m(self, filename, fh, dpi, bbox_inches_restore, metadata)\u001b[0m\n\u001b[0;32m   1358\u001b[0m             bbox_inches_restore=bbox_inches_restore)\n\u001b[0;32m   1359\u001b[0m \u001b[1;33m\u001b[0m\u001b[0m\n\u001b[1;32m-> 1360\u001b[1;33m         \u001b[0mself\u001b[0m\u001b[1;33m.\u001b[0m\u001b[0mfigure\u001b[0m\u001b[1;33m.\u001b[0m\u001b[0mdraw\u001b[0m\u001b[1;33m(\u001b[0m\u001b[0mrenderer\u001b[0m\u001b[1;33m)\u001b[0m\u001b[1;33m\u001b[0m\u001b[1;33m\u001b[0m\u001b[0m\n\u001b[0m\u001b[0;32m   1361\u001b[0m         \u001b[0mrenderer\u001b[0m\u001b[1;33m.\u001b[0m\u001b[0mfinalize\u001b[0m\u001b[1;33m(\u001b[0m\u001b[1;33m)\u001b[0m\u001b[1;33m\u001b[0m\u001b[1;33m\u001b[0m\u001b[0m\n\u001b[0;32m   1362\u001b[0m \u001b[1;33m\u001b[0m\u001b[0m\n",
      "\u001b[1;32m~\\anaconda3\\lib\\site-packages\\matplotlib\\artist.py\u001b[0m in \u001b[0;36mdraw_wrapper\u001b[1;34m(artist, renderer, *args, **kwargs)\u001b[0m\n\u001b[0;32m     72\u001b[0m     \u001b[1;33m@\u001b[0m\u001b[0mwraps\u001b[0m\u001b[1;33m(\u001b[0m\u001b[0mdraw\u001b[0m\u001b[1;33m)\u001b[0m\u001b[1;33m\u001b[0m\u001b[1;33m\u001b[0m\u001b[0m\n\u001b[0;32m     73\u001b[0m     \u001b[1;32mdef\u001b[0m \u001b[0mdraw_wrapper\u001b[0m\u001b[1;33m(\u001b[0m\u001b[0martist\u001b[0m\u001b[1;33m,\u001b[0m \u001b[0mrenderer\u001b[0m\u001b[1;33m,\u001b[0m \u001b[1;33m*\u001b[0m\u001b[0margs\u001b[0m\u001b[1;33m,\u001b[0m \u001b[1;33m**\u001b[0m\u001b[0mkwargs\u001b[0m\u001b[1;33m)\u001b[0m\u001b[1;33m:\u001b[0m\u001b[1;33m\u001b[0m\u001b[1;33m\u001b[0m\u001b[0m\n\u001b[1;32m---> 74\u001b[1;33m         \u001b[0mresult\u001b[0m \u001b[1;33m=\u001b[0m \u001b[0mdraw\u001b[0m\u001b[1;33m(\u001b[0m\u001b[0martist\u001b[0m\u001b[1;33m,\u001b[0m \u001b[0mrenderer\u001b[0m\u001b[1;33m,\u001b[0m \u001b[1;33m*\u001b[0m\u001b[0margs\u001b[0m\u001b[1;33m,\u001b[0m \u001b[1;33m**\u001b[0m\u001b[0mkwargs\u001b[0m\u001b[1;33m)\u001b[0m\u001b[1;33m\u001b[0m\u001b[1;33m\u001b[0m\u001b[0m\n\u001b[0m\u001b[0;32m     75\u001b[0m         \u001b[1;32mif\u001b[0m \u001b[0mrenderer\u001b[0m\u001b[1;33m.\u001b[0m\u001b[0m_rasterizing\u001b[0m\u001b[1;33m:\u001b[0m\u001b[1;33m\u001b[0m\u001b[1;33m\u001b[0m\u001b[0m\n\u001b[0;32m     76\u001b[0m             \u001b[0mrenderer\u001b[0m\u001b[1;33m.\u001b[0m\u001b[0mstop_rasterizing\u001b[0m\u001b[1;33m(\u001b[0m\u001b[1;33m)\u001b[0m\u001b[1;33m\u001b[0m\u001b[1;33m\u001b[0m\u001b[0m\n",
      "\u001b[1;32m~\\anaconda3\\lib\\site-packages\\matplotlib\\artist.py\u001b[0m in \u001b[0;36mdraw_wrapper\u001b[1;34m(artist, renderer, *args, **kwargs)\u001b[0m\n\u001b[0;32m     49\u001b[0m                 \u001b[0mrenderer\u001b[0m\u001b[1;33m.\u001b[0m\u001b[0mstart_filter\u001b[0m\u001b[1;33m(\u001b[0m\u001b[1;33m)\u001b[0m\u001b[1;33m\u001b[0m\u001b[1;33m\u001b[0m\u001b[0m\n\u001b[0;32m     50\u001b[0m \u001b[1;33m\u001b[0m\u001b[0m\n\u001b[1;32m---> 51\u001b[1;33m             \u001b[1;32mreturn\u001b[0m \u001b[0mdraw\u001b[0m\u001b[1;33m(\u001b[0m\u001b[0martist\u001b[0m\u001b[1;33m,\u001b[0m \u001b[0mrenderer\u001b[0m\u001b[1;33m,\u001b[0m \u001b[1;33m*\u001b[0m\u001b[0margs\u001b[0m\u001b[1;33m,\u001b[0m \u001b[1;33m**\u001b[0m\u001b[0mkwargs\u001b[0m\u001b[1;33m)\u001b[0m\u001b[1;33m\u001b[0m\u001b[1;33m\u001b[0m\u001b[0m\n\u001b[0m\u001b[0;32m     52\u001b[0m         \u001b[1;32mfinally\u001b[0m\u001b[1;33m:\u001b[0m\u001b[1;33m\u001b[0m\u001b[1;33m\u001b[0m\u001b[0m\n\u001b[0;32m     53\u001b[0m             \u001b[1;32mif\u001b[0m \u001b[0martist\u001b[0m\u001b[1;33m.\u001b[0m\u001b[0mget_agg_filter\u001b[0m\u001b[1;33m(\u001b[0m\u001b[1;33m)\u001b[0m \u001b[1;32mis\u001b[0m \u001b[1;32mnot\u001b[0m \u001b[1;32mNone\u001b[0m\u001b[1;33m:\u001b[0m\u001b[1;33m\u001b[0m\u001b[1;33m\u001b[0m\u001b[0m\n",
      "\u001b[1;32m~\\anaconda3\\lib\\site-packages\\matplotlib\\figure.py\u001b[0m in \u001b[0;36mdraw\u001b[1;34m(self, renderer)\u001b[0m\n\u001b[0;32m   2788\u001b[0m \u001b[1;33m\u001b[0m\u001b[0m\n\u001b[0;32m   2789\u001b[0m             \u001b[0mself\u001b[0m\u001b[1;33m.\u001b[0m\u001b[0mpatch\u001b[0m\u001b[1;33m.\u001b[0m\u001b[0mdraw\u001b[0m\u001b[1;33m(\u001b[0m\u001b[0mrenderer\u001b[0m\u001b[1;33m)\u001b[0m\u001b[1;33m\u001b[0m\u001b[1;33m\u001b[0m\u001b[0m\n\u001b[1;32m-> 2790\u001b[1;33m             mimage._draw_list_compositing_images(\n\u001b[0m\u001b[0;32m   2791\u001b[0m                 renderer, self, artists, self.suppressComposite)\n\u001b[0;32m   2792\u001b[0m \u001b[1;33m\u001b[0m\u001b[0m\n",
      "\u001b[1;32m~\\anaconda3\\lib\\site-packages\\matplotlib\\image.py\u001b[0m in \u001b[0;36m_draw_list_compositing_images\u001b[1;34m(renderer, parent, artists, suppress_composite)\u001b[0m\n\u001b[0;32m    130\u001b[0m     \u001b[1;32mif\u001b[0m \u001b[0mnot_composite\u001b[0m \u001b[1;32mor\u001b[0m \u001b[1;32mnot\u001b[0m \u001b[0mhas_images\u001b[0m\u001b[1;33m:\u001b[0m\u001b[1;33m\u001b[0m\u001b[1;33m\u001b[0m\u001b[0m\n\u001b[0;32m    131\u001b[0m         \u001b[1;32mfor\u001b[0m \u001b[0ma\u001b[0m \u001b[1;32min\u001b[0m \u001b[0martists\u001b[0m\u001b[1;33m:\u001b[0m\u001b[1;33m\u001b[0m\u001b[1;33m\u001b[0m\u001b[0m\n\u001b[1;32m--> 132\u001b[1;33m             \u001b[0ma\u001b[0m\u001b[1;33m.\u001b[0m\u001b[0mdraw\u001b[0m\u001b[1;33m(\u001b[0m\u001b[0mrenderer\u001b[0m\u001b[1;33m)\u001b[0m\u001b[1;33m\u001b[0m\u001b[1;33m\u001b[0m\u001b[0m\n\u001b[0m\u001b[0;32m    133\u001b[0m     \u001b[1;32melse\u001b[0m\u001b[1;33m:\u001b[0m\u001b[1;33m\u001b[0m\u001b[1;33m\u001b[0m\u001b[0m\n\u001b[0;32m    134\u001b[0m         \u001b[1;31m# Composite any adjacent images together\u001b[0m\u001b[1;33m\u001b[0m\u001b[1;33m\u001b[0m\u001b[0m\n",
      "\u001b[1;32m~\\anaconda3\\lib\\site-packages\\matplotlib\\artist.py\u001b[0m in \u001b[0;36mdraw_wrapper\u001b[1;34m(artist, renderer, *args, **kwargs)\u001b[0m\n\u001b[0;32m     49\u001b[0m                 \u001b[0mrenderer\u001b[0m\u001b[1;33m.\u001b[0m\u001b[0mstart_filter\u001b[0m\u001b[1;33m(\u001b[0m\u001b[1;33m)\u001b[0m\u001b[1;33m\u001b[0m\u001b[1;33m\u001b[0m\u001b[0m\n\u001b[0;32m     50\u001b[0m \u001b[1;33m\u001b[0m\u001b[0m\n\u001b[1;32m---> 51\u001b[1;33m             \u001b[1;32mreturn\u001b[0m \u001b[0mdraw\u001b[0m\u001b[1;33m(\u001b[0m\u001b[0martist\u001b[0m\u001b[1;33m,\u001b[0m \u001b[0mrenderer\u001b[0m\u001b[1;33m,\u001b[0m \u001b[1;33m*\u001b[0m\u001b[0margs\u001b[0m\u001b[1;33m,\u001b[0m \u001b[1;33m**\u001b[0m\u001b[0mkwargs\u001b[0m\u001b[1;33m)\u001b[0m\u001b[1;33m\u001b[0m\u001b[1;33m\u001b[0m\u001b[0m\n\u001b[0m\u001b[0;32m     52\u001b[0m         \u001b[1;32mfinally\u001b[0m\u001b[1;33m:\u001b[0m\u001b[1;33m\u001b[0m\u001b[1;33m\u001b[0m\u001b[0m\n\u001b[0;32m     53\u001b[0m             \u001b[1;32mif\u001b[0m \u001b[0martist\u001b[0m\u001b[1;33m.\u001b[0m\u001b[0mget_agg_filter\u001b[0m\u001b[1;33m(\u001b[0m\u001b[1;33m)\u001b[0m \u001b[1;32mis\u001b[0m \u001b[1;32mnot\u001b[0m \u001b[1;32mNone\u001b[0m\u001b[1;33m:\u001b[0m\u001b[1;33m\u001b[0m\u001b[1;33m\u001b[0m\u001b[0m\n",
      "\u001b[1;32m~\\anaconda3\\lib\\site-packages\\matplotlib\\_api\\deprecation.py\u001b[0m in \u001b[0;36mwrapper\u001b[1;34m(*inner_args, **inner_kwargs)\u001b[0m\n\u001b[0;32m    429\u001b[0m                          \u001b[1;32melse\u001b[0m \u001b[0mdeprecation_addendum\u001b[0m\u001b[1;33m,\u001b[0m\u001b[1;33m\u001b[0m\u001b[1;33m\u001b[0m\u001b[0m\n\u001b[0;32m    430\u001b[0m                 **kwargs)\n\u001b[1;32m--> 431\u001b[1;33m         \u001b[1;32mreturn\u001b[0m \u001b[0mfunc\u001b[0m\u001b[1;33m(\u001b[0m\u001b[1;33m*\u001b[0m\u001b[0minner_args\u001b[0m\u001b[1;33m,\u001b[0m \u001b[1;33m**\u001b[0m\u001b[0minner_kwargs\u001b[0m\u001b[1;33m)\u001b[0m\u001b[1;33m\u001b[0m\u001b[1;33m\u001b[0m\u001b[0m\n\u001b[0m\u001b[0;32m    432\u001b[0m \u001b[1;33m\u001b[0m\u001b[0m\n\u001b[0;32m    433\u001b[0m     \u001b[1;32mreturn\u001b[0m \u001b[0mwrapper\u001b[0m\u001b[1;33m\u001b[0m\u001b[1;33m\u001b[0m\u001b[0m\n",
      "\u001b[1;32m~\\anaconda3\\lib\\site-packages\\matplotlib\\axes\\_base.py\u001b[0m in \u001b[0;36mdraw\u001b[1;34m(self, renderer, inframe)\u001b[0m\n\u001b[0;32m   2919\u001b[0m             \u001b[0mrenderer\u001b[0m\u001b[1;33m.\u001b[0m\u001b[0mstop_rasterizing\u001b[0m\u001b[1;33m(\u001b[0m\u001b[1;33m)\u001b[0m\u001b[1;33m\u001b[0m\u001b[1;33m\u001b[0m\u001b[0m\n\u001b[0;32m   2920\u001b[0m \u001b[1;33m\u001b[0m\u001b[0m\n\u001b[1;32m-> 2921\u001b[1;33m         \u001b[0mmimage\u001b[0m\u001b[1;33m.\u001b[0m\u001b[0m_draw_list_compositing_images\u001b[0m\u001b[1;33m(\u001b[0m\u001b[0mrenderer\u001b[0m\u001b[1;33m,\u001b[0m \u001b[0mself\u001b[0m\u001b[1;33m,\u001b[0m \u001b[0martists\u001b[0m\u001b[1;33m)\u001b[0m\u001b[1;33m\u001b[0m\u001b[1;33m\u001b[0m\u001b[0m\n\u001b[0m\u001b[0;32m   2922\u001b[0m \u001b[1;33m\u001b[0m\u001b[0m\n\u001b[0;32m   2923\u001b[0m         \u001b[0mrenderer\u001b[0m\u001b[1;33m.\u001b[0m\u001b[0mclose_group\u001b[0m\u001b[1;33m(\u001b[0m\u001b[1;34m'axes'\u001b[0m\u001b[1;33m)\u001b[0m\u001b[1;33m\u001b[0m\u001b[1;33m\u001b[0m\u001b[0m\n",
      "\u001b[1;32m~\\anaconda3\\lib\\site-packages\\matplotlib\\image.py\u001b[0m in \u001b[0;36m_draw_list_compositing_images\u001b[1;34m(renderer, parent, artists, suppress_composite)\u001b[0m\n\u001b[0;32m    130\u001b[0m     \u001b[1;32mif\u001b[0m \u001b[0mnot_composite\u001b[0m \u001b[1;32mor\u001b[0m \u001b[1;32mnot\u001b[0m \u001b[0mhas_images\u001b[0m\u001b[1;33m:\u001b[0m\u001b[1;33m\u001b[0m\u001b[1;33m\u001b[0m\u001b[0m\n\u001b[0;32m    131\u001b[0m         \u001b[1;32mfor\u001b[0m \u001b[0ma\u001b[0m \u001b[1;32min\u001b[0m \u001b[0martists\u001b[0m\u001b[1;33m:\u001b[0m\u001b[1;33m\u001b[0m\u001b[1;33m\u001b[0m\u001b[0m\n\u001b[1;32m--> 132\u001b[1;33m             \u001b[0ma\u001b[0m\u001b[1;33m.\u001b[0m\u001b[0mdraw\u001b[0m\u001b[1;33m(\u001b[0m\u001b[0mrenderer\u001b[0m\u001b[1;33m)\u001b[0m\u001b[1;33m\u001b[0m\u001b[1;33m\u001b[0m\u001b[0m\n\u001b[0m\u001b[0;32m    133\u001b[0m     \u001b[1;32melse\u001b[0m\u001b[1;33m:\u001b[0m\u001b[1;33m\u001b[0m\u001b[1;33m\u001b[0m\u001b[0m\n\u001b[0;32m    134\u001b[0m         \u001b[1;31m# Composite any adjacent images together\u001b[0m\u001b[1;33m\u001b[0m\u001b[1;33m\u001b[0m\u001b[0m\n",
      "\u001b[1;32m~\\anaconda3\\lib\\site-packages\\matplotlib\\artist.py\u001b[0m in \u001b[0;36mdraw_wrapper\u001b[1;34m(artist, renderer, *args, **kwargs)\u001b[0m\n\u001b[0;32m     49\u001b[0m                 \u001b[0mrenderer\u001b[0m\u001b[1;33m.\u001b[0m\u001b[0mstart_filter\u001b[0m\u001b[1;33m(\u001b[0m\u001b[1;33m)\u001b[0m\u001b[1;33m\u001b[0m\u001b[1;33m\u001b[0m\u001b[0m\n\u001b[0;32m     50\u001b[0m \u001b[1;33m\u001b[0m\u001b[0m\n\u001b[1;32m---> 51\u001b[1;33m             \u001b[1;32mreturn\u001b[0m \u001b[0mdraw\u001b[0m\u001b[1;33m(\u001b[0m\u001b[0martist\u001b[0m\u001b[1;33m,\u001b[0m \u001b[0mrenderer\u001b[0m\u001b[1;33m,\u001b[0m \u001b[1;33m*\u001b[0m\u001b[0margs\u001b[0m\u001b[1;33m,\u001b[0m \u001b[1;33m**\u001b[0m\u001b[0mkwargs\u001b[0m\u001b[1;33m)\u001b[0m\u001b[1;33m\u001b[0m\u001b[1;33m\u001b[0m\u001b[0m\n\u001b[0m\u001b[0;32m     52\u001b[0m         \u001b[1;32mfinally\u001b[0m\u001b[1;33m:\u001b[0m\u001b[1;33m\u001b[0m\u001b[1;33m\u001b[0m\u001b[0m\n\u001b[0;32m     53\u001b[0m             \u001b[1;32mif\u001b[0m \u001b[0martist\u001b[0m\u001b[1;33m.\u001b[0m\u001b[0mget_agg_filter\u001b[0m\u001b[1;33m(\u001b[0m\u001b[1;33m)\u001b[0m \u001b[1;32mis\u001b[0m \u001b[1;32mnot\u001b[0m \u001b[1;32mNone\u001b[0m\u001b[1;33m:\u001b[0m\u001b[1;33m\u001b[0m\u001b[1;33m\u001b[0m\u001b[0m\n",
      "\u001b[1;32m~\\anaconda3\\lib\\site-packages\\matplotlib\\axis.py\u001b[0m in \u001b[0;36mdraw\u001b[1;34m(self, renderer, *args, **kwargs)\u001b[0m\n\u001b[0;32m   1139\u001b[0m         \u001b[0mrenderer\u001b[0m\u001b[1;33m.\u001b[0m\u001b[0mopen_group\u001b[0m\u001b[1;33m(\u001b[0m\u001b[0m__name__\u001b[0m\u001b[1;33m,\u001b[0m \u001b[0mgid\u001b[0m\u001b[1;33m=\u001b[0m\u001b[0mself\u001b[0m\u001b[1;33m.\u001b[0m\u001b[0mget_gid\u001b[0m\u001b[1;33m(\u001b[0m\u001b[1;33m)\u001b[0m\u001b[1;33m)\u001b[0m\u001b[1;33m\u001b[0m\u001b[1;33m\u001b[0m\u001b[0m\n\u001b[0;32m   1140\u001b[0m \u001b[1;33m\u001b[0m\u001b[0m\n\u001b[1;32m-> 1141\u001b[1;33m         \u001b[0mticks_to_draw\u001b[0m \u001b[1;33m=\u001b[0m \u001b[0mself\u001b[0m\u001b[1;33m.\u001b[0m\u001b[0m_update_ticks\u001b[0m\u001b[1;33m(\u001b[0m\u001b[1;33m)\u001b[0m\u001b[1;33m\u001b[0m\u001b[1;33m\u001b[0m\u001b[0m\n\u001b[0m\u001b[0;32m   1142\u001b[0m         ticklabelBoxes, ticklabelBoxes2 = self._get_tick_bboxes(ticks_to_draw,\n\u001b[0;32m   1143\u001b[0m                                                                 renderer)\n",
      "\u001b[1;32m~\\anaconda3\\lib\\site-packages\\matplotlib\\axis.py\u001b[0m in \u001b[0;36m_update_ticks\u001b[1;34m(self)\u001b[0m\n\u001b[0;32m   1034\u001b[0m             \u001b[0mtick\u001b[0m\u001b[1;33m.\u001b[0m\u001b[0mset_label1\u001b[0m\u001b[1;33m(\u001b[0m\u001b[0mlabel\u001b[0m\u001b[1;33m)\u001b[0m\u001b[1;33m\u001b[0m\u001b[1;33m\u001b[0m\u001b[0m\n\u001b[0;32m   1035\u001b[0m             \u001b[0mtick\u001b[0m\u001b[1;33m.\u001b[0m\u001b[0mset_label2\u001b[0m\u001b[1;33m(\u001b[0m\u001b[0mlabel\u001b[0m\u001b[1;33m)\u001b[0m\u001b[1;33m\u001b[0m\u001b[1;33m\u001b[0m\u001b[0m\n\u001b[1;32m-> 1036\u001b[1;33m         \u001b[0mminor_locs\u001b[0m \u001b[1;33m=\u001b[0m \u001b[0mself\u001b[0m\u001b[1;33m.\u001b[0m\u001b[0mget_minorticklocs\u001b[0m\u001b[1;33m(\u001b[0m\u001b[1;33m)\u001b[0m\u001b[1;33m\u001b[0m\u001b[1;33m\u001b[0m\u001b[0m\n\u001b[0m\u001b[0;32m   1037\u001b[0m         \u001b[0mminor_labels\u001b[0m \u001b[1;33m=\u001b[0m \u001b[0mself\u001b[0m\u001b[1;33m.\u001b[0m\u001b[0mminor\u001b[0m\u001b[1;33m.\u001b[0m\u001b[0mformatter\u001b[0m\u001b[1;33m.\u001b[0m\u001b[0mformat_ticks\u001b[0m\u001b[1;33m(\u001b[0m\u001b[0mminor_locs\u001b[0m\u001b[1;33m)\u001b[0m\u001b[1;33m\u001b[0m\u001b[1;33m\u001b[0m\u001b[0m\n\u001b[0;32m   1038\u001b[0m         \u001b[0mminor_ticks\u001b[0m \u001b[1;33m=\u001b[0m \u001b[0mself\u001b[0m\u001b[1;33m.\u001b[0m\u001b[0mget_minor_ticks\u001b[0m\u001b[1;33m(\u001b[0m\u001b[0mlen\u001b[0m\u001b[1;33m(\u001b[0m\u001b[0mminor_locs\u001b[0m\u001b[1;33m)\u001b[0m\u001b[1;33m)\u001b[0m\u001b[1;33m\u001b[0m\u001b[1;33m\u001b[0m\u001b[0m\n",
      "\u001b[1;32m~\\anaconda3\\lib\\site-packages\\matplotlib\\axis.py\u001b[0m in \u001b[0;36mget_minorticklocs\u001b[1;34m(self)\u001b[0m\n\u001b[0;32m   1263\u001b[0m         \u001b[1;34m\"\"\"Return this Axis' minor tick locations in data coordinates.\"\"\"\u001b[0m\u001b[1;33m\u001b[0m\u001b[1;33m\u001b[0m\u001b[0m\n\u001b[0;32m   1264\u001b[0m         \u001b[1;31m# Remove minor ticks duplicating major ticks.\u001b[0m\u001b[1;33m\u001b[0m\u001b[1;33m\u001b[0m\u001b[0m\n\u001b[1;32m-> 1265\u001b[1;33m         \u001b[0mmajor_locs\u001b[0m \u001b[1;33m=\u001b[0m \u001b[0mself\u001b[0m\u001b[1;33m.\u001b[0m\u001b[0mmajor\u001b[0m\u001b[1;33m.\u001b[0m\u001b[0mlocator\u001b[0m\u001b[1;33m(\u001b[0m\u001b[1;33m)\u001b[0m\u001b[1;33m\u001b[0m\u001b[1;33m\u001b[0m\u001b[0m\n\u001b[0m\u001b[0;32m   1266\u001b[0m         \u001b[0mminor_locs\u001b[0m \u001b[1;33m=\u001b[0m \u001b[0mself\u001b[0m\u001b[1;33m.\u001b[0m\u001b[0mminor\u001b[0m\u001b[1;33m.\u001b[0m\u001b[0mlocator\u001b[0m\u001b[1;33m(\u001b[0m\u001b[1;33m)\u001b[0m\u001b[1;33m\u001b[0m\u001b[1;33m\u001b[0m\u001b[0m\n\u001b[0;32m   1267\u001b[0m         \u001b[0mtransform\u001b[0m \u001b[1;33m=\u001b[0m \u001b[0mself\u001b[0m\u001b[1;33m.\u001b[0m\u001b[0m_scale\u001b[0m\u001b[1;33m.\u001b[0m\u001b[0mget_transform\u001b[0m\u001b[1;33m(\u001b[0m\u001b[1;33m)\u001b[0m\u001b[1;33m\u001b[0m\u001b[1;33m\u001b[0m\u001b[0m\n",
      "\u001b[1;32m~\\anaconda3\\lib\\site-packages\\matplotlib\\ticker.py\u001b[0m in \u001b[0;36m__call__\u001b[1;34m(self)\u001b[0m\n\u001b[0;32m   2262\u001b[0m     \u001b[1;32mdef\u001b[0m \u001b[0m__call__\u001b[0m\u001b[1;33m(\u001b[0m\u001b[0mself\u001b[0m\u001b[1;33m)\u001b[0m\u001b[1;33m:\u001b[0m\u001b[1;33m\u001b[0m\u001b[1;33m\u001b[0m\u001b[0m\n\u001b[0;32m   2263\u001b[0m         \u001b[0mvmin\u001b[0m\u001b[1;33m,\u001b[0m \u001b[0mvmax\u001b[0m \u001b[1;33m=\u001b[0m \u001b[0mself\u001b[0m\u001b[1;33m.\u001b[0m\u001b[0maxis\u001b[0m\u001b[1;33m.\u001b[0m\u001b[0mget_view_interval\u001b[0m\u001b[1;33m(\u001b[0m\u001b[1;33m)\u001b[0m\u001b[1;33m\u001b[0m\u001b[1;33m\u001b[0m\u001b[0m\n\u001b[1;32m-> 2264\u001b[1;33m         \u001b[1;32mreturn\u001b[0m \u001b[0mself\u001b[0m\u001b[1;33m.\u001b[0m\u001b[0mtick_values\u001b[0m\u001b[1;33m(\u001b[0m\u001b[0mvmin\u001b[0m\u001b[1;33m,\u001b[0m \u001b[0mvmax\u001b[0m\u001b[1;33m)\u001b[0m\u001b[1;33m\u001b[0m\u001b[1;33m\u001b[0m\u001b[0m\n\u001b[0m\u001b[0;32m   2265\u001b[0m \u001b[1;33m\u001b[0m\u001b[0m\n\u001b[0;32m   2266\u001b[0m     \u001b[1;32mdef\u001b[0m \u001b[0mtick_values\u001b[0m\u001b[1;33m(\u001b[0m\u001b[0mself\u001b[0m\u001b[1;33m,\u001b[0m \u001b[0mvmin\u001b[0m\u001b[1;33m,\u001b[0m \u001b[0mvmax\u001b[0m\u001b[1;33m)\u001b[0m\u001b[1;33m:\u001b[0m\u001b[1;33m\u001b[0m\u001b[1;33m\u001b[0m\u001b[0m\n",
      "\u001b[1;32m~\\anaconda3\\lib\\site-packages\\matplotlib\\ticker.py\u001b[0m in \u001b[0;36mtick_values\u001b[1;34m(self, vmin, vmax)\u001b[0m\n\u001b[0;32m   2270\u001b[0m         vmin, vmax = mtransforms.nonsingular(\n\u001b[0;32m   2271\u001b[0m             vmin, vmax, expander=1e-13, tiny=1e-14)\n\u001b[1;32m-> 2272\u001b[1;33m         \u001b[0mlocs\u001b[0m \u001b[1;33m=\u001b[0m \u001b[0mself\u001b[0m\u001b[1;33m.\u001b[0m\u001b[0m_raw_ticks\u001b[0m\u001b[1;33m(\u001b[0m\u001b[0mvmin\u001b[0m\u001b[1;33m,\u001b[0m \u001b[0mvmax\u001b[0m\u001b[1;33m)\u001b[0m\u001b[1;33m\u001b[0m\u001b[1;33m\u001b[0m\u001b[0m\n\u001b[0m\u001b[0;32m   2273\u001b[0m \u001b[1;33m\u001b[0m\u001b[0m\n\u001b[0;32m   2274\u001b[0m         \u001b[0mprune\u001b[0m \u001b[1;33m=\u001b[0m \u001b[0mself\u001b[0m\u001b[1;33m.\u001b[0m\u001b[0m_prune\u001b[0m\u001b[1;33m\u001b[0m\u001b[1;33m\u001b[0m\u001b[0m\n",
      "\u001b[1;32m~\\anaconda3\\lib\\site-packages\\matplotlib\\ticker.py\u001b[0m in \u001b[0;36m_raw_ticks\u001b[1;34m(self, vmin, vmax)\u001b[0m\n\u001b[0;32m   2209\u001b[0m         \u001b[1;32mif\u001b[0m \u001b[0mself\u001b[0m\u001b[1;33m.\u001b[0m\u001b[0m_nbins\u001b[0m \u001b[1;33m==\u001b[0m \u001b[1;34m'auto'\u001b[0m\u001b[1;33m:\u001b[0m\u001b[1;33m\u001b[0m\u001b[1;33m\u001b[0m\u001b[0m\n\u001b[0;32m   2210\u001b[0m             \u001b[1;32mif\u001b[0m \u001b[0mself\u001b[0m\u001b[1;33m.\u001b[0m\u001b[0maxis\u001b[0m \u001b[1;32mis\u001b[0m \u001b[1;32mnot\u001b[0m \u001b[1;32mNone\u001b[0m\u001b[1;33m:\u001b[0m\u001b[1;33m\u001b[0m\u001b[1;33m\u001b[0m\u001b[0m\n\u001b[1;32m-> 2211\u001b[1;33m                 nbins = np.clip(self.axis.get_tick_space(),\n\u001b[0m\u001b[0;32m   2212\u001b[0m                                 max(1, self._min_n_ticks - 1), 9)\n\u001b[0;32m   2213\u001b[0m             \u001b[1;32melse\u001b[0m\u001b[1;33m:\u001b[0m\u001b[1;33m\u001b[0m\u001b[1;33m\u001b[0m\u001b[0m\n",
      "\u001b[1;32m~\\anaconda3\\lib\\site-packages\\matplotlib\\axis.py\u001b[0m in \u001b[0;36mget_tick_space\u001b[1;34m(self)\u001b[0m\n\u001b[0;32m   2535\u001b[0m     \u001b[1;32mdef\u001b[0m \u001b[0mget_tick_space\u001b[0m\u001b[1;33m(\u001b[0m\u001b[0mself\u001b[0m\u001b[1;33m)\u001b[0m\u001b[1;33m:\u001b[0m\u001b[1;33m\u001b[0m\u001b[1;33m\u001b[0m\u001b[0m\n\u001b[0;32m   2536\u001b[0m         \u001b[0mends\u001b[0m \u001b[1;33m=\u001b[0m \u001b[0mmtransforms\u001b[0m\u001b[1;33m.\u001b[0m\u001b[0mBbox\u001b[0m\u001b[1;33m.\u001b[0m\u001b[0mfrom_bounds\u001b[0m\u001b[1;33m(\u001b[0m\u001b[1;36m0\u001b[0m\u001b[1;33m,\u001b[0m \u001b[1;36m0\u001b[0m\u001b[1;33m,\u001b[0m \u001b[1;36m1\u001b[0m\u001b[1;33m,\u001b[0m \u001b[1;36m1\u001b[0m\u001b[1;33m)\u001b[0m\u001b[1;33m\u001b[0m\u001b[1;33m\u001b[0m\u001b[0m\n\u001b[1;32m-> 2537\u001b[1;33m         ends = ends.transformed(self.axes.transAxes -\n\u001b[0m\u001b[0;32m   2538\u001b[0m                                 self.figure.dpi_scale_trans)\n\u001b[0;32m   2539\u001b[0m         \u001b[0mlength\u001b[0m \u001b[1;33m=\u001b[0m \u001b[0mends\u001b[0m\u001b[1;33m.\u001b[0m\u001b[0mheight\u001b[0m \u001b[1;33m*\u001b[0m \u001b[1;36m72\u001b[0m\u001b[1;33m\u001b[0m\u001b[1;33m\u001b[0m\u001b[0m\n",
      "\u001b[1;32m~\\anaconda3\\lib\\site-packages\\matplotlib\\transforms.py\u001b[0m in \u001b[0;36mtransformed\u001b[1;34m(self, transform)\u001b[0m\n\u001b[0;32m    490\u001b[0m         \"\"\"\n\u001b[0;32m    491\u001b[0m         \u001b[0mpts\u001b[0m \u001b[1;33m=\u001b[0m \u001b[0mself\u001b[0m\u001b[1;33m.\u001b[0m\u001b[0mget_points\u001b[0m\u001b[1;33m(\u001b[0m\u001b[1;33m)\u001b[0m\u001b[1;33m\u001b[0m\u001b[1;33m\u001b[0m\u001b[0m\n\u001b[1;32m--> 492\u001b[1;33m         ll, ul, lr = transform.transform(np.array(\n\u001b[0m\u001b[0;32m    493\u001b[0m             [pts[0], [pts[0, 0], pts[1, 1]], [pts[1, 0], pts[0, 1]]]))\n\u001b[0;32m    494\u001b[0m         \u001b[1;32mreturn\u001b[0m \u001b[0mBbox\u001b[0m\u001b[1;33m(\u001b[0m\u001b[1;33m[\u001b[0m\u001b[0mll\u001b[0m\u001b[1;33m,\u001b[0m \u001b[1;33m[\u001b[0m\u001b[0mlr\u001b[0m\u001b[1;33m[\u001b[0m\u001b[1;36m0\u001b[0m\u001b[1;33m]\u001b[0m\u001b[1;33m,\u001b[0m \u001b[0mul\u001b[0m\u001b[1;33m[\u001b[0m\u001b[1;36m1\u001b[0m\u001b[1;33m]\u001b[0m\u001b[1;33m]\u001b[0m\u001b[1;33m]\u001b[0m\u001b[1;33m)\u001b[0m\u001b[1;33m\u001b[0m\u001b[1;33m\u001b[0m\u001b[0m\n",
      "\u001b[1;32m~\\anaconda3\\lib\\site-packages\\matplotlib\\transforms.py\u001b[0m in \u001b[0;36mtransform\u001b[1;34m(self, values)\u001b[0m\n\u001b[0;32m   1468\u001b[0m \u001b[1;33m\u001b[0m\u001b[0m\n\u001b[0;32m   1469\u001b[0m         \u001b[1;31m# Transform the values\u001b[0m\u001b[1;33m\u001b[0m\u001b[1;33m\u001b[0m\u001b[0m\n\u001b[1;32m-> 1470\u001b[1;33m         \u001b[0mres\u001b[0m \u001b[1;33m=\u001b[0m \u001b[0mself\u001b[0m\u001b[1;33m.\u001b[0m\u001b[0mtransform_affine\u001b[0m\u001b[1;33m(\u001b[0m\u001b[0mself\u001b[0m\u001b[1;33m.\u001b[0m\u001b[0mtransform_non_affine\u001b[0m\u001b[1;33m(\u001b[0m\u001b[0mvalues\u001b[0m\u001b[1;33m)\u001b[0m\u001b[1;33m)\u001b[0m\u001b[1;33m\u001b[0m\u001b[1;33m\u001b[0m\u001b[0m\n\u001b[0m\u001b[0;32m   1471\u001b[0m \u001b[1;33m\u001b[0m\u001b[0m\n\u001b[0;32m   1472\u001b[0m         \u001b[1;31m# Convert the result back to the shape of the input values.\u001b[0m\u001b[1;33m\u001b[0m\u001b[1;33m\u001b[0m\u001b[0m\n",
      "\u001b[1;32m~\\anaconda3\\lib\\site-packages\\matplotlib\\transforms.py\u001b[0m in \u001b[0;36mtransform_affine\u001b[1;34m(self, points)\u001b[0m\n\u001b[0;32m   2377\u001b[0m     \u001b[1;32mdef\u001b[0m \u001b[0mtransform_affine\u001b[0m\u001b[1;33m(\u001b[0m\u001b[0mself\u001b[0m\u001b[1;33m,\u001b[0m \u001b[0mpoints\u001b[0m\u001b[1;33m)\u001b[0m\u001b[1;33m:\u001b[0m\u001b[1;33m\u001b[0m\u001b[1;33m\u001b[0m\u001b[0m\n\u001b[0;32m   2378\u001b[0m         \u001b[1;31m# docstring inherited\u001b[0m\u001b[1;33m\u001b[0m\u001b[1;33m\u001b[0m\u001b[0m\n\u001b[1;32m-> 2379\u001b[1;33m         \u001b[1;32mreturn\u001b[0m \u001b[0mself\u001b[0m\u001b[1;33m.\u001b[0m\u001b[0mget_affine\u001b[0m\u001b[1;33m(\u001b[0m\u001b[1;33m)\u001b[0m\u001b[1;33m.\u001b[0m\u001b[0mtransform\u001b[0m\u001b[1;33m(\u001b[0m\u001b[0mpoints\u001b[0m\u001b[1;33m)\u001b[0m\u001b[1;33m\u001b[0m\u001b[1;33m\u001b[0m\u001b[0m\n\u001b[0m\u001b[0;32m   2380\u001b[0m \u001b[1;33m\u001b[0m\u001b[0m\n\u001b[0;32m   2381\u001b[0m     \u001b[1;32mdef\u001b[0m \u001b[0mtransform_non_affine\u001b[0m\u001b[1;33m(\u001b[0m\u001b[0mself\u001b[0m\u001b[1;33m,\u001b[0m \u001b[0mpoints\u001b[0m\u001b[1;33m)\u001b[0m\u001b[1;33m:\u001b[0m\u001b[1;33m\u001b[0m\u001b[1;33m\u001b[0m\u001b[0m\n",
      "\u001b[1;32m~\\anaconda3\\lib\\site-packages\\matplotlib\\transforms.py\u001b[0m in \u001b[0;36mget_affine\u001b[1;34m(self)\u001b[0m\n\u001b[0;32m   2404\u001b[0m             \u001b[1;32mreturn\u001b[0m \u001b[0mself\u001b[0m\u001b[1;33m.\u001b[0m\u001b[0m_b\u001b[0m\u001b[1;33m.\u001b[0m\u001b[0mget_affine\u001b[0m\u001b[1;33m(\u001b[0m\u001b[1;33m)\u001b[0m\u001b[1;33m\u001b[0m\u001b[1;33m\u001b[0m\u001b[0m\n\u001b[0;32m   2405\u001b[0m         \u001b[1;32melse\u001b[0m\u001b[1;33m:\u001b[0m\u001b[1;33m\u001b[0m\u001b[1;33m\u001b[0m\u001b[0m\n\u001b[1;32m-> 2406\u001b[1;33m             return Affine2D(np.dot(self._b.get_affine().get_matrix(),\n\u001b[0m\u001b[0;32m   2407\u001b[0m                                    self._a.get_affine().get_matrix()))\n\u001b[0;32m   2408\u001b[0m \u001b[1;33m\u001b[0m\u001b[0m\n",
      "\u001b[1;32m<__array_function__ internals>\u001b[0m in \u001b[0;36mdot\u001b[1;34m(*args, **kwargs)\u001b[0m\n",
      "\u001b[1;31mKeyboardInterrupt\u001b[0m: "
     ]
    }
   ],
   "source": [
    "design_report = ProfileReport(train[descr + home_team_history])\n",
    "design_report.to_file(output_file='report.html')"
   ]
  },
  {
   "cell_type": "code",
   "execution_count": 148,
   "metadata": {},
   "outputs": [
    {
     "name": "stderr",
     "output_type": "stream",
     "text": [
      "C:\\Users\\Ameri\\AppData\\Local\\Temp/ipykernel_6924/4229412901.py:11: UserWarning: Matplotlib is currently using agg, which is a non-GUI backend, so cannot show the figure.\n",
      "  plt.show()\n"
     ]
    }
   ],
   "source": [
    "# create correlation matrix with abs values\n",
    "corr_matrix = train[descr].corr().abs()\n",
    "\n",
    "# change this value as needed, if 0.5 does not work for your scenario\n",
    "threshold = 0.5\n",
    "\n",
    "# filtered_corr_df = corr_matrix[(corr_matrix >= threshold) & (corr_matrix != 1.000)] \n",
    "\n",
    "plt.figure(figsize=(30,10))\n",
    "sns.heatmap(corr_matrix, annot=True, cmap=\"Reds\")\n",
    "plt.show()\n"
   ]
  },
  {
   "cell_type": "code",
   "execution_count": 3,
   "metadata": {},
   "outputs": [],
   "source": [
    "df=pd.DataFrame({\"A\":[5,3,None,4],\n",
    "                 \"B\":[None,2,4,3],\n",
    "                 \"C\":[4,3,8,5],\n",
    "                 \"D\":[5,4,2,None]})"
   ]
  },
  {
   "cell_type": "code",
   "execution_count": 4,
   "metadata": {},
   "outputs": [
    {
     "data": {
      "text/html": [
       "<div>\n",
       "<style scoped>\n",
       "    .dataframe tbody tr th:only-of-type {\n",
       "        vertical-align: middle;\n",
       "    }\n",
       "\n",
       "    .dataframe tbody tr th {\n",
       "        vertical-align: top;\n",
       "    }\n",
       "\n",
       "    .dataframe thead th {\n",
       "        text-align: right;\n",
       "    }\n",
       "</style>\n",
       "<table border=\"1\" class=\"dataframe\">\n",
       "  <thead>\n",
       "    <tr style=\"text-align: right;\">\n",
       "      <th></th>\n",
       "      <th>A</th>\n",
       "      <th>B</th>\n",
       "      <th>C</th>\n",
       "      <th>D</th>\n",
       "    </tr>\n",
       "  </thead>\n",
       "  <tbody>\n",
       "    <tr>\n",
       "      <th>0</th>\n",
       "      <td>5.0</td>\n",
       "      <td>NaN</td>\n",
       "      <td>4</td>\n",
       "      <td>5.0</td>\n",
       "    </tr>\n",
       "    <tr>\n",
       "      <th>1</th>\n",
       "      <td>3.0</td>\n",
       "      <td>2.0</td>\n",
       "      <td>3</td>\n",
       "      <td>4.0</td>\n",
       "    </tr>\n",
       "    <tr>\n",
       "      <th>2</th>\n",
       "      <td>NaN</td>\n",
       "      <td>4.0</td>\n",
       "      <td>8</td>\n",
       "      <td>2.0</td>\n",
       "    </tr>\n",
       "    <tr>\n",
       "      <th>3</th>\n",
       "      <td>4.0</td>\n",
       "      <td>3.0</td>\n",
       "      <td>5</td>\n",
       "      <td>NaN</td>\n",
       "    </tr>\n",
       "  </tbody>\n",
       "</table>\n",
       "</div>"
      ],
      "text/plain": [
       "     A    B  C    D\n",
       "0  5.0  NaN  4  5.0\n",
       "1  3.0  2.0  3  4.0\n",
       "2  NaN  4.0  8  2.0\n",
       "3  4.0  3.0  5  NaN"
      ]
     },
     "execution_count": 4,
     "metadata": {},
     "output_type": "execute_result"
    }
   ],
   "source": [
    "df\n"
   ]
  },
  {
   "cell_type": "code",
   "execution_count": 5,
   "metadata": {},
   "outputs": [
    {
     "data": {
      "text/html": [
       "<div>\n",
       "<style scoped>\n",
       "    .dataframe tbody tr th:only-of-type {\n",
       "        vertical-align: middle;\n",
       "    }\n",
       "\n",
       "    .dataframe tbody tr th {\n",
       "        vertical-align: top;\n",
       "    }\n",
       "\n",
       "    .dataframe thead th {\n",
       "        text-align: right;\n",
       "    }\n",
       "</style>\n",
       "<table border=\"1\" class=\"dataframe\">\n",
       "  <thead>\n",
       "    <tr style=\"text-align: right;\">\n",
       "      <th></th>\n",
       "      <th>A</th>\n",
       "      <th>B</th>\n",
       "      <th>C</th>\n",
       "      <th>D</th>\n",
       "    </tr>\n",
       "  </thead>\n",
       "  <tbody>\n",
       "    <tr>\n",
       "      <th>0</th>\n",
       "      <td>5.0</td>\n",
       "      <td>NaN</td>\n",
       "      <td>4</td>\n",
       "      <td>5.0</td>\n",
       "    </tr>\n",
       "    <tr>\n",
       "      <th>1</th>\n",
       "      <td>3.0</td>\n",
       "      <td>2.0</td>\n",
       "      <td>3</td>\n",
       "      <td>4.0</td>\n",
       "    </tr>\n",
       "    <tr>\n",
       "      <th>2</th>\n",
       "      <td>3.0</td>\n",
       "      <td>4.0</td>\n",
       "      <td>8</td>\n",
       "      <td>2.0</td>\n",
       "    </tr>\n",
       "    <tr>\n",
       "      <th>3</th>\n",
       "      <td>4.0</td>\n",
       "      <td>3.0</td>\n",
       "      <td>5</td>\n",
       "      <td>2.0</td>\n",
       "    </tr>\n",
       "  </tbody>\n",
       "</table>\n",
       "</div>"
      ],
      "text/plain": [
       "     A    B  C    D\n",
       "0  5.0  NaN  4  5.0\n",
       "1  3.0  2.0  3  4.0\n",
       "2  3.0  4.0  8  2.0\n",
       "3  4.0  3.0  5  2.0"
      ]
     },
     "execution_count": 5,
     "metadata": {},
     "output_type": "execute_result"
    }
   ],
   "source": [
    "df.ffill(axis = 0)"
   ]
  },
  {
   "cell_type": "code",
   "execution_count": 9,
   "metadata": {},
   "outputs": [],
   "source": [
    "df = df.ffill(axis = 1)"
   ]
  },
  {
   "cell_type": "code",
   "execution_count": 10,
   "metadata": {},
   "outputs": [
    {
     "data": {
      "text/html": [
       "<div>\n",
       "<style scoped>\n",
       "    .dataframe tbody tr th:only-of-type {\n",
       "        vertical-align: middle;\n",
       "    }\n",
       "\n",
       "    .dataframe tbody tr th {\n",
       "        vertical-align: top;\n",
       "    }\n",
       "\n",
       "    .dataframe thead th {\n",
       "        text-align: right;\n",
       "    }\n",
       "</style>\n",
       "<table border=\"1\" class=\"dataframe\">\n",
       "  <thead>\n",
       "    <tr style=\"text-align: right;\">\n",
       "      <th></th>\n",
       "      <th>A</th>\n",
       "      <th>B</th>\n",
       "      <th>C</th>\n",
       "      <th>D</th>\n",
       "    </tr>\n",
       "  </thead>\n",
       "  <tbody>\n",
       "    <tr>\n",
       "      <th>0</th>\n",
       "      <td>5.0</td>\n",
       "      <td>5.0</td>\n",
       "      <td>4.0</td>\n",
       "      <td>5.0</td>\n",
       "    </tr>\n",
       "    <tr>\n",
       "      <th>1</th>\n",
       "      <td>3.0</td>\n",
       "      <td>2.0</td>\n",
       "      <td>3.0</td>\n",
       "      <td>4.0</td>\n",
       "    </tr>\n",
       "    <tr>\n",
       "      <th>2</th>\n",
       "      <td>NaN</td>\n",
       "      <td>4.0</td>\n",
       "      <td>8.0</td>\n",
       "      <td>2.0</td>\n",
       "    </tr>\n",
       "    <tr>\n",
       "      <th>3</th>\n",
       "      <td>4.0</td>\n",
       "      <td>3.0</td>\n",
       "      <td>5.0</td>\n",
       "      <td>5.0</td>\n",
       "    </tr>\n",
       "  </tbody>\n",
       "</table>\n",
       "</div>"
      ],
      "text/plain": [
       "     A    B    C    D\n",
       "0  5.0  5.0  4.0  5.0\n",
       "1  3.0  2.0  3.0  4.0\n",
       "2  NaN  4.0  8.0  2.0\n",
       "3  4.0  3.0  5.0  5.0"
      ]
     },
     "execution_count": 10,
     "metadata": {},
     "output_type": "execute_result"
    }
   ],
   "source": [
    "df"
   ]
  },
  {
   "cell_type": "code",
   "execution_count": 1,
   "metadata": {},
   "outputs": [
    {
     "data": {
      "text/html": [
       "<div>\n",
       "<style scoped>\n",
       "    .dataframe tbody tr th:only-of-type {\n",
       "        vertical-align: middle;\n",
       "    }\n",
       "\n",
       "    .dataframe tbody tr th {\n",
       "        vertical-align: top;\n",
       "    }\n",
       "\n",
       "    .dataframe thead th {\n",
       "        text-align: right;\n",
       "    }\n",
       "</style>\n",
       "<table border=\"1\" class=\"dataframe\">\n",
       "  <thead>\n",
       "    <tr style=\"text-align: right;\">\n",
       "      <th></th>\n",
       "      <th>Symbol</th>\n",
       "      <th>Date</th>\n",
       "    </tr>\n",
       "  </thead>\n",
       "  <tbody>\n",
       "    <tr>\n",
       "      <th>0</th>\n",
       "      <td>A</td>\n",
       "      <td>02/20/2015</td>\n",
       "    </tr>\n",
       "    <tr>\n",
       "      <th>1</th>\n",
       "      <td>A</td>\n",
       "      <td>01/15/2016</td>\n",
       "    </tr>\n",
       "    <tr>\n",
       "      <th>2</th>\n",
       "      <td>A</td>\n",
       "      <td>08/21/2015</td>\n",
       "    </tr>\n",
       "  </tbody>\n",
       "</table>\n",
       "</div>"
      ],
      "text/plain": [
       "  Symbol        Date\n",
       "0      A  02/20/2015\n",
       "1      A  01/15/2016\n",
       "2      A  08/21/2015"
      ]
     },
     "execution_count": 1,
     "metadata": {},
     "output_type": "execute_result"
    }
   ],
   "source": [
    "import pandas as pd\n",
    "df = pd.DataFrame( {'Symbol':['A','A','A'] , 'Date':['02/20/2015','01/15/2016','08/21/2015']})\n",
    "df"
   ]
  },
  {
   "cell_type": "code",
   "execution_count": 9,
   "metadata": {},
   "outputs": [
    {
     "data": {
      "text/html": [
       "<div>\n",
       "<style scoped>\n",
       "    .dataframe tbody tr th:only-of-type {\n",
       "        vertical-align: middle;\n",
       "    }\n",
       "\n",
       "    .dataframe tbody tr th {\n",
       "        vertical-align: top;\n",
       "    }\n",
       "\n",
       "    .dataframe thead th {\n",
       "        text-align: right;\n",
       "    }\n",
       "</style>\n",
       "<table border=\"1\" class=\"dataframe\">\n",
       "  <thead>\n",
       "    <tr style=\"text-align: right;\">\n",
       "      <th></th>\n",
       "      <th>Date</th>\n",
       "    </tr>\n",
       "    <tr>\n",
       "      <th>Symbol</th>\n",
       "      <th></th>\n",
       "    </tr>\n",
       "  </thead>\n",
       "  <tbody>\n",
       "    <tr>\n",
       "      <th>A</th>\n",
       "      <td>2015-02-20</td>\n",
       "    </tr>\n",
       "  </tbody>\n",
       "</table>\n",
       "</div>"
      ],
      "text/plain": [
       "             Date\n",
       "Symbol           \n",
       "A      2015-02-20"
      ]
     },
     "execution_count": 9,
     "metadata": {},
     "output_type": "execute_result"
    }
   ],
   "source": [
    "df['Date'] = pd.to_datetime(df.Date)\n",
    "df.sort_values('Date').groupby(['Symbol'])"
   ]
  },
  {
   "cell_type": "code",
   "execution_count": null,
   "metadata": {},
   "outputs": [],
   "source": []
  }
 ],
 "metadata": {
  "kernelspec": {
   "display_name": "Python 3 (ipykernel)",
   "language": "python",
   "name": "python3"
  },
  "language_info": {
   "codemirror_mode": {
    "name": "ipython",
    "version": 3
   },
   "file_extension": ".py",
   "mimetype": "text/x-python",
   "name": "python",
   "nbconvert_exporter": "python",
   "pygments_lexer": "ipython3",
   "version": "3.9.7"
  }
 },
 "nbformat": 4,
 "nbformat_minor": 4
}
