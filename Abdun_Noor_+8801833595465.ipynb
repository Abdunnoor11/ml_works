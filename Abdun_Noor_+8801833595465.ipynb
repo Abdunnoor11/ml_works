{
 "cells": [
  {
   "cell_type": "markdown",
   "id": "05806a18",
   "metadata": {},
   "source": [
    "# **Assignment**"
   ]
  },
  {
   "cell_type": "markdown",
   "id": "4d6efc99",
   "metadata": {},
   "source": [
    "\n",
    "## 1. How can we transform a text to numerical representation?​(Write any three of them with one line description)"
   ]
  },
  {
   "cell_type": "markdown",
   "id": "cce1149c",
   "metadata": {},
   "source": [
    "1. Using replace method by creating a dictionary.\n",
    "```\n",
    "text_to_num = {\n",
    "    'one': 1\n",
    "}\n",
    "df['num'] = df.replace(text_to_num)\n",
    "df.head()\n",
    "```\n"
   ]
  },
  {
   "cell_type": "markdown",
   "id": "1abb61db",
   "metadata": {},
   "source": [
    "2. Encode categorical features as a one-hot numeric array\n",
    "```\n",
    "from sklearn.preprocessing import OneHotEncoder\n",
    "text_to_neumeric = OneHotEncoder()\n",
    "```"
   ]
  },
  {
   "cell_type": "markdown",
   "id": "e7965ee3",
   "metadata": {},
   "source": [
    "3. Use scikit-learn contrib package.\n",
    "\n",
    "```\n",
    "import category_encoders as ce\n",
    "\n",
    "# Get a new clean dataframe\n",
    "obj_df = df.select_dtypes(include=['object']).copy()\n",
    "```"
   ]
  },
  {
   "cell_type": "markdown",
   "id": "e42aaae3",
   "metadata": {},
   "source": [
    "## 2. List (min) three things to evaluate a Classification model."
   ]
  },
  {
   "cell_type": "markdown",
   "id": "f3923435",
   "metadata": {},
   "source": [
    "Precision, Recall and Specificity, which are three major performance metrics describing a predictive classification model\n"
   ]
  },
  {
   "cell_type": "markdown",
   "id": "87f33d13",
   "metadata": {},
   "source": [
    "## 3. Develop a code for the following problem:"
   ]
  },
  {
   "cell_type": "markdown",
   "id": "6070e9ca",
   "metadata": {},
   "source": [
    "### a. Create a crawler for any news portal which can extract news events/information."
   ]
  },
  {
   "cell_type": "markdown",
   "id": "80828e25",
   "metadata": {},
   "source": [
    "```\n",
    "import scrapy\n",
    "\n",
    "\n",
    "class NewsspiderSpider(scrapy.Spider):\n",
    "    name = 'newsSpider'    \n",
    "    start_urls = ['https://www.jugantor.com/archive/2022/02/17']\n",
    "\n",
    "    def parse(self, response):\n",
    "        for link in response.css('.col.mb-3').css('li a::attr(href)'):        \n",
    "            yield response.follow(link.get(), callback=self.parse_news_page)                  \n",
    "    \n",
    "    def parse_news_page(self, response):\n",
    "        try:\n",
    "            yield {             \n",
    "                'date_posted': response.css('.col-12.col-sm-12.col-md-6 div::text').get()[:25],\n",
    "                'title': response.css('#news-title h3::text').get(),\n",
    "                'auther': response.css('.col-12.col-sm-12.col-md-6 span::text').get(),\n",
    "                'article_content': response.css('.news-element-text p::text').getall(),\n",
    "                'link': response.url,           \n",
    "                'category': response.css('.breadcrumb-item.active a::text').get(),\n",
    "            }\n",
    "        except:\n",
    "            pass\n",
    "```        "
   ]
  },
  {
   "cell_type": "markdown",
   "id": "956b4fcd",
   "metadata": {},
   "source": [
    "### b. Save all the extracted information into a csv/excel file with file name:news_portal_(date or page no)."
   ]
  },
  {
   "cell_type": "markdown",
   "id": "b40ffaa6",
   "metadata": {},
   "source": [
    "Run this code on terminal.\n",
    "```\n",
    "scrapy crawl -o news_portal_17_02_2022.csv newsSpider\n",
    "```"
   ]
  },
  {
   "cell_type": "markdown",
   "id": "a67f93e8",
   "metadata": {},
   "source": [
    "### c. Parameters to extract are as follows, Article Content, Date Posted, Tags, Author etc."
   ]
  },
  {
   "cell_type": "code",
   "execution_count": 235,
   "id": "98987105",
   "metadata": {},
   "outputs": [],
   "source": [
    "import pandas as pd\n",
    "import numpy as np"
   ]
  },
  {
   "cell_type": "code",
   "execution_count": 236,
   "id": "bc53d5d4",
   "metadata": {},
   "outputs": [],
   "source": [
    "news = pd.read_csv('hindustantimes_topics.csv')"
   ]
  },
  {
   "cell_type": "code",
   "execution_count": 237,
   "id": "2780eab4",
   "metadata": {},
   "outputs": [
    {
     "name": "stdout",
     "output_type": "stream",
     "text": [
      "date_posted\n",
      "title\n",
      "auther\n",
      "article_content\n",
      "tags\n",
      "link\n"
     ]
    }
   ],
   "source": [
    "for i in news.columns:\n",
    "    print(i)"
   ]
  },
  {
   "cell_type": "markdown",
   "id": "4347f1c1",
   "metadata": {},
   "source": [
    "\n",
    "\n",
    "\n",
    "## 4. Perform exploratory data analysis on the csv file you have created in previous question, retrieve named entities from articles as well.(EDA is a broad term.Example:- word count, topic modelling etc .Extra points for good analysis.)"
   ]
  },
  {
   "cell_type": "code",
   "execution_count": 238,
   "id": "a0630ba4",
   "metadata": {},
   "outputs": [
    {
     "data": {
      "text/html": [
       "<div>\n",
       "<style scoped>\n",
       "    .dataframe tbody tr th:only-of-type {\n",
       "        vertical-align: middle;\n",
       "    }\n",
       "\n",
       "    .dataframe tbody tr th {\n",
       "        vertical-align: top;\n",
       "    }\n",
       "\n",
       "    .dataframe thead th {\n",
       "        text-align: right;\n",
       "    }\n",
       "</style>\n",
       "<table border=\"1\" class=\"dataframe\">\n",
       "  <thead>\n",
       "    <tr style=\"text-align: right;\">\n",
       "      <th></th>\n",
       "      <th>date_posted</th>\n",
       "      <th>title</th>\n",
       "      <th>auther</th>\n",
       "      <th>article_content</th>\n",
       "      <th>tags</th>\n",
       "      <th>link</th>\n",
       "    </tr>\n",
       "  </thead>\n",
       "  <tbody>\n",
       "    <tr>\n",
       "      <th>0</th>\n",
       "      <td>Feb 08, 2022 04:57 PM IST\\n</td>\n",
       "      <td>HPBOSE term 1 results 2022: HP Board 12th resu...</td>\n",
       "      <td>hindustantimes.com</td>\n",
       "      <td>Himachal Pradesh Board of School Education, Dh...</td>\n",
       "      <td>hp board +2 result,hpbose,hpbose.org</td>\n",
       "      <td>https://www.hindustantimes.com/education/exam-...</td>\n",
       "    </tr>\n",
       "    <tr>\n",
       "      <th>1</th>\n",
       "      <td>Feb 10, 2022 08:37 PM IST\\n</td>\n",
       "      <td>HP Board Class 10 Term 1 Result 2022 Live: HPB...</td>\n",
       "      <td>hindustantimes.com</td>\n",
       "      <td>HPBOSE class 10th Term 1 Results declared by t...</td>\n",
       "      <td>hp board +2 result,hpbose</td>\n",
       "      <td>https://www.hindustantimes.com/education/board...</td>\n",
       "    </tr>\n",
       "    <tr>\n",
       "      <th>2</th>\n",
       "      <td>n Jan 18, 2022 09:20 PM IST\\n</td>\n",
       "      <td>BTS: J-Hope includes Magic Shop lyrics in self...</td>\n",
       "      <td>HT Entertainment Desk</td>\n",
       "      <td>BTS member J-Hope unveiled his personalised me...</td>\n",
       "      <td>bts world,bts,bts video,k-pop</td>\n",
       "      <td>https://www.hindustantimes.com/entertainment/m...</td>\n",
       "    </tr>\n",
       "    <tr>\n",
       "      <th>3</th>\n",
       "      <td>May 28, 2018 08:02 PM IST\\n</td>\n",
       "      <td>CBSE 10th result: What students across India a...</td>\n",
       "      <td>NaN</td>\n",
       "      <td>Thousands of anxious and excited students acro...</td>\n",
       "      <td>CBSE,exam result,result,CBSE board exam result...</td>\n",
       "      <td>https://www.hindustantimes.com/education/cbse-...</td>\n",
       "    </tr>\n",
       "    <tr>\n",
       "      <th>4</th>\n",
       "      <td>n Feb 17, 2022 12:30 AM IST\\n</td>\n",
       "      <td>Sagittarius Daily Horoscope for February 17: F...</td>\n",
       "      <td>NaN</td>\n",
       "      <td>SAGITTARIUS (Nov 23-Dec 21)This is going to be...</td>\n",
       "      <td>sun signs,astrology,sagittarius horoscope,sagi...</td>\n",
       "      <td>https://www.hindustantimes.com/astrology/horos...</td>\n",
       "    </tr>\n",
       "  </tbody>\n",
       "</table>\n",
       "</div>"
      ],
      "text/plain": [
       "                     date_posted  \\\n",
       "0    Feb 08, 2022 04:57 PM IST\\n   \n",
       "1    Feb 10, 2022 08:37 PM IST\\n   \n",
       "2  n Jan 18, 2022 09:20 PM IST\\n   \n",
       "3    May 28, 2018 08:02 PM IST\\n   \n",
       "4  n Feb 17, 2022 12:30 AM IST\\n   \n",
       "\n",
       "                                               title                 auther  \\\n",
       "0  HPBOSE term 1 results 2022: HP Board 12th resu...     hindustantimes.com   \n",
       "1  HP Board Class 10 Term 1 Result 2022 Live: HPB...     hindustantimes.com   \n",
       "2  BTS: J-Hope includes Magic Shop lyrics in self...  HT Entertainment Desk   \n",
       "3  CBSE 10th result: What students across India a...                    NaN   \n",
       "4  Sagittarius Daily Horoscope for February 17: F...                    NaN   \n",
       "\n",
       "                                     article_content  \\\n",
       "0  Himachal Pradesh Board of School Education, Dh...   \n",
       "1  HPBOSE class 10th Term 1 Results declared by t...   \n",
       "2  BTS member J-Hope unveiled his personalised me...   \n",
       "3  Thousands of anxious and excited students acro...   \n",
       "4  SAGITTARIUS (Nov 23-Dec 21)This is going to be...   \n",
       "\n",
       "                                                tags  \\\n",
       "0               hp board +2 result,hpbose,hpbose.org   \n",
       "1                          hp board +2 result,hpbose   \n",
       "2                      bts world,bts,bts video,k-pop   \n",
       "3  CBSE,exam result,result,CBSE board exam result...   \n",
       "4  sun signs,astrology,sagittarius horoscope,sagi...   \n",
       "\n",
       "                                                link  \n",
       "0  https://www.hindustantimes.com/education/exam-...  \n",
       "1  https://www.hindustantimes.com/education/board...  \n",
       "2  https://www.hindustantimes.com/entertainment/m...  \n",
       "3  https://www.hindustantimes.com/education/cbse-...  \n",
       "4  https://www.hindustantimes.com/astrology/horos...  "
      ]
     },
     "execution_count": 238,
     "metadata": {},
     "output_type": "execute_result"
    }
   ],
   "source": [
    "news.head() # read first five column"
   ]
  },
  {
   "cell_type": "code",
   "execution_count": 239,
   "id": "389ee25d",
   "metadata": {},
   "outputs": [
    {
     "data": {
      "text/plain": [
       "(3911, 6)"
      ]
     },
     "execution_count": 239,
     "metadata": {},
     "output_type": "execute_result"
    }
   ],
   "source": [
    "news.shape"
   ]
  },
  {
   "cell_type": "code",
   "execution_count": 240,
   "id": "58a9cd46",
   "metadata": {},
   "outputs": [
    {
     "data": {
      "text/plain": [
       "date_posted           0\n",
       "title               109\n",
       "auther             1582\n",
       "article_content     184\n",
       "tags                604\n",
       "link                  0\n",
       "dtype: int64"
      ]
     },
     "execution_count": 240,
     "metadata": {},
     "output_type": "execute_result"
    }
   ],
   "source": [
    "news.isnull().sum(axis = 0)"
   ]
  },
  {
   "cell_type": "code",
   "execution_count": 241,
   "id": "6b0fd06c",
   "metadata": {},
   "outputs": [
    {
     "name": "stdout",
     "output_type": "stream",
     "text": [
      "<class 'pandas.core.frame.DataFrame'>\n",
      "RangeIndex: 3911 entries, 0 to 3910\n",
      "Data columns (total 6 columns):\n",
      " #   Column           Non-Null Count  Dtype \n",
      "---  ------           --------------  ----- \n",
      " 0   date_posted      3911 non-null   object\n",
      " 1   title            3802 non-null   object\n",
      " 2   auther           2329 non-null   object\n",
      " 3   article_content  3727 non-null   object\n",
      " 4   tags             3307 non-null   object\n",
      " 5   link             3911 non-null   object\n",
      "dtypes: object(6)\n",
      "memory usage: 183.5+ KB\n"
     ]
    }
   ],
   "source": [
    "news.info()"
   ]
  },
  {
   "cell_type": "code",
   "execution_count": 242,
   "id": "9e14c449",
   "metadata": {},
   "outputs": [
    {
     "name": "stdout",
     "output_type": "stream",
     "text": [
      "Number of authors: 87\n"
     ]
    }
   ],
   "source": [
    "print('Number of authors:', len(news['auther'].value_counts()))"
   ]
  },
  {
   "cell_type": "code",
   "execution_count": 243,
   "id": "1a40082c",
   "metadata": {},
   "outputs": [
    {
     "data": {
      "text/plain": [
       "hindustantimes.com       1037\n",
       "HT Entertainment Desk     823\n",
       "HT Correspondent          120\n",
       "Krishna Priya Pallavi      82\n",
       "Parmita Uniyal             45\n",
       "Nandini                    22\n",
       "Gurjant Pannu              16\n",
       "Faisal Malik                9\n",
       "Deutsche Welle              8\n",
       "Rezaul H Laskar             8\n",
       "Shreya Bhandary             7\n",
       "Naresh K Thakur             7\n",
       "Utpal Parashar              6\n",
       "Somshuvra Laha              6\n",
       "Shishir Gupta               6\n",
       "Rahul Singh                 6\n",
       "Ritesh Mishra               5\n",
       "Rasesh Mandani              5\n",
       "Saubhadra Chatterji         5\n",
       "Nikita Bisht                5\n",
       "Anirudh Bhattacharyya       4\n",
       "Ramesh Vinayak              4\n",
       "Rhythma Kaul                4\n",
       "Sweta Kaushal               4\n",
       "Soumya Pillai               3\n",
       "Shalini Gupta               3\n",
       "Rajeev Mullick              3\n",
       "Soumya Srivastava           3\n",
       "Vivek Krishnan              2\n",
       "Zia Haq                     2\n",
       "Name: auther, dtype: int64"
      ]
     },
     "execution_count": 243,
     "metadata": {},
     "output_type": "execute_result"
    }
   ],
   "source": [
    "news['auther'].value_counts()[:30]"
   ]
  },
  {
   "cell_type": "code",
   "execution_count": 244,
   "id": "b3c2db8b",
   "metadata": {},
   "outputs": [],
   "source": [
    "import matplotlib.pyplot as plt\n",
    "import seaborn as sns"
   ]
  },
  {
   "cell_type": "code",
   "execution_count": 245,
   "id": "e0cd87cb",
   "metadata": {
    "scrolled": true
   },
   "outputs": [
    {
     "data": {
      "text/plain": [
       "<Figure size 720x720 with 0 Axes>"
      ]
     },
     "execution_count": 245,
     "metadata": {},
     "output_type": "execute_result"
    },
    {
     "data": {
      "text/plain": [
       "<AxesSubplot:xlabel='auther'>"
      ]
     },
     "execution_count": 245,
     "metadata": {},
     "output_type": "execute_result"
    },
    {
     "data": {
      "image/png": "[encoded data removed]",
      "text/plain": [
       "<Figure size 720x720 with 1 Axes>"
      ]
     },
     "metadata": {
      "needs_background": "light"
     },
     "output_type": "display_data"
    }
   ],
   "source": [
    "plt.figure(figsize=(10,10))\n",
    "sns.barplot(y=news['auther'].value_counts().keys()[:10], x=news['auther'].value_counts()[:10])\n",
    "plt.show()"
   ]
  },
  {
   "cell_type": "code",
   "execution_count": 251,
   "id": "71f5418d",
   "metadata": {},
   "outputs": [
    {
     "data": {
      "text/plain": [
       "164"
      ]
     },
     "execution_count": 251,
     "metadata": {},
     "output_type": "execute_result"
    }
   ],
   "source": [
    "len(news['article_content'][0].split(' '))-"
   ]
  },
  {
   "cell_type": "code",
   "execution_count": null,
   "id": "aea5ba86",
   "metadata": {},
   "outputs": [],
   "source": []
  },
  {
   "cell_type": "code",
   "execution_count": null,
   "id": "4313b22d",
   "metadata": {},
   "outputs": [],
   "source": []
  },
  {
   "cell_type": "code",
   "execution_count": null,
   "id": "55d7505c",
   "metadata": {},
   "outputs": [],
   "source": []
  }
 ],
 "metadata": {
  "kernelspec": {
   "display_name": "Python 3 (ipykernel)",
   "language": "python",
   "name": "python3"
  },
  "language_info": {
   "codemirror_mode": {
    "name": "ipython",
    "version": 3
   },
   "file_extension": ".py",
   "mimetype": "text/x-python",
   "name": "python",
   "nbconvert_exporter": "python",
   "pygments_lexer": "ipython3",
   "version": "3.9.7"
  }
 },
 "nbformat": 4,
 "nbformat_minor": 5
}
