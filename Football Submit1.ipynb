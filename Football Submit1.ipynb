{
 "cells": [
  {
   "cell_type": "code",
   "execution_count": 1,
   "id": "07a7f8cf",
   "metadata": {},
   "outputs": [],
   "source": [
    "import numpy as np # linear algebra\n",
    "import pandas as pd # data processing, CSV file I/O (e.g. pd.read_csv)\n",
    "import matplotlib.pyplot as plt\n",
    "import seaborn as sns\n",
    "from sklearn.preprocessing import LabelEncoder\n",
    "import random\n",
    "from sklearn.metrics import accuracy_score\n",
    "from sklearn import metrics"
   ]
  },
  {
   "cell_type": "code",
   "execution_count": 79,
   "id": "f820c239",
   "metadata": {},
   "outputs": [],
   "source": [
    "train_m = pd.read_csv('train.csv', low_memory=False)\n",
    "test_m  = pd.read_csv('test.csv')"
   ]
  },
  {
   "cell_type": "code",
   "execution_count": 123,
   "id": "b9f945b1",
   "metadata": {},
   "outputs": [],
   "source": [
    "train = train_m.copy()\n",
    "test = test_m.copy()"
   ]
  },
  {
   "cell_type": "code",
   "execution_count": 124,
   "id": "50ee5b5c",
   "metadata": {},
   "outputs": [],
   "source": [
    "def missing_values_table(df):\n",
    "    mis_val = df.isnull().sum()\n",
    "    mis_val_percent = 100 * df.isnull().sum() / len(df)\n",
    "    mis_val_table = pd.concat([mis_val, mis_val_percent], axis=1)\n",
    "    mis_val_table_ren_columns = mis_val_table.rename(\n",
    "    columns = {0 : 'Missing Values', 1 : '% of Total Values'})\n",
    "    mis_val_table_ren_columns = mis_val_table_ren_columns[\n",
    "        mis_val_table_ren_columns.iloc[:,1] != 0].sort_values(\n",
    "    '% of Total Values', ascending=False).round(1)\n",
    "    print (\"Your selected dataframe has \" + str(df.shape[1]) + \" columns.\\n\"      \n",
    "        \"There are \" + str(mis_val_table_ren_columns.shape[0]) +\n",
    "            \" columns that have missing values.\")\n",
    "    return mis_val_table_ren_columns"
   ]
  },
  {
   "cell_type": "code",
   "execution_count": 125,
   "id": "242bcbd3",
   "metadata": {},
   "outputs": [
    {
     "name": "stdout",
     "output_type": "stream",
     "text": [
      "Your selected dataframe has 189 columns.\n",
      "There are 182 columns that have missing values.\n"
     ]
    },
    {
     "data": {
      "text/html": [
       "<div>\n",
       "<style scoped>\n",
       "    .dataframe tbody tr th:only-of-type {\n",
       "        vertical-align: middle;\n",
       "    }\n",
       "\n",
       "    .dataframe tbody tr th {\n",
       "        vertical-align: top;\n",
       "    }\n",
       "\n",
       "    .dataframe thead th {\n",
       "        text-align: right;\n",
       "    }\n",
       "</style>\n",
       "<table border=\"1\" class=\"dataframe\">\n",
       "  <thead>\n",
       "    <tr style=\"text-align: right;\">\n",
       "      <th></th>\n",
       "      <th>Missing Values</th>\n",
       "      <th>% of Total Values</th>\n",
       "    </tr>\n",
       "  </thead>\n",
       "  <tbody>\n",
       "    <tr>\n",
       "      <th>away_team_history_coach_10</th>\n",
       "      <td>21289</td>\n",
       "      <td>29.3</td>\n",
       "    </tr>\n",
       "    <tr>\n",
       "      <th>home_team_history_coach_10</th>\n",
       "      <td>21260</td>\n",
       "      <td>29.2</td>\n",
       "    </tr>\n",
       "    <tr>\n",
       "      <th>away_team_history_coach_9</th>\n",
       "      <td>20997</td>\n",
       "      <td>28.9</td>\n",
       "    </tr>\n",
       "    <tr>\n",
       "      <th>home_team_history_coach_9</th>\n",
       "      <td>20996</td>\n",
       "      <td>28.9</td>\n",
       "    </tr>\n",
       "    <tr>\n",
       "      <th>away_team_history_coach_8</th>\n",
       "      <td>20728</td>\n",
       "      <td>28.5</td>\n",
       "    </tr>\n",
       "    <tr>\n",
       "      <th>...</th>\n",
       "      <td>...</td>\n",
       "      <td>...</td>\n",
       "    </tr>\n",
       "    <tr>\n",
       "      <th>away_team_history_league_id_1</th>\n",
       "      <td>488</td>\n",
       "      <td>0.7</td>\n",
       "    </tr>\n",
       "    <tr>\n",
       "      <th>away_team_history_goal_1</th>\n",
       "      <td>488</td>\n",
       "      <td>0.7</td>\n",
       "    </tr>\n",
       "    <tr>\n",
       "      <th>away_team_history_is_play_home_1</th>\n",
       "      <td>488</td>\n",
       "      <td>0.7</td>\n",
       "    </tr>\n",
       "    <tr>\n",
       "      <th>away_team_history_opponent_goal_1</th>\n",
       "      <td>488</td>\n",
       "      <td>0.7</td>\n",
       "    </tr>\n",
       "    <tr>\n",
       "      <th>away_team_history_match_date_1</th>\n",
       "      <td>488</td>\n",
       "      <td>0.7</td>\n",
       "    </tr>\n",
       "  </tbody>\n",
       "</table>\n",
       "<p>182 rows × 2 columns</p>\n",
       "</div>"
      ],
      "text/plain": [
       "                                   Missing Values  % of Total Values\n",
       "away_team_history_coach_10                  21289               29.3\n",
       "home_team_history_coach_10                  21260               29.2\n",
       "away_team_history_coach_9                   20997               28.9\n",
       "home_team_history_coach_9                   20996               28.9\n",
       "away_team_history_coach_8                   20728               28.5\n",
       "...                                           ...                ...\n",
       "away_team_history_league_id_1                 488                0.7\n",
       "away_team_history_goal_1                      488                0.7\n",
       "away_team_history_is_play_home_1              488                0.7\n",
       "away_team_history_opponent_goal_1             488                0.7\n",
       "away_team_history_match_date_1                488                0.7\n",
       "\n",
       "[182 rows x 2 columns]"
      ]
     },
     "execution_count": 125,
     "metadata": {},
     "output_type": "execute_result"
    }
   ],
   "source": [
    "missing_values_table(test)"
   ]
  },
  {
   "cell_type": "code",
   "execution_count": 126,
   "id": "e42e4530",
   "metadata": {},
   "outputs": [],
   "source": [
    "def data_preprocessing_handler(df):\n",
    "    train = 0\n",
    "    train = df.loc[:]\n",
    "    \n",
    "    train = train[train['is_cup'].notna()]\n",
    "    \n",
    "    train['is_cup'] = pd.factorize(train['is_cup'])[0]+1\n",
    "    \n",
    "    target = {\n",
    "        'home': 1,\n",
    "        'away': 2,\n",
    "        'draw': 3,\n",
    "    }        \n",
    "\n",
    "    try:\n",
    "        train['target'] = train['target'].map(target)\n",
    "    except:\n",
    "        pass\n",
    "    teams = dict.fromkeys(list(train['home_team_name'].value_counts().keys()) + list(train['away_team_name'].value_counts().keys()))\n",
    "    dic = {}\n",
    "    for i, team in enumerate(teams):    \n",
    "        dic[team] = i        \n",
    "    \n",
    "    train['home_team_name']=train['home_team_name'].map(dic)\n",
    "    train['away_team_name']=train['away_team_name'].map(dic)\n",
    "    train['away_team_name']=train['away_team_name'].astype('int64')\n",
    "    train['away_team_name']=train['away_team_name'].astype('int64')\n",
    "    \n",
    "    for i in train:\n",
    "        if 'goal' in i:\n",
    "            train[i] = train[i].fillna(0)\n",
    "    \n",
    "    ratings = [c for c in train if '_rating_' in c]\n",
    "    for r in [ratings]:\n",
    "        for i in train[r]:\n",
    "            train[i] = train[i].fillna(value=train[r][i].mean())\n",
    "    \n",
    "    away_team_history_goal = [i for i in train.columns if 'away_team_history_goal' in i]\n",
    "    away_team_history_opponent_goal = [i for i in train.columns if 'away_team_history_opponent_goal' in i]\n",
    "    away_team_history_rating = [i for i in train.columns if 'away_team_history_rating' in i]\n",
    "    away_team_history_opponent_rating = [i for i in train.columns if 'away_team_history_opponent_rating' in i]\n",
    "\n",
    "    home_team_history_goal = [i for i in train.columns if 'home_team_history_goal' in i]\n",
    "    home_team_history_opponent_goal = [i for i in train.columns if 'home_team_history_opponent_goal' in i]\n",
    "    home_team_history_rating = [i for i in train.columns if 'home_team_history_rating' in i]\n",
    "    home_team_history_opponent_rating = [i for i in train.columns if 'home_team_history_opponent_rating' in i]\n",
    "\n",
    "    train['home_goal'] = train[home_team_history_goal].sum(axis=1)\n",
    "    train['home_opp_goal'] = train[home_team_history_opponent_goal].sum(axis=1)\n",
    "    train['home_rating'] = train[home_team_history_rating].mean(axis=1)\n",
    "    train['home_opp_rating'] = train[home_team_history_opponent_rating].mean(axis=1)\n",
    "\n",
    "    train['away_goal'] = train[away_team_history_goal].sum(axis=1)\n",
    "    train['away_opp_goal'] = train[away_team_history_opponent_goal].sum(axis=1)\n",
    "    train['away_rating'] = train[away_team_history_rating].mean(axis=1)\n",
    "    train['away_opp_rating'] = train[away_team_history_opponent_rating].mean(axis=1)\n",
    "    \n",
    "    train['date'] = pd.to_datetime(train['match_date'])\n",
    "    datees = [i for i in train.columns if 'match_date' in i]\n",
    "    is_cups = [i for i in train.columns if '_is_cup' in i]\n",
    "    \n",
    "    train[datees] = train[datees].fillna(np.random.choice(list(range(1,13))))\n",
    "    \n",
    "    for i in train:\n",
    "        if 'match_date' in i:\n",
    "            try:\n",
    "                train[i] = pd.to_datetime(train[i]).dt.month.astype(int)        \n",
    "            except:\n",
    "                pass              \n",
    "    \n",
    "    home_coach_ids = [c for c in train if ('home_team_history_coach' in c)] + ['home_team_coach_id']\n",
    "    away_coach_ids = [c for c in train if ('away_team_history_coach' in c)] + ['away_team_coach_id']\n",
    "            \n",
    "    train['home_team_coach_id'] = train[['date', 'home_team_name'] + home_coach_ids].groupby(['home_team_name'], sort=True)['home_team_coach_id'].apply(lambda x: x.ffill())\n",
    "    train['away_team_coach_id'] = train[['date', 'away_team_name'] + away_coach_ids].groupby(['away_team_name'], sort=True)['away_team_coach_id'].apply(lambda x: x.ffill())    \n",
    "    train[['home_team_coach_id', 'away_team_coach_id']] = train[['home_team_coach_id', 'away_team_coach_id']].fillna(0) \n",
    "    train[home_coach_ids+away_coach_ids] = train[home_coach_ids+away_coach_ids].fillna(0)         \n",
    "        \n",
    "    all_is_cup = [i for i in train if 'history_is_cup' in i]\n",
    "    train[all_is_cup] = train[all_is_cup].fillna(value=np.random.choice(train['is_cup']))            \n",
    "        \n",
    "    return train[['id', 'target', 'home_goal', 'home_team_name', 'away_team_name', 'home_opp_goal', 'home_team_coach_id', 'home_rating', 'home_opp_rating', 'away_goal', 'away_opp_goal', 'away_team_coach_id', 'away_rating','away_opp_rating', 'date', 'is_cup']]"
   ]
  },
  {
   "cell_type": "code",
   "execution_count": 127,
   "id": "3d622703",
   "metadata": {},
   "outputs": [],
   "source": [
    "test['target'] = 0"
   ]
  },
  {
   "cell_type": "code",
   "execution_count": 128,
   "id": "c05fad0d",
   "metadata": {},
   "outputs": [],
   "source": [
    "train = data_preprocessing_handler(train)"
   ]
  },
  {
   "cell_type": "code",
   "execution_count": 129,
   "id": "8f7d44f8",
   "metadata": {},
   "outputs": [],
   "source": [
    "test = data_preprocessing_handler(test)"
   ]
  },
  {
   "cell_type": "code",
   "execution_count": 130,
   "id": "3b9b1b08",
   "metadata": {},
   "outputs": [],
   "source": [
    "x_train = train.loc[:, train.columns != 'target']\n",
    "x_test = test.loc[:, train.columns != 'target']"
   ]
  },
  {
   "cell_type": "code",
   "execution_count": 131,
   "id": "2a73dff6",
   "metadata": {},
   "outputs": [
    {
     "data": {
      "text/plain": [
       "(110937, 15)"
      ]
     },
     "execution_count": 131,
     "metadata": {},
     "output_type": "execute_result"
    }
   ],
   "source": [
    "x_train.shape"
   ]
  },
  {
   "cell_type": "code",
   "execution_count": 132,
   "id": "fbed246c",
   "metadata": {},
   "outputs": [
    {
     "data": {
      "text/plain": [
       "(72711, 15)"
      ]
     },
     "execution_count": 132,
     "metadata": {},
     "output_type": "execute_result"
    }
   ],
   "source": [
    "x_test.shape"
   ]
  },
  {
   "cell_type": "code",
   "execution_count": 133,
   "id": "7bca959a",
   "metadata": {},
   "outputs": [],
   "source": [
    "y_train = train['target']\n",
    "y_test = test['target']"
   ]
  },
  {
   "cell_type": "code",
   "execution_count": 134,
   "id": "c25e5e13",
   "metadata": {},
   "outputs": [
    {
     "name": "stdout",
     "output_type": "stream",
     "text": [
      "Your selected dataframe has 15 columns.\n",
      "There are 0 columns that have missing values.\n"
     ]
    },
    {
     "data": {
      "text/html": [
       "<div>\n",
       "<style scoped>\n",
       "    .dataframe tbody tr th:only-of-type {\n",
       "        vertical-align: middle;\n",
       "    }\n",
       "\n",
       "    .dataframe tbody tr th {\n",
       "        vertical-align: top;\n",
       "    }\n",
       "\n",
       "    .dataframe thead th {\n",
       "        text-align: right;\n",
       "    }\n",
       "</style>\n",
       "<table border=\"1\" class=\"dataframe\">\n",
       "  <thead>\n",
       "    <tr style=\"text-align: right;\">\n",
       "      <th></th>\n",
       "      <th>Missing Values</th>\n",
       "      <th>% of Total Values</th>\n",
       "    </tr>\n",
       "  </thead>\n",
       "  <tbody>\n",
       "  </tbody>\n",
       "</table>\n",
       "</div>"
      ],
      "text/plain": [
       "Empty DataFrame\n",
       "Columns: [Missing Values, % of Total Values]\n",
       "Index: []"
      ]
     },
     "execution_count": 134,
     "metadata": {},
     "output_type": "execute_result"
    }
   ],
   "source": [
    "missing_values_table(x_train)"
   ]
  },
  {
   "cell_type": "code",
   "execution_count": 135,
   "id": "bf55feb7",
   "metadata": {},
   "outputs": [
    {
     "name": "stdout",
     "output_type": "stream",
     "text": [
      "Your selected dataframe has 15 columns.\n",
      "There are 0 columns that have missing values.\n"
     ]
    },
    {
     "data": {
      "text/html": [
       "<div>\n",
       "<style scoped>\n",
       "    .dataframe tbody tr th:only-of-type {\n",
       "        vertical-align: middle;\n",
       "    }\n",
       "\n",
       "    .dataframe tbody tr th {\n",
       "        vertical-align: top;\n",
       "    }\n",
       "\n",
       "    .dataframe thead th {\n",
       "        text-align: right;\n",
       "    }\n",
       "</style>\n",
       "<table border=\"1\" class=\"dataframe\">\n",
       "  <thead>\n",
       "    <tr style=\"text-align: right;\">\n",
       "      <th></th>\n",
       "      <th>Missing Values</th>\n",
       "      <th>% of Total Values</th>\n",
       "    </tr>\n",
       "  </thead>\n",
       "  <tbody>\n",
       "  </tbody>\n",
       "</table>\n",
       "</div>"
      ],
      "text/plain": [
       "Empty DataFrame\n",
       "Columns: [Missing Values, % of Total Values]\n",
       "Index: []"
      ]
     },
     "execution_count": 135,
     "metadata": {},
     "output_type": "execute_result"
    }
   ],
   "source": [
    "missing_values_table(x_test)"
   ]
  },
  {
   "cell_type": "code",
   "execution_count": 136,
   "id": "4788c416",
   "metadata": {},
   "outputs": [
    {
     "data": {
      "text/plain": [
       "15"
      ]
     },
     "execution_count": 136,
     "metadata": {},
     "output_type": "execute_result"
    }
   ],
   "source": [
    "len(x_test.columns)"
   ]
  },
  {
   "cell_type": "code",
   "execution_count": 137,
   "id": "4f78984e",
   "metadata": {},
   "outputs": [
    {
     "name": "stderr",
     "output_type": "stream",
     "text": [
      "C:\\Users\\Ameri\\anaconda3\\lib\\site-packages\\pandas\\core\\frame.py:4906: SettingWithCopyWarning: \n",
      "A value is trying to be set on a copy of a slice from a DataFrame\n",
      "\n",
      "See the caveats in the documentation: https://pandas.pydata.org/pandas-docs/stable/user_guide/indexing.html#returning-a-view-versus-a-copy\n",
      "  return super().drop(\n"
     ]
    }
   ],
   "source": [
    "x_train.drop('date', axis=1, inplace=True)\n",
    "x_test.drop('date', axis=1, inplace=True)"
   ]
  },
  {
   "cell_type": "code",
   "execution_count": 138,
   "id": "88ec9740",
   "metadata": {},
   "outputs": [
    {
     "name": "stderr",
     "output_type": "stream",
     "text": [
      "C:\\Users\\Ameri\\anaconda3\\lib\\site-packages\\xgboost\\sklearn.py:1224: UserWarning: The use of label encoder in XGBClassifier is deprecated and will be removed in a future release. To remove this warning, do the following: 1) Pass option use_label_encoder=False when constructing XGBClassifier object; and 2) Encode your labels (y) as integers starting with 0, i.e. 0, 1, 2, ..., [num_class - 1].\n",
      "  warnings.warn(label_encoder_deprecation_msg, UserWarning)\n"
     ]
    },
    {
     "name": "stdout",
     "output_type": "stream",
     "text": [
      "[10:12:30] WARNING: C:/Users/Administrator/workspace/xgboost-win64_release_1.5.1/src/learner.cc:1115: Starting in XGBoost 1.3.0, the default evaluation metric used with the objective 'multi:softprob' was changed from 'merror' to 'mlogloss'. Explicitly set eval_metric if you'd like to restore the old behavior.\n"
     ]
    }
   ],
   "source": [
    "from xgboost import XGBClassifier\n",
    "xgb = XGBClassifier(n_estimators=13)\n",
    "xgb.fit(x_train, y_train)\n",
    "y_pred = xgb.predict_proba(x_test)"
   ]
  },
  {
   "cell_type": "code",
   "execution_count": 139,
   "id": "dc7f3073",
   "metadata": {},
   "outputs": [],
   "source": [
    "submission = pd.DataFrame(y_pred)\n",
    "submission = submission.round(2)"
   ]
  },
  {
   "cell_type": "code",
   "execution_count": 140,
   "id": "8030ba9b",
   "metadata": {},
   "outputs": [
    {
     "data": {
      "text/html": [
       "<div>\n",
       "<style scoped>\n",
       "    .dataframe tbody tr th:only-of-type {\n",
       "        vertical-align: middle;\n",
       "    }\n",
       "\n",
       "    .dataframe tbody tr th {\n",
       "        vertical-align: top;\n",
       "    }\n",
       "\n",
       "    .dataframe thead th {\n",
       "        text-align: right;\n",
       "    }\n",
       "</style>\n",
       "<table border=\"1\" class=\"dataframe\">\n",
       "  <thead>\n",
       "    <tr style=\"text-align: right;\">\n",
       "      <th></th>\n",
       "      <th>0</th>\n",
       "      <th>1</th>\n",
       "      <th>2</th>\n",
       "    </tr>\n",
       "  </thead>\n",
       "  <tbody>\n",
       "    <tr>\n",
       "      <th>0</th>\n",
       "      <td>0.45</td>\n",
       "      <td>0.24</td>\n",
       "      <td>0.30</td>\n",
       "    </tr>\n",
       "    <tr>\n",
       "      <th>1</th>\n",
       "      <td>0.27</td>\n",
       "      <td>0.43</td>\n",
       "      <td>0.30</td>\n",
       "    </tr>\n",
       "    <tr>\n",
       "      <th>2</th>\n",
       "      <td>0.40</td>\n",
       "      <td>0.30</td>\n",
       "      <td>0.30</td>\n",
       "    </tr>\n",
       "    <tr>\n",
       "      <th>3</th>\n",
       "      <td>0.22</td>\n",
       "      <td>0.48</td>\n",
       "      <td>0.30</td>\n",
       "    </tr>\n",
       "    <tr>\n",
       "      <th>4</th>\n",
       "      <td>0.49</td>\n",
       "      <td>0.20</td>\n",
       "      <td>0.31</td>\n",
       "    </tr>\n",
       "    <tr>\n",
       "      <th>...</th>\n",
       "      <td>...</td>\n",
       "      <td>...</td>\n",
       "      <td>...</td>\n",
       "    </tr>\n",
       "    <tr>\n",
       "      <th>72706</th>\n",
       "      <td>0.41</td>\n",
       "      <td>0.28</td>\n",
       "      <td>0.32</td>\n",
       "    </tr>\n",
       "    <tr>\n",
       "      <th>72707</th>\n",
       "      <td>0.56</td>\n",
       "      <td>0.17</td>\n",
       "      <td>0.27</td>\n",
       "    </tr>\n",
       "    <tr>\n",
       "      <th>72708</th>\n",
       "      <td>0.18</td>\n",
       "      <td>0.61</td>\n",
       "      <td>0.21</td>\n",
       "    </tr>\n",
       "    <tr>\n",
       "      <th>72709</th>\n",
       "      <td>0.56</td>\n",
       "      <td>0.19</td>\n",
       "      <td>0.25</td>\n",
       "    </tr>\n",
       "    <tr>\n",
       "      <th>72710</th>\n",
       "      <td>0.26</td>\n",
       "      <td>0.45</td>\n",
       "      <td>0.29</td>\n",
       "    </tr>\n",
       "  </tbody>\n",
       "</table>\n",
       "<p>72711 rows × 3 columns</p>\n",
       "</div>"
      ],
      "text/plain": [
       "          0     1     2\n",
       "0      0.45  0.24  0.30\n",
       "1      0.27  0.43  0.30\n",
       "2      0.40  0.30  0.30\n",
       "3      0.22  0.48  0.30\n",
       "4      0.49  0.20  0.31\n",
       "...     ...   ...   ...\n",
       "72706  0.41  0.28  0.32\n",
       "72707  0.56  0.17  0.27\n",
       "72708  0.18  0.61  0.21\n",
       "72709  0.56  0.19  0.25\n",
       "72710  0.26  0.45  0.29\n",
       "\n",
       "[72711 rows x 3 columns]"
      ]
     },
     "execution_count": 140,
     "metadata": {},
     "output_type": "execute_result"
    }
   ],
   "source": [
    "submission"
   ]
  },
  {
   "cell_type": "code",
   "execution_count": 100,
   "id": "adb3b6a5",
   "metadata": {},
   "outputs": [],
   "source": [
    "submission['id'] = test['id']"
   ]
  },
  {
   "cell_type": "code",
   "execution_count": 104,
   "id": "c8bf8372",
   "metadata": {},
   "outputs": [],
   "source": [
    "submission.rename(columns={\n",
    "    0: 'home',\n",
    "    1: 'away',\n",
    "    2: 'draw',\n",
    "}).to_csv('submission.csv', index=False)"
   ]
  },
  {
   "cell_type": "code",
   "execution_count": 105,
   "id": "9362fe77",
   "metadata": {},
   "outputs": [
    {
     "data": {
      "text/plain": [
       "Index([0, 1, 2, 'id'], dtype='object')"
      ]
     },
     "execution_count": 105,
     "metadata": {},
     "output_type": "execute_result"
    }
   ],
   "source": [
    "submission.columns"
   ]
  },
  {
   "cell_type": "code",
   "execution_count": 147,
   "id": "52d3de41",
   "metadata": {},
   "outputs": [
    {
     "name": "stderr",
     "output_type": "stream",
     "text": [
      "C:\\Users\\Ameri\\anaconda3\\lib\\site-packages\\lightgbm\\sklearn.py:598: UserWarning: 'silent' argument is deprecated and will be removed in a future release of LightGBM. Pass 'verbose' parameter via keyword arguments instead.\n",
      "  _log_warning(\"'silent' argument is deprecated and will be removed in a future release of LightGBM. \"\n"
     ]
    }
   ],
   "source": [
    "import lightgbm as ltb\n",
    "model = ltb.LGBMClassifier(boosting_type='gbdt', class_weight=None, colsample_bytree=1.0,\n",
    "        importance_type='split', learning_rate=0.1, max_depth=-1,\n",
    "        min_child_samples=32, min_child_weight=0.001, min_split_gain=0.0,\n",
    "        n_estimators=41, n_jobs=-1, num_leaves=31, objective=None,\n",
    "        random_state=None, reg_alpha=0.0, reg_lambda=0.0, silent=True,\n",
    "        subsample=1.0, subsample_for_bin=2000, subsample_freq=0)\n",
    "model.fit(x_train, y_train)\n",
    "y_pred = model.predict_proba(x_test)"
   ]
  },
  {
   "cell_type": "code",
   "execution_count": 151,
   "id": "7297eda3",
   "metadata": {},
   "outputs": [
    {
     "data": {
      "text/html": [
       "<div>\n",
       "<style scoped>\n",
       "    .dataframe tbody tr th:only-of-type {\n",
       "        vertical-align: middle;\n",
       "    }\n",
       "\n",
       "    .dataframe tbody tr th {\n",
       "        vertical-align: top;\n",
       "    }\n",
       "\n",
       "    .dataframe thead th {\n",
       "        text-align: right;\n",
       "    }\n",
       "</style>\n",
       "<table border=\"1\" class=\"dataframe\">\n",
       "  <thead>\n",
       "    <tr style=\"text-align: right;\">\n",
       "      <th></th>\n",
       "      <th>0</th>\n",
       "      <th>1</th>\n",
       "      <th>2</th>\n",
       "    </tr>\n",
       "  </thead>\n",
       "  <tbody>\n",
       "    <tr>\n",
       "      <th>0</th>\n",
       "      <td>0.47</td>\n",
       "      <td>0.23</td>\n",
       "      <td>0.30</td>\n",
       "    </tr>\n",
       "    <tr>\n",
       "      <th>1</th>\n",
       "      <td>0.22</td>\n",
       "      <td>0.46</td>\n",
       "      <td>0.31</td>\n",
       "    </tr>\n",
       "    <tr>\n",
       "      <th>2</th>\n",
       "      <td>0.40</td>\n",
       "      <td>0.31</td>\n",
       "      <td>0.30</td>\n",
       "    </tr>\n",
       "    <tr>\n",
       "      <th>3</th>\n",
       "      <td>0.22</td>\n",
       "      <td>0.47</td>\n",
       "      <td>0.31</td>\n",
       "    </tr>\n",
       "    <tr>\n",
       "      <th>4</th>\n",
       "      <td>0.46</td>\n",
       "      <td>0.21</td>\n",
       "      <td>0.33</td>\n",
       "    </tr>\n",
       "    <tr>\n",
       "      <th>...</th>\n",
       "      <td>...</td>\n",
       "      <td>...</td>\n",
       "      <td>...</td>\n",
       "    </tr>\n",
       "    <tr>\n",
       "      <th>72706</th>\n",
       "      <td>0.42</td>\n",
       "      <td>0.26</td>\n",
       "      <td>0.32</td>\n",
       "    </tr>\n",
       "    <tr>\n",
       "      <th>72707</th>\n",
       "      <td>0.56</td>\n",
       "      <td>0.17</td>\n",
       "      <td>0.26</td>\n",
       "    </tr>\n",
       "    <tr>\n",
       "      <th>72708</th>\n",
       "      <td>0.15</td>\n",
       "      <td>0.67</td>\n",
       "      <td>0.17</td>\n",
       "    </tr>\n",
       "    <tr>\n",
       "      <th>72709</th>\n",
       "      <td>0.53</td>\n",
       "      <td>0.19</td>\n",
       "      <td>0.28</td>\n",
       "    </tr>\n",
       "    <tr>\n",
       "      <th>72710</th>\n",
       "      <td>0.26</td>\n",
       "      <td>0.44</td>\n",
       "      <td>0.30</td>\n",
       "    </tr>\n",
       "  </tbody>\n",
       "</table>\n",
       "<p>72711 rows × 3 columns</p>\n",
       "</div>"
      ],
      "text/plain": [
       "          0     1     2\n",
       "0      0.47  0.23  0.30\n",
       "1      0.22  0.46  0.31\n",
       "2      0.40  0.31  0.30\n",
       "3      0.22  0.47  0.31\n",
       "4      0.46  0.21  0.33\n",
       "...     ...   ...   ...\n",
       "72706  0.42  0.26  0.32\n",
       "72707  0.56  0.17  0.26\n",
       "72708  0.15  0.67  0.17\n",
       "72709  0.53  0.19  0.28\n",
       "72710  0.26  0.44  0.30\n",
       "\n",
       "[72711 rows x 3 columns]"
      ]
     },
     "execution_count": 151,
     "metadata": {},
     "output_type": "execute_result"
    }
   ],
   "source": [
    "submission = pd.DataFrame(y_pred)\n",
    "submission = submission.round(2)\n",
    "submission"
   ]
  },
  {
   "cell_type": "code",
   "execution_count": 152,
   "id": "3b4113ff",
   "metadata": {},
   "outputs": [],
   "source": [
    "submission['id'] = test['id']"
   ]
  },
  {
   "cell_type": "code",
   "execution_count": 153,
   "id": "ea809cce",
   "metadata": {},
   "outputs": [],
   "source": [
    "submission.rename(columns={\n",
    "    0: 'home',\n",
    "    1: 'away',\n",
    "    2: 'draw',\n",
    "}).to_csv('submission.csv', index=False)"
   ]
  },
  {
   "cell_type": "code",
   "execution_count": null,
   "id": "f782c8b7",
   "metadata": {},
   "outputs": [],
   "source": []
  }
 ],
 "metadata": {
  "kernelspec": {
   "display_name": "Python 3 (ipykernel)",
   "language": "python",
   "name": "python3"
  },
  "language_info": {
   "codemirror_mode": {
    "name": "ipython",
    "version": 3
   },
   "file_extension": ".py",
   "mimetype": "text/x-python",
   "name": "python",
   "nbconvert_exporter": "python",
   "pygments_lexer": "ipython3",
   "version": "3.9.7"
  }
 },
 "nbformat": 4,
 "nbformat_minor": 5
}
